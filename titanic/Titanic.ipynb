{
  "nbformat": 4,
  "nbformat_minor": 0,
  "metadata": {
    "colab": {
      "provenance": [],
      "collapsed_sections": [
        "zd0WNUVYny4S",
        "7g56KtEKrk1B"
      ]
    },
    "kernelspec": {
      "name": "python3",
      "display_name": "Python 3"
    },
    "language_info": {
      "name": "python"
    }
  },
  "cells": [
    {
      "cell_type": "markdown",
      "source": [
        "# Análise dados Titanic\n",
        "\n",
        "Neste Lab vamos analisar os dados do Titanic. Estes dados representam os passageiros do navio e suas características. Podemos dizer que a variável target seria se um passageiro sobreviveu ou não, representado pela variável **Survived**\n",
        "\n",
        "**Quais hipóteses queremos testar?**\n",
        "- Há mais mulheres que sobreviveram do que homens;\n",
        "- Pessoas de classes maiores tendem a sobreviver mais;\n",
        "- Pessoas com familiares no návio, possue uma taxa de  sobrevivência maior."
      ],
      "metadata": {
        "id": "c2aBY2zbi9Mb"
      }
    },
    {
      "cell_type": "markdown",
      "source": [
        "## Vamos começar importando as bibliotecas necessária"
      ],
      "metadata": {
        "id": "zd0WNUVYny4S"
      }
    },
    {
      "cell_type": "code",
      "source": [
        "import pandas as pd\n",
        "import numpy as np"
      ],
      "metadata": {
        "id": "DoUUxcJMBdec"
      },
      "execution_count": 20,
      "outputs": []
    },
    {
      "cell_type": "markdown",
      "source": [
        "## Overview dos Dados\n",
        "\n",
        "**Subir CSV para Colab, ler CSV para datataframe e apresentar uma visão geral dos dados**"
      ],
      "metadata": {
        "id": "us5Njrp0jMv2"
      }
    },
    {
      "cell_type": "code",
      "source": [
        "df = pd.read_csv(\"titanic.csv\")"
      ],
      "metadata": {
        "id": "j5urdIc_Bknp"
      },
      "execution_count": 100,
      "outputs": []
    },
    {
      "cell_type": "code",
      "source": [
        "df.head(10)"
      ],
      "metadata": {
        "colab": {
          "base_uri": "https://localhost:8080/",
          "height": 363
        },
        "id": "57f9VaYoBuxq",
        "outputId": "c439e01d-a191-4eb0-cc00-41d4c2de545d"
      },
      "execution_count": 101,
      "outputs": [
        {
          "output_type": "execute_result",
          "data": {
            "text/plain": [
              "   PassengerId  Survived  Pclass                                     Name  \\\n",
              "0          665         1     3.0              Lindqvist, Mr. Eino William   \n",
              "1          646         1     1.0                Harper, Mr. Henry Sleeper   \n",
              "2          181         0     3.0             Sage, Miss. Constance Gladys   \n",
              "3          292         1     1.0  Bishop, Mrs. Dickinson H (Helen Walton)   \n",
              "4          823         0     1.0          Reuchlin, Jonkheer. John George   \n",
              "5          400         1     2.0         Trout, Mrs. William H (Jessie L)   \n",
              "6          541         1     1.0                  Crosby, Miss. Harriet R   \n",
              "7          341         1     2.0           Navratil, Master. Edmond Roger   \n",
              "8          581         1     NaN              Christy, Miss. Julie Rachel   \n",
              "9          843         1     1.0                  Serepeca, Miss. Augusta   \n",
              "\n",
              "      Sex   Age  SibSp  Parch             Ticket       Fare Cabin Embarked  \n",
              "0    male  20.0      1      0  STON/O 2. 3101285  -3.123435   NaN        S  \n",
              "1    MALE  48.0      1      0           PC 17572  76.729200   D33        C  \n",
              "2  FEMALE   NaN      8      2           CA. 2343  69.550000   NaN        S  \n",
              "3  female  19.0      1      0              11967  91.079200   B49        C  \n",
              "4    male  38.0      0      0              19972   0.000000   NaN        S  \n",
              "5  female  28.0      0      0             240929  12.650000   NaN   PORT S  \n",
              "6  female  36.0      0      2          WE/P 5735  71.000000   B22   PORT S  \n",
              "7    male   2.0      1      1             230080  26.000000    F2   PORT S  \n",
              "8  female  25.0      1      1             237789  30.000000   NaN        S  \n",
              "9  female  30.0      0      0             113798  31.000000   NaN        C  "
            ],
            "text/html": [
              "\n",
              "  <div id=\"df-c53f0ae3-a1a4-4483-8f08-751abc1446a9\">\n",
              "    <div class=\"colab-df-container\">\n",
              "      <div>\n",
              "<style scoped>\n",
              "    .dataframe tbody tr th:only-of-type {\n",
              "        vertical-align: middle;\n",
              "    }\n",
              "\n",
              "    .dataframe tbody tr th {\n",
              "        vertical-align: top;\n",
              "    }\n",
              "\n",
              "    .dataframe thead th {\n",
              "        text-align: right;\n",
              "    }\n",
              "</style>\n",
              "<table border=\"1\" class=\"dataframe\">\n",
              "  <thead>\n",
              "    <tr style=\"text-align: right;\">\n",
              "      <th></th>\n",
              "      <th>PassengerId</th>\n",
              "      <th>Survived</th>\n",
              "      <th>Pclass</th>\n",
              "      <th>Name</th>\n",
              "      <th>Sex</th>\n",
              "      <th>Age</th>\n",
              "      <th>SibSp</th>\n",
              "      <th>Parch</th>\n",
              "      <th>Ticket</th>\n",
              "      <th>Fare</th>\n",
              "      <th>Cabin</th>\n",
              "      <th>Embarked</th>\n",
              "    </tr>\n",
              "  </thead>\n",
              "  <tbody>\n",
              "    <tr>\n",
              "      <th>0</th>\n",
              "      <td>665</td>\n",
              "      <td>1</td>\n",
              "      <td>3.0</td>\n",
              "      <td>Lindqvist, Mr. Eino William</td>\n",
              "      <td>male</td>\n",
              "      <td>20.0</td>\n",
              "      <td>1</td>\n",
              "      <td>0</td>\n",
              "      <td>STON/O 2. 3101285</td>\n",
              "      <td>-3.123435</td>\n",
              "      <td>NaN</td>\n",
              "      <td>S</td>\n",
              "    </tr>\n",
              "    <tr>\n",
              "      <th>1</th>\n",
              "      <td>646</td>\n",
              "      <td>1</td>\n",
              "      <td>1.0</td>\n",
              "      <td>Harper, Mr. Henry Sleeper</td>\n",
              "      <td>MALE</td>\n",
              "      <td>48.0</td>\n",
              "      <td>1</td>\n",
              "      <td>0</td>\n",
              "      <td>PC 17572</td>\n",
              "      <td>76.729200</td>\n",
              "      <td>D33</td>\n",
              "      <td>C</td>\n",
              "    </tr>\n",
              "    <tr>\n",
              "      <th>2</th>\n",
              "      <td>181</td>\n",
              "      <td>0</td>\n",
              "      <td>3.0</td>\n",
              "      <td>Sage, Miss. Constance Gladys</td>\n",
              "      <td>FEMALE</td>\n",
              "      <td>NaN</td>\n",
              "      <td>8</td>\n",
              "      <td>2</td>\n",
              "      <td>CA. 2343</td>\n",
              "      <td>69.550000</td>\n",
              "      <td>NaN</td>\n",
              "      <td>S</td>\n",
              "    </tr>\n",
              "    <tr>\n",
              "      <th>3</th>\n",
              "      <td>292</td>\n",
              "      <td>1</td>\n",
              "      <td>1.0</td>\n",
              "      <td>Bishop, Mrs. Dickinson H (Helen Walton)</td>\n",
              "      <td>female</td>\n",
              "      <td>19.0</td>\n",
              "      <td>1</td>\n",
              "      <td>0</td>\n",
              "      <td>11967</td>\n",
              "      <td>91.079200</td>\n",
              "      <td>B49</td>\n",
              "      <td>C</td>\n",
              "    </tr>\n",
              "    <tr>\n",
              "      <th>4</th>\n",
              "      <td>823</td>\n",
              "      <td>0</td>\n",
              "      <td>1.0</td>\n",
              "      <td>Reuchlin, Jonkheer. John George</td>\n",
              "      <td>male</td>\n",
              "      <td>38.0</td>\n",
              "      <td>0</td>\n",
              "      <td>0</td>\n",
              "      <td>19972</td>\n",
              "      <td>0.000000</td>\n",
              "      <td>NaN</td>\n",
              "      <td>S</td>\n",
              "    </tr>\n",
              "    <tr>\n",
              "      <th>5</th>\n",
              "      <td>400</td>\n",
              "      <td>1</td>\n",
              "      <td>2.0</td>\n",
              "      <td>Trout, Mrs. William H (Jessie L)</td>\n",
              "      <td>female</td>\n",
              "      <td>28.0</td>\n",
              "      <td>0</td>\n",
              "      <td>0</td>\n",
              "      <td>240929</td>\n",
              "      <td>12.650000</td>\n",
              "      <td>NaN</td>\n",
              "      <td>PORT S</td>\n",
              "    </tr>\n",
              "    <tr>\n",
              "      <th>6</th>\n",
              "      <td>541</td>\n",
              "      <td>1</td>\n",
              "      <td>1.0</td>\n",
              "      <td>Crosby, Miss. Harriet R</td>\n",
              "      <td>female</td>\n",
              "      <td>36.0</td>\n",
              "      <td>0</td>\n",
              "      <td>2</td>\n",
              "      <td>WE/P 5735</td>\n",
              "      <td>71.000000</td>\n",
              "      <td>B22</td>\n",
              "      <td>PORT S</td>\n",
              "    </tr>\n",
              "    <tr>\n",
              "      <th>7</th>\n",
              "      <td>341</td>\n",
              "      <td>1</td>\n",
              "      <td>2.0</td>\n",
              "      <td>Navratil, Master. Edmond Roger</td>\n",
              "      <td>male</td>\n",
              "      <td>2.0</td>\n",
              "      <td>1</td>\n",
              "      <td>1</td>\n",
              "      <td>230080</td>\n",
              "      <td>26.000000</td>\n",
              "      <td>F2</td>\n",
              "      <td>PORT S</td>\n",
              "    </tr>\n",
              "    <tr>\n",
              "      <th>8</th>\n",
              "      <td>581</td>\n",
              "      <td>1</td>\n",
              "      <td>NaN</td>\n",
              "      <td>Christy, Miss. Julie Rachel</td>\n",
              "      <td>female</td>\n",
              "      <td>25.0</td>\n",
              "      <td>1</td>\n",
              "      <td>1</td>\n",
              "      <td>237789</td>\n",
              "      <td>30.000000</td>\n",
              "      <td>NaN</td>\n",
              "      <td>S</td>\n",
              "    </tr>\n",
              "    <tr>\n",
              "      <th>9</th>\n",
              "      <td>843</td>\n",
              "      <td>1</td>\n",
              "      <td>1.0</td>\n",
              "      <td>Serepeca, Miss. Augusta</td>\n",
              "      <td>female</td>\n",
              "      <td>30.0</td>\n",
              "      <td>0</td>\n",
              "      <td>0</td>\n",
              "      <td>113798</td>\n",
              "      <td>31.000000</td>\n",
              "      <td>NaN</td>\n",
              "      <td>C</td>\n",
              "    </tr>\n",
              "  </tbody>\n",
              "</table>\n",
              "</div>\n",
              "      <button class=\"colab-df-convert\" onclick=\"convertToInteractive('df-c53f0ae3-a1a4-4483-8f08-751abc1446a9')\"\n",
              "              title=\"Convert this dataframe to an interactive table.\"\n",
              "              style=\"display:none;\">\n",
              "        \n",
              "  <svg xmlns=\"http://www.w3.org/2000/svg\" height=\"24px\"viewBox=\"0 0 24 24\"\n",
              "       width=\"24px\">\n",
              "    <path d=\"M0 0h24v24H0V0z\" fill=\"none\"/>\n",
              "    <path d=\"M18.56 5.44l.94 2.06.94-2.06 2.06-.94-2.06-.94-.94-2.06-.94 2.06-2.06.94zm-11 1L8.5 8.5l.94-2.06 2.06-.94-2.06-.94L8.5 2.5l-.94 2.06-2.06.94zm10 10l.94 2.06.94-2.06 2.06-.94-2.06-.94-.94-2.06-.94 2.06-2.06.94z\"/><path d=\"M17.41 7.96l-1.37-1.37c-.4-.4-.92-.59-1.43-.59-.52 0-1.04.2-1.43.59L10.3 9.45l-7.72 7.72c-.78.78-.78 2.05 0 2.83L4 21.41c.39.39.9.59 1.41.59.51 0 1.02-.2 1.41-.59l7.78-7.78 2.81-2.81c.8-.78.8-2.07 0-2.86zM5.41 20L4 18.59l7.72-7.72 1.47 1.35L5.41 20z\"/>\n",
              "  </svg>\n",
              "      </button>\n",
              "      \n",
              "  <style>\n",
              "    .colab-df-container {\n",
              "      display:flex;\n",
              "      flex-wrap:wrap;\n",
              "      gap: 12px;\n",
              "    }\n",
              "\n",
              "    .colab-df-convert {\n",
              "      background-color: #E8F0FE;\n",
              "      border: none;\n",
              "      border-radius: 50%;\n",
              "      cursor: pointer;\n",
              "      display: none;\n",
              "      fill: #1967D2;\n",
              "      height: 32px;\n",
              "      padding: 0 0 0 0;\n",
              "      width: 32px;\n",
              "    }\n",
              "\n",
              "    .colab-df-convert:hover {\n",
              "      background-color: #E2EBFA;\n",
              "      box-shadow: 0px 1px 2px rgba(60, 64, 67, 0.3), 0px 1px 3px 1px rgba(60, 64, 67, 0.15);\n",
              "      fill: #174EA6;\n",
              "    }\n",
              "\n",
              "    [theme=dark] .colab-df-convert {\n",
              "      background-color: #3B4455;\n",
              "      fill: #D2E3FC;\n",
              "    }\n",
              "\n",
              "    [theme=dark] .colab-df-convert:hover {\n",
              "      background-color: #434B5C;\n",
              "      box-shadow: 0px 1px 3px 1px rgba(0, 0, 0, 0.15);\n",
              "      filter: drop-shadow(0px 1px 2px rgba(0, 0, 0, 0.3));\n",
              "      fill: #FFFFFF;\n",
              "    }\n",
              "  </style>\n",
              "\n",
              "      <script>\n",
              "        const buttonEl =\n",
              "          document.querySelector('#df-c53f0ae3-a1a4-4483-8f08-751abc1446a9 button.colab-df-convert');\n",
              "        buttonEl.style.display =\n",
              "          google.colab.kernel.accessAllowed ? 'block' : 'none';\n",
              "\n",
              "        async function convertToInteractive(key) {\n",
              "          const element = document.querySelector('#df-c53f0ae3-a1a4-4483-8f08-751abc1446a9');\n",
              "          const dataTable =\n",
              "            await google.colab.kernel.invokeFunction('convertToInteractive',\n",
              "                                                     [key], {});\n",
              "          if (!dataTable) return;\n",
              "\n",
              "          const docLinkHtml = 'Like what you see? Visit the ' +\n",
              "            '<a target=\"_blank\" href=https://colab.research.google.com/notebooks/data_table.ipynb>data table notebook</a>'\n",
              "            + ' to learn more about interactive tables.';\n",
              "          element.innerHTML = '';\n",
              "          dataTable['output_type'] = 'display_data';\n",
              "          await google.colab.output.renderOutput(dataTable, element);\n",
              "          const docLink = document.createElement('div');\n",
              "          docLink.innerHTML = docLinkHtml;\n",
              "          element.appendChild(docLink);\n",
              "        }\n",
              "      </script>\n",
              "    </div>\n",
              "  </div>\n",
              "  "
            ]
          },
          "metadata": {},
          "execution_count": 101
        }
      ]
    },
    {
      "cell_type": "markdown",
      "source": [
        "**Significado de cada coluna:**\n",
        "\n",
        "`PassengerId` = Id dos passageiros;\n",
        "\n",
        "`Survived` = Informa se o passageiro sobreviveu. Onde \"1\" o passageiro sobreviveu e \"0\" ele morreu;\n",
        "\n",
        "`Pclass` = Indica qual é a classe que a pessoa estava acomodada;\n",
        "\n",
        "`Name` = Nome do indivíduo;\n",
        "\n",
        "`Sex` = Sexo da pessoa;\n",
        "\n",
        "`Age` = Idade dos passageiros;\n",
        "\n",
        "`SibSp` = Essa coluna informa a quantidade de irmãos e parceiro que a pessoa tinha;\n",
        "\n",
        "`Parch` = Quantidade de pais e filhos que tinha no návio;\n",
        "\n",
        "`Ticket` = Id da passagem;\n",
        "\n",
        "`Fare` = Quanto que custou a passagem;\n",
        "\n",
        "`Cabin` = Número da cabine;\n",
        "\n",
        "`Embarked` = Qual porto o passageiro embarcou."
      ],
      "metadata": {
        "id": "0c5Y3iMVcHoN"
      }
    },
    {
      "cell_type": "code",
      "source": [
        "df.info()"
      ],
      "metadata": {
        "id": "eU_CA3SUBm3m",
        "colab": {
          "base_uri": "https://localhost:8080/"
        },
        "outputId": "4d239576-b805-4e7f-c3b3-598946e2f5c4"
      },
      "execution_count": 102,
      "outputs": [
        {
          "output_type": "stream",
          "name": "stdout",
          "text": [
            "<class 'pandas.core.frame.DataFrame'>\n",
            "RangeIndex: 1098 entries, 0 to 1097\n",
            "Data columns (total 12 columns):\n",
            " #   Column       Non-Null Count  Dtype  \n",
            "---  ------       --------------  -----  \n",
            " 0   PassengerId  1098 non-null   int64  \n",
            " 1   Survived     1098 non-null   int64  \n",
            " 2   Pclass       983 non-null    float64\n",
            " 3   Name         1098 non-null   object \n",
            " 4   Sex          1098 non-null   object \n",
            " 5   Age          875 non-null    float64\n",
            " 6   SibSp        1098 non-null   int64  \n",
            " 7   Parch        1098 non-null   int64  \n",
            " 8   Ticket       1098 non-null   object \n",
            " 9   Fare         1082 non-null   float64\n",
            " 10  Cabin        250 non-null    object \n",
            " 11  Embarked     1095 non-null   object \n",
            "dtypes: float64(3), int64(4), object(5)\n",
            "memory usage: 103.1+ KB\n"
          ]
        }
      ]
    },
    {
      "cell_type": "code",
      "source": [
        "# Overview apenas das colunas númericas\n",
        "df.describe()"
      ],
      "metadata": {
        "id": "0QCBK0ggDCgX",
        "colab": {
          "base_uri": "https://localhost:8080/",
          "height": 300
        },
        "outputId": "ba080923-beca-43ab-8cac-b579be4619ff"
      },
      "execution_count": 103,
      "outputs": [
        {
          "output_type": "execute_result",
          "data": {
            "text/plain": [
              "       PassengerId     Survived      Pclass         Age        SibSp  \\\n",
              "count  1098.000000  1098.000000  983.000000  875.000000  1098.000000   \n",
              "mean    450.107468     0.386157    2.323499   29.457909     0.526412   \n",
              "std     258.784719     0.487089    0.831610   14.437504     1.142425   \n",
              "min       1.000000     0.000000    1.000000    0.420000     0.000000   \n",
              "25%     226.250000     0.000000    2.000000   20.000000     0.000000   \n",
              "50%     449.500000     0.000000    3.000000   28.000000     0.000000   \n",
              "75%     675.750000     1.000000    3.000000   38.000000     1.000000   \n",
              "max     891.000000     1.000000    3.000000   80.000000     8.000000   \n",
              "\n",
              "             Parch         Fare  \n",
              "count  1098.000000  1082.000000  \n",
              "mean      0.389800    29.271991  \n",
              "std       0.810801    48.490367  \n",
              "min       0.000000   -88.096315  \n",
              "25%       0.000000     7.859400  \n",
              "50%       0.000000    13.000000  \n",
              "75%       0.000000    30.000000  \n",
              "max       6.000000   512.329200  "
            ],
            "text/html": [
              "\n",
              "  <div id=\"df-a2784047-4d01-4ad6-982f-0826b6e3a4bd\">\n",
              "    <div class=\"colab-df-container\">\n",
              "      <div>\n",
              "<style scoped>\n",
              "    .dataframe tbody tr th:only-of-type {\n",
              "        vertical-align: middle;\n",
              "    }\n",
              "\n",
              "    .dataframe tbody tr th {\n",
              "        vertical-align: top;\n",
              "    }\n",
              "\n",
              "    .dataframe thead th {\n",
              "        text-align: right;\n",
              "    }\n",
              "</style>\n",
              "<table border=\"1\" class=\"dataframe\">\n",
              "  <thead>\n",
              "    <tr style=\"text-align: right;\">\n",
              "      <th></th>\n",
              "      <th>PassengerId</th>\n",
              "      <th>Survived</th>\n",
              "      <th>Pclass</th>\n",
              "      <th>Age</th>\n",
              "      <th>SibSp</th>\n",
              "      <th>Parch</th>\n",
              "      <th>Fare</th>\n",
              "    </tr>\n",
              "  </thead>\n",
              "  <tbody>\n",
              "    <tr>\n",
              "      <th>count</th>\n",
              "      <td>1098.000000</td>\n",
              "      <td>1098.000000</td>\n",
              "      <td>983.000000</td>\n",
              "      <td>875.000000</td>\n",
              "      <td>1098.000000</td>\n",
              "      <td>1098.000000</td>\n",
              "      <td>1082.000000</td>\n",
              "    </tr>\n",
              "    <tr>\n",
              "      <th>mean</th>\n",
              "      <td>450.107468</td>\n",
              "      <td>0.386157</td>\n",
              "      <td>2.323499</td>\n",
              "      <td>29.457909</td>\n",
              "      <td>0.526412</td>\n",
              "      <td>0.389800</td>\n",
              "      <td>29.271991</td>\n",
              "    </tr>\n",
              "    <tr>\n",
              "      <th>std</th>\n",
              "      <td>258.784719</td>\n",
              "      <td>0.487089</td>\n",
              "      <td>0.831610</td>\n",
              "      <td>14.437504</td>\n",
              "      <td>1.142425</td>\n",
              "      <td>0.810801</td>\n",
              "      <td>48.490367</td>\n",
              "    </tr>\n",
              "    <tr>\n",
              "      <th>min</th>\n",
              "      <td>1.000000</td>\n",
              "      <td>0.000000</td>\n",
              "      <td>1.000000</td>\n",
              "      <td>0.420000</td>\n",
              "      <td>0.000000</td>\n",
              "      <td>0.000000</td>\n",
              "      <td>-88.096315</td>\n",
              "    </tr>\n",
              "    <tr>\n",
              "      <th>25%</th>\n",
              "      <td>226.250000</td>\n",
              "      <td>0.000000</td>\n",
              "      <td>2.000000</td>\n",
              "      <td>20.000000</td>\n",
              "      <td>0.000000</td>\n",
              "      <td>0.000000</td>\n",
              "      <td>7.859400</td>\n",
              "    </tr>\n",
              "    <tr>\n",
              "      <th>50%</th>\n",
              "      <td>449.500000</td>\n",
              "      <td>0.000000</td>\n",
              "      <td>3.000000</td>\n",
              "      <td>28.000000</td>\n",
              "      <td>0.000000</td>\n",
              "      <td>0.000000</td>\n",
              "      <td>13.000000</td>\n",
              "    </tr>\n",
              "    <tr>\n",
              "      <th>75%</th>\n",
              "      <td>675.750000</td>\n",
              "      <td>1.000000</td>\n",
              "      <td>3.000000</td>\n",
              "      <td>38.000000</td>\n",
              "      <td>1.000000</td>\n",
              "      <td>0.000000</td>\n",
              "      <td>30.000000</td>\n",
              "    </tr>\n",
              "    <tr>\n",
              "      <th>max</th>\n",
              "      <td>891.000000</td>\n",
              "      <td>1.000000</td>\n",
              "      <td>3.000000</td>\n",
              "      <td>80.000000</td>\n",
              "      <td>8.000000</td>\n",
              "      <td>6.000000</td>\n",
              "      <td>512.329200</td>\n",
              "    </tr>\n",
              "  </tbody>\n",
              "</table>\n",
              "</div>\n",
              "      <button class=\"colab-df-convert\" onclick=\"convertToInteractive('df-a2784047-4d01-4ad6-982f-0826b6e3a4bd')\"\n",
              "              title=\"Convert this dataframe to an interactive table.\"\n",
              "              style=\"display:none;\">\n",
              "        \n",
              "  <svg xmlns=\"http://www.w3.org/2000/svg\" height=\"24px\"viewBox=\"0 0 24 24\"\n",
              "       width=\"24px\">\n",
              "    <path d=\"M0 0h24v24H0V0z\" fill=\"none\"/>\n",
              "    <path d=\"M18.56 5.44l.94 2.06.94-2.06 2.06-.94-2.06-.94-.94-2.06-.94 2.06-2.06.94zm-11 1L8.5 8.5l.94-2.06 2.06-.94-2.06-.94L8.5 2.5l-.94 2.06-2.06.94zm10 10l.94 2.06.94-2.06 2.06-.94-2.06-.94-.94-2.06-.94 2.06-2.06.94z\"/><path d=\"M17.41 7.96l-1.37-1.37c-.4-.4-.92-.59-1.43-.59-.52 0-1.04.2-1.43.59L10.3 9.45l-7.72 7.72c-.78.78-.78 2.05 0 2.83L4 21.41c.39.39.9.59 1.41.59.51 0 1.02-.2 1.41-.59l7.78-7.78 2.81-2.81c.8-.78.8-2.07 0-2.86zM5.41 20L4 18.59l7.72-7.72 1.47 1.35L5.41 20z\"/>\n",
              "  </svg>\n",
              "      </button>\n",
              "      \n",
              "  <style>\n",
              "    .colab-df-container {\n",
              "      display:flex;\n",
              "      flex-wrap:wrap;\n",
              "      gap: 12px;\n",
              "    }\n",
              "\n",
              "    .colab-df-convert {\n",
              "      background-color: #E8F0FE;\n",
              "      border: none;\n",
              "      border-radius: 50%;\n",
              "      cursor: pointer;\n",
              "      display: none;\n",
              "      fill: #1967D2;\n",
              "      height: 32px;\n",
              "      padding: 0 0 0 0;\n",
              "      width: 32px;\n",
              "    }\n",
              "\n",
              "    .colab-df-convert:hover {\n",
              "      background-color: #E2EBFA;\n",
              "      box-shadow: 0px 1px 2px rgba(60, 64, 67, 0.3), 0px 1px 3px 1px rgba(60, 64, 67, 0.15);\n",
              "      fill: #174EA6;\n",
              "    }\n",
              "\n",
              "    [theme=dark] .colab-df-convert {\n",
              "      background-color: #3B4455;\n",
              "      fill: #D2E3FC;\n",
              "    }\n",
              "\n",
              "    [theme=dark] .colab-df-convert:hover {\n",
              "      background-color: #434B5C;\n",
              "      box-shadow: 0px 1px 3px 1px rgba(0, 0, 0, 0.15);\n",
              "      filter: drop-shadow(0px 1px 2px rgba(0, 0, 0, 0.3));\n",
              "      fill: #FFFFFF;\n",
              "    }\n",
              "  </style>\n",
              "\n",
              "      <script>\n",
              "        const buttonEl =\n",
              "          document.querySelector('#df-a2784047-4d01-4ad6-982f-0826b6e3a4bd button.colab-df-convert');\n",
              "        buttonEl.style.display =\n",
              "          google.colab.kernel.accessAllowed ? 'block' : 'none';\n",
              "\n",
              "        async function convertToInteractive(key) {\n",
              "          const element = document.querySelector('#df-a2784047-4d01-4ad6-982f-0826b6e3a4bd');\n",
              "          const dataTable =\n",
              "            await google.colab.kernel.invokeFunction('convertToInteractive',\n",
              "                                                     [key], {});\n",
              "          if (!dataTable) return;\n",
              "\n",
              "          const docLinkHtml = 'Like what you see? Visit the ' +\n",
              "            '<a target=\"_blank\" href=https://colab.research.google.com/notebooks/data_table.ipynb>data table notebook</a>'\n",
              "            + ' to learn more about interactive tables.';\n",
              "          element.innerHTML = '';\n",
              "          dataTable['output_type'] = 'display_data';\n",
              "          await google.colab.output.renderOutput(dataTable, element);\n",
              "          const docLink = document.createElement('div');\n",
              "          docLink.innerHTML = docLinkHtml;\n",
              "          element.appendChild(docLink);\n",
              "        }\n",
              "      </script>\n",
              "    </div>\n",
              "  </div>\n",
              "  "
            ]
          },
          "metadata": {},
          "execution_count": 103
        }
      ]
    },
    {
      "cell_type": "markdown",
      "source": [
        "**Visão detalhada das colunas**"
      ],
      "metadata": {
        "id": "CFj2YAZnruvF"
      }
    },
    {
      "cell_type": "markdown",
      "source": [
        "- Variaveis categoricas:"
      ],
      "metadata": {
        "id": "AmZx_GWmhHiK"
      }
    },
    {
      "cell_type": "code",
      "source": [
        "df['Sex'].value_counts()"
      ],
      "metadata": {
        "id": "Xx1ZyUWTFCm3",
        "colab": {
          "base_uri": "https://localhost:8080/"
        },
        "outputId": "43f8df0b-15d7-433c-d0f7-c2f2afb6ef71"
      },
      "execution_count": 104,
      "outputs": [
        {
          "output_type": "execute_result",
          "data": {
            "text/plain": [
              "male      471\n",
              "MALE      241\n",
              "female    238\n",
              "FEMALE    148\n",
              "Name: Sex, dtype: int64"
            ]
          },
          "metadata": {},
          "execution_count": 104
        }
      ]
    },
    {
      "cell_type": "code",
      "source": [
        "df['Pclass'].value_counts(dropna = False)"
      ],
      "metadata": {
        "id": "BIT4I2N3FQiX",
        "colab": {
          "base_uri": "https://localhost:8080/"
        },
        "outputId": "81df89d5-87e2-4d00-d7f0-d82de5668fc3"
      },
      "execution_count": 105,
      "outputs": [
        {
          "output_type": "execute_result",
          "data": {
            "text/plain": [
              "3.0    550\n",
              "1.0    232\n",
              "2.0    201\n",
              "NaN    115\n",
              "Name: Pclass, dtype: int64"
            ]
          },
          "metadata": {},
          "execution_count": 105
        }
      ]
    },
    {
      "cell_type": "code",
      "source": [
        "df['Embarked'].value_counts(dropna = False)"
      ],
      "metadata": {
        "id": "CqTr6dgkFqBf",
        "colab": {
          "base_uri": "https://localhost:8080/"
        },
        "outputId": "7ac788bc-cfac-4391-9e8d-ad43c4f14c83"
      },
      "execution_count": 106,
      "outputs": [
        {
          "output_type": "execute_result",
          "data": {
            "text/plain": [
              "S         445\n",
              "PORT S    348\n",
              "C         122\n",
              "PORT C     87\n",
              "PORT Q     50\n",
              "Q          43\n",
              "NaN         3\n",
              "Name: Embarked, dtype: int64"
            ]
          },
          "metadata": {},
          "execution_count": 106
        }
      ]
    },
    {
      "cell_type": "markdown",
      "source": [
        "- Variaveis quantitativas:"
      ],
      "metadata": {
        "id": "dmP2_pothRYE"
      }
    },
    {
      "cell_type": "code",
      "source": [
        "df['Age'].quantile(np.linspace(0, 1, 11))"
      ],
      "metadata": {
        "id": "qJ3nw89VF1LC",
        "colab": {
          "base_uri": "https://localhost:8080/"
        },
        "outputId": "d53e6f4f-4f51-48ee-edc2-a18f4818c4e1"
      },
      "execution_count": 107,
      "outputs": [
        {
          "output_type": "execute_result",
          "data": {
            "text/plain": [
              "0.0     0.42\n",
              "0.1    13.00\n",
              "0.2    19.00\n",
              "0.3    22.00\n",
              "0.4    25.00\n",
              "0.5    28.00\n",
              "0.6    31.00\n",
              "0.7    36.00\n",
              "0.8    41.00\n",
              "0.9    49.00\n",
              "1.0    80.00\n",
              "Name: Age, dtype: float64"
            ]
          },
          "metadata": {},
          "execution_count": 107
        }
      ]
    },
    {
      "cell_type": "code",
      "source": [
        "df['Fare'].quantile(np.linspace(0, 1, 11))"
      ],
      "metadata": {
        "id": "vG4ZGTuVGkrU",
        "colab": {
          "base_uri": "https://localhost:8080/"
        },
        "outputId": "6af6de45-6b89-4404-94bd-43e08eee3920"
      },
      "execution_count": 108,
      "outputs": [
        {
          "output_type": "execute_result",
          "data": {
            "text/plain": [
              "0.0    -88.096315\n",
              "0.1      7.050000\n",
              "0.2      7.750000\n",
              "0.3      7.895800\n",
              "0.4      9.478320\n",
              "0.5     13.000000\n",
              "0.6     18.787500\n",
              "0.7     26.387500\n",
              "0.8     39.000000\n",
              "0.9     76.729200\n",
              "1.0    512.329200\n",
              "Name: Fare, dtype: float64"
            ]
          },
          "metadata": {},
          "execution_count": 108
        }
      ]
    },
    {
      "cell_type": "markdown",
      "source": [
        "## Corrigir Inconsistências\n",
        "\n",
        "Vamos analisar se existem inconsistências nos dados como dados duplicados, valores faltantes entre outros. \n",
        "\n",
        "Para cada problema, é necessário analisar se existem padrões e qual a melhor maneira de corrigir."
      ],
      "metadata": {
        "id": "F6OOcEdYikDD"
      }
    },
    {
      "cell_type": "markdown",
      "source": [
        "### Analisar e corrigir dados duplicados"
      ],
      "metadata": {
        "id": "7g56KtEKrk1B"
      }
    },
    {
      "cell_type": "code",
      "source": [
        "# Verificando quantas linhas duplicatas tem o dataframe\n",
        "df.duplicated().sum()"
      ],
      "metadata": {
        "id": "s6ZsXQceHJcN",
        "colab": {
          "base_uri": "https://localhost:8080/"
        },
        "outputId": "069894a3-df18-4ee1-d305-4d4c4aff933d"
      },
      "execution_count": 80,
      "outputs": [
        {
          "output_type": "execute_result",
          "data": {
            "text/plain": [
              "33"
            ]
          },
          "metadata": {},
          "execution_count": 80
        }
      ]
    },
    {
      "cell_type": "code",
      "source": [
        "# Deletando todas as linhas que possui valores duplicados\n",
        "df = df.drop_duplicates()\n",
        "# ou: df.drop_duplicates(inplace = True)"
      ],
      "metadata": {
        "id": "WzXCmxqBHXRo"
      },
      "execution_count": 81,
      "outputs": []
    },
    {
      "cell_type": "code",
      "source": [
        "# Validando se o nosso ajuste deu certo\n",
        "df.duplicated().sum()"
      ],
      "metadata": {
        "id": "5NK_Haa-H24O",
        "colab": {
          "base_uri": "https://localhost:8080/"
        },
        "outputId": "c797965d-74c0-4163-9107-a5027131d35d"
      },
      "execution_count": 82,
      "outputs": [
        {
          "output_type": "execute_result",
          "data": {
            "text/plain": [
              "0"
            ]
          },
          "metadata": {},
          "execution_count": 82
        }
      ]
    },
    {
      "cell_type": "markdown",
      "source": [
        "### Analisar e corrigir dados faltantes/incorretos"
      ],
      "metadata": {
        "id": "iZWvM7qVro4Z"
      }
    },
    {
      "cell_type": "markdown",
      "source": [
        "**Tratando Coluna Sex**\n",
        "\n",
        "A coluna possui erro de grafia, temos que padronizar os valores."
      ],
      "metadata": {
        "id": "j-iWERxbQZVS"
      }
    },
    {
      "cell_type": "code",
      "source": [
        "df['Sex'].unique()"
      ],
      "metadata": {
        "id": "1Ibh_0J9H9I9",
        "colab": {
          "base_uri": "https://localhost:8080/"
        },
        "outputId": "074c912f-e1bf-4880-9649-94df8f6bc470"
      },
      "execution_count": 33,
      "outputs": [
        {
          "output_type": "execute_result",
          "data": {
            "text/plain": [
              "array(['male', 'MALE', 'FEMALE', 'female'], dtype=object)"
            ]
          },
          "metadata": {},
          "execution_count": 33
        }
      ]
    },
    {
      "cell_type": "code",
      "source": [
        "df['Sex'] = df['Sex'].str.lower()"
      ],
      "metadata": {
        "id": "Y0jgEhwNH_mN",
        "colab": {
          "base_uri": "https://localhost:8080/"
        },
        "outputId": "3f7dbe23-a633-4a47-a2ef-6638653cc95d"
      },
      "execution_count": 34,
      "outputs": [
        {
          "output_type": "stream",
          "name": "stderr",
          "text": [
            "/usr/local/lib/python3.7/dist-packages/ipykernel_launcher.py:1: SettingWithCopyWarning: \n",
            "A value is trying to be set on a copy of a slice from a DataFrame.\n",
            "Try using .loc[row_indexer,col_indexer] = value instead\n",
            "\n",
            "See the caveats in the documentation: https://pandas.pydata.org/pandas-docs/stable/user_guide/indexing.html#returning-a-view-versus-a-copy\n",
            "  \"\"\"Entry point for launching an IPython kernel.\n"
          ]
        }
      ]
    },
    {
      "cell_type": "code",
      "source": [
        "df['Sex'].unique()"
      ],
      "metadata": {
        "id": "mC_QEH9EISON",
        "colab": {
          "base_uri": "https://localhost:8080/"
        },
        "outputId": "e564c8c3-865e-414f-a1cf-5649abbe5826"
      },
      "execution_count": 35,
      "outputs": [
        {
          "output_type": "execute_result",
          "data": {
            "text/plain": [
              "array(['male', 'female'], dtype=object)"
            ]
          },
          "metadata": {},
          "execution_count": 35
        }
      ]
    },
    {
      "cell_type": "markdown",
      "source": [
        "**Tratando Coluna Embarked**\n",
        "\n",
        "A coluna também possui erro de grafia e temos que padronizar os valores, porém essa coluna também possui valores faltantes."
      ],
      "metadata": {
        "id": "a3Gz2YIOQby6"
      }
    },
    {
      "cell_type": "code",
      "source": [
        "df['Embarked'].unique()"
      ],
      "metadata": {
        "id": "we7T9k-HIXPF",
        "colab": {
          "base_uri": "https://localhost:8080/"
        },
        "outputId": "450c6e9f-333f-4f03-93f4-7ec0874e5d1b"
      },
      "execution_count": 36,
      "outputs": [
        {
          "output_type": "execute_result",
          "data": {
            "text/plain": [
              "array(['S', 'C', 'PORT S', 'PORT Q', 'Q', 'PORT C', nan], dtype=object)"
            ]
          },
          "metadata": {},
          "execution_count": 36
        }
      ]
    },
    {
      "cell_type": "code",
      "source": [
        "embarked_dict = {\n",
        "    'S' : 'PORT S', \n",
        "    'C' : \"PORT C\", \n",
        "    'PORT S' : 'PORT S', \n",
        "    'PORT Q' : 'PORT Q', \n",
        "    'Q' : 'PORT Q', \n",
        "    'PORT C' : 'PORT C'\n",
        "}"
      ],
      "metadata": {
        "id": "napCOY4kIuC1"
      },
      "execution_count": 37,
      "outputs": []
    },
    {
      "cell_type": "code",
      "source": [
        "df['Embarked'] = df['Embarked'].map(embarked_dict)"
      ],
      "metadata": {
        "id": "OuZc-oX8I_9O",
        "colab": {
          "base_uri": "https://localhost:8080/"
        },
        "outputId": "0f2024cc-e401-4c6c-e772-cb64e3855ffb"
      },
      "execution_count": 38,
      "outputs": [
        {
          "output_type": "stream",
          "name": "stderr",
          "text": [
            "/usr/local/lib/python3.7/dist-packages/ipykernel_launcher.py:1: SettingWithCopyWarning: \n",
            "A value is trying to be set on a copy of a slice from a DataFrame.\n",
            "Try using .loc[row_indexer,col_indexer] = value instead\n",
            "\n",
            "See the caveats in the documentation: https://pandas.pydata.org/pandas-docs/stable/user_guide/indexing.html#returning-a-view-versus-a-copy\n",
            "  \"\"\"Entry point for launching an IPython kernel.\n"
          ]
        }
      ]
    },
    {
      "cell_type": "code",
      "source": [
        "df['Embarked'].unique()"
      ],
      "metadata": {
        "id": "Dji-L5lpIjSs",
        "colab": {
          "base_uri": "https://localhost:8080/"
        },
        "outputId": "c464f3fe-3b93-4e6e-c9f2-f5d59f47ec9f"
      },
      "execution_count": 39,
      "outputs": [
        {
          "output_type": "execute_result",
          "data": {
            "text/plain": [
              "array(['PORT S', 'PORT C', 'PORT Q', nan], dtype=object)"
            ]
          },
          "metadata": {},
          "execution_count": 39
        }
      ]
    },
    {
      "cell_type": "code",
      "source": [
        "df['Embarked'].value_counts(dropna = False)"
      ],
      "metadata": {
        "id": "TIJrHxO-JLoM",
        "colab": {
          "base_uri": "https://localhost:8080/"
        },
        "outputId": "fab09ff0-e7d3-4e70-c57c-a2dddc0489cb"
      },
      "execution_count": 40,
      "outputs": [
        {
          "output_type": "execute_result",
          "data": {
            "text/plain": [
              "PORT S    685\n",
              "PORT C    175\n",
              "PORT Q     82\n",
              "NaN         2\n",
              "Name: Embarked, dtype: int64"
            ]
          },
          "metadata": {},
          "execution_count": 40
        }
      ]
    },
    {
      "cell_type": "code",
      "source": [
        "# Como na nossa amostra só há 2 valores ausentes não é possível identificar um padrão entre os dados\n",
        "df['Embarked'] = df['Embarked'].fillna(\"UNDEFINED\")"
      ],
      "metadata": {
        "id": "EI7gyeabJV7w"
      },
      "execution_count": 41,
      "outputs": []
    },
    {
      "cell_type": "code",
      "source": [
        "df['Embarked'].value_counts(dropna = False)"
      ],
      "metadata": {
        "id": "Y8d5z2IdJeNF",
        "colab": {
          "base_uri": "https://localhost:8080/"
        },
        "outputId": "41130082-a568-4e18-a3b9-57cb584566c9"
      },
      "execution_count": 42,
      "outputs": [
        {
          "output_type": "execute_result",
          "data": {
            "text/plain": [
              "PORT S       685\n",
              "PORT C       175\n",
              "PORT Q        82\n",
              "UNDEFINED      2\n",
              "Name: Embarked, dtype: int64"
            ]
          },
          "metadata": {},
          "execution_count": 42
        }
      ]
    },
    {
      "cell_type": "markdown",
      "source": [
        "**Tratando Coluna Age**\n",
        "\n",
        "Valores faltantes."
      ],
      "metadata": {
        "id": "65SIqXiUlpJj"
      }
    },
    {
      "cell_type": "code",
      "source": [
        "df[df['Age'].isna()].head(10)"
      ],
      "metadata": {
        "id": "9oNHjh_fKEb2",
        "colab": {
          "base_uri": "https://localhost:8080/",
          "height": 363
        },
        "outputId": "665f9cab-6626-412a-adc7-74fdb1f1effa"
      },
      "execution_count": 43,
      "outputs": [
        {
          "output_type": "execute_result",
          "data": {
            "text/plain": [
              "    PassengerId  Survived  Pclass                            Name     Sex  \\\n",
              "2           181         0     3.0    Sage, Miss. Constance Gladys  female   \n",
              "13          728         1     NaN        Mannion, Miss. Margareth  female   \n",
              "14          414         0     2.0  Cunningham, Mr. Alfred Fleming    male   \n",
              "16          389         0     3.0            Sadlier, Mr. Matthew    male   \n",
              "17          739         0     3.0              Ivanoff, Mr. Kanio    male   \n",
              "19          681         0     NaN             Peters, Miss. Katie  female   \n",
              "26          833         0     3.0                  Saad, Mr. Amin    male   \n",
              "37          741         1     1.0     Hawksford, Mr. Walter James    male   \n",
              "39          565         0     3.0  Meanwell, Miss. (Marion Ogden)  female   \n",
              "51          359         1     3.0            McGovern, Miss. Mary  female   \n",
              "\n",
              "    Age  SibSp  Parch             Ticket       Fare Cabin Embarked  \n",
              "2   NaN      8      2           CA. 2343  69.550000   NaN   PORT S  \n",
              "13  NaN      0      0              36866   7.737500   NaN   PORT Q  \n",
              "14  NaN      0      0             239853   0.000000   NaN   PORT S  \n",
              "16  NaN      0      0             367655   7.729200   NaN   PORT Q  \n",
              "17  NaN      0      0             349201   7.895800   NaN   PORT S  \n",
              "19  NaN      0      0             330935   8.137500   NaN   PORT Q  \n",
              "26  NaN      0      0               2671   7.229200   NaN   PORT C  \n",
              "37  NaN      0      0              16988  30.000000   D45   PORT S  \n",
              "39  NaN      0      0  SOTON/O.Q. 392087  -3.674268   NaN   PORT S  \n",
              "51  NaN      0      0             330931   7.879200   NaN   PORT Q  "
            ],
            "text/html": [
              "\n",
              "  <div id=\"df-dd260fa2-be60-4e89-b23e-c550c34f2a6c\">\n",
              "    <div class=\"colab-df-container\">\n",
              "      <div>\n",
              "<style scoped>\n",
              "    .dataframe tbody tr th:only-of-type {\n",
              "        vertical-align: middle;\n",
              "    }\n",
              "\n",
              "    .dataframe tbody tr th {\n",
              "        vertical-align: top;\n",
              "    }\n",
              "\n",
              "    .dataframe thead th {\n",
              "        text-align: right;\n",
              "    }\n",
              "</style>\n",
              "<table border=\"1\" class=\"dataframe\">\n",
              "  <thead>\n",
              "    <tr style=\"text-align: right;\">\n",
              "      <th></th>\n",
              "      <th>PassengerId</th>\n",
              "      <th>Survived</th>\n",
              "      <th>Pclass</th>\n",
              "      <th>Name</th>\n",
              "      <th>Sex</th>\n",
              "      <th>Age</th>\n",
              "      <th>SibSp</th>\n",
              "      <th>Parch</th>\n",
              "      <th>Ticket</th>\n",
              "      <th>Fare</th>\n",
              "      <th>Cabin</th>\n",
              "      <th>Embarked</th>\n",
              "    </tr>\n",
              "  </thead>\n",
              "  <tbody>\n",
              "    <tr>\n",
              "      <th>2</th>\n",
              "      <td>181</td>\n",
              "      <td>0</td>\n",
              "      <td>3.0</td>\n",
              "      <td>Sage, Miss. Constance Gladys</td>\n",
              "      <td>female</td>\n",
              "      <td>NaN</td>\n",
              "      <td>8</td>\n",
              "      <td>2</td>\n",
              "      <td>CA. 2343</td>\n",
              "      <td>69.550000</td>\n",
              "      <td>NaN</td>\n",
              "      <td>PORT S</td>\n",
              "    </tr>\n",
              "    <tr>\n",
              "      <th>13</th>\n",
              "      <td>728</td>\n",
              "      <td>1</td>\n",
              "      <td>NaN</td>\n",
              "      <td>Mannion, Miss. Margareth</td>\n",
              "      <td>female</td>\n",
              "      <td>NaN</td>\n",
              "      <td>0</td>\n",
              "      <td>0</td>\n",
              "      <td>36866</td>\n",
              "      <td>7.737500</td>\n",
              "      <td>NaN</td>\n",
              "      <td>PORT Q</td>\n",
              "    </tr>\n",
              "    <tr>\n",
              "      <th>14</th>\n",
              "      <td>414</td>\n",
              "      <td>0</td>\n",
              "      <td>2.0</td>\n",
              "      <td>Cunningham, Mr. Alfred Fleming</td>\n",
              "      <td>male</td>\n",
              "      <td>NaN</td>\n",
              "      <td>0</td>\n",
              "      <td>0</td>\n",
              "      <td>239853</td>\n",
              "      <td>0.000000</td>\n",
              "      <td>NaN</td>\n",
              "      <td>PORT S</td>\n",
              "    </tr>\n",
              "    <tr>\n",
              "      <th>16</th>\n",
              "      <td>389</td>\n",
              "      <td>0</td>\n",
              "      <td>3.0</td>\n",
              "      <td>Sadlier, Mr. Matthew</td>\n",
              "      <td>male</td>\n",
              "      <td>NaN</td>\n",
              "      <td>0</td>\n",
              "      <td>0</td>\n",
              "      <td>367655</td>\n",
              "      <td>7.729200</td>\n",
              "      <td>NaN</td>\n",
              "      <td>PORT Q</td>\n",
              "    </tr>\n",
              "    <tr>\n",
              "      <th>17</th>\n",
              "      <td>739</td>\n",
              "      <td>0</td>\n",
              "      <td>3.0</td>\n",
              "      <td>Ivanoff, Mr. Kanio</td>\n",
              "      <td>male</td>\n",
              "      <td>NaN</td>\n",
              "      <td>0</td>\n",
              "      <td>0</td>\n",
              "      <td>349201</td>\n",
              "      <td>7.895800</td>\n",
              "      <td>NaN</td>\n",
              "      <td>PORT S</td>\n",
              "    </tr>\n",
              "    <tr>\n",
              "      <th>19</th>\n",
              "      <td>681</td>\n",
              "      <td>0</td>\n",
              "      <td>NaN</td>\n",
              "      <td>Peters, Miss. Katie</td>\n",
              "      <td>female</td>\n",
              "      <td>NaN</td>\n",
              "      <td>0</td>\n",
              "      <td>0</td>\n",
              "      <td>330935</td>\n",
              "      <td>8.137500</td>\n",
              "      <td>NaN</td>\n",
              "      <td>PORT Q</td>\n",
              "    </tr>\n",
              "    <tr>\n",
              "      <th>26</th>\n",
              "      <td>833</td>\n",
              "      <td>0</td>\n",
              "      <td>3.0</td>\n",
              "      <td>Saad, Mr. Amin</td>\n",
              "      <td>male</td>\n",
              "      <td>NaN</td>\n",
              "      <td>0</td>\n",
              "      <td>0</td>\n",
              "      <td>2671</td>\n",
              "      <td>7.229200</td>\n",
              "      <td>NaN</td>\n",
              "      <td>PORT C</td>\n",
              "    </tr>\n",
              "    <tr>\n",
              "      <th>37</th>\n",
              "      <td>741</td>\n",
              "      <td>1</td>\n",
              "      <td>1.0</td>\n",
              "      <td>Hawksford, Mr. Walter James</td>\n",
              "      <td>male</td>\n",
              "      <td>NaN</td>\n",
              "      <td>0</td>\n",
              "      <td>0</td>\n",
              "      <td>16988</td>\n",
              "      <td>30.000000</td>\n",
              "      <td>D45</td>\n",
              "      <td>PORT S</td>\n",
              "    </tr>\n",
              "    <tr>\n",
              "      <th>39</th>\n",
              "      <td>565</td>\n",
              "      <td>0</td>\n",
              "      <td>3.0</td>\n",
              "      <td>Meanwell, Miss. (Marion Ogden)</td>\n",
              "      <td>female</td>\n",
              "      <td>NaN</td>\n",
              "      <td>0</td>\n",
              "      <td>0</td>\n",
              "      <td>SOTON/O.Q. 392087</td>\n",
              "      <td>-3.674268</td>\n",
              "      <td>NaN</td>\n",
              "      <td>PORT S</td>\n",
              "    </tr>\n",
              "    <tr>\n",
              "      <th>51</th>\n",
              "      <td>359</td>\n",
              "      <td>1</td>\n",
              "      <td>3.0</td>\n",
              "      <td>McGovern, Miss. Mary</td>\n",
              "      <td>female</td>\n",
              "      <td>NaN</td>\n",
              "      <td>0</td>\n",
              "      <td>0</td>\n",
              "      <td>330931</td>\n",
              "      <td>7.879200</td>\n",
              "      <td>NaN</td>\n",
              "      <td>PORT Q</td>\n",
              "    </tr>\n",
              "  </tbody>\n",
              "</table>\n",
              "</div>\n",
              "      <button class=\"colab-df-convert\" onclick=\"convertToInteractive('df-dd260fa2-be60-4e89-b23e-c550c34f2a6c')\"\n",
              "              title=\"Convert this dataframe to an interactive table.\"\n",
              "              style=\"display:none;\">\n",
              "        \n",
              "  <svg xmlns=\"http://www.w3.org/2000/svg\" height=\"24px\"viewBox=\"0 0 24 24\"\n",
              "       width=\"24px\">\n",
              "    <path d=\"M0 0h24v24H0V0z\" fill=\"none\"/>\n",
              "    <path d=\"M18.56 5.44l.94 2.06.94-2.06 2.06-.94-2.06-.94-.94-2.06-.94 2.06-2.06.94zm-11 1L8.5 8.5l.94-2.06 2.06-.94-2.06-.94L8.5 2.5l-.94 2.06-2.06.94zm10 10l.94 2.06.94-2.06 2.06-.94-2.06-.94-.94-2.06-.94 2.06-2.06.94z\"/><path d=\"M17.41 7.96l-1.37-1.37c-.4-.4-.92-.59-1.43-.59-.52 0-1.04.2-1.43.59L10.3 9.45l-7.72 7.72c-.78.78-.78 2.05 0 2.83L4 21.41c.39.39.9.59 1.41.59.51 0 1.02-.2 1.41-.59l7.78-7.78 2.81-2.81c.8-.78.8-2.07 0-2.86zM5.41 20L4 18.59l7.72-7.72 1.47 1.35L5.41 20z\"/>\n",
              "  </svg>\n",
              "      </button>\n",
              "      \n",
              "  <style>\n",
              "    .colab-df-container {\n",
              "      display:flex;\n",
              "      flex-wrap:wrap;\n",
              "      gap: 12px;\n",
              "    }\n",
              "\n",
              "    .colab-df-convert {\n",
              "      background-color: #E8F0FE;\n",
              "      border: none;\n",
              "      border-radius: 50%;\n",
              "      cursor: pointer;\n",
              "      display: none;\n",
              "      fill: #1967D2;\n",
              "      height: 32px;\n",
              "      padding: 0 0 0 0;\n",
              "      width: 32px;\n",
              "    }\n",
              "\n",
              "    .colab-df-convert:hover {\n",
              "      background-color: #E2EBFA;\n",
              "      box-shadow: 0px 1px 2px rgba(60, 64, 67, 0.3), 0px 1px 3px 1px rgba(60, 64, 67, 0.15);\n",
              "      fill: #174EA6;\n",
              "    }\n",
              "\n",
              "    [theme=dark] .colab-df-convert {\n",
              "      background-color: #3B4455;\n",
              "      fill: #D2E3FC;\n",
              "    }\n",
              "\n",
              "    [theme=dark] .colab-df-convert:hover {\n",
              "      background-color: #434B5C;\n",
              "      box-shadow: 0px 1px 3px 1px rgba(0, 0, 0, 0.15);\n",
              "      filter: drop-shadow(0px 1px 2px rgba(0, 0, 0, 0.3));\n",
              "      fill: #FFFFFF;\n",
              "    }\n",
              "  </style>\n",
              "\n",
              "      <script>\n",
              "        const buttonEl =\n",
              "          document.querySelector('#df-dd260fa2-be60-4e89-b23e-c550c34f2a6c button.colab-df-convert');\n",
              "        buttonEl.style.display =\n",
              "          google.colab.kernel.accessAllowed ? 'block' : 'none';\n",
              "\n",
              "        async function convertToInteractive(key) {\n",
              "          const element = document.querySelector('#df-dd260fa2-be60-4e89-b23e-c550c34f2a6c');\n",
              "          const dataTable =\n",
              "            await google.colab.kernel.invokeFunction('convertToInteractive',\n",
              "                                                     [key], {});\n",
              "          if (!dataTable) return;\n",
              "\n",
              "          const docLinkHtml = 'Like what you see? Visit the ' +\n",
              "            '<a target=\"_blank\" href=https://colab.research.google.com/notebooks/data_table.ipynb>data table notebook</a>'\n",
              "            + ' to learn more about interactive tables.';\n",
              "          element.innerHTML = '';\n",
              "          dataTable['output_type'] = 'display_data';\n",
              "          await google.colab.output.renderOutput(dataTable, element);\n",
              "          const docLink = document.createElement('div');\n",
              "          docLink.innerHTML = docLinkHtml;\n",
              "          element.appendChild(docLink);\n",
              "        }\n",
              "      </script>\n",
              "    </div>\n",
              "  </div>\n",
              "  "
            ]
          },
          "metadata": {},
          "execution_count": 43
        }
      ]
    },
    {
      "cell_type": "code",
      "source": [
        "df['Age'].isna().sum()"
      ],
      "metadata": {
        "id": "pBgkPp3MKTNV",
        "colab": {
          "base_uri": "https://localhost:8080/"
        },
        "outputId": "3fc19c34-6fe2-48b9-85ac-4ea365f19ed4"
      },
      "execution_count": 44,
      "outputs": [
        {
          "output_type": "execute_result",
          "data": {
            "text/plain": [
              "189"
            ]
          },
          "metadata": {},
          "execution_count": 44
        }
      ]
    },
    {
      "cell_type": "code",
      "source": [
        "(df['Age'].isna().sum() / len(df)) * 100"
      ],
      "metadata": {
        "id": "hrBjF6XGK2cl",
        "colab": {
          "base_uri": "https://localhost:8080/"
        },
        "outputId": "36b946f5-ef99-4a5f-d912-84ca4215df39"
      },
      "execution_count": 45,
      "outputs": [
        {
          "output_type": "execute_result",
          "data": {
            "text/plain": [
              "20.021186440677965"
            ]
          },
          "metadata": {},
          "execution_count": 45
        }
      ]
    },
    {
      "cell_type": "code",
      "source": [
        "df[df['Age'].isna()]['Sex'].value_counts()"
      ],
      "metadata": {
        "id": "JR-gCjnUKyXU",
        "colab": {
          "base_uri": "https://localhost:8080/"
        },
        "outputId": "f592de0c-8938-4677-f0e8-2fd12d82dd7c"
      },
      "execution_count": 46,
      "outputs": [
        {
          "output_type": "execute_result",
          "data": {
            "text/plain": [
              "male      131\n",
              "female     58\n",
              "Name: Sex, dtype: int64"
            ]
          },
          "metadata": {},
          "execution_count": 46
        }
      ]
    },
    {
      "cell_type": "code",
      "source": [
        "# Valores relativos a população da amostra\n",
        "df[df['Age'].isna()]['Sex'].value_counts() / df['Sex'].value_counts()"
      ],
      "metadata": {
        "id": "tooTdZonK7nz",
        "colab": {
          "base_uri": "https://localhost:8080/"
        },
        "outputId": "e4b00f59-1be1-486f-dc9b-24b32ce44017"
      },
      "execution_count": 47,
      "outputs": [
        {
          "output_type": "execute_result",
          "data": {
            "text/plain": [
              "male      0.213703\n",
              "female    0.175227\n",
              "Name: Sex, dtype: float64"
            ]
          },
          "metadata": {},
          "execution_count": 47
        }
      ]
    },
    {
      "cell_type": "code",
      "source": [
        "df[df['Age'].isna()]['Survived'].value_counts() / df['Survived'].value_counts()"
      ],
      "metadata": {
        "id": "NZvSI46WLVFr",
        "colab": {
          "base_uri": "https://localhost:8080/"
        },
        "outputId": "aef57aa1-8e2c-4882-d0a7-da3567bdcb5a"
      },
      "execution_count": 48,
      "outputs": [
        {
          "output_type": "execute_result",
          "data": {
            "text/plain": [
              "0    0.227979\n",
              "1    0.156164\n",
              "Name: Survived, dtype: float64"
            ]
          },
          "metadata": {},
          "execution_count": 48
        }
      ]
    },
    {
      "cell_type": "code",
      "source": [
        "df.groupby('Sex')['Age'].mean()"
      ],
      "metadata": {
        "id": "wbhHcB5ZLtea",
        "colab": {
          "base_uri": "https://localhost:8080/"
        },
        "outputId": "2e6ac37c-4465-48f5-ed67-ecd650b7f299"
      },
      "execution_count": 49,
      "outputs": [
        {
          "output_type": "execute_result",
          "data": {
            "text/plain": [
              "Sex\n",
              "female    28.062271\n",
              "male      30.704710\n",
              "Name: Age, dtype: float64"
            ]
          },
          "metadata": {},
          "execution_count": 49
        }
      ]
    },
    {
      "cell_type": "code",
      "source": [
        "df['Family'] = df['SibSp'] + df['Parch']"
      ],
      "metadata": {
        "id": "GeMgIZdwL65a"
      },
      "execution_count": 50,
      "outputs": []
    },
    {
      "cell_type": "code",
      "source": [
        "df['Family'].describe()"
      ],
      "metadata": {
        "id": "7pwJsUxiL_TU",
        "colab": {
          "base_uri": "https://localhost:8080/"
        },
        "outputId": "140cad45-9331-46b6-a9cf-b42500ffee6e"
      },
      "execution_count": 51,
      "outputs": [
        {
          "output_type": "execute_result",
          "data": {
            "text/plain": [
              "count    944.000000\n",
              "mean       0.908898\n",
              "std        1.647056\n",
              "min        0.000000\n",
              "25%        0.000000\n",
              "50%        0.000000\n",
              "75%        1.000000\n",
              "max       10.000000\n",
              "Name: Family, dtype: float64"
            ]
          },
          "metadata": {},
          "execution_count": 51
        }
      ]
    },
    {
      "cell_type": "code",
      "source": [
        "df['Has_Relatives'] = df['Family'] > 0"
      ],
      "metadata": {
        "id": "cobnNUQEMLAM"
      },
      "execution_count": 52,
      "outputs": []
    },
    {
      "cell_type": "code",
      "source": [
        "df['Has_Relatives'].value_counts()"
      ],
      "metadata": {
        "id": "X0fklqyjMREr",
        "colab": {
          "base_uri": "https://localhost:8080/"
        },
        "outputId": "7b5bc6f6-baba-44cd-c0ef-974b82a4010b"
      },
      "execution_count": 53,
      "outputs": [
        {
          "output_type": "execute_result",
          "data": {
            "text/plain": [
              "False    572\n",
              "True     372\n",
              "Name: Has_Relatives, dtype: int64"
            ]
          },
          "metadata": {},
          "execution_count": 53
        }
      ]
    },
    {
      "cell_type": "code",
      "source": [
        "df.groupby('Has_Relatives')['Age'].mean()"
      ],
      "metadata": {
        "id": "M7wPv4l7MiEe",
        "colab": {
          "base_uri": "https://localhost:8080/"
        },
        "outputId": "a9b81f58-1960-4b30-cee7-be85a84eb82c"
      },
      "execution_count": 54,
      "outputs": [
        {
          "output_type": "execute_result",
          "data": {
            "text/plain": [
              "Has_Relatives\n",
              "False    32.074419\n",
              "True     26.672831\n",
              "Name: Age, dtype: float64"
            ]
          },
          "metadata": {},
          "execution_count": 54
        }
      ]
    },
    {
      "cell_type": "code",
      "source": [
        "df.groupby('Pclass')['Age'].mean()"
      ],
      "metadata": {
        "id": "ndnEvqh1Mstc",
        "colab": {
          "base_uri": "https://localhost:8080/"
        },
        "outputId": "9299a548-d8d1-497a-aed3-1f687ae5c5a9"
      },
      "execution_count": 55,
      "outputs": [
        {
          "output_type": "execute_result",
          "data": {
            "text/plain": [
              "Pclass\n",
              "1.0    38.423509\n",
              "2.0    30.227346\n",
              "3.0    25.234370\n",
              "Name: Age, dtype: float64"
            ]
          },
          "metadata": {},
          "execution_count": 55
        }
      ]
    },
    {
      "cell_type": "markdown",
      "source": [
        "OBS: Identificado a coluna \"Age\" está fortemente relacionada a coluna \"Pclass\"."
      ],
      "metadata": {
        "id": "_XpuNsHUovKU"
      }
    },
    {
      "cell_type": "code",
      "source": [
        "df['Age'] = df['Age'].fillna(df.groupby('Pclass')['Age'].transform('mean'))"
      ],
      "metadata": {
        "id": "nRxgeK8eNOvm"
      },
      "execution_count": 56,
      "outputs": []
    },
    {
      "cell_type": "code",
      "source": [
        "df['Age'].isna().sum()"
      ],
      "metadata": {
        "id": "v0wQGB4mNVhe",
        "colab": {
          "base_uri": "https://localhost:8080/"
        },
        "outputId": "966bbd4d-7d31-4b7a-a261-2420d3e8f5ce"
      },
      "execution_count": 57,
      "outputs": [
        {
          "output_type": "execute_result",
          "data": {
            "text/plain": [
              "19"
            ]
          },
          "metadata": {},
          "execution_count": 57
        }
      ]
    },
    {
      "cell_type": "code",
      "source": [
        "df['Age'] = df['Age'].fillna(df.groupby('Has_Relatives')['Age'].transform('mean'))"
      ],
      "metadata": {
        "id": "G1Kf99XhNY0P"
      },
      "execution_count": 58,
      "outputs": []
    },
    {
      "cell_type": "code",
      "source": [
        "df['Age'].isna().sum()"
      ],
      "metadata": {
        "id": "aApQFb2xNa2A",
        "colab": {
          "base_uri": "https://localhost:8080/"
        },
        "outputId": "e8f0f210-4d1e-4266-8525-8412d3db4723"
      },
      "execution_count": 59,
      "outputs": [
        {
          "output_type": "execute_result",
          "data": {
            "text/plain": [
              "0"
            ]
          },
          "metadata": {},
          "execution_count": 59
        }
      ]
    },
    {
      "cell_type": "code",
      "source": [
        "df['Age'].describe()"
      ],
      "metadata": {
        "id": "mlVsKfkTNb8-",
        "colab": {
          "base_uri": "https://localhost:8080/"
        },
        "outputId": "6ae06aaf-1d05-4f91-915a-c124aba9fa06"
      },
      "execution_count": 60,
      "outputs": [
        {
          "output_type": "execute_result",
          "data": {
            "text/plain": [
              "count    944.000000\n",
              "mean      29.389952\n",
              "std       12.996794\n",
              "min        0.420000\n",
              "25%       22.000000\n",
              "50%       27.000000\n",
              "75%       36.000000\n",
              "max       80.000000\n",
              "Name: Age, dtype: float64"
            ]
          },
          "metadata": {},
          "execution_count": 60
        }
      ]
    },
    {
      "cell_type": "markdown",
      "source": [
        "**Tratando a coluna Pclass**\n",
        "\n",
        "Valores faltantes."
      ],
      "metadata": {
        "id": "jJUbGnt5p-AJ"
      }
    },
    {
      "cell_type": "code",
      "source": [
        "(df['Pclass'].isna().sum() / len(df)) * 100"
      ],
      "metadata": {
        "id": "Cif8BVPvNy--",
        "colab": {
          "base_uri": "https://localhost:8080/"
        },
        "outputId": "04e898f5-b544-4d3d-b85c-712b45813187"
      },
      "execution_count": 61,
      "outputs": [
        {
          "output_type": "execute_result",
          "data": {
            "text/plain": [
              "10.59322033898305"
            ]
          },
          "metadata": {},
          "execution_count": 61
        }
      ]
    },
    {
      "cell_type": "code",
      "source": [
        "df.groupby('Pclass')['Fare'].mean()"
      ],
      "metadata": {
        "id": "YDilcfnCOpta",
        "colab": {
          "base_uri": "https://localhost:8080/"
        },
        "outputId": "ffee1618-d63e-433d-b24e-06413d21ad03"
      },
      "execution_count": 62,
      "outputs": [
        {
          "output_type": "execute_result",
          "data": {
            "text/plain": [
              "Pclass\n",
              "1.0    77.092913\n",
              "2.0    18.065069\n",
              "3.0    12.157590\n",
              "Name: Fare, dtype: float64"
            ]
          },
          "metadata": {},
          "execution_count": 62
        }
      ]
    },
    {
      "cell_type": "code",
      "source": [
        "df.groupby('Pclass')['Fare'].quantile([0.25, 0.75])"
      ],
      "metadata": {
        "id": "Yb9dwiqnraik",
        "colab": {
          "base_uri": "https://localhost:8080/"
        },
        "outputId": "c11ce81f-3fe4-4fa3-812c-5b9cee66db0b"
      },
      "execution_count": 63,
      "outputs": [
        {
          "output_type": "execute_result",
          "data": {
            "text/plain": [
              "Pclass      \n",
              "1.0     0.25    30.000000\n",
              "        0.75    90.539600\n",
              "2.0     0.25    11.500000\n",
              "        0.75    26.000000\n",
              "3.0     0.25     7.732275\n",
              "        0.75    15.136450\n",
              "Name: Fare, dtype: float64"
            ]
          },
          "metadata": {},
          "execution_count": 63
        }
      ]
    },
    {
      "cell_type": "code",
      "source": [
        "def preencher_pclass(row):\n",
        "  if pd.isna(row['Pclass']):\n",
        "    if row['Fare'] < 15:\n",
        "      return 3.0\n",
        "    elif row['Fare'] < 26:\n",
        "      return 2.0\n",
        "    else:\n",
        "      return 1.0\n",
        "  else:\n",
        "    return row['Pclass']"
      ],
      "metadata": {
        "id": "FWguum44ODjg"
      },
      "execution_count": 64,
      "outputs": []
    },
    {
      "cell_type": "code",
      "source": [
        "# Testando função:\n",
        "linha = df[df['Pclass'].isna()].iloc[0]\n",
        "preencher_pclass(linha)"
      ],
      "metadata": {
        "id": "lZtn1FzjPMO2",
        "colab": {
          "base_uri": "https://localhost:8080/"
        },
        "outputId": "dcb990ec-8b7a-4371-c4e4-1526be4592b3"
      },
      "execution_count": 65,
      "outputs": [
        {
          "output_type": "execute_result",
          "data": {
            "text/plain": [
              "1.0"
            ]
          },
          "metadata": {},
          "execution_count": 65
        }
      ]
    },
    {
      "cell_type": "code",
      "source": [
        "df[df['Pclass'].isna()].iloc[0]"
      ],
      "metadata": {
        "id": "zArTYXFSPWga",
        "colab": {
          "base_uri": "https://localhost:8080/"
        },
        "outputId": "f692a143-65a1-49b6-98c3-f8965ac1b3fe"
      },
      "execution_count": 66,
      "outputs": [
        {
          "output_type": "execute_result",
          "data": {
            "text/plain": [
              "PassengerId                              581\n",
              "Survived                                   1\n",
              "Pclass                                   NaN\n",
              "Name             Christy, Miss. Julie Rachel\n",
              "Sex                                   female\n",
              "Age                                     25.0\n",
              "SibSp                                      1\n",
              "Parch                                      1\n",
              "Ticket                                237789\n",
              "Fare                                    30.0\n",
              "Cabin                                    NaN\n",
              "Embarked                              PORT S\n",
              "Family                                     2\n",
              "Has_Relatives                           True\n",
              "Name: 8, dtype: object"
            ]
          },
          "metadata": {},
          "execution_count": 66
        }
      ]
    },
    {
      "cell_type": "code",
      "source": [
        "df['Pclass'] = df.apply(preencher_pclass, axis = 1)"
      ],
      "metadata": {
        "id": "IJZUUzxRPp0U"
      },
      "execution_count": 67,
      "outputs": []
    },
    {
      "cell_type": "code",
      "source": [
        "df['Pclass'].isna().sum()"
      ],
      "metadata": {
        "id": "_fAeqUFlP3jy",
        "colab": {
          "base_uri": "https://localhost:8080/"
        },
        "outputId": "abd2a7ba-305f-4e76-e0ba-5ac8c7ca32d5"
      },
      "execution_count": 68,
      "outputs": [
        {
          "output_type": "execute_result",
          "data": {
            "text/plain": [
              "0"
            ]
          },
          "metadata": {},
          "execution_count": 68
        }
      ]
    },
    {
      "cell_type": "markdown",
      "source": [
        "**Tratando a coluna fare**\n",
        "\n",
        "Valores zerados, negativos e faltantes."
      ],
      "metadata": {
        "id": "7l89Y8aetstp"
      }
    },
    {
      "cell_type": "code",
      "source": [
        "df['Fare']"
      ],
      "metadata": {
        "id": "2qXCmgf9REK8",
        "colab": {
          "base_uri": "https://localhost:8080/"
        },
        "outputId": "8df06a5b-e44e-40b8-cbb9-d27b173df5e1"
      },
      "execution_count": 69,
      "outputs": [
        {
          "output_type": "execute_result",
          "data": {
            "text/plain": [
              "0      -3.123435\n",
              "1      76.729200\n",
              "2      69.550000\n",
              "3      91.079200\n",
              "4       0.000000\n",
              "         ...    \n",
              "939   -27.186775\n",
              "940    13.000000\n",
              "941    30.000000\n",
              "942    23.450000\n",
              "943    30.000000\n",
              "Name: Fare, Length: 944, dtype: float64"
            ]
          },
          "metadata": {},
          "execution_count": 69
        }
      ]
    },
    {
      "cell_type": "code",
      "source": [
        "df['Fare'].isna().sum()"
      ],
      "metadata": {
        "id": "UDaD3cMBRXDU",
        "colab": {
          "base_uri": "https://localhost:8080/"
        },
        "outputId": "7c27422d-77ab-4db5-da41-f79df6652e36"
      },
      "execution_count": 70,
      "outputs": [
        {
          "output_type": "execute_result",
          "data": {
            "text/plain": [
              "14"
            ]
          },
          "metadata": {},
          "execution_count": 70
        }
      ]
    },
    {
      "cell_type": "code",
      "source": [
        "(df['Fare'] <= 0).sum()"
      ],
      "metadata": {
        "id": "Lu8oe01ERcMO",
        "colab": {
          "base_uri": "https://localhost:8080/"
        },
        "outputId": "1f7cc11b-e2a8-4d5f-e5f3-5f2361110de4"
      },
      "execution_count": 71,
      "outputs": [
        {
          "output_type": "execute_result",
          "data": {
            "text/plain": [
              "76"
            ]
          },
          "metadata": {},
          "execution_count": 71
        }
      ]
    },
    {
      "cell_type": "code",
      "source": [
        "df['Fare'] = np.where(df['Fare'] <= 0, np.nan, df['Fare'])"
      ],
      "metadata": {
        "id": "x1xshK0lR_8C"
      },
      "execution_count": 72,
      "outputs": []
    },
    {
      "cell_type": "code",
      "source": [
        "df['Fare'].isna().sum()"
      ],
      "metadata": {
        "id": "v_DpWT3wS_to",
        "colab": {
          "base_uri": "https://localhost:8080/"
        },
        "outputId": "2b245d9b-a9cb-4bb4-cabe-111175d5523a"
      },
      "execution_count": 73,
      "outputs": [
        {
          "output_type": "execute_result",
          "data": {
            "text/plain": [
              "90"
            ]
          },
          "metadata": {},
          "execution_count": 73
        }
      ]
    },
    {
      "cell_type": "code",
      "source": [
        "# Vimos anteriormente que o Pclass afeta muito a nossa coluna Fare\n",
        "df['Fare'].fillna(df.groupby('Pclass')['Fare'].transform('mean'), inplace = True)"
      ],
      "metadata": {
        "id": "P-MAvei2TEOV"
      },
      "execution_count": 74,
      "outputs": []
    },
    {
      "cell_type": "code",
      "source": [
        "df['Fare'].isna().sum()"
      ],
      "metadata": {
        "id": "QkirInsrTTuu",
        "colab": {
          "base_uri": "https://localhost:8080/"
        },
        "outputId": "a4213ce6-9235-499d-8954-a9d0cecc8d32"
      },
      "execution_count": 75,
      "outputs": [
        {
          "output_type": "execute_result",
          "data": {
            "text/plain": [
              "0"
            ]
          },
          "metadata": {},
          "execution_count": 75
        }
      ]
    },
    {
      "cell_type": "code",
      "source": [
        "(df['Fare'] == 0).sum()"
      ],
      "metadata": {
        "id": "tEFt-GefTan1",
        "colab": {
          "base_uri": "https://localhost:8080/"
        },
        "outputId": "7221028d-012c-43d8-fe51-d36607b8e186"
      },
      "execution_count": 76,
      "outputs": [
        {
          "output_type": "execute_result",
          "data": {
            "text/plain": [
              "0"
            ]
          },
          "metadata": {},
          "execution_count": 76
        }
      ]
    },
    {
      "cell_type": "code",
      "source": [
        "df['Fare'].quantile(np.linspace(0, 1, 11))"
      ],
      "metadata": {
        "id": "LId6r-dTTxl_",
        "colab": {
          "base_uri": "https://localhost:8080/"
        },
        "outputId": "48f5ce89-92cb-43e6-f940-0694dbee4f4f"
      },
      "execution_count": 77,
      "outputs": [
        {
          "output_type": "execute_result",
          "data": {
            "text/plain": [
              "0.0      4.01250\n",
              "0.1      7.75000\n",
              "0.2      7.89580\n",
              "0.3      8.66250\n",
              "0.4     13.00000\n",
              "0.5     14.45420\n",
              "0.6     20.80607\n",
              "0.7     26.55000\n",
              "0.8     41.90752\n",
              "0.9     79.65000\n",
              "1.0    512.32920\n",
              "Name: Fare, dtype: float64"
            ]
          },
          "metadata": {},
          "execution_count": 77
        }
      ]
    },
    {
      "cell_type": "code",
      "source": [
        "df['Fare'].mean()"
      ],
      "metadata": {
        "id": "APgI52ANT0x3",
        "colab": {
          "base_uri": "https://localhost:8080/"
        },
        "outputId": "a0b8c5b8-0dba-430d-8d80-3c662f34c89e"
      },
      "execution_count": 78,
      "outputs": [
        {
          "output_type": "execute_result",
          "data": {
            "text/plain": [
              "32.561701167038336"
            ]
          },
          "metadata": {},
          "execution_count": 78
        }
      ]
    },
    {
      "cell_type": "markdown",
      "source": [
        "## Analisar probabilidade de sobrevivência por grupos"
      ],
      "metadata": {
        "id": "Nnoyprff18Ds"
      }
    },
    {
      "cell_type": "markdown",
      "source": [
        "**Hipótese 1: Há mais mulheres que sobreviveram do que homens.**"
      ],
      "metadata": {
        "id": "d4xiccyTDb7_"
      }
    },
    {
      "cell_type": "code",
      "source": [
        "df['Survived'].mean()"
      ],
      "metadata": {
        "id": "1qclvzArUSTw",
        "colab": {
          "base_uri": "https://localhost:8080/"
        },
        "outputId": "5e7d447c-8765-47c0-c75b-cc19d27c4f5c"
      },
      "execution_count": 79,
      "outputs": [
        {
          "output_type": "execute_result",
          "data": {
            "text/plain": [
              "0.3866525423728814"
            ]
          },
          "metadata": {},
          "execution_count": 79
        }
      ]
    },
    {
      "cell_type": "code",
      "source": [
        "df.groupby('Sex')['Survived'].mean()"
      ],
      "metadata": {
        "id": "1pxoqXY9Uf83",
        "colab": {
          "base_uri": "https://localhost:8080/"
        },
        "outputId": "bc26a800-5c42-4df6-f496-d4282d04694c"
      },
      "execution_count": 83,
      "outputs": [
        {
          "output_type": "execute_result",
          "data": {
            "text/plain": [
              "Sex\n",
              "female    0.744548\n",
              "male      0.189831\n",
              "Name: Survived, dtype: float64"
            ]
          },
          "metadata": {},
          "execution_count": 83
        }
      ]
    },
    {
      "cell_type": "markdown",
      "source": [
        "**Conclusão:**\n",
        "\n",
        "Aproximadamente 38% das pessoas que estavam no Titanic sobreviveram e podemos concluir que 74% dessa porcentagem eram mulheres, comprovando que a nossa hipótese é <u>verdadeira</u>."
      ],
      "metadata": {
        "id": "asC_UxQTA6Dh"
      }
    },
    {
      "cell_type": "markdown",
      "source": [
        "**Hipótese 2: Pessoas de classes maiores tendem a sobreviver mais.**"
      ],
      "metadata": {
        "id": "3avBGdNXDpKg"
      }
    },
    {
      "cell_type": "code",
      "source": [
        "df.groupby('Pclass')['Survived'].mean()"
      ],
      "metadata": {
        "colab": {
          "base_uri": "https://localhost:8080/"
        },
        "id": "QtX3dTyzDv94",
        "outputId": "3750c2fc-b66f-40c6-bc8f-7bae89368e2b"
      },
      "execution_count": 91,
      "outputs": [
        {
          "output_type": "execute_result",
          "data": {
            "text/plain": [
              "Pclass\n",
              "1.0    0.608696\n",
              "2.0    0.463277\n",
              "3.0    0.255952\n",
              "Name: Survived, dtype: float64"
            ]
          },
          "metadata": {},
          "execution_count": 91
        }
      ]
    },
    {
      "cell_type": "markdown",
      "source": [
        "**Conclusão:**\n",
        "\n",
        "Da nossa taxa de 38% de sobrevivência, aproximadamente:\n",
        "\n",
        "60% = 1º classe;\n",
        "\n",
        "46% = 2º classe;\n",
        "\n",
        "23% = 3º classe.\n",
        "\n",
        "Mostrando que a nossa hipótese é <u>verdadeira</u>, pois quando maior a classe, maior a taxa de sobrevivẽncia."
      ],
      "metadata": {
        "id": "TKgRHfPOEEu8"
      }
    },
    {
      "cell_type": "markdown",
      "source": [
        "**Hipótese 3: Pessoas com familiares no návio, possue uma taxa de  sobrevivência maior.**"
      ],
      "metadata": {
        "id": "G0mtlfN1E8Yw"
      }
    },
    {
      "cell_type": "code",
      "source": [
        "df.groupby('Has_Relatives')['Survived'].mean()"
      ],
      "metadata": {
        "colab": {
          "base_uri": "https://localhost:8080/"
        },
        "id": "pvwtIdW3GxTo",
        "outputId": "dc84fd07-7e58-4fd1-ddff-afd667b0aa7b"
      },
      "execution_count": 99,
      "outputs": [
        {
          "output_type": "execute_result",
          "data": {
            "text/plain": [
              "Has_Relatives\n",
              "False    0.304348\n",
              "True     0.509749\n",
              "Name: Survived, dtype: float64"
            ]
          },
          "metadata": {},
          "execution_count": 99
        }
      ]
    },
    {
      "cell_type": "markdown",
      "source": [
        "**Conclusão:**\n",
        "\n",
        "Nossa hipótese é <u>verdadeira</u>, pois da nossa taxa de sobrevivência das pessoas que tem parentes é de 20% a mais."
      ],
      "metadata": {
        "id": "67pAse6VFTyI"
      }
    }
  ]
}