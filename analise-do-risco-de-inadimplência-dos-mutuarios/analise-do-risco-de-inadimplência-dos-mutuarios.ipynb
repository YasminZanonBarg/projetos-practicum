{
  "cells": [
    {
      "cell_type": "markdown",
      "metadata": {
        "id": "iz7npGUjefw3"
      },
      "source": [
        "# ✨ <u>Projeto Sprint 2</u>\n",
        "\n",
        "<br>\n",
        "\n",
        "\n",
        "# <i>Análise do Risco de Inadimplência dos Mutuários</i>\n",
        "\n",
        "O objetivo desse projeto é preparar um **relatório para a divisão de empréstimos de um banco**. Onde será necessário descobrir se o estado civil de um cliente e o número de filhos têm impacto sobre se ele deixará de pagar um empréstimo. O banco já tem alguns dados sobre a capacidade de crédito dos clientes e esses dados estão no arquivo CSV \"credit_scoring_eng\".\n",
        "\n",
        "Seu relatório será considerado ao criar uma **pontuação de crédito** de um cliente em potencial. Lembrando que a  contagem de crédito é usada para avaliar a capacidade de um devedor em potencial de pagar seu empréstimo.\n",
        "\n",
        "<br>\n",
        "\n",
        "**<u>Hipóteses a serem testadas:</u>**\n",
        "- Existe alguma relação entre ter filhos e pagar um empréstimo em dia?\n",
        "- Existe alguma relação entre o estado civil e o pagamento de um empréstimo no prazo estipulado?\n",
        "- Existe uma relação entre o nível de renda e o pagamento de um empréstimo no prazo?\n",
        "- Como as diferentes finalidades do empréstimo afetam o pagamento pontual do empréstimo?\n",
        "\n",
        "<br>\n",
        "\n",
        "**Desenvolvido por: Yasmin Zanon Barg.**"
      ]
    },
    {
      "cell_type": "markdown",
      "metadata": {
        "id": "_FMBpoyZefw3"
      },
      "source": [
        "---"
      ]
    },
    {
      "cell_type": "markdown",
      "metadata": {
        "id": "yQC83FBAefw4"
      },
      "source": [
        "# Conteúdo <a id='back'></a>\n",
        "\n",
        "* [Etapa 1. Visão Geral dos Dados](#data_review)\n",
        "    * [1.1 Overview do Dataframe](#data_review_overview)\n",
        "    * [1.2 Conhecendo os Dados das Colunas do Dataframe](#data_review_columns)\n",
        "    * [1.3 Examinando os Valores Faltantes](#data_review_valores_faltantes)\n",
        "    * [1.4 Conclusões](#data_review_conclusions)\n",
        "* [Etapa 2. Pré-Processamento de Dados](#data_preprocessing)\n",
        "    * [2.1 Ajustando Valores das Colunas](#ajustando_valores)\n",
        "    * [2.2 Duplicatas](#duplicates)\n",
        "    * [2.3 Valores Ausentes](#missing_values)\n",
        "    * [2.4 Conclusões](#data_preprocessing_conclusions)\n",
        "* [Etapa 3. Categorizando Dados](#categorizando_dados)\n",
        "    * [3.1 Coletando Dados Para a Hipótese 1](#dados_filhos)\n",
        "    * [3.2 Coletando Dados Para a Hipótese 2](#dados_estado_civil)\n",
        "    * [3.3 Coletando Dados Para a Hipótese 3](#dados_renda)\n",
        "    * [3.4 Coletando Dados Para a Hipótese 4](#dados_finalidades)\n",
        "* [Etapa 4. Validando Hipóteses](#hypotheses)\n",
        "    * [4.1 Hipótese 1: Existe Alguma Relação Entre ter Filhos e Pagar um Empréstimo em dia?](#filhos)\n",
        "    * [4.2 Hipótese 2: Existe Alguma Relação Entre o Estado Civil e o Pagamento de um Empréstimo no prazo Estipulado?](#estado_civil)\n",
        "    * [4.3 Hipótese 3: Existe Uma Relação Entre o Nível de Renda e o Pagamento de um Empréstimo no Prazo?](#renda)\n",
        "    * [4.4 Hipótese 4: Como as Diferentes Finalidades do Empréstimo Afetam o Pagamento Pontual do Empréstimo?](#finalidades)\n",
        "* [Conclusão Final](#end)"
      ]
    },
    {
      "cell_type": "markdown",
      "metadata": {
        "id": "o5XXVOdoefw5"
      },
      "source": [
        "---"
      ]
    },
    {
      "cell_type": "markdown",
      "metadata": {
        "id": "6Tv-H-xyefw5"
      },
      "source": [
        "## Etapa. Visão Geral do Dados <a id='data_review'></a>"
      ]
    },
    {
      "cell_type": "markdown",
      "metadata": {
        "id": "MbBedIa2efw5"
      },
      "source": [
        "Essa fase tem o próposito de explorar os dados entregues e nos familiarizar com eles para podermos seguir com as próximas etapas das analises."
      ]
    },
    {
      "cell_type": "markdown",
      "metadata": {
        "id": "KaJXI0ATefw6"
      },
      "source": [
        "### Overview do Dataframe <a id='data_review_overview'></a>"
      ]
    },
    {
      "cell_type": "code",
      "execution_count": 9,
      "metadata": {
        "id": "PayOaaoZefw6"
      },
      "outputs": [],
      "source": [
        "# Primeiramente é necessário importar as bibliotecas necessárias\n",
        "import pandas as pd \n",
        "\n",
        "\n",
        "# Carregando os dados\n",
        "credit_scoring = pd.read_csv('credit_scoring_eng.csv')"
      ]
    },
    {
      "cell_type": "markdown",
      "metadata": {
        "id": "GGLwLdgSefw7"
      },
      "source": [
        "**Descrição dos dados**\n",
        "- `children` - o número de crianças na família\n",
        "- `days_employed` - experiência de trabalho em dias\n",
        "- `dob_years` - idade do cliente em anos\n",
        "- `education` - educação do cliente\n",
        "- `education_id` - identificador de educação\n",
        "- `family_status` - estado civil do cliente\n",
        "- `family_status_id` - identificador de estado civil\n",
        "- `gender` - gênero do cliente\n",
        "- `income_type` - tipo de emprego\n",
        "- `debt` - havia alguma dívida no pagamento do empréstimo\n",
        "- `total_income` - renda mensal\n",
        "- `purpose` - o objetivo de obter um empréstimo"
      ]
    },
    {
      "cell_type": "markdown",
      "metadata": {
        "id": "u0lmZFSXefw8"
      },
      "source": [
        "**Agora utilizaremos as funções: `info()`, `head()` e `describe()` para explorar e nos familiarizar ainda mais com os dados que estão no dataframe credit_scoring**"
      ]
    },
    {
      "cell_type": "code",
      "execution_count": 10,
      "metadata": {
        "colab": {
          "base_uri": "https://localhost:8080/"
        },
        "id": "KoPJFH8Qefw8",
        "outputId": "42802539-d5a8-4864-afc9-6447c5e7282e"
      },
      "outputs": [
        {
          "output_type": "stream",
          "name": "stdout",
          "text": [
            "<class 'pandas.core.frame.DataFrame'>\n",
            "RangeIndex: 21525 entries, 0 to 21524\n",
            "Data columns (total 12 columns):\n",
            " #   Column            Non-Null Count  Dtype  \n",
            "---  ------            --------------  -----  \n",
            " 0   children          21525 non-null  int64  \n",
            " 1   days_employed     19351 non-null  float64\n",
            " 2   dob_years         21525 non-null  int64  \n",
            " 3   education         21525 non-null  object \n",
            " 4   education_id      21525 non-null  int64  \n",
            " 5   family_status     21525 non-null  object \n",
            " 6   family_status_id  21525 non-null  int64  \n",
            " 7   gender            21525 non-null  object \n",
            " 8   income_type       21525 non-null  object \n",
            " 9   debt              21525 non-null  int64  \n",
            " 10  total_income      19351 non-null  float64\n",
            " 11  purpose           21525 non-null  object \n",
            "dtypes: float64(2), int64(5), object(5)\n",
            "memory usage: 2.0+ MB\n"
          ]
        }
      ],
      "source": [
        "# Vamos ver quantas linhas e colunas nosso conjunto de dados tem\n",
        "credit_scoring.info()"
      ]
    },
    {
      "cell_type": "code",
      "execution_count": 11,
      "metadata": {
        "scrolled": false,
        "colab": {
          "base_uri": "https://localhost:8080/",
          "height": 357
        },
        "id": "896z08RWefw9",
        "outputId": "ae89f396-7853-4e77-94de-2bb9dff5d42a"
      },
      "outputs": [
        {
          "output_type": "execute_result",
          "data": {
            "text/plain": [
              "   children  days_employed  dob_years            education  education_id  \\\n",
              "0         1   -8437.673028         42    bachelor's degree             0   \n",
              "1         1   -4024.803754         36  secondary education             1   \n",
              "2         0   -5623.422610         33  Secondary Education             1   \n",
              "3         3   -4124.747207         32  secondary education             1   \n",
              "4         0  340266.072047         53  secondary education             1   \n",
              "\n",
              "       family_status  family_status_id gender income_type  debt  total_income  \\\n",
              "0            married                 0      F    employee     0     40620.102   \n",
              "1            married                 0      F    employee     0     17932.802   \n",
              "2            married                 0      M    employee     0     23341.752   \n",
              "3            married                 0      M    employee     0     42820.568   \n",
              "4  civil partnership                 1      F     retiree     0     25378.572   \n",
              "\n",
              "                   purpose  \n",
              "0    purchase of the house  \n",
              "1             car purchase  \n",
              "2    purchase of the house  \n",
              "3  supplementary education  \n",
              "4        to have a wedding  "
            ],
            "text/html": [
              "\n",
              "  <div id=\"df-68ce0f82-09c1-4550-8adc-f069183f3677\">\n",
              "    <div class=\"colab-df-container\">\n",
              "      <div>\n",
              "<style scoped>\n",
              "    .dataframe tbody tr th:only-of-type {\n",
              "        vertical-align: middle;\n",
              "    }\n",
              "\n",
              "    .dataframe tbody tr th {\n",
              "        vertical-align: top;\n",
              "    }\n",
              "\n",
              "    .dataframe thead th {\n",
              "        text-align: right;\n",
              "    }\n",
              "</style>\n",
              "<table border=\"1\" class=\"dataframe\">\n",
              "  <thead>\n",
              "    <tr style=\"text-align: right;\">\n",
              "      <th></th>\n",
              "      <th>children</th>\n",
              "      <th>days_employed</th>\n",
              "      <th>dob_years</th>\n",
              "      <th>education</th>\n",
              "      <th>education_id</th>\n",
              "      <th>family_status</th>\n",
              "      <th>family_status_id</th>\n",
              "      <th>gender</th>\n",
              "      <th>income_type</th>\n",
              "      <th>debt</th>\n",
              "      <th>total_income</th>\n",
              "      <th>purpose</th>\n",
              "    </tr>\n",
              "  </thead>\n",
              "  <tbody>\n",
              "    <tr>\n",
              "      <th>0</th>\n",
              "      <td>1</td>\n",
              "      <td>-8437.673028</td>\n",
              "      <td>42</td>\n",
              "      <td>bachelor's degree</td>\n",
              "      <td>0</td>\n",
              "      <td>married</td>\n",
              "      <td>0</td>\n",
              "      <td>F</td>\n",
              "      <td>employee</td>\n",
              "      <td>0</td>\n",
              "      <td>40620.102</td>\n",
              "      <td>purchase of the house</td>\n",
              "    </tr>\n",
              "    <tr>\n",
              "      <th>1</th>\n",
              "      <td>1</td>\n",
              "      <td>-4024.803754</td>\n",
              "      <td>36</td>\n",
              "      <td>secondary education</td>\n",
              "      <td>1</td>\n",
              "      <td>married</td>\n",
              "      <td>0</td>\n",
              "      <td>F</td>\n",
              "      <td>employee</td>\n",
              "      <td>0</td>\n",
              "      <td>17932.802</td>\n",
              "      <td>car purchase</td>\n",
              "    </tr>\n",
              "    <tr>\n",
              "      <th>2</th>\n",
              "      <td>0</td>\n",
              "      <td>-5623.422610</td>\n",
              "      <td>33</td>\n",
              "      <td>Secondary Education</td>\n",
              "      <td>1</td>\n",
              "      <td>married</td>\n",
              "      <td>0</td>\n",
              "      <td>M</td>\n",
              "      <td>employee</td>\n",
              "      <td>0</td>\n",
              "      <td>23341.752</td>\n",
              "      <td>purchase of the house</td>\n",
              "    </tr>\n",
              "    <tr>\n",
              "      <th>3</th>\n",
              "      <td>3</td>\n",
              "      <td>-4124.747207</td>\n",
              "      <td>32</td>\n",
              "      <td>secondary education</td>\n",
              "      <td>1</td>\n",
              "      <td>married</td>\n",
              "      <td>0</td>\n",
              "      <td>M</td>\n",
              "      <td>employee</td>\n",
              "      <td>0</td>\n",
              "      <td>42820.568</td>\n",
              "      <td>supplementary education</td>\n",
              "    </tr>\n",
              "    <tr>\n",
              "      <th>4</th>\n",
              "      <td>0</td>\n",
              "      <td>340266.072047</td>\n",
              "      <td>53</td>\n",
              "      <td>secondary education</td>\n",
              "      <td>1</td>\n",
              "      <td>civil partnership</td>\n",
              "      <td>1</td>\n",
              "      <td>F</td>\n",
              "      <td>retiree</td>\n",
              "      <td>0</td>\n",
              "      <td>25378.572</td>\n",
              "      <td>to have a wedding</td>\n",
              "    </tr>\n",
              "  </tbody>\n",
              "</table>\n",
              "</div>\n",
              "      <button class=\"colab-df-convert\" onclick=\"convertToInteractive('df-68ce0f82-09c1-4550-8adc-f069183f3677')\"\n",
              "              title=\"Convert this dataframe to an interactive table.\"\n",
              "              style=\"display:none;\">\n",
              "        \n",
              "  <svg xmlns=\"http://www.w3.org/2000/svg\" height=\"24px\"viewBox=\"0 0 24 24\"\n",
              "       width=\"24px\">\n",
              "    <path d=\"M0 0h24v24H0V0z\" fill=\"none\"/>\n",
              "    <path d=\"M18.56 5.44l.94 2.06.94-2.06 2.06-.94-2.06-.94-.94-2.06-.94 2.06-2.06.94zm-11 1L8.5 8.5l.94-2.06 2.06-.94-2.06-.94L8.5 2.5l-.94 2.06-2.06.94zm10 10l.94 2.06.94-2.06 2.06-.94-2.06-.94-.94-2.06-.94 2.06-2.06.94z\"/><path d=\"M17.41 7.96l-1.37-1.37c-.4-.4-.92-.59-1.43-.59-.52 0-1.04.2-1.43.59L10.3 9.45l-7.72 7.72c-.78.78-.78 2.05 0 2.83L4 21.41c.39.39.9.59 1.41.59.51 0 1.02-.2 1.41-.59l7.78-7.78 2.81-2.81c.8-.78.8-2.07 0-2.86zM5.41 20L4 18.59l7.72-7.72 1.47 1.35L5.41 20z\"/>\n",
              "  </svg>\n",
              "      </button>\n",
              "      \n",
              "  <style>\n",
              "    .colab-df-container {\n",
              "      display:flex;\n",
              "      flex-wrap:wrap;\n",
              "      gap: 12px;\n",
              "    }\n",
              "\n",
              "    .colab-df-convert {\n",
              "      background-color: #E8F0FE;\n",
              "      border: none;\n",
              "      border-radius: 50%;\n",
              "      cursor: pointer;\n",
              "      display: none;\n",
              "      fill: #1967D2;\n",
              "      height: 32px;\n",
              "      padding: 0 0 0 0;\n",
              "      width: 32px;\n",
              "    }\n",
              "\n",
              "    .colab-df-convert:hover {\n",
              "      background-color: #E2EBFA;\n",
              "      box-shadow: 0px 1px 2px rgba(60, 64, 67, 0.3), 0px 1px 3px 1px rgba(60, 64, 67, 0.15);\n",
              "      fill: #174EA6;\n",
              "    }\n",
              "\n",
              "    [theme=dark] .colab-df-convert {\n",
              "      background-color: #3B4455;\n",
              "      fill: #D2E3FC;\n",
              "    }\n",
              "\n",
              "    [theme=dark] .colab-df-convert:hover {\n",
              "      background-color: #434B5C;\n",
              "      box-shadow: 0px 1px 3px 1px rgba(0, 0, 0, 0.15);\n",
              "      filter: drop-shadow(0px 1px 2px rgba(0, 0, 0, 0.3));\n",
              "      fill: #FFFFFF;\n",
              "    }\n",
              "  </style>\n",
              "\n",
              "      <script>\n",
              "        const buttonEl =\n",
              "          document.querySelector('#df-68ce0f82-09c1-4550-8adc-f069183f3677 button.colab-df-convert');\n",
              "        buttonEl.style.display =\n",
              "          google.colab.kernel.accessAllowed ? 'block' : 'none';\n",
              "\n",
              "        async function convertToInteractive(key) {\n",
              "          const element = document.querySelector('#df-68ce0f82-09c1-4550-8adc-f069183f3677');\n",
              "          const dataTable =\n",
              "            await google.colab.kernel.invokeFunction('convertToInteractive',\n",
              "                                                     [key], {});\n",
              "          if (!dataTable) return;\n",
              "\n",
              "          const docLinkHtml = 'Like what you see? Visit the ' +\n",
              "            '<a target=\"_blank\" href=https://colab.research.google.com/notebooks/data_table.ipynb>data table notebook</a>'\n",
              "            + ' to learn more about interactive tables.';\n",
              "          element.innerHTML = '';\n",
              "          dataTable['output_type'] = 'display_data';\n",
              "          await google.colab.output.renderOutput(dataTable, element);\n",
              "          const docLink = document.createElement('div');\n",
              "          docLink.innerHTML = docLinkHtml;\n",
              "          element.appendChild(docLink);\n",
              "        }\n",
              "      </script>\n",
              "    </div>\n",
              "  </div>\n",
              "  "
            ]
          },
          "metadata": {},
          "execution_count": 11
        }
      ],
      "source": [
        "# vamos exibir as primeiras linhas\n",
        "credit_scoring.head()"
      ]
    },
    {
      "cell_type": "code",
      "execution_count": 12,
      "metadata": {
        "colab": {
          "base_uri": "https://localhost:8080/",
          "height": 344
        },
        "id": "wfAOWO3Hefw-",
        "outputId": "7180898b-1539-431c-dada-e7a20b8c10cb"
      },
      "outputs": [
        {
          "output_type": "execute_result",
          "data": {
            "text/plain": [
              "           children  days_employed     dob_years  education_id  \\\n",
              "count  21525.000000   19351.000000  21525.000000  21525.000000   \n",
              "mean       0.538908   63046.497661     43.293380      0.817236   \n",
              "std        1.381587  140827.311974     12.574584      0.548138   \n",
              "min       -1.000000  -18388.949901      0.000000      0.000000   \n",
              "25%        0.000000   -2747.423625     33.000000      1.000000   \n",
              "50%        0.000000   -1203.369529     42.000000      1.000000   \n",
              "75%        1.000000    -291.095954     53.000000      1.000000   \n",
              "max       20.000000  401755.400475     75.000000      4.000000   \n",
              "\n",
              "       family_status_id          debt   total_income  \n",
              "count      21525.000000  21525.000000   19351.000000  \n",
              "mean           0.972544      0.080883   26787.568355  \n",
              "std            1.420324      0.272661   16475.450632  \n",
              "min            0.000000      0.000000    3306.762000  \n",
              "25%            0.000000      0.000000   16488.504500  \n",
              "50%            0.000000      0.000000   23202.870000  \n",
              "75%            1.000000      0.000000   32549.611000  \n",
              "max            4.000000      1.000000  362496.645000  "
            ],
            "text/html": [
              "\n",
              "  <div id=\"df-951ae56a-6be1-440b-bf04-281c41f2490d\">\n",
              "    <div class=\"colab-df-container\">\n",
              "      <div>\n",
              "<style scoped>\n",
              "    .dataframe tbody tr th:only-of-type {\n",
              "        vertical-align: middle;\n",
              "    }\n",
              "\n",
              "    .dataframe tbody tr th {\n",
              "        vertical-align: top;\n",
              "    }\n",
              "\n",
              "    .dataframe thead th {\n",
              "        text-align: right;\n",
              "    }\n",
              "</style>\n",
              "<table border=\"1\" class=\"dataframe\">\n",
              "  <thead>\n",
              "    <tr style=\"text-align: right;\">\n",
              "      <th></th>\n",
              "      <th>children</th>\n",
              "      <th>days_employed</th>\n",
              "      <th>dob_years</th>\n",
              "      <th>education_id</th>\n",
              "      <th>family_status_id</th>\n",
              "      <th>debt</th>\n",
              "      <th>total_income</th>\n",
              "    </tr>\n",
              "  </thead>\n",
              "  <tbody>\n",
              "    <tr>\n",
              "      <th>count</th>\n",
              "      <td>21525.000000</td>\n",
              "      <td>19351.000000</td>\n",
              "      <td>21525.000000</td>\n",
              "      <td>21525.000000</td>\n",
              "      <td>21525.000000</td>\n",
              "      <td>21525.000000</td>\n",
              "      <td>19351.000000</td>\n",
              "    </tr>\n",
              "    <tr>\n",
              "      <th>mean</th>\n",
              "      <td>0.538908</td>\n",
              "      <td>63046.497661</td>\n",
              "      <td>43.293380</td>\n",
              "      <td>0.817236</td>\n",
              "      <td>0.972544</td>\n",
              "      <td>0.080883</td>\n",
              "      <td>26787.568355</td>\n",
              "    </tr>\n",
              "    <tr>\n",
              "      <th>std</th>\n",
              "      <td>1.381587</td>\n",
              "      <td>140827.311974</td>\n",
              "      <td>12.574584</td>\n",
              "      <td>0.548138</td>\n",
              "      <td>1.420324</td>\n",
              "      <td>0.272661</td>\n",
              "      <td>16475.450632</td>\n",
              "    </tr>\n",
              "    <tr>\n",
              "      <th>min</th>\n",
              "      <td>-1.000000</td>\n",
              "      <td>-18388.949901</td>\n",
              "      <td>0.000000</td>\n",
              "      <td>0.000000</td>\n",
              "      <td>0.000000</td>\n",
              "      <td>0.000000</td>\n",
              "      <td>3306.762000</td>\n",
              "    </tr>\n",
              "    <tr>\n",
              "      <th>25%</th>\n",
              "      <td>0.000000</td>\n",
              "      <td>-2747.423625</td>\n",
              "      <td>33.000000</td>\n",
              "      <td>1.000000</td>\n",
              "      <td>0.000000</td>\n",
              "      <td>0.000000</td>\n",
              "      <td>16488.504500</td>\n",
              "    </tr>\n",
              "    <tr>\n",
              "      <th>50%</th>\n",
              "      <td>0.000000</td>\n",
              "      <td>-1203.369529</td>\n",
              "      <td>42.000000</td>\n",
              "      <td>1.000000</td>\n",
              "      <td>0.000000</td>\n",
              "      <td>0.000000</td>\n",
              "      <td>23202.870000</td>\n",
              "    </tr>\n",
              "    <tr>\n",
              "      <th>75%</th>\n",
              "      <td>1.000000</td>\n",
              "      <td>-291.095954</td>\n",
              "      <td>53.000000</td>\n",
              "      <td>1.000000</td>\n",
              "      <td>1.000000</td>\n",
              "      <td>0.000000</td>\n",
              "      <td>32549.611000</td>\n",
              "    </tr>\n",
              "    <tr>\n",
              "      <th>max</th>\n",
              "      <td>20.000000</td>\n",
              "      <td>401755.400475</td>\n",
              "      <td>75.000000</td>\n",
              "      <td>4.000000</td>\n",
              "      <td>4.000000</td>\n",
              "      <td>1.000000</td>\n",
              "      <td>362496.645000</td>\n",
              "    </tr>\n",
              "  </tbody>\n",
              "</table>\n",
              "</div>\n",
              "      <button class=\"colab-df-convert\" onclick=\"convertToInteractive('df-951ae56a-6be1-440b-bf04-281c41f2490d')\"\n",
              "              title=\"Convert this dataframe to an interactive table.\"\n",
              "              style=\"display:none;\">\n",
              "        \n",
              "  <svg xmlns=\"http://www.w3.org/2000/svg\" height=\"24px\"viewBox=\"0 0 24 24\"\n",
              "       width=\"24px\">\n",
              "    <path d=\"M0 0h24v24H0V0z\" fill=\"none\"/>\n",
              "    <path d=\"M18.56 5.44l.94 2.06.94-2.06 2.06-.94-2.06-.94-.94-2.06-.94 2.06-2.06.94zm-11 1L8.5 8.5l.94-2.06 2.06-.94-2.06-.94L8.5 2.5l-.94 2.06-2.06.94zm10 10l.94 2.06.94-2.06 2.06-.94-2.06-.94-.94-2.06-.94 2.06-2.06.94z\"/><path d=\"M17.41 7.96l-1.37-1.37c-.4-.4-.92-.59-1.43-.59-.52 0-1.04.2-1.43.59L10.3 9.45l-7.72 7.72c-.78.78-.78 2.05 0 2.83L4 21.41c.39.39.9.59 1.41.59.51 0 1.02-.2 1.41-.59l7.78-7.78 2.81-2.81c.8-.78.8-2.07 0-2.86zM5.41 20L4 18.59l7.72-7.72 1.47 1.35L5.41 20z\"/>\n",
              "  </svg>\n",
              "      </button>\n",
              "      \n",
              "  <style>\n",
              "    .colab-df-container {\n",
              "      display:flex;\n",
              "      flex-wrap:wrap;\n",
              "      gap: 12px;\n",
              "    }\n",
              "\n",
              "    .colab-df-convert {\n",
              "      background-color: #E8F0FE;\n",
              "      border: none;\n",
              "      border-radius: 50%;\n",
              "      cursor: pointer;\n",
              "      display: none;\n",
              "      fill: #1967D2;\n",
              "      height: 32px;\n",
              "      padding: 0 0 0 0;\n",
              "      width: 32px;\n",
              "    }\n",
              "\n",
              "    .colab-df-convert:hover {\n",
              "      background-color: #E2EBFA;\n",
              "      box-shadow: 0px 1px 2px rgba(60, 64, 67, 0.3), 0px 1px 3px 1px rgba(60, 64, 67, 0.15);\n",
              "      fill: #174EA6;\n",
              "    }\n",
              "\n",
              "    [theme=dark] .colab-df-convert {\n",
              "      background-color: #3B4455;\n",
              "      fill: #D2E3FC;\n",
              "    }\n",
              "\n",
              "    [theme=dark] .colab-df-convert:hover {\n",
              "      background-color: #434B5C;\n",
              "      box-shadow: 0px 1px 3px 1px rgba(0, 0, 0, 0.15);\n",
              "      filter: drop-shadow(0px 1px 2px rgba(0, 0, 0, 0.3));\n",
              "      fill: #FFFFFF;\n",
              "    }\n",
              "  </style>\n",
              "\n",
              "      <script>\n",
              "        const buttonEl =\n",
              "          document.querySelector('#df-951ae56a-6be1-440b-bf04-281c41f2490d button.colab-df-convert');\n",
              "        buttonEl.style.display =\n",
              "          google.colab.kernel.accessAllowed ? 'block' : 'none';\n",
              "\n",
              "        async function convertToInteractive(key) {\n",
              "          const element = document.querySelector('#df-951ae56a-6be1-440b-bf04-281c41f2490d');\n",
              "          const dataTable =\n",
              "            await google.colab.kernel.invokeFunction('convertToInteractive',\n",
              "                                                     [key], {});\n",
              "          if (!dataTable) return;\n",
              "\n",
              "          const docLinkHtml = 'Like what you see? Visit the ' +\n",
              "            '<a target=\"_blank\" href=https://colab.research.google.com/notebooks/data_table.ipynb>data table notebook</a>'\n",
              "            + ' to learn more about interactive tables.';\n",
              "          element.innerHTML = '';\n",
              "          dataTable['output_type'] = 'display_data';\n",
              "          await google.colab.output.renderOutput(dataTable, element);\n",
              "          const docLink = document.createElement('div');\n",
              "          docLink.innerHTML = docLinkHtml;\n",
              "          element.appendChild(docLink);\n",
              "        }\n",
              "      </script>\n",
              "    </div>\n",
              "  </div>\n",
              "  "
            ]
          },
          "metadata": {},
          "execution_count": 12
        }
      ],
      "source": [
        "# Tendo um overview das váriaveis númericas\n",
        "credit_scoring.describe()"
      ]
    },
    {
      "cell_type": "markdown",
      "metadata": {
        "id": "uxhOjplfefw-"
      },
      "source": [
        "### Conhecendo os Dados das Colunas do Dataframe <a id='data_review_columns'></a>"
      ]
    },
    {
      "cell_type": "markdown",
      "metadata": {
        "id": "sjbyh_9iefw-"
      },
      "source": [
        "**Agora iremos analisar os valores das colunas individualmente:**"
      ]
    },
    {
      "cell_type": "markdown",
      "metadata": {
        "id": "z2VY6cmOefw_"
      },
      "source": [
        "* `children` = o número de crianças na família"
      ]
    },
    {
      "cell_type": "code",
      "execution_count": 13,
      "metadata": {
        "colab": {
          "base_uri": "https://localhost:8080/"
        },
        "id": "_EfiSYykefw_",
        "outputId": "dc1b5c2f-2a0e-43ef-ce57-29c8f7ed8c2a"
      },
      "outputs": [
        {
          "output_type": "execute_result",
          "data": {
            "text/plain": [
              " 0     14149\n",
              " 1      4818\n",
              " 2      2055\n",
              " 3       330\n",
              " 20       76\n",
              "-1        47\n",
              " 4        41\n",
              " 5         9\n",
              "Name: children, dtype: int64"
            ]
          },
          "metadata": {},
          "execution_count": 13
        }
      ],
      "source": [
        "# Explorando os valores e as quantidades de dados\n",
        "credit_scoring['children'].value_counts(dropna=False)"
      ]
    },
    {
      "cell_type": "markdown",
      "metadata": {
        "id": "4fVCgY1befw_"
      },
      "source": [
        "* `days_employed` = quanto tempo o cliente trabalhou"
      ]
    },
    {
      "cell_type": "code",
      "execution_count": 14,
      "metadata": {
        "colab": {
          "base_uri": "https://localhost:8080/"
        },
        "id": "WUQlIbxFefxA",
        "outputId": "df4050ff-7f2a-49b4-ed7a-2c9028e666fb"
      },
      "outputs": [
        {
          "output_type": "execute_result",
          "data": {
            "text/plain": [
              " NaN              2174\n",
              "-8437.673028         1\n",
              "-5135.928528         1\n",
              " 354500.415854       1\n",
              "-769.717438          1\n",
              "                  ... \n",
              "-1099.957609         1\n",
              "-209.984794          1\n",
              " 398099.392433       1\n",
              "-1271.038880         1\n",
              "-1984.507589         1\n",
              "Name: days_employed, Length: 19352, dtype: int64"
            ]
          },
          "metadata": {},
          "execution_count": 14
        }
      ],
      "source": [
        "# Explorando os valores e as quantidades de dados\n",
        "credit_scoring['days_employed'].value_counts(dropna=False)"
      ]
    },
    {
      "cell_type": "markdown",
      "metadata": {
        "id": "gI_o1-qJefxA"
      },
      "source": [
        "* `dob_years` = a idade do cliente"
      ]
    },
    {
      "cell_type": "code",
      "execution_count": 15,
      "metadata": {
        "colab": {
          "base_uri": "https://localhost:8080/"
        },
        "id": "5BGIVh_xefxA",
        "outputId": "21828e58-45b1-448d-f97e-00ec104107b0"
      },
      "outputs": [
        {
          "output_type": "execute_result",
          "data": {
            "text/plain": [
              "35    617\n",
              "40    609\n",
              "41    607\n",
              "34    603\n",
              "38    598\n",
              "42    597\n",
              "33    581\n",
              "39    573\n",
              "31    560\n",
              "36    555\n",
              "44    547\n",
              "29    545\n",
              "30    540\n",
              "48    538\n",
              "37    537\n",
              "50    514\n",
              "43    513\n",
              "32    510\n",
              "49    508\n",
              "28    503\n",
              "45    497\n",
              "27    493\n",
              "56    487\n",
              "52    484\n",
              "47    480\n",
              "54    479\n",
              "46    475\n",
              "58    461\n",
              "57    460\n",
              "53    459\n",
              "51    448\n",
              "59    444\n",
              "55    443\n",
              "26    408\n",
              "60    377\n",
              "25    357\n",
              "61    355\n",
              "62    352\n",
              "63    269\n",
              "64    265\n",
              "24    264\n",
              "23    254\n",
              "65    194\n",
              "22    183\n",
              "66    183\n",
              "67    167\n",
              "21    111\n",
              "0     101\n",
              "68     99\n",
              "69     85\n",
              "70     65\n",
              "71     58\n",
              "20     51\n",
              "72     33\n",
              "19     14\n",
              "73      8\n",
              "74      6\n",
              "75      1\n",
              "Name: dob_years, dtype: int64"
            ]
          },
          "metadata": {},
          "execution_count": 15
        }
      ],
      "source": [
        "# Explorando os valores e as quantidades de dados\n",
        "credit_scoring['dob_years'].value_counts(dropna=False)"
      ]
    },
    {
      "cell_type": "markdown",
      "metadata": {
        "id": "z7dB820lefxB"
      },
      "source": [
        "* `education` = o nível de educação do cliente"
      ]
    },
    {
      "cell_type": "code",
      "execution_count": 16,
      "metadata": {
        "colab": {
          "base_uri": "https://localhost:8080/"
        },
        "id": "rXVrQYvtefxB",
        "outputId": "75b31913-e173-4dea-fca8-7ec3ab809844"
      },
      "outputs": [
        {
          "output_type": "execute_result",
          "data": {
            "text/plain": [
              "secondary education    13750\n",
              "bachelor's degree       4718\n",
              "SECONDARY EDUCATION      772\n",
              "Secondary Education      711\n",
              "some college             668\n",
              "BACHELOR'S DEGREE        274\n",
              "Bachelor's Degree        268\n",
              "primary education        250\n",
              "Some College              47\n",
              "SOME COLLEGE              29\n",
              "PRIMARY EDUCATION         17\n",
              "Primary Education         15\n",
              "graduate degree            4\n",
              "Graduate Degree            1\n",
              "GRADUATE DEGREE            1\n",
              "Name: education, dtype: int64"
            ]
          },
          "metadata": {},
          "execution_count": 16
        }
      ],
      "source": [
        "# Explorando os valores e as quantidades de dados\n",
        "credit_scoring['education'].value_counts(dropna=False)"
      ]
    },
    {
      "cell_type": "markdown",
      "metadata": {
        "id": "RnOg6MQDefxC"
      },
      "source": [
        "* `education_id` = identificador da educação do cliente"
      ]
    },
    {
      "cell_type": "code",
      "execution_count": 17,
      "metadata": {
        "colab": {
          "base_uri": "https://localhost:8080/"
        },
        "id": "Bj8UDQ2UefxC",
        "outputId": "ec9c12a4-abd5-4595-aa63-c2d60953661d"
      },
      "outputs": [
        {
          "output_type": "execute_result",
          "data": {
            "text/plain": [
              "1    15233\n",
              "0     5260\n",
              "2      744\n",
              "3      282\n",
              "4        6\n",
              "Name: education_id, dtype: int64"
            ]
          },
          "metadata": {},
          "execution_count": 17
        }
      ],
      "source": [
        "# Explorando os valores e as quantidades de dados\n",
        "credit_scoring['education_id'].value_counts(dropna=False)"
      ]
    },
    {
      "cell_type": "markdown",
      "metadata": {
        "id": "hRK8pOspefxC"
      },
      "source": [
        "* `family_status` = estado civil do cliente"
      ]
    },
    {
      "cell_type": "code",
      "execution_count": 18,
      "metadata": {
        "colab": {
          "base_uri": "https://localhost:8080/"
        },
        "id": "AQa4kFh2efxD",
        "outputId": "38757d3b-ca89-48e7-a156-21b56561ea56"
      },
      "outputs": [
        {
          "output_type": "execute_result",
          "data": {
            "text/plain": [
              "married              12380\n",
              "civil partnership     4177\n",
              "unmarried             2813\n",
              "divorced              1195\n",
              "widow / widower        960\n",
              "Name: family_status, dtype: int64"
            ]
          },
          "metadata": {},
          "execution_count": 18
        }
      ],
      "source": [
        "# Explorando os valores e as quantidades de dados\n",
        "credit_scoring['family_status'].value_counts(dropna=False)"
      ]
    },
    {
      "cell_type": "markdown",
      "metadata": {
        "id": "_M_VXjevefxD"
      },
      "source": [
        "* `family_status_id` = identificador do estado civil do cliente"
      ]
    },
    {
      "cell_type": "code",
      "execution_count": 19,
      "metadata": {
        "colab": {
          "base_uri": "https://localhost:8080/"
        },
        "id": "vIJ3k5VIefxE",
        "outputId": "a0978d1c-4d26-4330-e549-8e615ccbc1cd"
      },
      "outputs": [
        {
          "output_type": "execute_result",
          "data": {
            "text/plain": [
              "0    12380\n",
              "1     4177\n",
              "4     2813\n",
              "3     1195\n",
              "2      960\n",
              "Name: family_status_id, dtype: int64"
            ]
          },
          "metadata": {},
          "execution_count": 19
        }
      ],
      "source": [
        "# Explorando os valores e as quantidades de dados\n",
        "credit_scoring['family_status_id'].value_counts(dropna=False)"
      ]
    },
    {
      "cell_type": "markdown",
      "metadata": {
        "id": "B9fVRwJBefxE"
      },
      "source": [
        "* `gender` = o sexo do cliente"
      ]
    },
    {
      "cell_type": "code",
      "execution_count": 20,
      "metadata": {
        "colab": {
          "base_uri": "https://localhost:8080/"
        },
        "id": "W544TiNFefxE",
        "outputId": "2eae0f80-a390-44eb-e1cb-b0a1b85f5bf0"
      },
      "outputs": [
        {
          "output_type": "execute_result",
          "data": {
            "text/plain": [
              "F      14236\n",
              "M       7288\n",
              "XNA        1\n",
              "Name: gender, dtype: int64"
            ]
          },
          "metadata": {},
          "execution_count": 20
        }
      ],
      "source": [
        "# Explorando os valores e as quantidades de dados\n",
        "credit_scoring['gender'].value_counts(dropna=False)"
      ]
    },
    {
      "cell_type": "markdown",
      "metadata": {
        "id": "VSID0JahefxF"
      },
      "source": [
        "* `income_type` = o tipo de renda do cliente"
      ]
    },
    {
      "cell_type": "code",
      "execution_count": 21,
      "metadata": {
        "colab": {
          "base_uri": "https://localhost:8080/"
        },
        "id": "SYJFJ4QcefxF",
        "outputId": "df0b5262-90a3-454b-8547-1b6e250c2573"
      },
      "outputs": [
        {
          "output_type": "execute_result",
          "data": {
            "text/plain": [
              "employee                       11119\n",
              "business                        5085\n",
              "retiree                         3856\n",
              "civil servant                   1459\n",
              "unemployed                         2\n",
              "entrepreneur                       2\n",
              "student                            1\n",
              "paternity / maternity leave        1\n",
              "Name: income_type, dtype: int64"
            ]
          },
          "metadata": {},
          "execution_count": 21
        }
      ],
      "source": [
        "# Explorando os valores e as quantidades de dados\n",
        "credit_scoring['income_type'].value_counts(dropna=False)"
      ]
    },
    {
      "cell_type": "markdown",
      "metadata": {
        "id": "zIKdfslIefxF"
      },
      "source": [
        "* `debt` = se o cliente já deixou de pagar um empréstimo"
      ]
    },
    {
      "cell_type": "code",
      "execution_count": 22,
      "metadata": {
        "colab": {
          "base_uri": "https://localhost:8080/"
        },
        "id": "V_L2OgJVefxG",
        "outputId": "73021763-4e73-4dbf-f776-027ecc1a4e9c"
      },
      "outputs": [
        {
          "output_type": "execute_result",
          "data": {
            "text/plain": [
              "0    19784\n",
              "1     1741\n",
              "Name: debt, dtype: int64"
            ]
          },
          "metadata": {},
          "execution_count": 22
        }
      ],
      "source": [
        "# Explorando os valores e as quantidades de dados\n",
        "credit_scoring['debt'].value_counts(dropna=False)"
      ]
    },
    {
      "cell_type": "markdown",
      "metadata": {
        "id": "oSd2a7O3efxG"
      },
      "source": [
        "* `total_income` = renda mensal"
      ]
    },
    {
      "cell_type": "code",
      "execution_count": 23,
      "metadata": {
        "colab": {
          "base_uri": "https://localhost:8080/"
        },
        "id": "BWcUmYnKefxG",
        "outputId": "6c858c30-722a-40fc-cfb5-f75bba7286d8"
      },
      "outputs": [
        {
          "output_type": "execute_result",
          "data": {
            "text/plain": [
              "NaN          2174\n",
              "17312.717       2\n",
              "42413.096       2\n",
              "31791.384       2\n",
              "21005.772       1\n",
              "             ... \n",
              "27020.895       1\n",
              "23686.835       1\n",
              "9606.294        1\n",
              "28156.762       1\n",
              "13127.587       1\n",
              "Name: total_income, Length: 19349, dtype: int64"
            ]
          },
          "metadata": {},
          "execution_count": 23
        }
      ],
      "source": [
        "# Explorando os valores e as quantidades de dados\n",
        "credit_scoring['total_income'].value_counts(dropna=False)"
      ]
    },
    {
      "cell_type": "markdown",
      "metadata": {
        "id": "htmwGfZbefxH"
      },
      "source": [
        "* `purpose` = motivo para fazer um empréstimo"
      ]
    },
    {
      "cell_type": "code",
      "execution_count": 24,
      "metadata": {
        "colab": {
          "base_uri": "https://localhost:8080/"
        },
        "id": "u_hEfqsJefxH",
        "outputId": "e957afa0-9d6c-4ebf-acf5-d7742221315f"
      },
      "outputs": [
        {
          "output_type": "execute_result",
          "data": {
            "text/plain": [
              "wedding ceremony                            797\n",
              "having a wedding                            777\n",
              "to have a wedding                           774\n",
              "real estate transactions                    676\n",
              "buy commercial real estate                  664\n",
              "buying property for renting out             653\n",
              "housing transactions                        653\n",
              "transactions with commercial real estate    651\n",
              "purchase of the house                       647\n",
              "housing                                     647\n",
              "purchase of the house for my family         641\n",
              "construction of own property                635\n",
              "property                                    634\n",
              "transactions with my real estate            630\n",
              "building a real estate                      626\n",
              "buy real estate                             624\n",
              "building a property                         620\n",
              "purchase of my own house                    620\n",
              "housing renovation                          612\n",
              "buy residential real estate                 607\n",
              "buying my own car                           505\n",
              "going to university                         496\n",
              "car                                         495\n",
              "second-hand car purchase                    489\n",
              "to own a car                                480\n",
              "buying a second-hand car                    479\n",
              "cars                                        478\n",
              "to buy a car                                472\n",
              "supplementary education                     462\n",
              "car purchase                                462\n",
              "purchase of a car                           455\n",
              "university education                        453\n",
              "education                                   447\n",
              "to get a supplementary education            447\n",
              "getting an education                        443\n",
              "profile education                           436\n",
              "getting higher education                    426\n",
              "to become educated                          412\n",
              "Name: purpose, dtype: int64"
            ]
          },
          "metadata": {},
          "execution_count": 24
        }
      ],
      "source": [
        "# Explorando os valores e as quantidades de dados\n",
        "credit_scoring['purpose'].value_counts(dropna=False)"
      ]
    },
    {
      "cell_type": "markdown",
      "metadata": {
        "id": "fHLyh-CTefxH"
      },
      "source": [
        "### Examinando os Valores Faltantes <a id='data_review_valores_faltantes'></a>"
      ]
    },
    {
      "cell_type": "code",
      "execution_count": 25,
      "metadata": {
        "scrolled": true,
        "colab": {
          "base_uri": "https://localhost:8080/"
        },
        "id": "y6dcreTrefxI",
        "outputId": "137b4e39-a26a-4e7b-9002-5ec8eb546f74"
      },
      "outputs": [
        {
          "output_type": "execute_result",
          "data": {
            "text/plain": [
              "children               0\n",
              "days_employed       2174\n",
              "dob_years              0\n",
              "education              0\n",
              "education_id           0\n",
              "family_status          0\n",
              "family_status_id       0\n",
              "gender                 0\n",
              "income_type            0\n",
              "debt                   0\n",
              "total_income        2174\n",
              "purpose                0\n",
              "dtype: int64"
            ]
          },
          "metadata": {},
          "execution_count": 25
        }
      ],
      "source": [
        "# Utilizando a função isna() em conjunto com sum() para obter as informações dos dados com valores ausentes\n",
        "credit_scoring.isna().sum()\n"
      ]
    },
    {
      "cell_type": "code",
      "execution_count": 26,
      "metadata": {
        "scrolled": false,
        "colab": {
          "base_uri": "https://localhost:8080/",
          "height": 713
        },
        "id": "pWPjt1LGefxI",
        "outputId": "b617320a-d732-4de2-c180-78fde3ef20bf"
      },
      "outputs": [
        {
          "output_type": "execute_result",
          "data": {
            "text/plain": [
              "       children  days_employed  dob_years            education  education_id  \\\n",
              "12            0            NaN         65  secondary education             1   \n",
              "26            0            NaN         41  secondary education             1   \n",
              "29            0            NaN         63  secondary education             1   \n",
              "41            0            NaN         50  secondary education             1   \n",
              "55            0            NaN         54  secondary education             1   \n",
              "...         ...            ...        ...                  ...           ...   \n",
              "21489         2            NaN         47  Secondary Education             1   \n",
              "21495         1            NaN         50  secondary education             1   \n",
              "21497         0            NaN         48    BACHELOR'S DEGREE             0   \n",
              "21502         1            NaN         42  secondary education             1   \n",
              "21510         2            NaN         28  secondary education             1   \n",
              "\n",
              "           family_status  family_status_id gender    income_type  debt  \\\n",
              "12     civil partnership                 1      M        retiree     0   \n",
              "26               married                 0      M  civil servant     0   \n",
              "29             unmarried                 4      F        retiree     0   \n",
              "41               married                 0      F  civil servant     0   \n",
              "55     civil partnership                 1      F        retiree     1   \n",
              "...                  ...               ...    ...            ...   ...   \n",
              "21489            married                 0      M       business     0   \n",
              "21495  civil partnership                 1      F       employee     0   \n",
              "21497            married                 0      F       business     0   \n",
              "21502            married                 0      F       employee     0   \n",
              "21510            married                 0      F       employee     0   \n",
              "\n",
              "       total_income                   purpose  \n",
              "12              NaN         to have a wedding  \n",
              "26              NaN                 education  \n",
              "29              NaN    building a real estate  \n",
              "41              NaN  second-hand car purchase  \n",
              "55              NaN         to have a wedding  \n",
              "...             ...                       ...  \n",
              "21489           NaN         purchase of a car  \n",
              "21495           NaN          wedding ceremony  \n",
              "21497           NaN       building a property  \n",
              "21502           NaN    building a real estate  \n",
              "21510           NaN              car purchase  \n",
              "\n",
              "[2174 rows x 12 columns]"
            ],
            "text/html": [
              "\n",
              "  <div id=\"df-46b5406e-1e02-4929-8abc-8967090aa719\">\n",
              "    <div class=\"colab-df-container\">\n",
              "      <div>\n",
              "<style scoped>\n",
              "    .dataframe tbody tr th:only-of-type {\n",
              "        vertical-align: middle;\n",
              "    }\n",
              "\n",
              "    .dataframe tbody tr th {\n",
              "        vertical-align: top;\n",
              "    }\n",
              "\n",
              "    .dataframe thead th {\n",
              "        text-align: right;\n",
              "    }\n",
              "</style>\n",
              "<table border=\"1\" class=\"dataframe\">\n",
              "  <thead>\n",
              "    <tr style=\"text-align: right;\">\n",
              "      <th></th>\n",
              "      <th>children</th>\n",
              "      <th>days_employed</th>\n",
              "      <th>dob_years</th>\n",
              "      <th>education</th>\n",
              "      <th>education_id</th>\n",
              "      <th>family_status</th>\n",
              "      <th>family_status_id</th>\n",
              "      <th>gender</th>\n",
              "      <th>income_type</th>\n",
              "      <th>debt</th>\n",
              "      <th>total_income</th>\n",
              "      <th>purpose</th>\n",
              "    </tr>\n",
              "  </thead>\n",
              "  <tbody>\n",
              "    <tr>\n",
              "      <th>12</th>\n",
              "      <td>0</td>\n",
              "      <td>NaN</td>\n",
              "      <td>65</td>\n",
              "      <td>secondary education</td>\n",
              "      <td>1</td>\n",
              "      <td>civil partnership</td>\n",
              "      <td>1</td>\n",
              "      <td>M</td>\n",
              "      <td>retiree</td>\n",
              "      <td>0</td>\n",
              "      <td>NaN</td>\n",
              "      <td>to have a wedding</td>\n",
              "    </tr>\n",
              "    <tr>\n",
              "      <th>26</th>\n",
              "      <td>0</td>\n",
              "      <td>NaN</td>\n",
              "      <td>41</td>\n",
              "      <td>secondary education</td>\n",
              "      <td>1</td>\n",
              "      <td>married</td>\n",
              "      <td>0</td>\n",
              "      <td>M</td>\n",
              "      <td>civil servant</td>\n",
              "      <td>0</td>\n",
              "      <td>NaN</td>\n",
              "      <td>education</td>\n",
              "    </tr>\n",
              "    <tr>\n",
              "      <th>29</th>\n",
              "      <td>0</td>\n",
              "      <td>NaN</td>\n",
              "      <td>63</td>\n",
              "      <td>secondary education</td>\n",
              "      <td>1</td>\n",
              "      <td>unmarried</td>\n",
              "      <td>4</td>\n",
              "      <td>F</td>\n",
              "      <td>retiree</td>\n",
              "      <td>0</td>\n",
              "      <td>NaN</td>\n",
              "      <td>building a real estate</td>\n",
              "    </tr>\n",
              "    <tr>\n",
              "      <th>41</th>\n",
              "      <td>0</td>\n",
              "      <td>NaN</td>\n",
              "      <td>50</td>\n",
              "      <td>secondary education</td>\n",
              "      <td>1</td>\n",
              "      <td>married</td>\n",
              "      <td>0</td>\n",
              "      <td>F</td>\n",
              "      <td>civil servant</td>\n",
              "      <td>0</td>\n",
              "      <td>NaN</td>\n",
              "      <td>second-hand car purchase</td>\n",
              "    </tr>\n",
              "    <tr>\n",
              "      <th>55</th>\n",
              "      <td>0</td>\n",
              "      <td>NaN</td>\n",
              "      <td>54</td>\n",
              "      <td>secondary education</td>\n",
              "      <td>1</td>\n",
              "      <td>civil partnership</td>\n",
              "      <td>1</td>\n",
              "      <td>F</td>\n",
              "      <td>retiree</td>\n",
              "      <td>1</td>\n",
              "      <td>NaN</td>\n",
              "      <td>to have a wedding</td>\n",
              "    </tr>\n",
              "    <tr>\n",
              "      <th>...</th>\n",
              "      <td>...</td>\n",
              "      <td>...</td>\n",
              "      <td>...</td>\n",
              "      <td>...</td>\n",
              "      <td>...</td>\n",
              "      <td>...</td>\n",
              "      <td>...</td>\n",
              "      <td>...</td>\n",
              "      <td>...</td>\n",
              "      <td>...</td>\n",
              "      <td>...</td>\n",
              "      <td>...</td>\n",
              "    </tr>\n",
              "    <tr>\n",
              "      <th>21489</th>\n",
              "      <td>2</td>\n",
              "      <td>NaN</td>\n",
              "      <td>47</td>\n",
              "      <td>Secondary Education</td>\n",
              "      <td>1</td>\n",
              "      <td>married</td>\n",
              "      <td>0</td>\n",
              "      <td>M</td>\n",
              "      <td>business</td>\n",
              "      <td>0</td>\n",
              "      <td>NaN</td>\n",
              "      <td>purchase of a car</td>\n",
              "    </tr>\n",
              "    <tr>\n",
              "      <th>21495</th>\n",
              "      <td>1</td>\n",
              "      <td>NaN</td>\n",
              "      <td>50</td>\n",
              "      <td>secondary education</td>\n",
              "      <td>1</td>\n",
              "      <td>civil partnership</td>\n",
              "      <td>1</td>\n",
              "      <td>F</td>\n",
              "      <td>employee</td>\n",
              "      <td>0</td>\n",
              "      <td>NaN</td>\n",
              "      <td>wedding ceremony</td>\n",
              "    </tr>\n",
              "    <tr>\n",
              "      <th>21497</th>\n",
              "      <td>0</td>\n",
              "      <td>NaN</td>\n",
              "      <td>48</td>\n",
              "      <td>BACHELOR'S DEGREE</td>\n",
              "      <td>0</td>\n",
              "      <td>married</td>\n",
              "      <td>0</td>\n",
              "      <td>F</td>\n",
              "      <td>business</td>\n",
              "      <td>0</td>\n",
              "      <td>NaN</td>\n",
              "      <td>building a property</td>\n",
              "    </tr>\n",
              "    <tr>\n",
              "      <th>21502</th>\n",
              "      <td>1</td>\n",
              "      <td>NaN</td>\n",
              "      <td>42</td>\n",
              "      <td>secondary education</td>\n",
              "      <td>1</td>\n",
              "      <td>married</td>\n",
              "      <td>0</td>\n",
              "      <td>F</td>\n",
              "      <td>employee</td>\n",
              "      <td>0</td>\n",
              "      <td>NaN</td>\n",
              "      <td>building a real estate</td>\n",
              "    </tr>\n",
              "    <tr>\n",
              "      <th>21510</th>\n",
              "      <td>2</td>\n",
              "      <td>NaN</td>\n",
              "      <td>28</td>\n",
              "      <td>secondary education</td>\n",
              "      <td>1</td>\n",
              "      <td>married</td>\n",
              "      <td>0</td>\n",
              "      <td>F</td>\n",
              "      <td>employee</td>\n",
              "      <td>0</td>\n",
              "      <td>NaN</td>\n",
              "      <td>car purchase</td>\n",
              "    </tr>\n",
              "  </tbody>\n",
              "</table>\n",
              "<p>2174 rows × 12 columns</p>\n",
              "</div>\n",
              "      <button class=\"colab-df-convert\" onclick=\"convertToInteractive('df-46b5406e-1e02-4929-8abc-8967090aa719')\"\n",
              "              title=\"Convert this dataframe to an interactive table.\"\n",
              "              style=\"display:none;\">\n",
              "        \n",
              "  <svg xmlns=\"http://www.w3.org/2000/svg\" height=\"24px\"viewBox=\"0 0 24 24\"\n",
              "       width=\"24px\">\n",
              "    <path d=\"M0 0h24v24H0V0z\" fill=\"none\"/>\n",
              "    <path d=\"M18.56 5.44l.94 2.06.94-2.06 2.06-.94-2.06-.94-.94-2.06-.94 2.06-2.06.94zm-11 1L8.5 8.5l.94-2.06 2.06-.94-2.06-.94L8.5 2.5l-.94 2.06-2.06.94zm10 10l.94 2.06.94-2.06 2.06-.94-2.06-.94-.94-2.06-.94 2.06-2.06.94z\"/><path d=\"M17.41 7.96l-1.37-1.37c-.4-.4-.92-.59-1.43-.59-.52 0-1.04.2-1.43.59L10.3 9.45l-7.72 7.72c-.78.78-.78 2.05 0 2.83L4 21.41c.39.39.9.59 1.41.59.51 0 1.02-.2 1.41-.59l7.78-7.78 2.81-2.81c.8-.78.8-2.07 0-2.86zM5.41 20L4 18.59l7.72-7.72 1.47 1.35L5.41 20z\"/>\n",
              "  </svg>\n",
              "      </button>\n",
              "      \n",
              "  <style>\n",
              "    .colab-df-container {\n",
              "      display:flex;\n",
              "      flex-wrap:wrap;\n",
              "      gap: 12px;\n",
              "    }\n",
              "\n",
              "    .colab-df-convert {\n",
              "      background-color: #E8F0FE;\n",
              "      border: none;\n",
              "      border-radius: 50%;\n",
              "      cursor: pointer;\n",
              "      display: none;\n",
              "      fill: #1967D2;\n",
              "      height: 32px;\n",
              "      padding: 0 0 0 0;\n",
              "      width: 32px;\n",
              "    }\n",
              "\n",
              "    .colab-df-convert:hover {\n",
              "      background-color: #E2EBFA;\n",
              "      box-shadow: 0px 1px 2px rgba(60, 64, 67, 0.3), 0px 1px 3px 1px rgba(60, 64, 67, 0.15);\n",
              "      fill: #174EA6;\n",
              "    }\n",
              "\n",
              "    [theme=dark] .colab-df-convert {\n",
              "      background-color: #3B4455;\n",
              "      fill: #D2E3FC;\n",
              "    }\n",
              "\n",
              "    [theme=dark] .colab-df-convert:hover {\n",
              "      background-color: #434B5C;\n",
              "      box-shadow: 0px 1px 3px 1px rgba(0, 0, 0, 0.15);\n",
              "      filter: drop-shadow(0px 1px 2px rgba(0, 0, 0, 0.3));\n",
              "      fill: #FFFFFF;\n",
              "    }\n",
              "  </style>\n",
              "\n",
              "      <script>\n",
              "        const buttonEl =\n",
              "          document.querySelector('#df-46b5406e-1e02-4929-8abc-8967090aa719 button.colab-df-convert');\n",
              "        buttonEl.style.display =\n",
              "          google.colab.kernel.accessAllowed ? 'block' : 'none';\n",
              "\n",
              "        async function convertToInteractive(key) {\n",
              "          const element = document.querySelector('#df-46b5406e-1e02-4929-8abc-8967090aa719');\n",
              "          const dataTable =\n",
              "            await google.colab.kernel.invokeFunction('convertToInteractive',\n",
              "                                                     [key], {});\n",
              "          if (!dataTable) return;\n",
              "\n",
              "          const docLinkHtml = 'Like what you see? Visit the ' +\n",
              "            '<a target=\"_blank\" href=https://colab.research.google.com/notebooks/data_table.ipynb>data table notebook</a>'\n",
              "            + ' to learn more about interactive tables.';\n",
              "          element.innerHTML = '';\n",
              "          dataTable['output_type'] = 'display_data';\n",
              "          await google.colab.output.renderOutput(dataTable, element);\n",
              "          const docLink = document.createElement('div');\n",
              "          docLink.innerHTML = docLinkHtml;\n",
              "          element.appendChild(docLink);\n",
              "        }\n",
              "      </script>\n",
              "    </div>\n",
              "  </div>\n",
              "  "
            ]
          },
          "metadata": {},
          "execution_count": 26
        }
      ],
      "source": [
        "# Filtrando o dataframe \"credit_scoring\" para mostrar somente os valores faltantes \n",
        "credit_scoring_NaN = credit_scoring[credit_scoring['days_employed'].isna()]\n",
        "credit_scoring_NaN"
      ]
    },
    {
      "cell_type": "code",
      "execution_count": 27,
      "metadata": {
        "colab": {
          "base_uri": "https://localhost:8080/"
        },
        "id": "_7gBMUBcefxI",
        "outputId": "ae838e6c-5d7d-4251-b99e-b401b86f1b74"
      },
      "outputs": [
        {
          "output_type": "execute_result",
          "data": {
            "text/plain": [
              "10.099883855981417"
            ]
          },
          "metadata": {},
          "execution_count": 27
        }
      ],
      "source": [
        "# Calculando a porcentagem do nosso dataframe que está comprometido com valores faltantes\n",
        "\n",
        "percentage_nan = (len(credit_scoring_NaN.index) / len(credit_scoring.index))*100\n",
        "percentage_nan"
      ]
    },
    {
      "cell_type": "markdown",
      "metadata": {
        "id": "_LhryL0HefxI"
      },
      "source": [
        "**Observações:**\n",
        "\n",
        "Identificado que simetricamente quando há um valor é NaN na coluna \"days_employed\" ela também será NaN na coluna \"total_income\".\n",
        "\n",
        "Também foi calculado que um pouco mais de 10% da nossa amostra está comprometida devido aos valores NaN, o que é um valor consideravel do nosso dataframe.\n",
        "\n",
        "Agora iremos verificar se há alguma dependência de valores ausentes em relação aos outros valores dos indicadores, caso não tenha, poderemos substituir esses valores pela média ou mediana."
      ]
    },
    {
      "cell_type": "code",
      "execution_count": 28,
      "metadata": {
        "scrolled": true,
        "colab": {
          "base_uri": "https://localhost:8080/"
        },
        "id": "8nNXvlN7efxJ",
        "outputId": "74a23c8b-1f1a-4053-b234-df7a220cd332"
      },
      "outputs": [
        {
          "output_type": "execute_result",
          "data": {
            "text/plain": [
              " 0     1439\n",
              " 1      475\n",
              " 2      204\n",
              " 3       36\n",
              " 20       9\n",
              " 4        7\n",
              "-1        3\n",
              " 5        1\n",
              "Name: children, dtype: int64"
            ]
          },
          "metadata": {},
          "execution_count": 28
        }
      ],
      "source": [
        "credit_scoring_NaN['children'].value_counts(dropna=False)"
      ]
    },
    {
      "cell_type": "code",
      "execution_count": 29,
      "metadata": {
        "colab": {
          "base_uri": "https://localhost:8080/"
        },
        "id": "ZsreCQHpefxJ",
        "outputId": "6013223a-e647-4767-d2f2-51e206654bf3"
      },
      "outputs": [
        {
          "output_type": "execute_result",
          "data": {
            "text/plain": [
              "34    69\n",
              "40    66\n",
              "42    65\n",
              "31    65\n",
              "35    64\n",
              "36    63\n",
              "47    59\n",
              "41    59\n",
              "30    58\n",
              "28    57\n",
              "58    56\n",
              "57    56\n",
              "54    55\n",
              "56    54\n",
              "38    54\n",
              "52    53\n",
              "37    53\n",
              "33    51\n",
              "39    51\n",
              "50    51\n",
              "43    50\n",
              "45    50\n",
              "49    50\n",
              "51    50\n",
              "29    50\n",
              "46    48\n",
              "55    48\n",
              "48    46\n",
              "44    44\n",
              "53    44\n",
              "60    39\n",
              "62    38\n",
              "61    38\n",
              "32    37\n",
              "64    37\n",
              "23    36\n",
              "27    36\n",
              "26    35\n",
              "59    34\n",
              "63    29\n",
              "25    23\n",
              "24    21\n",
              "65    20\n",
              "66    20\n",
              "21    18\n",
              "22    17\n",
              "67    16\n",
              "0     10\n",
              "68     9\n",
              "71     5\n",
              "69     5\n",
              "20     5\n",
              "70     3\n",
              "72     2\n",
              "19     1\n",
              "73     1\n",
              "Name: dob_years, dtype: int64"
            ]
          },
          "metadata": {},
          "execution_count": 29
        }
      ],
      "source": [
        "credit_scoring_NaN['dob_years'].value_counts(dropna=False)"
      ]
    },
    {
      "cell_type": "code",
      "execution_count": 30,
      "metadata": {
        "colab": {
          "base_uri": "https://localhost:8080/"
        },
        "id": "j0sEN0c7efxJ",
        "outputId": "c39397e3-c30f-4113-f03a-cab618665c3d"
      },
      "outputs": [
        {
          "output_type": "execute_result",
          "data": {
            "text/plain": [
              "secondary education    1408\n",
              "bachelor's degree       496\n",
              "SECONDARY EDUCATION      67\n",
              "Secondary Education      65\n",
              "some college             55\n",
              "Bachelor's Degree        25\n",
              "BACHELOR'S DEGREE        23\n",
              "primary education        19\n",
              "Some College              7\n",
              "SOME COLLEGE              7\n",
              "Primary Education         1\n",
              "PRIMARY EDUCATION         1\n",
              "Name: education, dtype: int64"
            ]
          },
          "metadata": {},
          "execution_count": 30
        }
      ],
      "source": [
        "credit_scoring_NaN['education'].value_counts(dropna=False)"
      ]
    },
    {
      "cell_type": "code",
      "execution_count": 31,
      "metadata": {
        "colab": {
          "base_uri": "https://localhost:8080/"
        },
        "id": "Uoy8sqxmefxK",
        "outputId": "7ee48cd6-3794-459f-ea07-1671423d6e02"
      },
      "outputs": [
        {
          "output_type": "execute_result",
          "data": {
            "text/plain": [
              "1    1540\n",
              "0     544\n",
              "2      69\n",
              "3      21\n",
              "Name: education_id, dtype: int64"
            ]
          },
          "metadata": {},
          "execution_count": 31
        }
      ],
      "source": [
        "credit_scoring_NaN['education_id'].value_counts(dropna=False)"
      ]
    },
    {
      "cell_type": "code",
      "execution_count": 32,
      "metadata": {
        "colab": {
          "base_uri": "https://localhost:8080/"
        },
        "id": "76VE2PuuefxK",
        "outputId": "191df587-80db-4ca2-9d65-27a626a83837"
      },
      "outputs": [
        {
          "output_type": "execute_result",
          "data": {
            "text/plain": [
              "0    1237\n",
              "1     442\n",
              "4     288\n",
              "3     112\n",
              "2      95\n",
              "Name: family_status_id, dtype: int64"
            ]
          },
          "metadata": {},
          "execution_count": 32
        }
      ],
      "source": [
        "credit_scoring_NaN['family_status_id'].value_counts(dropna=False)"
      ]
    },
    {
      "cell_type": "code",
      "execution_count": 33,
      "metadata": {
        "colab": {
          "base_uri": "https://localhost:8080/"
        },
        "id": "co20YTvXefxK",
        "outputId": "ce621e2f-ed6e-4b6c-e801-c318a4f02b22"
      },
      "outputs": [
        {
          "output_type": "execute_result",
          "data": {
            "text/plain": [
              "F    1484\n",
              "M     690\n",
              "Name: gender, dtype: int64"
            ]
          },
          "metadata": {},
          "execution_count": 33
        }
      ],
      "source": [
        "credit_scoring_NaN['gender'].value_counts(dropna=False)"
      ]
    },
    {
      "cell_type": "code",
      "execution_count": 34,
      "metadata": {
        "scrolled": true,
        "colab": {
          "base_uri": "https://localhost:8080/"
        },
        "id": "Pm9V-l71efxK",
        "outputId": "88f056ee-081d-467f-827e-5ab59c504c33"
      },
      "outputs": [
        {
          "output_type": "execute_result",
          "data": {
            "text/plain": [
              "married              1237\n",
              "civil partnership     442\n",
              "unmarried             288\n",
              "divorced              112\n",
              "widow / widower        95\n",
              "Name: family_status, dtype: int64"
            ]
          },
          "metadata": {},
          "execution_count": 34
        }
      ],
      "source": [
        "credit_scoring_NaN['family_status'].value_counts(dropna=False)"
      ]
    },
    {
      "cell_type": "code",
      "execution_count": 35,
      "metadata": {
        "scrolled": false,
        "colab": {
          "base_uri": "https://localhost:8080/"
        },
        "id": "N7ls4B6gefxL",
        "outputId": "d3cc2912-a8ae-4de2-e04c-43b7c3de77eb"
      },
      "outputs": [
        {
          "output_type": "execute_result",
          "data": {
            "text/plain": [
              "employee         1105\n",
              "business          508\n",
              "retiree           413\n",
              "civil servant     147\n",
              "entrepreneur        1\n",
              "Name: income_type, dtype: int64"
            ]
          },
          "metadata": {},
          "execution_count": 35
        }
      ],
      "source": [
        "credit_scoring_NaN['income_type'].value_counts(dropna=False)"
      ]
    },
    {
      "cell_type": "code",
      "execution_count": 36,
      "metadata": {
        "colab": {
          "base_uri": "https://localhost:8080/"
        },
        "id": "LIMAdwrSefxL",
        "outputId": "b43e8b4e-4aa9-4bc1-f2dc-f0f1b875ef00"
      },
      "outputs": [
        {
          "output_type": "execute_result",
          "data": {
            "text/plain": [
              "0    2004\n",
              "1     170\n",
              "Name: debt, dtype: int64"
            ]
          },
          "metadata": {},
          "execution_count": 36
        }
      ],
      "source": [
        "credit_scoring_NaN['debt'].value_counts(dropna=False)"
      ]
    },
    {
      "cell_type": "code",
      "execution_count": 37,
      "metadata": {
        "colab": {
          "base_uri": "https://localhost:8080/"
        },
        "id": "uHz-PY0nefxL",
        "outputId": "217a1f0c-91f3-4b62-ca76-f4c7d6545863"
      },
      "outputs": [
        {
          "output_type": "execute_result",
          "data": {
            "text/plain": [
              "wedding ceremony                            797\n",
              "having a wedding                            777\n",
              "to have a wedding                           774\n",
              "real estate transactions                    676\n",
              "buy commercial real estate                  664\n",
              "buying property for renting out             653\n",
              "housing transactions                        653\n",
              "transactions with commercial real estate    651\n",
              "purchase of the house                       647\n",
              "housing                                     647\n",
              "purchase of the house for my family         641\n",
              "construction of own property                635\n",
              "property                                    634\n",
              "transactions with my real estate            630\n",
              "building a real estate                      626\n",
              "buy real estate                             624\n",
              "building a property                         620\n",
              "purchase of my own house                    620\n",
              "housing renovation                          612\n",
              "buy residential real estate                 607\n",
              "buying my own car                           505\n",
              "going to university                         496\n",
              "car                                         495\n",
              "second-hand car purchase                    489\n",
              "to own a car                                480\n",
              "buying a second-hand car                    479\n",
              "cars                                        478\n",
              "to buy a car                                472\n",
              "supplementary education                     462\n",
              "car purchase                                462\n",
              "purchase of a car                           455\n",
              "university education                        453\n",
              "education                                   447\n",
              "to get a supplementary education            447\n",
              "getting an education                        443\n",
              "profile education                           436\n",
              "getting higher education                    426\n",
              "to become educated                          412\n",
              "Name: purpose, dtype: int64"
            ]
          },
          "metadata": {},
          "execution_count": 37
        }
      ],
      "source": [
        "credit_scoring['purpose'].value_counts(dropna=False)"
      ]
    },
    {
      "cell_type": "markdown",
      "metadata": {
        "id": "LVUITvI9efxM"
      },
      "source": [
        "**Observações:**\n",
        "\n",
        "Todas as colunas possuem valores bem diverisificados e não foi possível identificar nenhum padrão entre os valores das colunas e dos valores faltantes."
      ]
    },
    {
      "cell_type": "markdown",
      "metadata": {
        "id": "JGDO6z63efxM"
      },
      "source": [
        "### Conclusões <a id='data_review_conclusions'></a> "
      ]
    },
    {
      "cell_type": "markdown",
      "metadata": {
        "id": "x7r0v3hnefxM"
      },
      "source": [
        "**Ao realizar a exploração de dados no dataframe 'credit_scoring' foi possível identificar os seguintes problemas que precisam ser tratados:**\n",
        "\n",
        "\n",
        "**1º)** Os valores da coluna <i>\"education\"</i> possuem categorias repetidas, devido `erro de grafia`;\n",
        "\n",
        "**2º)** A coluna <i>\"children\"</i> possui `valores negativos` que não eram pra existir, além de 76 clientes que possuem a quantidade colossal de 20 filhos;\n",
        "\n",
        "**3º)** A coluna <i>\"days_employed\"</i> também possuem `valores negativos` que precisam ser analisados;\n",
        "\n",
        "**4º)** Todas as colunas estão com seus nomes corretamente formatados (em minusculo, singular e com snake_case), entretanto a coluna <i>\"dob_years\"</i> que carrega os valores da idade dos clientes poderia ter um `nome mais claro`, como: \"customer_age\". Ademais, essa coluna também possui alguns `valores de idade zerado`;\n",
        "\n",
        "**5º)** A coluna <i>\"gender\"</i> tem uma pessoa com o sexo \"XNA\" que `não existe`;\n",
        "\n",
        "**6º)** Precisa ser visto também as `duplicatas` desse dataframe;\n",
        "\n",
        "**7º)** Será necessário ajustar os 4348  `valores faltantes` das colunas <i>\"days_employed\"</i> e <i>\"total_income\"</i>."
      ]
    },
    {
      "cell_type": "markdown",
      "metadata": {
        "id": "vsGmd7yRefxM"
      },
      "source": [
        "<div class=\"alert alert-block alert-success\">\n",
        "<b>Comentário do corretor</b> <a class=\"tocSkip\"></a>\n",
        "\n",
        "Bem observado!\n",
        "</div>"
      ]
    },
    {
      "cell_type": "markdown",
      "metadata": {
        "id": "4psrYcY1efxN"
      },
      "source": [
        "[Voltar ao Índice](#back)"
      ]
    },
    {
      "cell_type": "markdown",
      "metadata": {
        "id": "Um_gm_B1efxN"
      },
      "source": [
        "---"
      ]
    },
    {
      "cell_type": "markdown",
      "metadata": {
        "id": "FL_W5yJ0efxN"
      },
      "source": [
        "## Etapa. Pré-processamento de dados <a id='data_preprocessing'></a>\n",
        "\n",
        "Aqui iremos sanar os sete tópicos informados na secção a cima que precisam de ajuste, como valores ausentes, duplicatas e erros de grafia que depois de tratados, nos permitiram manipular os dados e tomar decisões mais precisas."
      ]
    },
    {
      "cell_type": "markdown",
      "metadata": {
        "id": "Thr6gGnCefxN"
      },
      "source": [
        "### Ajustando valores das colunas <a id='ajustando_valores'></a>"
      ]
    },
    {
      "cell_type": "markdown",
      "metadata": {
        "id": "bxTDZD_jefxO"
      },
      "source": [
        "**1º Passo** -  Corrigir os `erros de grafia` dos valores na coluna <i>\"education\"</i>:"
      ]
    },
    {
      "cell_type": "code",
      "execution_count": 38,
      "metadata": {
        "colab": {
          "base_uri": "https://localhost:8080/"
        },
        "id": "1hKbWab_efxO",
        "outputId": "31ac5af5-2f0c-4254-819e-629cd08583fb"
      },
      "outputs": [
        {
          "output_type": "execute_result",
          "data": {
            "text/plain": [
              "array([\"bachelor's degree\", 'secondary education', 'Secondary Education',\n",
              "       'SECONDARY EDUCATION', \"BACHELOR'S DEGREE\", 'some college',\n",
              "       'primary education', \"Bachelor's Degree\", 'SOME COLLEGE',\n",
              "       'Some College', 'PRIMARY EDUCATION', 'Primary Education',\n",
              "       'Graduate Degree', 'GRADUATE DEGREE', 'graduate degree'],\n",
              "      dtype=object)"
            ]
          },
          "metadata": {},
          "execution_count": 38
        }
      ],
      "source": [
        "# Validando todos os valores\n",
        "credit_scoring['education'].unique()"
      ]
    },
    {
      "cell_type": "code",
      "execution_count": 39,
      "metadata": {
        "scrolled": true,
        "id": "Kv_37PcvefxO"
      },
      "outputs": [],
      "source": [
        "# Alterando todos valores para letra minuscúla\n",
        "credit_scoring['education'] = credit_scoring['education'].str.lower() "
      ]
    },
    {
      "cell_type": "code",
      "execution_count": 40,
      "metadata": {
        "colab": {
          "base_uri": "https://localhost:8080/"
        },
        "id": "yecbNY5zefxO",
        "outputId": "295faa12-b504-44bf-d96f-1beeb9c212d6"
      },
      "outputs": [
        {
          "output_type": "execute_result",
          "data": {
            "text/plain": [
              "array([\"bachelor's degree\", 'secondary education', 'some college',\n",
              "       'primary education', 'graduate degree'], dtype=object)"
            ]
          },
          "metadata": {},
          "execution_count": 40
        }
      ],
      "source": [
        "# Verificando se o ajuste a cima deu certo\n",
        "credit_scoring['education'].unique()\n"
      ]
    },
    {
      "cell_type": "markdown",
      "metadata": {
        "id": "0rojQd-KefxP"
      },
      "source": [
        "**2º Passo** -  Corrigir o `valor negativo` e a quantidade colossal de `20 filhos` da coluna <i>\"children\"</i>:"
      ]
    },
    {
      "cell_type": "code",
      "execution_count": 41,
      "metadata": {
        "colab": {
          "base_uri": "https://localhost:8080/"
        },
        "id": "J_e-6pM_efxP",
        "outputId": "1f49a097-f293-492f-8cb4-67cc617e81bf"
      },
      "outputs": [
        {
          "output_type": "execute_result",
          "data": {
            "text/plain": [
              " 0     14149\n",
              " 1      4818\n",
              " 2      2055\n",
              " 3       330\n",
              " 20       76\n",
              "-1        47\n",
              " 4        41\n",
              " 5         9\n",
              "Name: children, dtype: int64"
            ]
          },
          "metadata": {},
          "execution_count": 41
        }
      ],
      "source": [
        "# Vamos ver a distribuição de valores na coluna `children`\n",
        "credit_scoring['children'].value_counts(dropna=False)"
      ]
    },
    {
      "cell_type": "code",
      "execution_count": 42,
      "metadata": {
        "colab": {
          "base_uri": "https://localhost:8080/"
        },
        "id": "GAvIyKI6efxP",
        "outputId": "0aa5a7a1-256f-4ee8-9c4d-5f4f8fd94058"
      },
      "outputs": [
        {
          "output_type": "execute_result",
          "data": {
            "text/plain": [
              "0.2183507549361208"
            ]
          },
          "metadata": {},
          "execution_count": 42
        }
      ],
      "source": [
        "# Calculando a porcentagem da amostra que posssui valor negativo\n",
        "percentage_negative_children = (47 / len(credit_scoring['children'].index)) * 100\n",
        "percentage_negative_children"
      ]
    },
    {
      "cell_type": "markdown",
      "metadata": {
        "id": "JrG_9TJlefxQ"
      },
      "source": [
        "Como a taxa é muito pequena, menor que 1%, será excluido os dados negativos para não comprometer a análise."
      ]
    },
    {
      "cell_type": "code",
      "execution_count": 43,
      "metadata": {
        "id": "mocDrpxEefxQ"
      },
      "outputs": [],
      "source": [
        "# Deletando o registro que possui o valor negativo\n",
        "negative_children = credit_scoring[credit_scoring['children'] < 0]\n",
        "credit_scoring = credit_scoring.drop(negative_children.index)"
      ]
    },
    {
      "cell_type": "code",
      "execution_count": 44,
      "metadata": {
        "id": "2EKrGgMxefxQ"
      },
      "outputs": [],
      "source": [
        "# É muito díficil uma família ter 20 filhos, então provavelmente essa quantidade foi escrita errada, adicionando um zero atrás\n",
        "credit_scoring['children'] = credit_scoring['children'].replace(20, 2)"
      ]
    },
    {
      "cell_type": "code",
      "execution_count": 45,
      "metadata": {
        "colab": {
          "base_uri": "https://localhost:8080/"
        },
        "id": "Od74kAy8efxR",
        "outputId": "e89514e7-32dd-4b68-8acf-7099b64980c7"
      },
      "outputs": [
        {
          "output_type": "execute_result",
          "data": {
            "text/plain": [
              "0    14149\n",
              "1     4818\n",
              "2     2131\n",
              "3      330\n",
              "4       41\n",
              "5        9\n",
              "Name: children, dtype: int64"
            ]
          },
          "metadata": {},
          "execution_count": 45
        }
      ],
      "source": [
        "# Verificar a coluna `children` novamente para ter certeza de que está tudo corrigido\n",
        "credit_scoring['children'].value_counts(dropna=False)"
      ]
    },
    {
      "cell_type": "markdown",
      "metadata": {
        "id": "p4ba1dRzefxR"
      },
      "source": [
        "**3º Passo** -  Corrigir os `valores negativos` da coluna <i>\"days_employed\"</i>:"
      ]
    },
    {
      "cell_type": "code",
      "execution_count": 46,
      "metadata": {
        "colab": {
          "base_uri": "https://localhost:8080/",
          "height": 679
        },
        "id": "TDt-q7opefxR",
        "outputId": "4cd8eae4-3283-480f-8522-4c1ffd38b6c0"
      },
      "outputs": [
        {
          "output_type": "execute_result",
          "data": {
            "text/plain": [
              "       children  days_employed  dob_years            education  education_id  \\\n",
              "0             1   -8437.673028         42    bachelor's degree             0   \n",
              "1             1   -4024.803754         36  secondary education             1   \n",
              "2             0   -5623.422610         33  secondary education             1   \n",
              "3             3   -4124.747207         32  secondary education             1   \n",
              "5             0    -926.185831         27    bachelor's degree             0   \n",
              "...         ...            ...        ...                  ...           ...   \n",
              "21519         1   -2351.431934         37      graduate degree             4   \n",
              "21520         1   -4529.316663         43  secondary education             1   \n",
              "21522         1   -2113.346888         38  secondary education             1   \n",
              "21523         3   -3112.481705         38  secondary education             1   \n",
              "21524         2   -1984.507589         40  secondary education             1   \n",
              "\n",
              "           family_status  family_status_id gender income_type  debt  \\\n",
              "0                married                 0      F    employee     0   \n",
              "1                married                 0      F    employee     0   \n",
              "2                married                 0      M    employee     0   \n",
              "3                married                 0      M    employee     0   \n",
              "5      civil partnership                 1      M    business     0   \n",
              "...                  ...               ...    ...         ...   ...   \n",
              "21519           divorced                 3      M    employee     0   \n",
              "21520  civil partnership                 1      F    business     0   \n",
              "21522  civil partnership                 1      M    employee     1   \n",
              "21523            married                 0      M    employee     1   \n",
              "21524            married                 0      F    employee     0   \n",
              "\n",
              "       total_income                     purpose  \n",
              "0         40620.102       purchase of the house  \n",
              "1         17932.802                car purchase  \n",
              "2         23341.752       purchase of the house  \n",
              "3         42820.568     supplementary education  \n",
              "5         40922.170       purchase of the house  \n",
              "...             ...                         ...  \n",
              "21519     18551.846  buy commercial real estate  \n",
              "21520     35966.698        housing transactions  \n",
              "21522     14347.610                    property  \n",
              "21523     39054.888           buying my own car  \n",
              "21524     13127.587                to buy a car  \n",
              "\n",
              "[15869 rows x 12 columns]"
            ],
            "text/html": [
              "\n",
              "  <div id=\"df-1c4407f1-d62a-45e2-9d33-663582e5d697\">\n",
              "    <div class=\"colab-df-container\">\n",
              "      <div>\n",
              "<style scoped>\n",
              "    .dataframe tbody tr th:only-of-type {\n",
              "        vertical-align: middle;\n",
              "    }\n",
              "\n",
              "    .dataframe tbody tr th {\n",
              "        vertical-align: top;\n",
              "    }\n",
              "\n",
              "    .dataframe thead th {\n",
              "        text-align: right;\n",
              "    }\n",
              "</style>\n",
              "<table border=\"1\" class=\"dataframe\">\n",
              "  <thead>\n",
              "    <tr style=\"text-align: right;\">\n",
              "      <th></th>\n",
              "      <th>children</th>\n",
              "      <th>days_employed</th>\n",
              "      <th>dob_years</th>\n",
              "      <th>education</th>\n",
              "      <th>education_id</th>\n",
              "      <th>family_status</th>\n",
              "      <th>family_status_id</th>\n",
              "      <th>gender</th>\n",
              "      <th>income_type</th>\n",
              "      <th>debt</th>\n",
              "      <th>total_income</th>\n",
              "      <th>purpose</th>\n",
              "    </tr>\n",
              "  </thead>\n",
              "  <tbody>\n",
              "    <tr>\n",
              "      <th>0</th>\n",
              "      <td>1</td>\n",
              "      <td>-8437.673028</td>\n",
              "      <td>42</td>\n",
              "      <td>bachelor's degree</td>\n",
              "      <td>0</td>\n",
              "      <td>married</td>\n",
              "      <td>0</td>\n",
              "      <td>F</td>\n",
              "      <td>employee</td>\n",
              "      <td>0</td>\n",
              "      <td>40620.102</td>\n",
              "      <td>purchase of the house</td>\n",
              "    </tr>\n",
              "    <tr>\n",
              "      <th>1</th>\n",
              "      <td>1</td>\n",
              "      <td>-4024.803754</td>\n",
              "      <td>36</td>\n",
              "      <td>secondary education</td>\n",
              "      <td>1</td>\n",
              "      <td>married</td>\n",
              "      <td>0</td>\n",
              "      <td>F</td>\n",
              "      <td>employee</td>\n",
              "      <td>0</td>\n",
              "      <td>17932.802</td>\n",
              "      <td>car purchase</td>\n",
              "    </tr>\n",
              "    <tr>\n",
              "      <th>2</th>\n",
              "      <td>0</td>\n",
              "      <td>-5623.422610</td>\n",
              "      <td>33</td>\n",
              "      <td>secondary education</td>\n",
              "      <td>1</td>\n",
              "      <td>married</td>\n",
              "      <td>0</td>\n",
              "      <td>M</td>\n",
              "      <td>employee</td>\n",
              "      <td>0</td>\n",
              "      <td>23341.752</td>\n",
              "      <td>purchase of the house</td>\n",
              "    </tr>\n",
              "    <tr>\n",
              "      <th>3</th>\n",
              "      <td>3</td>\n",
              "      <td>-4124.747207</td>\n",
              "      <td>32</td>\n",
              "      <td>secondary education</td>\n",
              "      <td>1</td>\n",
              "      <td>married</td>\n",
              "      <td>0</td>\n",
              "      <td>M</td>\n",
              "      <td>employee</td>\n",
              "      <td>0</td>\n",
              "      <td>42820.568</td>\n",
              "      <td>supplementary education</td>\n",
              "    </tr>\n",
              "    <tr>\n",
              "      <th>5</th>\n",
              "      <td>0</td>\n",
              "      <td>-926.185831</td>\n",
              "      <td>27</td>\n",
              "      <td>bachelor's degree</td>\n",
              "      <td>0</td>\n",
              "      <td>civil partnership</td>\n",
              "      <td>1</td>\n",
              "      <td>M</td>\n",
              "      <td>business</td>\n",
              "      <td>0</td>\n",
              "      <td>40922.170</td>\n",
              "      <td>purchase of the house</td>\n",
              "    </tr>\n",
              "    <tr>\n",
              "      <th>...</th>\n",
              "      <td>...</td>\n",
              "      <td>...</td>\n",
              "      <td>...</td>\n",
              "      <td>...</td>\n",
              "      <td>...</td>\n",
              "      <td>...</td>\n",
              "      <td>...</td>\n",
              "      <td>...</td>\n",
              "      <td>...</td>\n",
              "      <td>...</td>\n",
              "      <td>...</td>\n",
              "      <td>...</td>\n",
              "    </tr>\n",
              "    <tr>\n",
              "      <th>21519</th>\n",
              "      <td>1</td>\n",
              "      <td>-2351.431934</td>\n",
              "      <td>37</td>\n",
              "      <td>graduate degree</td>\n",
              "      <td>4</td>\n",
              "      <td>divorced</td>\n",
              "      <td>3</td>\n",
              "      <td>M</td>\n",
              "      <td>employee</td>\n",
              "      <td>0</td>\n",
              "      <td>18551.846</td>\n",
              "      <td>buy commercial real estate</td>\n",
              "    </tr>\n",
              "    <tr>\n",
              "      <th>21520</th>\n",
              "      <td>1</td>\n",
              "      <td>-4529.316663</td>\n",
              "      <td>43</td>\n",
              "      <td>secondary education</td>\n",
              "      <td>1</td>\n",
              "      <td>civil partnership</td>\n",
              "      <td>1</td>\n",
              "      <td>F</td>\n",
              "      <td>business</td>\n",
              "      <td>0</td>\n",
              "      <td>35966.698</td>\n",
              "      <td>housing transactions</td>\n",
              "    </tr>\n",
              "    <tr>\n",
              "      <th>21522</th>\n",
              "      <td>1</td>\n",
              "      <td>-2113.346888</td>\n",
              "      <td>38</td>\n",
              "      <td>secondary education</td>\n",
              "      <td>1</td>\n",
              "      <td>civil partnership</td>\n",
              "      <td>1</td>\n",
              "      <td>M</td>\n",
              "      <td>employee</td>\n",
              "      <td>1</td>\n",
              "      <td>14347.610</td>\n",
              "      <td>property</td>\n",
              "    </tr>\n",
              "    <tr>\n",
              "      <th>21523</th>\n",
              "      <td>3</td>\n",
              "      <td>-3112.481705</td>\n",
              "      <td>38</td>\n",
              "      <td>secondary education</td>\n",
              "      <td>1</td>\n",
              "      <td>married</td>\n",
              "      <td>0</td>\n",
              "      <td>M</td>\n",
              "      <td>employee</td>\n",
              "      <td>1</td>\n",
              "      <td>39054.888</td>\n",
              "      <td>buying my own car</td>\n",
              "    </tr>\n",
              "    <tr>\n",
              "      <th>21524</th>\n",
              "      <td>2</td>\n",
              "      <td>-1984.507589</td>\n",
              "      <td>40</td>\n",
              "      <td>secondary education</td>\n",
              "      <td>1</td>\n",
              "      <td>married</td>\n",
              "      <td>0</td>\n",
              "      <td>F</td>\n",
              "      <td>employee</td>\n",
              "      <td>0</td>\n",
              "      <td>13127.587</td>\n",
              "      <td>to buy a car</td>\n",
              "    </tr>\n",
              "  </tbody>\n",
              "</table>\n",
              "<p>15869 rows × 12 columns</p>\n",
              "</div>\n",
              "      <button class=\"colab-df-convert\" onclick=\"convertToInteractive('df-1c4407f1-d62a-45e2-9d33-663582e5d697')\"\n",
              "              title=\"Convert this dataframe to an interactive table.\"\n",
              "              style=\"display:none;\">\n",
              "        \n",
              "  <svg xmlns=\"http://www.w3.org/2000/svg\" height=\"24px\"viewBox=\"0 0 24 24\"\n",
              "       width=\"24px\">\n",
              "    <path d=\"M0 0h24v24H0V0z\" fill=\"none\"/>\n",
              "    <path d=\"M18.56 5.44l.94 2.06.94-2.06 2.06-.94-2.06-.94-.94-2.06-.94 2.06-2.06.94zm-11 1L8.5 8.5l.94-2.06 2.06-.94-2.06-.94L8.5 2.5l-.94 2.06-2.06.94zm10 10l.94 2.06.94-2.06 2.06-.94-2.06-.94-.94-2.06-.94 2.06-2.06.94z\"/><path d=\"M17.41 7.96l-1.37-1.37c-.4-.4-.92-.59-1.43-.59-.52 0-1.04.2-1.43.59L10.3 9.45l-7.72 7.72c-.78.78-.78 2.05 0 2.83L4 21.41c.39.39.9.59 1.41.59.51 0 1.02-.2 1.41-.59l7.78-7.78 2.81-2.81c.8-.78.8-2.07 0-2.86zM5.41 20L4 18.59l7.72-7.72 1.47 1.35L5.41 20z\"/>\n",
              "  </svg>\n",
              "      </button>\n",
              "      \n",
              "  <style>\n",
              "    .colab-df-container {\n",
              "      display:flex;\n",
              "      flex-wrap:wrap;\n",
              "      gap: 12px;\n",
              "    }\n",
              "\n",
              "    .colab-df-convert {\n",
              "      background-color: #E8F0FE;\n",
              "      border: none;\n",
              "      border-radius: 50%;\n",
              "      cursor: pointer;\n",
              "      display: none;\n",
              "      fill: #1967D2;\n",
              "      height: 32px;\n",
              "      padding: 0 0 0 0;\n",
              "      width: 32px;\n",
              "    }\n",
              "\n",
              "    .colab-df-convert:hover {\n",
              "      background-color: #E2EBFA;\n",
              "      box-shadow: 0px 1px 2px rgba(60, 64, 67, 0.3), 0px 1px 3px 1px rgba(60, 64, 67, 0.15);\n",
              "      fill: #174EA6;\n",
              "    }\n",
              "\n",
              "    [theme=dark] .colab-df-convert {\n",
              "      background-color: #3B4455;\n",
              "      fill: #D2E3FC;\n",
              "    }\n",
              "\n",
              "    [theme=dark] .colab-df-convert:hover {\n",
              "      background-color: #434B5C;\n",
              "      box-shadow: 0px 1px 3px 1px rgba(0, 0, 0, 0.15);\n",
              "      filter: drop-shadow(0px 1px 2px rgba(0, 0, 0, 0.3));\n",
              "      fill: #FFFFFF;\n",
              "    }\n",
              "  </style>\n",
              "\n",
              "      <script>\n",
              "        const buttonEl =\n",
              "          document.querySelector('#df-1c4407f1-d62a-45e2-9d33-663582e5d697 button.colab-df-convert');\n",
              "        buttonEl.style.display =\n",
              "          google.colab.kernel.accessAllowed ? 'block' : 'none';\n",
              "\n",
              "        async function convertToInteractive(key) {\n",
              "          const element = document.querySelector('#df-1c4407f1-d62a-45e2-9d33-663582e5d697');\n",
              "          const dataTable =\n",
              "            await google.colab.kernel.invokeFunction('convertToInteractive',\n",
              "                                                     [key], {});\n",
              "          if (!dataTable) return;\n",
              "\n",
              "          const docLinkHtml = 'Like what you see? Visit the ' +\n",
              "            '<a target=\"_blank\" href=https://colab.research.google.com/notebooks/data_table.ipynb>data table notebook</a>'\n",
              "            + ' to learn more about interactive tables.';\n",
              "          element.innerHTML = '';\n",
              "          dataTable['output_type'] = 'display_data';\n",
              "          await google.colab.output.renderOutput(dataTable, element);\n",
              "          const docLink = document.createElement('div');\n",
              "          docLink.innerHTML = docLinkHtml;\n",
              "          element.appendChild(docLink);\n",
              "        }\n",
              "      </script>\n",
              "    </div>\n",
              "  </div>\n",
              "  "
            ]
          },
          "metadata": {},
          "execution_count": 46
        }
      ],
      "source": [
        "# Quantidade de valores da coluna `days_employed` negativos:\n",
        "negative_days_employed = credit_scoring[credit_scoring['days_employed'] < 0]\n",
        "negative_days_employed"
      ]
    },
    {
      "cell_type": "code",
      "execution_count": 47,
      "metadata": {
        "colab": {
          "base_uri": "https://localhost:8080/"
        },
        "id": "nFnSidtiefxS",
        "outputId": "9a1f706e-e98a-4f0f-aae4-08b2f867f407"
      },
      "outputs": [
        {
          "output_type": "execute_result",
          "data": {
            "text/plain": [
              "73.884905484682"
            ]
          },
          "metadata": {},
          "execution_count": 47
        }
      ],
      "source": [
        "# Porcentagem dos valores negativos da coluna \"days_employed\"\n",
        "percentage_negative_days_employed = (15869 / len(credit_scoring['days_employed'].index)) * 100\n",
        "percentage_negative_days_employed"
      ]
    },
    {
      "cell_type": "markdown",
      "metadata": {
        "id": "0zYBJ5VMefxS"
      },
      "source": [
        "Cerca de 73% do nosso dataframe possue valores negativos, o que leva a conclusão que provavelmente esses erros foram ocasionados por problemas técnicos que multiplicaram esses dados por -1, deixando eles negativos e a solução seria usar o método abs() para deixar os valores positivos novamente e deixar eles o mais próximo da realidade.\n",
        "\n",
        "OBS: Os valores NaN serão tratados posteriormente."
      ]
    },
    {
      "cell_type": "code",
      "execution_count": 48,
      "metadata": {
        "id": "U5cGQ-uSefxT"
      },
      "outputs": [],
      "source": [
        "# Usando a função abs() para deixar os valores positivos\n",
        "days_employed = abs(credit_scoring['days_employed'])\n",
        "credit_scoring['days_employed'] = days_employed"
      ]
    },
    {
      "cell_type": "code",
      "execution_count": 49,
      "metadata": {
        "colab": {
          "base_uri": "https://localhost:8080/",
          "height": 661
        },
        "id": "h6O3_5RIefxT",
        "outputId": "4d268314-8318-4f50-82b1-7098021b2026"
      },
      "outputs": [
        {
          "output_type": "execute_result",
          "data": {
            "text/plain": [
              "       children  days_employed  dob_years            education  education_id  \\\n",
              "0             1    8437.673028         42    bachelor's degree             0   \n",
              "1             1    4024.803754         36  secondary education             1   \n",
              "2             0    5623.422610         33  secondary education             1   \n",
              "3             3    4124.747207         32  secondary education             1   \n",
              "4             0  340266.072047         53  secondary education             1   \n",
              "...         ...            ...        ...                  ...           ...   \n",
              "21520         1    4529.316663         43  secondary education             1   \n",
              "21521         0  343937.404131         67  secondary education             1   \n",
              "21522         1    2113.346888         38  secondary education             1   \n",
              "21523         3    3112.481705         38  secondary education             1   \n",
              "21524         2    1984.507589         40  secondary education             1   \n",
              "\n",
              "           family_status  family_status_id gender income_type  debt  \\\n",
              "0                married                 0      F    employee     0   \n",
              "1                married                 0      F    employee     0   \n",
              "2                married                 0      M    employee     0   \n",
              "3                married                 0      M    employee     0   \n",
              "4      civil partnership                 1      F     retiree     0   \n",
              "...                  ...               ...    ...         ...   ...   \n",
              "21520  civil partnership                 1      F    business     0   \n",
              "21521            married                 0      F     retiree     0   \n",
              "21522  civil partnership                 1      M    employee     1   \n",
              "21523            married                 0      M    employee     1   \n",
              "21524            married                 0      F    employee     0   \n",
              "\n",
              "       total_income                  purpose  \n",
              "0         40620.102    purchase of the house  \n",
              "1         17932.802             car purchase  \n",
              "2         23341.752    purchase of the house  \n",
              "3         42820.568  supplementary education  \n",
              "4         25378.572        to have a wedding  \n",
              "...             ...                      ...  \n",
              "21520     35966.698     housing transactions  \n",
              "21521     24959.969        purchase of a car  \n",
              "21522     14347.610                 property  \n",
              "21523     39054.888        buying my own car  \n",
              "21524     13127.587             to buy a car  \n",
              "\n",
              "[21478 rows x 12 columns]"
            ],
            "text/html": [
              "\n",
              "  <div id=\"df-dc098fbd-7bcc-4c18-ac10-3d9453e19b69\">\n",
              "    <div class=\"colab-df-container\">\n",
              "      <div>\n",
              "<style scoped>\n",
              "    .dataframe tbody tr th:only-of-type {\n",
              "        vertical-align: middle;\n",
              "    }\n",
              "\n",
              "    .dataframe tbody tr th {\n",
              "        vertical-align: top;\n",
              "    }\n",
              "\n",
              "    .dataframe thead th {\n",
              "        text-align: right;\n",
              "    }\n",
              "</style>\n",
              "<table border=\"1\" class=\"dataframe\">\n",
              "  <thead>\n",
              "    <tr style=\"text-align: right;\">\n",
              "      <th></th>\n",
              "      <th>children</th>\n",
              "      <th>days_employed</th>\n",
              "      <th>dob_years</th>\n",
              "      <th>education</th>\n",
              "      <th>education_id</th>\n",
              "      <th>family_status</th>\n",
              "      <th>family_status_id</th>\n",
              "      <th>gender</th>\n",
              "      <th>income_type</th>\n",
              "      <th>debt</th>\n",
              "      <th>total_income</th>\n",
              "      <th>purpose</th>\n",
              "    </tr>\n",
              "  </thead>\n",
              "  <tbody>\n",
              "    <tr>\n",
              "      <th>0</th>\n",
              "      <td>1</td>\n",
              "      <td>8437.673028</td>\n",
              "      <td>42</td>\n",
              "      <td>bachelor's degree</td>\n",
              "      <td>0</td>\n",
              "      <td>married</td>\n",
              "      <td>0</td>\n",
              "      <td>F</td>\n",
              "      <td>employee</td>\n",
              "      <td>0</td>\n",
              "      <td>40620.102</td>\n",
              "      <td>purchase of the house</td>\n",
              "    </tr>\n",
              "    <tr>\n",
              "      <th>1</th>\n",
              "      <td>1</td>\n",
              "      <td>4024.803754</td>\n",
              "      <td>36</td>\n",
              "      <td>secondary education</td>\n",
              "      <td>1</td>\n",
              "      <td>married</td>\n",
              "      <td>0</td>\n",
              "      <td>F</td>\n",
              "      <td>employee</td>\n",
              "      <td>0</td>\n",
              "      <td>17932.802</td>\n",
              "      <td>car purchase</td>\n",
              "    </tr>\n",
              "    <tr>\n",
              "      <th>2</th>\n",
              "      <td>0</td>\n",
              "      <td>5623.422610</td>\n",
              "      <td>33</td>\n",
              "      <td>secondary education</td>\n",
              "      <td>1</td>\n",
              "      <td>married</td>\n",
              "      <td>0</td>\n",
              "      <td>M</td>\n",
              "      <td>employee</td>\n",
              "      <td>0</td>\n",
              "      <td>23341.752</td>\n",
              "      <td>purchase of the house</td>\n",
              "    </tr>\n",
              "    <tr>\n",
              "      <th>3</th>\n",
              "      <td>3</td>\n",
              "      <td>4124.747207</td>\n",
              "      <td>32</td>\n",
              "      <td>secondary education</td>\n",
              "      <td>1</td>\n",
              "      <td>married</td>\n",
              "      <td>0</td>\n",
              "      <td>M</td>\n",
              "      <td>employee</td>\n",
              "      <td>0</td>\n",
              "      <td>42820.568</td>\n",
              "      <td>supplementary education</td>\n",
              "    </tr>\n",
              "    <tr>\n",
              "      <th>4</th>\n",
              "      <td>0</td>\n",
              "      <td>340266.072047</td>\n",
              "      <td>53</td>\n",
              "      <td>secondary education</td>\n",
              "      <td>1</td>\n",
              "      <td>civil partnership</td>\n",
              "      <td>1</td>\n",
              "      <td>F</td>\n",
              "      <td>retiree</td>\n",
              "      <td>0</td>\n",
              "      <td>25378.572</td>\n",
              "      <td>to have a wedding</td>\n",
              "    </tr>\n",
              "    <tr>\n",
              "      <th>...</th>\n",
              "      <td>...</td>\n",
              "      <td>...</td>\n",
              "      <td>...</td>\n",
              "      <td>...</td>\n",
              "      <td>...</td>\n",
              "      <td>...</td>\n",
              "      <td>...</td>\n",
              "      <td>...</td>\n",
              "      <td>...</td>\n",
              "      <td>...</td>\n",
              "      <td>...</td>\n",
              "      <td>...</td>\n",
              "    </tr>\n",
              "    <tr>\n",
              "      <th>21520</th>\n",
              "      <td>1</td>\n",
              "      <td>4529.316663</td>\n",
              "      <td>43</td>\n",
              "      <td>secondary education</td>\n",
              "      <td>1</td>\n",
              "      <td>civil partnership</td>\n",
              "      <td>1</td>\n",
              "      <td>F</td>\n",
              "      <td>business</td>\n",
              "      <td>0</td>\n",
              "      <td>35966.698</td>\n",
              "      <td>housing transactions</td>\n",
              "    </tr>\n",
              "    <tr>\n",
              "      <th>21521</th>\n",
              "      <td>0</td>\n",
              "      <td>343937.404131</td>\n",
              "      <td>67</td>\n",
              "      <td>secondary education</td>\n",
              "      <td>1</td>\n",
              "      <td>married</td>\n",
              "      <td>0</td>\n",
              "      <td>F</td>\n",
              "      <td>retiree</td>\n",
              "      <td>0</td>\n",
              "      <td>24959.969</td>\n",
              "      <td>purchase of a car</td>\n",
              "    </tr>\n",
              "    <tr>\n",
              "      <th>21522</th>\n",
              "      <td>1</td>\n",
              "      <td>2113.346888</td>\n",
              "      <td>38</td>\n",
              "      <td>secondary education</td>\n",
              "      <td>1</td>\n",
              "      <td>civil partnership</td>\n",
              "      <td>1</td>\n",
              "      <td>M</td>\n",
              "      <td>employee</td>\n",
              "      <td>1</td>\n",
              "      <td>14347.610</td>\n",
              "      <td>property</td>\n",
              "    </tr>\n",
              "    <tr>\n",
              "      <th>21523</th>\n",
              "      <td>3</td>\n",
              "      <td>3112.481705</td>\n",
              "      <td>38</td>\n",
              "      <td>secondary education</td>\n",
              "      <td>1</td>\n",
              "      <td>married</td>\n",
              "      <td>0</td>\n",
              "      <td>M</td>\n",
              "      <td>employee</td>\n",
              "      <td>1</td>\n",
              "      <td>39054.888</td>\n",
              "      <td>buying my own car</td>\n",
              "    </tr>\n",
              "    <tr>\n",
              "      <th>21524</th>\n",
              "      <td>2</td>\n",
              "      <td>1984.507589</td>\n",
              "      <td>40</td>\n",
              "      <td>secondary education</td>\n",
              "      <td>1</td>\n",
              "      <td>married</td>\n",
              "      <td>0</td>\n",
              "      <td>F</td>\n",
              "      <td>employee</td>\n",
              "      <td>0</td>\n",
              "      <td>13127.587</td>\n",
              "      <td>to buy a car</td>\n",
              "    </tr>\n",
              "  </tbody>\n",
              "</table>\n",
              "<p>21478 rows × 12 columns</p>\n",
              "</div>\n",
              "      <button class=\"colab-df-convert\" onclick=\"convertToInteractive('df-dc098fbd-7bcc-4c18-ac10-3d9453e19b69')\"\n",
              "              title=\"Convert this dataframe to an interactive table.\"\n",
              "              style=\"display:none;\">\n",
              "        \n",
              "  <svg xmlns=\"http://www.w3.org/2000/svg\" height=\"24px\"viewBox=\"0 0 24 24\"\n",
              "       width=\"24px\">\n",
              "    <path d=\"M0 0h24v24H0V0z\" fill=\"none\"/>\n",
              "    <path d=\"M18.56 5.44l.94 2.06.94-2.06 2.06-.94-2.06-.94-.94-2.06-.94 2.06-2.06.94zm-11 1L8.5 8.5l.94-2.06 2.06-.94-2.06-.94L8.5 2.5l-.94 2.06-2.06.94zm10 10l.94 2.06.94-2.06 2.06-.94-2.06-.94-.94-2.06-.94 2.06-2.06.94z\"/><path d=\"M17.41 7.96l-1.37-1.37c-.4-.4-.92-.59-1.43-.59-.52 0-1.04.2-1.43.59L10.3 9.45l-7.72 7.72c-.78.78-.78 2.05 0 2.83L4 21.41c.39.39.9.59 1.41.59.51 0 1.02-.2 1.41-.59l7.78-7.78 2.81-2.81c.8-.78.8-2.07 0-2.86zM5.41 20L4 18.59l7.72-7.72 1.47 1.35L5.41 20z\"/>\n",
              "  </svg>\n",
              "      </button>\n",
              "      \n",
              "  <style>\n",
              "    .colab-df-container {\n",
              "      display:flex;\n",
              "      flex-wrap:wrap;\n",
              "      gap: 12px;\n",
              "    }\n",
              "\n",
              "    .colab-df-convert {\n",
              "      background-color: #E8F0FE;\n",
              "      border: none;\n",
              "      border-radius: 50%;\n",
              "      cursor: pointer;\n",
              "      display: none;\n",
              "      fill: #1967D2;\n",
              "      height: 32px;\n",
              "      padding: 0 0 0 0;\n",
              "      width: 32px;\n",
              "    }\n",
              "\n",
              "    .colab-df-convert:hover {\n",
              "      background-color: #E2EBFA;\n",
              "      box-shadow: 0px 1px 2px rgba(60, 64, 67, 0.3), 0px 1px 3px 1px rgba(60, 64, 67, 0.15);\n",
              "      fill: #174EA6;\n",
              "    }\n",
              "\n",
              "    [theme=dark] .colab-df-convert {\n",
              "      background-color: #3B4455;\n",
              "      fill: #D2E3FC;\n",
              "    }\n",
              "\n",
              "    [theme=dark] .colab-df-convert:hover {\n",
              "      background-color: #434B5C;\n",
              "      box-shadow: 0px 1px 3px 1px rgba(0, 0, 0, 0.15);\n",
              "      filter: drop-shadow(0px 1px 2px rgba(0, 0, 0, 0.3));\n",
              "      fill: #FFFFFF;\n",
              "    }\n",
              "  </style>\n",
              "\n",
              "      <script>\n",
              "        const buttonEl =\n",
              "          document.querySelector('#df-dc098fbd-7bcc-4c18-ac10-3d9453e19b69 button.colab-df-convert');\n",
              "        buttonEl.style.display =\n",
              "          google.colab.kernel.accessAllowed ? 'block' : 'none';\n",
              "\n",
              "        async function convertToInteractive(key) {\n",
              "          const element = document.querySelector('#df-dc098fbd-7bcc-4c18-ac10-3d9453e19b69');\n",
              "          const dataTable =\n",
              "            await google.colab.kernel.invokeFunction('convertToInteractive',\n",
              "                                                     [key], {});\n",
              "          if (!dataTable) return;\n",
              "\n",
              "          const docLinkHtml = 'Like what you see? Visit the ' +\n",
              "            '<a target=\"_blank\" href=https://colab.research.google.com/notebooks/data_table.ipynb>data table notebook</a>'\n",
              "            + ' to learn more about interactive tables.';\n",
              "          element.innerHTML = '';\n",
              "          dataTable['output_type'] = 'display_data';\n",
              "          await google.colab.output.renderOutput(dataTable, element);\n",
              "          const docLink = document.createElement('div');\n",
              "          docLink.innerHTML = docLinkHtml;\n",
              "          element.appendChild(docLink);\n",
              "        }\n",
              "      </script>\n",
              "    </div>\n",
              "  </div>\n",
              "  "
            ]
          },
          "metadata": {},
          "execution_count": 49
        }
      ],
      "source": [
        "# Verifique o resultado - certifique-se de que está corrigido\n",
        "credit_scoring"
      ]
    },
    {
      "cell_type": "markdown",
      "metadata": {
        "id": "xlvSS9rjefxT"
      },
      "source": [
        "**4º Passo** - Mudar o `nome da coluna` <i>\"dob_years\"</i> e análisar os 101 valores que estão com a `idade zerada`:"
      ]
    },
    {
      "cell_type": "code",
      "execution_count": 50,
      "metadata": {
        "id": "ex7ikIVDefxU"
      },
      "outputs": [],
      "source": [
        "# Deixando o nome da coluna mais claro\n",
        "credit_scoring = credit_scoring.rename(columns={\n",
        "'dob_years': 'customer_age',\n",
        "})"
      ]
    },
    {
      "cell_type": "code",
      "execution_count": 51,
      "metadata": {
        "colab": {
          "base_uri": "https://localhost:8080/"
        },
        "id": "iJWsI5pKefxU",
        "outputId": "a0e7b8b4-0ab0-4811-c0b5-70d18800c601"
      },
      "outputs": [
        {
          "output_type": "execute_result",
          "data": {
            "text/plain": [
              "Index(['children', 'days_employed', 'customer_age', 'education',\n",
              "       'education_id', 'family_status', 'family_status_id', 'gender',\n",
              "       'income_type', 'debt', 'total_income', 'purpose'],\n",
              "      dtype='object')"
            ]
          },
          "metadata": {},
          "execution_count": 51
        }
      ],
      "source": [
        "credit_scoring.columns"
      ]
    },
    {
      "cell_type": "code",
      "execution_count": 52,
      "metadata": {
        "scrolled": true,
        "colab": {
          "base_uri": "https://localhost:8080/"
        },
        "id": "f-bHv5z6efxU",
        "outputId": "3be7b0ed-ba40-4575-d8b2-e4932c3d1277"
      },
      "outputs": [
        {
          "output_type": "execute_result",
          "data": {
            "text/plain": [
              "35    616\n",
              "40    607\n",
              "41    605\n",
              "34    600\n",
              "38    596\n",
              "42    595\n",
              "33    579\n",
              "39    573\n",
              "31    558\n",
              "36    555\n",
              "44    545\n",
              "29    545\n",
              "30    539\n",
              "48    537\n",
              "37    535\n",
              "50    512\n",
              "43    512\n",
              "49    508\n",
              "32    508\n",
              "28    501\n",
              "45    497\n",
              "27    492\n",
              "56    487\n",
              "52    484\n",
              "47    480\n",
              "54    477\n",
              "46    472\n",
              "58    461\n",
              "57    458\n",
              "53    458\n",
              "51    447\n",
              "59    443\n",
              "55    442\n",
              "26    407\n",
              "60    377\n",
              "25    357\n",
              "61    354\n",
              "62    352\n",
              "63    268\n",
              "64    264\n",
              "24    264\n",
              "23    253\n",
              "65    194\n",
              "22    183\n",
              "66    183\n",
              "67    167\n",
              "21    111\n",
              "0     101\n",
              "68     99\n",
              "69     84\n",
              "70     65\n",
              "71     58\n",
              "20     51\n",
              "72     33\n",
              "19     14\n",
              "73      8\n",
              "74      6\n",
              "75      1\n",
              "Name: customer_age, dtype: int64"
            ]
          },
          "metadata": {},
          "execution_count": 52
        }
      ],
      "source": [
        "# Verificando os valores da coluna `customer_age`\n",
        "credit_scoring['customer_age'].value_counts(dropna=False)"
      ]
    },
    {
      "cell_type": "code",
      "execution_count": 53,
      "metadata": {
        "colab": {
          "base_uri": "https://localhost:8080/",
          "height": 696
        },
        "id": "x767x-o6efxU",
        "outputId": "220bff37-3a27-4531-b5ca-ae28e0e914e4"
      },
      "outputs": [
        {
          "output_type": "execute_result",
          "data": {
            "text/plain": [
              "       children  days_employed  customer_age            education  \\\n",
              "99            0  346541.618895             0  secondary education   \n",
              "149           0    2664.273168             0  secondary education   \n",
              "270           3    1872.663186             0  secondary education   \n",
              "578           0  397856.565013             0  secondary education   \n",
              "1040          0    1158.029561             0    bachelor's degree   \n",
              "...         ...            ...           ...                  ...   \n",
              "19829         0            NaN             0  secondary education   \n",
              "20462         0  338734.868540             0  secondary education   \n",
              "20577         0  331741.271455             0  secondary education   \n",
              "21179         2     108.967042             0    bachelor's degree   \n",
              "21313         0    1268.487728             0  secondary education   \n",
              "\n",
              "       education_id family_status  family_status_id gender income_type  debt  \\\n",
              "99                1       married                 0      F     retiree     0   \n",
              "149               1      divorced                 3      F    employee     0   \n",
              "270               1       married                 0      F    employee     0   \n",
              "578               1       married                 0      F     retiree     0   \n",
              "1040              0      divorced                 3      F    business     0   \n",
              "...             ...           ...               ...    ...         ...   ...   \n",
              "19829             1       married                 0      F    employee     0   \n",
              "20462             1       married                 0      F     retiree     0   \n",
              "20577             1     unmarried                 4      F     retiree     0   \n",
              "21179             0       married                 0      M    business     0   \n",
              "21313             1     unmarried                 4      M    employee     0   \n",
              "\n",
              "       total_income                       purpose  \n",
              "99        11406.644                           car  \n",
              "149       11228.230          housing transactions  \n",
              "270       16346.633            housing renovation  \n",
              "578       15619.310  construction of own property  \n",
              "1040      48639.062                  to own a car  \n",
              "...             ...                           ...  \n",
              "19829           NaN                       housing  \n",
              "20462     41471.027      purchase of my own house  \n",
              "20577     20766.202                      property  \n",
              "21179     38512.321        building a real estate  \n",
              "21313     24387.070          housing transactions  \n",
              "\n",
              "[101 rows x 12 columns]"
            ],
            "text/html": [
              "\n",
              "  <div id=\"df-6e3beff6-50bb-4317-b338-54a5c231bd02\">\n",
              "    <div class=\"colab-df-container\">\n",
              "      <div>\n",
              "<style scoped>\n",
              "    .dataframe tbody tr th:only-of-type {\n",
              "        vertical-align: middle;\n",
              "    }\n",
              "\n",
              "    .dataframe tbody tr th {\n",
              "        vertical-align: top;\n",
              "    }\n",
              "\n",
              "    .dataframe thead th {\n",
              "        text-align: right;\n",
              "    }\n",
              "</style>\n",
              "<table border=\"1\" class=\"dataframe\">\n",
              "  <thead>\n",
              "    <tr style=\"text-align: right;\">\n",
              "      <th></th>\n",
              "      <th>children</th>\n",
              "      <th>days_employed</th>\n",
              "      <th>customer_age</th>\n",
              "      <th>education</th>\n",
              "      <th>education_id</th>\n",
              "      <th>family_status</th>\n",
              "      <th>family_status_id</th>\n",
              "      <th>gender</th>\n",
              "      <th>income_type</th>\n",
              "      <th>debt</th>\n",
              "      <th>total_income</th>\n",
              "      <th>purpose</th>\n",
              "    </tr>\n",
              "  </thead>\n",
              "  <tbody>\n",
              "    <tr>\n",
              "      <th>99</th>\n",
              "      <td>0</td>\n",
              "      <td>346541.618895</td>\n",
              "      <td>0</td>\n",
              "      <td>secondary education</td>\n",
              "      <td>1</td>\n",
              "      <td>married</td>\n",
              "      <td>0</td>\n",
              "      <td>F</td>\n",
              "      <td>retiree</td>\n",
              "      <td>0</td>\n",
              "      <td>11406.644</td>\n",
              "      <td>car</td>\n",
              "    </tr>\n",
              "    <tr>\n",
              "      <th>149</th>\n",
              "      <td>0</td>\n",
              "      <td>2664.273168</td>\n",
              "      <td>0</td>\n",
              "      <td>secondary education</td>\n",
              "      <td>1</td>\n",
              "      <td>divorced</td>\n",
              "      <td>3</td>\n",
              "      <td>F</td>\n",
              "      <td>employee</td>\n",
              "      <td>0</td>\n",
              "      <td>11228.230</td>\n",
              "      <td>housing transactions</td>\n",
              "    </tr>\n",
              "    <tr>\n",
              "      <th>270</th>\n",
              "      <td>3</td>\n",
              "      <td>1872.663186</td>\n",
              "      <td>0</td>\n",
              "      <td>secondary education</td>\n",
              "      <td>1</td>\n",
              "      <td>married</td>\n",
              "      <td>0</td>\n",
              "      <td>F</td>\n",
              "      <td>employee</td>\n",
              "      <td>0</td>\n",
              "      <td>16346.633</td>\n",
              "      <td>housing renovation</td>\n",
              "    </tr>\n",
              "    <tr>\n",
              "      <th>578</th>\n",
              "      <td>0</td>\n",
              "      <td>397856.565013</td>\n",
              "      <td>0</td>\n",
              "      <td>secondary education</td>\n",
              "      <td>1</td>\n",
              "      <td>married</td>\n",
              "      <td>0</td>\n",
              "      <td>F</td>\n",
              "      <td>retiree</td>\n",
              "      <td>0</td>\n",
              "      <td>15619.310</td>\n",
              "      <td>construction of own property</td>\n",
              "    </tr>\n",
              "    <tr>\n",
              "      <th>1040</th>\n",
              "      <td>0</td>\n",
              "      <td>1158.029561</td>\n",
              "      <td>0</td>\n",
              "      <td>bachelor's degree</td>\n",
              "      <td>0</td>\n",
              "      <td>divorced</td>\n",
              "      <td>3</td>\n",
              "      <td>F</td>\n",
              "      <td>business</td>\n",
              "      <td>0</td>\n",
              "      <td>48639.062</td>\n",
              "      <td>to own a car</td>\n",
              "    </tr>\n",
              "    <tr>\n",
              "      <th>...</th>\n",
              "      <td>...</td>\n",
              "      <td>...</td>\n",
              "      <td>...</td>\n",
              "      <td>...</td>\n",
              "      <td>...</td>\n",
              "      <td>...</td>\n",
              "      <td>...</td>\n",
              "      <td>...</td>\n",
              "      <td>...</td>\n",
              "      <td>...</td>\n",
              "      <td>...</td>\n",
              "      <td>...</td>\n",
              "    </tr>\n",
              "    <tr>\n",
              "      <th>19829</th>\n",
              "      <td>0</td>\n",
              "      <td>NaN</td>\n",
              "      <td>0</td>\n",
              "      <td>secondary education</td>\n",
              "      <td>1</td>\n",
              "      <td>married</td>\n",
              "      <td>0</td>\n",
              "      <td>F</td>\n",
              "      <td>employee</td>\n",
              "      <td>0</td>\n",
              "      <td>NaN</td>\n",
              "      <td>housing</td>\n",
              "    </tr>\n",
              "    <tr>\n",
              "      <th>20462</th>\n",
              "      <td>0</td>\n",
              "      <td>338734.868540</td>\n",
              "      <td>0</td>\n",
              "      <td>secondary education</td>\n",
              "      <td>1</td>\n",
              "      <td>married</td>\n",
              "      <td>0</td>\n",
              "      <td>F</td>\n",
              "      <td>retiree</td>\n",
              "      <td>0</td>\n",
              "      <td>41471.027</td>\n",
              "      <td>purchase of my own house</td>\n",
              "    </tr>\n",
              "    <tr>\n",
              "      <th>20577</th>\n",
              "      <td>0</td>\n",
              "      <td>331741.271455</td>\n",
              "      <td>0</td>\n",
              "      <td>secondary education</td>\n",
              "      <td>1</td>\n",
              "      <td>unmarried</td>\n",
              "      <td>4</td>\n",
              "      <td>F</td>\n",
              "      <td>retiree</td>\n",
              "      <td>0</td>\n",
              "      <td>20766.202</td>\n",
              "      <td>property</td>\n",
              "    </tr>\n",
              "    <tr>\n",
              "      <th>21179</th>\n",
              "      <td>2</td>\n",
              "      <td>108.967042</td>\n",
              "      <td>0</td>\n",
              "      <td>bachelor's degree</td>\n",
              "      <td>0</td>\n",
              "      <td>married</td>\n",
              "      <td>0</td>\n",
              "      <td>M</td>\n",
              "      <td>business</td>\n",
              "      <td>0</td>\n",
              "      <td>38512.321</td>\n",
              "      <td>building a real estate</td>\n",
              "    </tr>\n",
              "    <tr>\n",
              "      <th>21313</th>\n",
              "      <td>0</td>\n",
              "      <td>1268.487728</td>\n",
              "      <td>0</td>\n",
              "      <td>secondary education</td>\n",
              "      <td>1</td>\n",
              "      <td>unmarried</td>\n",
              "      <td>4</td>\n",
              "      <td>M</td>\n",
              "      <td>employee</td>\n",
              "      <td>0</td>\n",
              "      <td>24387.070</td>\n",
              "      <td>housing transactions</td>\n",
              "    </tr>\n",
              "  </tbody>\n",
              "</table>\n",
              "<p>101 rows × 12 columns</p>\n",
              "</div>\n",
              "      <button class=\"colab-df-convert\" onclick=\"convertToInteractive('df-6e3beff6-50bb-4317-b338-54a5c231bd02')\"\n",
              "              title=\"Convert this dataframe to an interactive table.\"\n",
              "              style=\"display:none;\">\n",
              "        \n",
              "  <svg xmlns=\"http://www.w3.org/2000/svg\" height=\"24px\"viewBox=\"0 0 24 24\"\n",
              "       width=\"24px\">\n",
              "    <path d=\"M0 0h24v24H0V0z\" fill=\"none\"/>\n",
              "    <path d=\"M18.56 5.44l.94 2.06.94-2.06 2.06-.94-2.06-.94-.94-2.06-.94 2.06-2.06.94zm-11 1L8.5 8.5l.94-2.06 2.06-.94-2.06-.94L8.5 2.5l-.94 2.06-2.06.94zm10 10l.94 2.06.94-2.06 2.06-.94-2.06-.94-.94-2.06-.94 2.06-2.06.94z\"/><path d=\"M17.41 7.96l-1.37-1.37c-.4-.4-.92-.59-1.43-.59-.52 0-1.04.2-1.43.59L10.3 9.45l-7.72 7.72c-.78.78-.78 2.05 0 2.83L4 21.41c.39.39.9.59 1.41.59.51 0 1.02-.2 1.41-.59l7.78-7.78 2.81-2.81c.8-.78.8-2.07 0-2.86zM5.41 20L4 18.59l7.72-7.72 1.47 1.35L5.41 20z\"/>\n",
              "  </svg>\n",
              "      </button>\n",
              "      \n",
              "  <style>\n",
              "    .colab-df-container {\n",
              "      display:flex;\n",
              "      flex-wrap:wrap;\n",
              "      gap: 12px;\n",
              "    }\n",
              "\n",
              "    .colab-df-convert {\n",
              "      background-color: #E8F0FE;\n",
              "      border: none;\n",
              "      border-radius: 50%;\n",
              "      cursor: pointer;\n",
              "      display: none;\n",
              "      fill: #1967D2;\n",
              "      height: 32px;\n",
              "      padding: 0 0 0 0;\n",
              "      width: 32px;\n",
              "    }\n",
              "\n",
              "    .colab-df-convert:hover {\n",
              "      background-color: #E2EBFA;\n",
              "      box-shadow: 0px 1px 2px rgba(60, 64, 67, 0.3), 0px 1px 3px 1px rgba(60, 64, 67, 0.15);\n",
              "      fill: #174EA6;\n",
              "    }\n",
              "\n",
              "    [theme=dark] .colab-df-convert {\n",
              "      background-color: #3B4455;\n",
              "      fill: #D2E3FC;\n",
              "    }\n",
              "\n",
              "    [theme=dark] .colab-df-convert:hover {\n",
              "      background-color: #434B5C;\n",
              "      box-shadow: 0px 1px 3px 1px rgba(0, 0, 0, 0.15);\n",
              "      filter: drop-shadow(0px 1px 2px rgba(0, 0, 0, 0.3));\n",
              "      fill: #FFFFFF;\n",
              "    }\n",
              "  </style>\n",
              "\n",
              "      <script>\n",
              "        const buttonEl =\n",
              "          document.querySelector('#df-6e3beff6-50bb-4317-b338-54a5c231bd02 button.colab-df-convert');\n",
              "        buttonEl.style.display =\n",
              "          google.colab.kernel.accessAllowed ? 'block' : 'none';\n",
              "\n",
              "        async function convertToInteractive(key) {\n",
              "          const element = document.querySelector('#df-6e3beff6-50bb-4317-b338-54a5c231bd02');\n",
              "          const dataTable =\n",
              "            await google.colab.kernel.invokeFunction('convertToInteractive',\n",
              "                                                     [key], {});\n",
              "          if (!dataTable) return;\n",
              "\n",
              "          const docLinkHtml = 'Like what you see? Visit the ' +\n",
              "            '<a target=\"_blank\" href=https://colab.research.google.com/notebooks/data_table.ipynb>data table notebook</a>'\n",
              "            + ' to learn more about interactive tables.';\n",
              "          element.innerHTML = '';\n",
              "          dataTable['output_type'] = 'display_data';\n",
              "          await google.colab.output.renderOutput(dataTable, element);\n",
              "          const docLink = document.createElement('div');\n",
              "          docLink.innerHTML = docLinkHtml;\n",
              "          element.appendChild(docLink);\n",
              "        }\n",
              "      </script>\n",
              "    </div>\n",
              "  </div>\n",
              "  "
            ]
          },
          "metadata": {},
          "execution_count": 53
        }
      ],
      "source": [
        "# Analisadndo o dataframe somente com os valores que estão zerados:\n",
        "\n",
        "customer_age_zero = credit_scoring[credit_scoring['customer_age'] == 0]\n",
        "customer_age_zero"
      ]
    },
    {
      "cell_type": "markdown",
      "metadata": {
        "id": "sWNSAfAxefxV"
      },
      "source": [
        "Como se trata de uma váriavel quantitativa e que não há valores atípicos significativos, será necessário calcular a média entre as idade e adiciona-las na tabela para não deixar os valores ausentes."
      ]
    },
    {
      "cell_type": "code",
      "execution_count": 54,
      "metadata": {
        "id": "5sEWbX2DefxV"
      },
      "outputs": [],
      "source": [
        "# Filtrando onde não tem os valores zerados\n",
        "credit_scoring_no_zero = credit_scoring[credit_scoring['customer_age']!= 0]\n",
        "\n",
        "# Calculando a média da idade para cada gênero\n",
        "age_avg = credit_scoring_no_zero['customer_age'].mean()\n",
        "\n",
        "credit_scoring['customer_age'] = credit_scoring['customer_age'].replace(0, 43.49950881788838)"
      ]
    },
    {
      "cell_type": "code",
      "execution_count": 55,
      "metadata": {
        "colab": {
          "base_uri": "https://localhost:8080/",
          "height": 113
        },
        "id": "6jubtGX9efxV",
        "outputId": "fe68507e-ab3e-4adb-9e78-9d652b225d7e"
      },
      "outputs": [
        {
          "output_type": "execute_result",
          "data": {
            "text/plain": [
              "Empty DataFrame\n",
              "Columns: [children, days_employed, customer_age, education, education_id, family_status, family_status_id, gender, income_type, debt, total_income, purpose]\n",
              "Index: []"
            ],
            "text/html": [
              "\n",
              "  <div id=\"df-b586e43e-eed3-49c2-8930-fd6ae67245c4\">\n",
              "    <div class=\"colab-df-container\">\n",
              "      <div>\n",
              "<style scoped>\n",
              "    .dataframe tbody tr th:only-of-type {\n",
              "        vertical-align: middle;\n",
              "    }\n",
              "\n",
              "    .dataframe tbody tr th {\n",
              "        vertical-align: top;\n",
              "    }\n",
              "\n",
              "    .dataframe thead th {\n",
              "        text-align: right;\n",
              "    }\n",
              "</style>\n",
              "<table border=\"1\" class=\"dataframe\">\n",
              "  <thead>\n",
              "    <tr style=\"text-align: right;\">\n",
              "      <th></th>\n",
              "      <th>children</th>\n",
              "      <th>days_employed</th>\n",
              "      <th>customer_age</th>\n",
              "      <th>education</th>\n",
              "      <th>education_id</th>\n",
              "      <th>family_status</th>\n",
              "      <th>family_status_id</th>\n",
              "      <th>gender</th>\n",
              "      <th>income_type</th>\n",
              "      <th>debt</th>\n",
              "      <th>total_income</th>\n",
              "      <th>purpose</th>\n",
              "    </tr>\n",
              "  </thead>\n",
              "  <tbody>\n",
              "  </tbody>\n",
              "</table>\n",
              "</div>\n",
              "      <button class=\"colab-df-convert\" onclick=\"convertToInteractive('df-b586e43e-eed3-49c2-8930-fd6ae67245c4')\"\n",
              "              title=\"Convert this dataframe to an interactive table.\"\n",
              "              style=\"display:none;\">\n",
              "        \n",
              "  <svg xmlns=\"http://www.w3.org/2000/svg\" height=\"24px\"viewBox=\"0 0 24 24\"\n",
              "       width=\"24px\">\n",
              "    <path d=\"M0 0h24v24H0V0z\" fill=\"none\"/>\n",
              "    <path d=\"M18.56 5.44l.94 2.06.94-2.06 2.06-.94-2.06-.94-.94-2.06-.94 2.06-2.06.94zm-11 1L8.5 8.5l.94-2.06 2.06-.94-2.06-.94L8.5 2.5l-.94 2.06-2.06.94zm10 10l.94 2.06.94-2.06 2.06-.94-2.06-.94-.94-2.06-.94 2.06-2.06.94z\"/><path d=\"M17.41 7.96l-1.37-1.37c-.4-.4-.92-.59-1.43-.59-.52 0-1.04.2-1.43.59L10.3 9.45l-7.72 7.72c-.78.78-.78 2.05 0 2.83L4 21.41c.39.39.9.59 1.41.59.51 0 1.02-.2 1.41-.59l7.78-7.78 2.81-2.81c.8-.78.8-2.07 0-2.86zM5.41 20L4 18.59l7.72-7.72 1.47 1.35L5.41 20z\"/>\n",
              "  </svg>\n",
              "      </button>\n",
              "      \n",
              "  <style>\n",
              "    .colab-df-container {\n",
              "      display:flex;\n",
              "      flex-wrap:wrap;\n",
              "      gap: 12px;\n",
              "    }\n",
              "\n",
              "    .colab-df-convert {\n",
              "      background-color: #E8F0FE;\n",
              "      border: none;\n",
              "      border-radius: 50%;\n",
              "      cursor: pointer;\n",
              "      display: none;\n",
              "      fill: #1967D2;\n",
              "      height: 32px;\n",
              "      padding: 0 0 0 0;\n",
              "      width: 32px;\n",
              "    }\n",
              "\n",
              "    .colab-df-convert:hover {\n",
              "      background-color: #E2EBFA;\n",
              "      box-shadow: 0px 1px 2px rgba(60, 64, 67, 0.3), 0px 1px 3px 1px rgba(60, 64, 67, 0.15);\n",
              "      fill: #174EA6;\n",
              "    }\n",
              "\n",
              "    [theme=dark] .colab-df-convert {\n",
              "      background-color: #3B4455;\n",
              "      fill: #D2E3FC;\n",
              "    }\n",
              "\n",
              "    [theme=dark] .colab-df-convert:hover {\n",
              "      background-color: #434B5C;\n",
              "      box-shadow: 0px 1px 3px 1px rgba(0, 0, 0, 0.15);\n",
              "      filter: drop-shadow(0px 1px 2px rgba(0, 0, 0, 0.3));\n",
              "      fill: #FFFFFF;\n",
              "    }\n",
              "  </style>\n",
              "\n",
              "      <script>\n",
              "        const buttonEl =\n",
              "          document.querySelector('#df-b586e43e-eed3-49c2-8930-fd6ae67245c4 button.colab-df-convert');\n",
              "        buttonEl.style.display =\n",
              "          google.colab.kernel.accessAllowed ? 'block' : 'none';\n",
              "\n",
              "        async function convertToInteractive(key) {\n",
              "          const element = document.querySelector('#df-b586e43e-eed3-49c2-8930-fd6ae67245c4');\n",
              "          const dataTable =\n",
              "            await google.colab.kernel.invokeFunction('convertToInteractive',\n",
              "                                                     [key], {});\n",
              "          if (!dataTable) return;\n",
              "\n",
              "          const docLinkHtml = 'Like what you see? Visit the ' +\n",
              "            '<a target=\"_blank\" href=https://colab.research.google.com/notebooks/data_table.ipynb>data table notebook</a>'\n",
              "            + ' to learn more about interactive tables.';\n",
              "          element.innerHTML = '';\n",
              "          dataTable['output_type'] = 'display_data';\n",
              "          await google.colab.output.renderOutput(dataTable, element);\n",
              "          const docLink = document.createElement('div');\n",
              "          docLink.innerHTML = docLinkHtml;\n",
              "          element.appendChild(docLink);\n",
              "        }\n",
              "      </script>\n",
              "    </div>\n",
              "  </div>\n",
              "  "
            ]
          },
          "metadata": {},
          "execution_count": 55
        }
      ],
      "source": [
        "# Verifique o resultado - certifique-se de que está corrigido\n",
        "credit_scoring[credit_scoring['customer_age'] == 0]"
      ]
    },
    {
      "cell_type": "markdown",
      "metadata": {
        "id": "sAGkGkAGefxW"
      },
      "source": [
        "**5º Passo** - Ajustar a coluna <i>\"gender\"</i> que tem uma pessoa com o sexo \"XNA\" que `não existe`"
      ]
    },
    {
      "cell_type": "code",
      "execution_count": 56,
      "metadata": {
        "colab": {
          "base_uri": "https://localhost:8080/"
        },
        "id": "8mWHUpBaefxW",
        "outputId": "877aad22-5ec5-4c86-8ea3-1f65f962ed5f"
      },
      "outputs": [
        {
          "output_type": "execute_result",
          "data": {
            "text/plain": [
              "F      14201\n",
              "M       7276\n",
              "XNA        1\n",
              "Name: gender, dtype: int64"
            ]
          },
          "metadata": {},
          "execution_count": 56
        }
      ],
      "source": [
        "# Validando os valores da coluna \"genre\" \n",
        "credit_scoring['gender'].value_counts(dropna=False)"
      ]
    },
    {
      "cell_type": "code",
      "execution_count": 57,
      "metadata": {
        "id": "8-amC3PoefxW"
      },
      "outputs": [],
      "source": [
        "# Como se trata de apenas um valor, iremos deleta-lo, para não impactar na nossa análise:\n",
        "\n",
        "XNA_gender = credit_scoring[credit_scoring['gender'] == 'XNA']\n",
        "credit_scoring = credit_scoring.drop(XNA_gender.index)"
      ]
    },
    {
      "cell_type": "code",
      "execution_count": 58,
      "metadata": {
        "colab": {
          "base_uri": "https://localhost:8080/"
        },
        "id": "srtjM1DvefxW",
        "outputId": "337891e2-ede0-41c4-eee2-c4c870ecba70"
      },
      "outputs": [
        {
          "output_type": "execute_result",
          "data": {
            "text/plain": [
              "F    14201\n",
              "M     7276\n",
              "Name: gender, dtype: int64"
            ]
          },
          "metadata": {},
          "execution_count": 58
        }
      ],
      "source": [
        "# Verificando o resultado \n",
        "credit_scoring['gender'].value_counts(dropna=False)\n"
      ]
    },
    {
      "cell_type": "markdown",
      "metadata": {
        "id": "qpB5OnLKefxX"
      },
      "source": [
        "### Duplicatas <a id='duplicates'></a>"
      ]
    },
    {
      "cell_type": "code",
      "execution_count": 59,
      "metadata": {
        "colab": {
          "base_uri": "https://localhost:8080/"
        },
        "id": "C5u8CvlOefxX",
        "outputId": "9a745692-4f88-45ca-a2c8-b10084f8632c"
      },
      "outputs": [
        {
          "output_type": "execute_result",
          "data": {
            "text/plain": [
              "71"
            ]
          },
          "metadata": {},
          "execution_count": 59
        }
      ],
      "source": [
        "# Verificando as duplicatas\n",
        "credit_scoring.duplicated().sum()\n"
      ]
    },
    {
      "cell_type": "code",
      "execution_count": 60,
      "metadata": {
        "id": "JOydDVozefxX"
      },
      "outputs": [],
      "source": [
        "# Deletando os valores duplicados\n",
        "credit_scoring = credit_scoring.drop_duplicates().reset_index(drop = True)"
      ]
    },
    {
      "cell_type": "code",
      "execution_count": 61,
      "metadata": {
        "colab": {
          "base_uri": "https://localhost:8080/"
        },
        "id": "DbmilHT6efxY",
        "outputId": "a62ad82e-bab8-4396-e51d-ff346b7c2431"
      },
      "outputs": [
        {
          "output_type": "execute_result",
          "data": {
            "text/plain": [
              "0"
            ]
          },
          "metadata": {},
          "execution_count": 61
        }
      ],
      "source": [
        "# Validando se o ajuste deu certo\n",
        "credit_scoring.duplicated().sum()"
      ]
    },
    {
      "cell_type": "code",
      "execution_count": 62,
      "metadata": {
        "colab": {
          "base_uri": "https://localhost:8080/"
        },
        "id": "ZZpenkGlefxY",
        "outputId": "5704eb73-42ba-4694-9855-cd0e0346f760"
      },
      "outputs": [
        {
          "output_type": "stream",
          "name": "stdout",
          "text": [
            "<class 'pandas.core.frame.DataFrame'>\n",
            "RangeIndex: 21406 entries, 0 to 21405\n",
            "Data columns (total 12 columns):\n",
            " #   Column            Non-Null Count  Dtype  \n",
            "---  ------            --------------  -----  \n",
            " 0   children          21406 non-null  int64  \n",
            " 1   days_employed     19306 non-null  float64\n",
            " 2   customer_age      21406 non-null  float64\n",
            " 3   education         21406 non-null  object \n",
            " 4   education_id      21406 non-null  int64  \n",
            " 5   family_status     21406 non-null  object \n",
            " 6   family_status_id  21406 non-null  int64  \n",
            " 7   gender            21406 non-null  object \n",
            " 8   income_type       21406 non-null  object \n",
            " 9   debt              21406 non-null  int64  \n",
            " 10  total_income      19306 non-null  float64\n",
            " 11  purpose           21406 non-null  object \n",
            "dtypes: float64(3), int64(4), object(5)\n",
            "memory usage: 2.0+ MB\n"
          ]
        }
      ],
      "source": [
        "#Verificando o tamanho do conjunto de dados após modificação\n",
        "credit_scoring.info()"
      ]
    },
    {
      "cell_type": "code",
      "execution_count": 63,
      "metadata": {
        "scrolled": true,
        "colab": {
          "base_uri": "https://localhost:8080/",
          "height": 344
        },
        "id": "QrCy0LdqefxY",
        "outputId": "01e68ee5-9322-4ac2-e560-d92257973007"
      },
      "outputs": [
        {
          "output_type": "execute_result",
          "data": {
            "text/plain": [
              "           children  days_employed  customer_age  education_id  \\\n",
              "count  21406.000000   19306.000000  21406.000000  21406.000000   \n",
              "mean       0.479445   66935.937260     43.478905      0.817014   \n",
              "std        0.756517  139052.078307     12.215010      0.548862   \n",
              "min        0.000000      24.141633     19.000000      0.000000   \n",
              "25%        0.000000     926.990457     33.000000      1.000000   \n",
              "50%        0.000000    2194.190166     43.000000      1.000000   \n",
              "75%        1.000000    5541.117779     53.000000      1.000000   \n",
              "max        5.000000  401755.400475     75.000000      4.000000   \n",
              "\n",
              "       family_status_id          debt   total_income  \n",
              "count      21406.000000  21406.000000   19306.000000  \n",
              "mean           0.973933      0.081286   26792.210382  \n",
              "std            1.421618      0.273280   16485.907915  \n",
              "min            0.000000      0.000000    3306.762000  \n",
              "25%            0.000000      0.000000   16481.736750  \n",
              "50%            0.000000      0.000000   23201.873500  \n",
              "75%            1.000000      0.000000   32551.974250  \n",
              "max            4.000000      1.000000  362496.645000  "
            ],
            "text/html": [
              "\n",
              "  <div id=\"df-720e8fd7-b6cf-4ff9-91b9-a31b39951172\">\n",
              "    <div class=\"colab-df-container\">\n",
              "      <div>\n",
              "<style scoped>\n",
              "    .dataframe tbody tr th:only-of-type {\n",
              "        vertical-align: middle;\n",
              "    }\n",
              "\n",
              "    .dataframe tbody tr th {\n",
              "        vertical-align: top;\n",
              "    }\n",
              "\n",
              "    .dataframe thead th {\n",
              "        text-align: right;\n",
              "    }\n",
              "</style>\n",
              "<table border=\"1\" class=\"dataframe\">\n",
              "  <thead>\n",
              "    <tr style=\"text-align: right;\">\n",
              "      <th></th>\n",
              "      <th>children</th>\n",
              "      <th>days_employed</th>\n",
              "      <th>customer_age</th>\n",
              "      <th>education_id</th>\n",
              "      <th>family_status_id</th>\n",
              "      <th>debt</th>\n",
              "      <th>total_income</th>\n",
              "    </tr>\n",
              "  </thead>\n",
              "  <tbody>\n",
              "    <tr>\n",
              "      <th>count</th>\n",
              "      <td>21406.000000</td>\n",
              "      <td>19306.000000</td>\n",
              "      <td>21406.000000</td>\n",
              "      <td>21406.000000</td>\n",
              "      <td>21406.000000</td>\n",
              "      <td>21406.000000</td>\n",
              "      <td>19306.000000</td>\n",
              "    </tr>\n",
              "    <tr>\n",
              "      <th>mean</th>\n",
              "      <td>0.479445</td>\n",
              "      <td>66935.937260</td>\n",
              "      <td>43.478905</td>\n",
              "      <td>0.817014</td>\n",
              "      <td>0.973933</td>\n",
              "      <td>0.081286</td>\n",
              "      <td>26792.210382</td>\n",
              "    </tr>\n",
              "    <tr>\n",
              "      <th>std</th>\n",
              "      <td>0.756517</td>\n",
              "      <td>139052.078307</td>\n",
              "      <td>12.215010</td>\n",
              "      <td>0.548862</td>\n",
              "      <td>1.421618</td>\n",
              "      <td>0.273280</td>\n",
              "      <td>16485.907915</td>\n",
              "    </tr>\n",
              "    <tr>\n",
              "      <th>min</th>\n",
              "      <td>0.000000</td>\n",
              "      <td>24.141633</td>\n",
              "      <td>19.000000</td>\n",
              "      <td>0.000000</td>\n",
              "      <td>0.000000</td>\n",
              "      <td>0.000000</td>\n",
              "      <td>3306.762000</td>\n",
              "    </tr>\n",
              "    <tr>\n",
              "      <th>25%</th>\n",
              "      <td>0.000000</td>\n",
              "      <td>926.990457</td>\n",
              "      <td>33.000000</td>\n",
              "      <td>1.000000</td>\n",
              "      <td>0.000000</td>\n",
              "      <td>0.000000</td>\n",
              "      <td>16481.736750</td>\n",
              "    </tr>\n",
              "    <tr>\n",
              "      <th>50%</th>\n",
              "      <td>0.000000</td>\n",
              "      <td>2194.190166</td>\n",
              "      <td>43.000000</td>\n",
              "      <td>1.000000</td>\n",
              "      <td>0.000000</td>\n",
              "      <td>0.000000</td>\n",
              "      <td>23201.873500</td>\n",
              "    </tr>\n",
              "    <tr>\n",
              "      <th>75%</th>\n",
              "      <td>1.000000</td>\n",
              "      <td>5541.117779</td>\n",
              "      <td>53.000000</td>\n",
              "      <td>1.000000</td>\n",
              "      <td>1.000000</td>\n",
              "      <td>0.000000</td>\n",
              "      <td>32551.974250</td>\n",
              "    </tr>\n",
              "    <tr>\n",
              "      <th>max</th>\n",
              "      <td>5.000000</td>\n",
              "      <td>401755.400475</td>\n",
              "      <td>75.000000</td>\n",
              "      <td>4.000000</td>\n",
              "      <td>4.000000</td>\n",
              "      <td>1.000000</td>\n",
              "      <td>362496.645000</td>\n",
              "    </tr>\n",
              "  </tbody>\n",
              "</table>\n",
              "</div>\n",
              "      <button class=\"colab-df-convert\" onclick=\"convertToInteractive('df-720e8fd7-b6cf-4ff9-91b9-a31b39951172')\"\n",
              "              title=\"Convert this dataframe to an interactive table.\"\n",
              "              style=\"display:none;\">\n",
              "        \n",
              "  <svg xmlns=\"http://www.w3.org/2000/svg\" height=\"24px\"viewBox=\"0 0 24 24\"\n",
              "       width=\"24px\">\n",
              "    <path d=\"M0 0h24v24H0V0z\" fill=\"none\"/>\n",
              "    <path d=\"M18.56 5.44l.94 2.06.94-2.06 2.06-.94-2.06-.94-.94-2.06-.94 2.06-2.06.94zm-11 1L8.5 8.5l.94-2.06 2.06-.94-2.06-.94L8.5 2.5l-.94 2.06-2.06.94zm10 10l.94 2.06.94-2.06 2.06-.94-2.06-.94-.94-2.06-.94 2.06-2.06.94z\"/><path d=\"M17.41 7.96l-1.37-1.37c-.4-.4-.92-.59-1.43-.59-.52 0-1.04.2-1.43.59L10.3 9.45l-7.72 7.72c-.78.78-.78 2.05 0 2.83L4 21.41c.39.39.9.59 1.41.59.51 0 1.02-.2 1.41-.59l7.78-7.78 2.81-2.81c.8-.78.8-2.07 0-2.86zM5.41 20L4 18.59l7.72-7.72 1.47 1.35L5.41 20z\"/>\n",
              "  </svg>\n",
              "      </button>\n",
              "      \n",
              "  <style>\n",
              "    .colab-df-container {\n",
              "      display:flex;\n",
              "      flex-wrap:wrap;\n",
              "      gap: 12px;\n",
              "    }\n",
              "\n",
              "    .colab-df-convert {\n",
              "      background-color: #E8F0FE;\n",
              "      border: none;\n",
              "      border-radius: 50%;\n",
              "      cursor: pointer;\n",
              "      display: none;\n",
              "      fill: #1967D2;\n",
              "      height: 32px;\n",
              "      padding: 0 0 0 0;\n",
              "      width: 32px;\n",
              "    }\n",
              "\n",
              "    .colab-df-convert:hover {\n",
              "      background-color: #E2EBFA;\n",
              "      box-shadow: 0px 1px 2px rgba(60, 64, 67, 0.3), 0px 1px 3px 1px rgba(60, 64, 67, 0.15);\n",
              "      fill: #174EA6;\n",
              "    }\n",
              "\n",
              "    [theme=dark] .colab-df-convert {\n",
              "      background-color: #3B4455;\n",
              "      fill: #D2E3FC;\n",
              "    }\n",
              "\n",
              "    [theme=dark] .colab-df-convert:hover {\n",
              "      background-color: #434B5C;\n",
              "      box-shadow: 0px 1px 3px 1px rgba(0, 0, 0, 0.15);\n",
              "      filter: drop-shadow(0px 1px 2px rgba(0, 0, 0, 0.3));\n",
              "      fill: #FFFFFF;\n",
              "    }\n",
              "  </style>\n",
              "\n",
              "      <script>\n",
              "        const buttonEl =\n",
              "          document.querySelector('#df-720e8fd7-b6cf-4ff9-91b9-a31b39951172 button.colab-df-convert');\n",
              "        buttonEl.style.display =\n",
              "          google.colab.kernel.accessAllowed ? 'block' : 'none';\n",
              "\n",
              "        async function convertToInteractive(key) {\n",
              "          const element = document.querySelector('#df-720e8fd7-b6cf-4ff9-91b9-a31b39951172');\n",
              "          const dataTable =\n",
              "            await google.colab.kernel.invokeFunction('convertToInteractive',\n",
              "                                                     [key], {});\n",
              "          if (!dataTable) return;\n",
              "\n",
              "          const docLinkHtml = 'Like what you see? Visit the ' +\n",
              "            '<a target=\"_blank\" href=https://colab.research.google.com/notebooks/data_table.ipynb>data table notebook</a>'\n",
              "            + ' to learn more about interactive tables.';\n",
              "          element.innerHTML = '';\n",
              "          dataTable['output_type'] = 'display_data';\n",
              "          await google.colab.output.renderOutput(dataTable, element);\n",
              "          const docLink = document.createElement('div');\n",
              "          docLink.innerHTML = docLinkHtml;\n",
              "          element.appendChild(docLink);\n",
              "        }\n",
              "      </script>\n",
              "    </div>\n",
              "  </div>\n",
              "  "
            ]
          },
          "metadata": {},
          "execution_count": 63
        }
      ],
      "source": [
        "# Tendo um overview dos dados\n",
        "credit_scoring.describe()"
      ]
    },
    {
      "cell_type": "markdown",
      "metadata": {
        "id": "cKJDuJ-jefxZ"
      },
      "source": [
        "### Valores ausentes  <a id='missing_values'></a>"
      ]
    },
    {
      "cell_type": "markdown",
      "metadata": {
        "id": "7ffLy0jaefxZ"
      },
      "source": [
        "Como visto anteriormente,todas as colunas possuem valores bem diverisificados e não foi possível identificar nenhum padrão entre os valores das colunas e dos valores faltantes.\n",
        "\n",
        "Entretanto para que a gente não perca dez por cento do nosso dataframe, iremos substituir esses valores faltantes que são quantitativos pela média ou mediana da coluna, assim não comprometendo os nossos dados.\n",
        "\n",
        "Lembrando asque se trata de 4348 valores faltantes das colunas \"days_employed\" e \"total_income\"."
      ]
    },
    {
      "cell_type": "markdown",
      "metadata": {
        "id": "hEbnVKJKefxZ"
      },
      "source": [
        "**1º) Análisando a coluna \"days_employed\" para substituir seus valores:**"
      ]
    },
    {
      "cell_type": "code",
      "execution_count": 64,
      "metadata": {
        "colab": {
          "base_uri": "https://localhost:8080/"
        },
        "id": "RNJyqKhaefxZ",
        "outputId": "595b0af7-649f-4fb5-f917-06b9b9d3c3da"
      },
      "outputs": [
        {
          "output_type": "execute_result",
          "data": {
            "text/plain": [
              "count     19306.000000\n",
              "mean      66935.937260\n",
              "std      139052.078307\n",
              "min          24.141633\n",
              "25%         926.990457\n",
              "50%        2194.190166\n",
              "75%        5541.117779\n",
              "max      401755.400475\n",
              "Name: days_employed, dtype: float64"
            ]
          },
          "metadata": {},
          "execution_count": 64
        }
      ],
      "source": [
        "# Verificando se há valores atípicos da nossa coluna:\n",
        "credit_scoring['days_employed'].describe()"
      ]
    },
    {
      "cell_type": "markdown",
      "metadata": {
        "id": "W-CyKDFYefxa"
      },
      "source": [
        "OBS: Descobrimos que a coluna \"days_employed\" possui valores atípicos que distorcem nossa média, então iremos utilizar o valor da médiana, que é o valor exato da metade da nossa amostra."
      ]
    },
    {
      "cell_type": "code",
      "execution_count": 65,
      "metadata": {
        "id": "6k3ign4Tefxa"
      },
      "outputs": [],
      "source": [
        "# Valor da mediana\n",
        "days_employed_median = credit_scoring['days_employed'].median()"
      ]
    },
    {
      "cell_type": "code",
      "execution_count": 66,
      "metadata": {
        "id": "G4UbAjDSefxa"
      },
      "outputs": [],
      "source": [
        "# Substituindo os valores ausentes da coluna \"days_employed\"\n",
        "credit_scoring['days_employed'] = credit_scoring['days_employed'].fillna(days_employed_median)"
      ]
    },
    {
      "cell_type": "code",
      "execution_count": 67,
      "metadata": {
        "colab": {
          "base_uri": "https://localhost:8080/"
        },
        "id": "x2aX6gEDefxa",
        "outputId": "e005ae04-e4e0-47a6-b572-b59aed49e1e9"
      },
      "outputs": [
        {
          "output_type": "stream",
          "name": "stdout",
          "text": [
            "<class 'pandas.core.frame.DataFrame'>\n",
            "RangeIndex: 21406 entries, 0 to 21405\n",
            "Data columns (total 12 columns):\n",
            " #   Column            Non-Null Count  Dtype  \n",
            "---  ------            --------------  -----  \n",
            " 0   children          21406 non-null  int64  \n",
            " 1   days_employed     21406 non-null  float64\n",
            " 2   customer_age      21406 non-null  float64\n",
            " 3   education         21406 non-null  object \n",
            " 4   education_id      21406 non-null  int64  \n",
            " 5   family_status     21406 non-null  object \n",
            " 6   family_status_id  21406 non-null  int64  \n",
            " 7   gender            21406 non-null  object \n",
            " 8   income_type       21406 non-null  object \n",
            " 9   debt              21406 non-null  int64  \n",
            " 10  total_income      19306 non-null  float64\n",
            " 11  purpose           21406 non-null  object \n",
            "dtypes: float64(3), int64(4), object(5)\n",
            "memory usage: 2.0+ MB\n"
          ]
        }
      ],
      "source": [
        "# Conferindo se o ajuste funcionou no dataframe:\n",
        "credit_scoring.info()"
      ]
    },
    {
      "cell_type": "markdown",
      "metadata": {
        "id": "e31iNo9-efxb"
      },
      "source": [
        "**2º) Análisando a coluna \"total_income\" para substituir seus valores:**"
      ]
    },
    {
      "cell_type": "code",
      "execution_count": 68,
      "metadata": {
        "colab": {
          "base_uri": "https://localhost:8080/"
        },
        "id": "dmcdUQd1efxb",
        "outputId": "ceb825d1-73af-4144-b74b-b7a0e65959b5"
      },
      "outputs": [
        {
          "output_type": "execute_result",
          "data": {
            "text/plain": [
              "count     19306.000000\n",
              "mean      26792.210382\n",
              "std       16485.907915\n",
              "min        3306.762000\n",
              "25%       16481.736750\n",
              "50%       23201.873500\n",
              "75%       32551.974250\n",
              "max      362496.645000\n",
              "Name: total_income, dtype: float64"
            ]
          },
          "metadata": {},
          "execution_count": 68
        }
      ],
      "source": [
        "# Verificando se há valores atípicos da nossa coluna:\n",
        "credit_scoring['total_income'].describe()"
      ]
    },
    {
      "cell_type": "markdown",
      "metadata": {
        "id": "czbVIyTSefxb"
      },
      "source": [
        "OBS: Podemos notar que a coluna \"total_income\" não possui valores atípicos, tanto que a média e a mediana possui valores bem próximos, então para substituir os dados faltantes dessa coluna, será utilizado a média.\n"
      ]
    },
    {
      "cell_type": "code",
      "execution_count": 69,
      "metadata": {
        "id": "SrNpoAUYefxb"
      },
      "outputs": [],
      "source": [
        "# Valor da média\n",
        "total_income_mean = credit_scoring['total_income'].mean()"
      ]
    },
    {
      "cell_type": "code",
      "execution_count": 70,
      "metadata": {
        "id": "rk22e3X9efxc"
      },
      "outputs": [],
      "source": [
        "# Substituindo os valores ausentes da coluna \"total_income\"\n",
        "credit_scoring['total_income'] = credit_scoring['total_income'].fillna(total_income_mean)"
      ]
    },
    {
      "cell_type": "code",
      "execution_count": 71,
      "metadata": {
        "colab": {
          "base_uri": "https://localhost:8080/"
        },
        "id": "Bz-xH_INefxc",
        "outputId": "46f2a3e8-e332-4e51-a9b1-b9504bee3da1"
      },
      "outputs": [
        {
          "output_type": "stream",
          "name": "stdout",
          "text": [
            "<class 'pandas.core.frame.DataFrame'>\n",
            "RangeIndex: 21406 entries, 0 to 21405\n",
            "Data columns (total 12 columns):\n",
            " #   Column            Non-Null Count  Dtype  \n",
            "---  ------            --------------  -----  \n",
            " 0   children          21406 non-null  int64  \n",
            " 1   days_employed     21406 non-null  float64\n",
            " 2   customer_age      21406 non-null  float64\n",
            " 3   education         21406 non-null  object \n",
            " 4   education_id      21406 non-null  int64  \n",
            " 5   family_status     21406 non-null  object \n",
            " 6   family_status_id  21406 non-null  int64  \n",
            " 7   gender            21406 non-null  object \n",
            " 8   income_type       21406 non-null  object \n",
            " 9   debt              21406 non-null  int64  \n",
            " 10  total_income      21406 non-null  float64\n",
            " 11  purpose           21406 non-null  object \n",
            "dtypes: float64(3), int64(4), object(5)\n",
            "memory usage: 2.0+ MB\n"
          ]
        }
      ],
      "source": [
        "# Conferindo se o ajuste funcionou no dataframe:\n",
        "credit_scoring.info()"
      ]
    },
    {
      "cell_type": "markdown",
      "metadata": {
        "id": "hDWqD23refxc"
      },
      "source": [
        "### Conclusões  <a id='#data_preprocessing_conclusions'></a>"
      ]
    },
    {
      "cell_type": "markdown",
      "metadata": {
        "id": "R78MTv-Defxd"
      },
      "source": [
        "Nesta fase nós tratamos alguns problemas:\n",
        "\n",
        "- Valores negativos\n",
        "- Valores zerados\n",
        "- Erros de grafia\n",
        "- Valores ausentes\n",
        "- Duplicatas\n",
        "\n",
        "E agora possuimos resultados mais precisos e mais fáceis de entender para seguirmos com as próximas etapas."
      ]
    },
    {
      "cell_type": "markdown",
      "metadata": {
        "id": "k63hPPJlefxd"
      },
      "source": [
        "[Voltar ao Índice](#back)"
      ]
    },
    {
      "cell_type": "markdown",
      "metadata": {
        "id": "eacBFbHXefxd"
      },
      "source": [
        "---"
      ]
    },
    {
      "cell_type": "markdown",
      "metadata": {
        "id": "WyFfWHJqefxd"
      },
      "source": [
        "## Categorização de dados <a id='categorizando_dados'></a>\n",
        "\n",
        "Nesta etapa iremos organizar alguns dados selecionados em grupos para nós auxiliar a responder as hipóteses na próxima fase."
      ]
    },
    {
      "cell_type": "markdown",
      "metadata": {
        "id": "vids3xIZefxd"
      },
      "source": [
        "### Coletando dados para a hipótese 1 <a id='dados_filhos'></a>\n",
        "\n",
        "Existe alguma relação entre ter filhos e pagar um empréstimo em dia?"
      ]
    },
    {
      "cell_type": "code",
      "execution_count": 72,
      "metadata": {
        "scrolled": true,
        "colab": {
          "base_uri": "https://localhost:8080/"
        },
        "id": "IPl-gdSOefxe",
        "outputId": "cbd63a5c-4e50-4922-b669-e9d8f900949e"
      },
      "outputs": [
        {
          "output_type": "execute_result",
          "data": {
            "text/plain": [
              "array([1, 0, 3, 2, 4, 5])"
            ]
          },
          "metadata": {},
          "execution_count": 72
        }
      ],
      "source": [
        "# Exibindo os valores unicos da coluna \"children\"\n",
        "\n",
        "credit_scoring['children'].unique()\n"
      ]
    },
    {
      "cell_type": "code",
      "execution_count": 73,
      "metadata": {
        "colab": {
          "base_uri": "https://localhost:8080/"
        },
        "id": "DCIIUqMsefxe",
        "outputId": "1cfd60c8-2c9f-4070-ae24-3ba52737d805"
      },
      "outputs": [
        {
          "output_type": "execute_result",
          "data": {
            "text/plain": [
              "0    14090\n",
              "1     4808\n",
              "2     2128\n",
              "3      330\n",
              "4       41\n",
              "5        9\n",
              "Name: children, dtype: int64"
            ]
          },
          "metadata": {},
          "execution_count": 73
        }
      ],
      "source": [
        "# Exibindo a quantidade de dados que temos por valores\n",
        "\n",
        "credit_scoring['children'].value_counts(dropna=False)"
      ]
    },
    {
      "cell_type": "code",
      "execution_count": 74,
      "metadata": {
        "colab": {
          "base_uri": "https://localhost:8080/"
        },
        "id": "u-I1i8qeefxe",
        "outputId": "f458017b-5c3e-4370-8b32-9b98c881644d"
      },
      "outputs": [
        {
          "output_type": "execute_result",
          "data": {
            "text/plain": [
              "children\n",
              "0    1063\n",
              "1     444\n",
              "2     202\n",
              "3      27\n",
              "4       4\n",
              "5       0\n",
              "Name: debt, dtype: int64"
            ]
          },
          "metadata": {},
          "execution_count": 74
        }
      ],
      "source": [
        "# Comparando a quantidade de filho com a quantidade de clientes que não ter pagaram o empréstimo\n",
        "\n",
        "credit_scoring.groupby('children')['debt'].sum()"
      ]
    },
    {
      "cell_type": "code",
      "execution_count": 75,
      "metadata": {
        "colab": {
          "base_uri": "https://localhost:8080/"
        },
        "id": "JhoZPSnbefxe",
        "outputId": "a19f3fcd-9e1d-4bfb-da77-ecc64490d2ee"
      },
      "outputs": [
        {
          "output_type": "execute_result",
          "data": {
            "text/plain": [
              "children\n",
              "0    7.544358\n",
              "1    9.234609\n",
              "2    9.492481\n",
              "3    8.181818\n",
              "4    9.756098\n",
              "5    0.000000\n",
              "dtype: float64"
            ]
          },
          "metadata": {},
          "execution_count": 75
        }
      ],
      "source": [
        "# Calculando taxa em relação a quantidade de filho e a de crédito\n",
        "avg_children_debt = (credit_scoring.groupby('children')['debt'].sum() / credit_scoring['children'].value_counts(dropna=False)) *100\n",
        "avg_children_debt"
      ]
    },
    {
      "cell_type": "markdown",
      "metadata": {
        "id": "9dvT2IY4efxf"
      },
      "source": [
        "É possível validar que a porcentagem vária um pouco dependendo da quantidade de filho que o cliente tem, então para filtrar a pontuação de crédito que o cliente terá, iremos categorizar esses dados com uma função chamada \"calculate_points\":"
      ]
    },
    {
      "cell_type": "code",
      "execution_count": 76,
      "metadata": {
        "id": "UoGSTbhFefxf"
      },
      "outputs": [],
      "source": [
        "def calculate_points(row):\n",
        "    children = row['children']\n",
        "\n",
        "    points = 0\n",
        "    \n",
        "    if children == 0 | children == 3:\n",
        "        points += 1\n",
        "    if children == 1 | children == 2 | children == 4:\n",
        "        points += 2\n",
        "    return points\n"
      ]
    },
    {
      "cell_type": "code",
      "execution_count": 77,
      "metadata": {
        "colab": {
          "base_uri": "https://localhost:8080/",
          "height": 661
        },
        "id": "akGjMcccefxf",
        "outputId": "c816f491-2a2b-43e3-e497-91e4e899255f"
      },
      "outputs": [
        {
          "output_type": "execute_result",
          "data": {
            "text/plain": [
              "       children  days_employed  customer_age            education  \\\n",
              "0             1    8437.673028          42.0    bachelor's degree   \n",
              "1             1    4024.803754          36.0  secondary education   \n",
              "2             0    5623.422610          33.0  secondary education   \n",
              "3             3    4124.747207          32.0  secondary education   \n",
              "4             0  340266.072047          53.0  secondary education   \n",
              "...         ...            ...           ...                  ...   \n",
              "21401         1    4529.316663          43.0  secondary education   \n",
              "21402         0  343937.404131          67.0  secondary education   \n",
              "21403         1    2113.346888          38.0  secondary education   \n",
              "21404         3    3112.481705          38.0  secondary education   \n",
              "21405         2    1984.507589          40.0  secondary education   \n",
              "\n",
              "       education_id      family_status  family_status_id gender income_type  \\\n",
              "0                 0            married                 0      F    employee   \n",
              "1                 1            married                 0      F    employee   \n",
              "2                 1            married                 0      M    employee   \n",
              "3                 1            married                 0      M    employee   \n",
              "4                 1  civil partnership                 1      F     retiree   \n",
              "...             ...                ...               ...    ...         ...   \n",
              "21401             1  civil partnership                 1      F    business   \n",
              "21402             1            married                 0      F     retiree   \n",
              "21403             1  civil partnership                 1      M    employee   \n",
              "21404             1            married                 0      M    employee   \n",
              "21405             1            married                 0      F    employee   \n",
              "\n",
              "       debt  total_income                  purpose  points  \n",
              "0         0     40620.102    purchase of the house       0  \n",
              "1         0     17932.802             car purchase       0  \n",
              "2         0     23341.752    purchase of the house       0  \n",
              "3         0     42820.568  supplementary education       1  \n",
              "4         0     25378.572        to have a wedding       0  \n",
              "...     ...           ...                      ...     ...  \n",
              "21401     0     35966.698     housing transactions       0  \n",
              "21402     0     24959.969        purchase of a car       0  \n",
              "21403     1     14347.610                 property       0  \n",
              "21404     1     39054.888        buying my own car       1  \n",
              "21405     0     13127.587             to buy a car       0  \n",
              "\n",
              "[21406 rows x 13 columns]"
            ],
            "text/html": [
              "\n",
              "  <div id=\"df-ac0c6a34-e311-4d3b-9991-34c0dc63ab58\">\n",
              "    <div class=\"colab-df-container\">\n",
              "      <div>\n",
              "<style scoped>\n",
              "    .dataframe tbody tr th:only-of-type {\n",
              "        vertical-align: middle;\n",
              "    }\n",
              "\n",
              "    .dataframe tbody tr th {\n",
              "        vertical-align: top;\n",
              "    }\n",
              "\n",
              "    .dataframe thead th {\n",
              "        text-align: right;\n",
              "    }\n",
              "</style>\n",
              "<table border=\"1\" class=\"dataframe\">\n",
              "  <thead>\n",
              "    <tr style=\"text-align: right;\">\n",
              "      <th></th>\n",
              "      <th>children</th>\n",
              "      <th>days_employed</th>\n",
              "      <th>customer_age</th>\n",
              "      <th>education</th>\n",
              "      <th>education_id</th>\n",
              "      <th>family_status</th>\n",
              "      <th>family_status_id</th>\n",
              "      <th>gender</th>\n",
              "      <th>income_type</th>\n",
              "      <th>debt</th>\n",
              "      <th>total_income</th>\n",
              "      <th>purpose</th>\n",
              "      <th>points</th>\n",
              "    </tr>\n",
              "  </thead>\n",
              "  <tbody>\n",
              "    <tr>\n",
              "      <th>0</th>\n",
              "      <td>1</td>\n",
              "      <td>8437.673028</td>\n",
              "      <td>42.0</td>\n",
              "      <td>bachelor's degree</td>\n",
              "      <td>0</td>\n",
              "      <td>married</td>\n",
              "      <td>0</td>\n",
              "      <td>F</td>\n",
              "      <td>employee</td>\n",
              "      <td>0</td>\n",
              "      <td>40620.102</td>\n",
              "      <td>purchase of the house</td>\n",
              "      <td>0</td>\n",
              "    </tr>\n",
              "    <tr>\n",
              "      <th>1</th>\n",
              "      <td>1</td>\n",
              "      <td>4024.803754</td>\n",
              "      <td>36.0</td>\n",
              "      <td>secondary education</td>\n",
              "      <td>1</td>\n",
              "      <td>married</td>\n",
              "      <td>0</td>\n",
              "      <td>F</td>\n",
              "      <td>employee</td>\n",
              "      <td>0</td>\n",
              "      <td>17932.802</td>\n",
              "      <td>car purchase</td>\n",
              "      <td>0</td>\n",
              "    </tr>\n",
              "    <tr>\n",
              "      <th>2</th>\n",
              "      <td>0</td>\n",
              "      <td>5623.422610</td>\n",
              "      <td>33.0</td>\n",
              "      <td>secondary education</td>\n",
              "      <td>1</td>\n",
              "      <td>married</td>\n",
              "      <td>0</td>\n",
              "      <td>M</td>\n",
              "      <td>employee</td>\n",
              "      <td>0</td>\n",
              "      <td>23341.752</td>\n",
              "      <td>purchase of the house</td>\n",
              "      <td>0</td>\n",
              "    </tr>\n",
              "    <tr>\n",
              "      <th>3</th>\n",
              "      <td>3</td>\n",
              "      <td>4124.747207</td>\n",
              "      <td>32.0</td>\n",
              "      <td>secondary education</td>\n",
              "      <td>1</td>\n",
              "      <td>married</td>\n",
              "      <td>0</td>\n",
              "      <td>M</td>\n",
              "      <td>employee</td>\n",
              "      <td>0</td>\n",
              "      <td>42820.568</td>\n",
              "      <td>supplementary education</td>\n",
              "      <td>1</td>\n",
              "    </tr>\n",
              "    <tr>\n",
              "      <th>4</th>\n",
              "      <td>0</td>\n",
              "      <td>340266.072047</td>\n",
              "      <td>53.0</td>\n",
              "      <td>secondary education</td>\n",
              "      <td>1</td>\n",
              "      <td>civil partnership</td>\n",
              "      <td>1</td>\n",
              "      <td>F</td>\n",
              "      <td>retiree</td>\n",
              "      <td>0</td>\n",
              "      <td>25378.572</td>\n",
              "      <td>to have a wedding</td>\n",
              "      <td>0</td>\n",
              "    </tr>\n",
              "    <tr>\n",
              "      <th>...</th>\n",
              "      <td>...</td>\n",
              "      <td>...</td>\n",
              "      <td>...</td>\n",
              "      <td>...</td>\n",
              "      <td>...</td>\n",
              "      <td>...</td>\n",
              "      <td>...</td>\n",
              "      <td>...</td>\n",
              "      <td>...</td>\n",
              "      <td>...</td>\n",
              "      <td>...</td>\n",
              "      <td>...</td>\n",
              "      <td>...</td>\n",
              "    </tr>\n",
              "    <tr>\n",
              "      <th>21401</th>\n",
              "      <td>1</td>\n",
              "      <td>4529.316663</td>\n",
              "      <td>43.0</td>\n",
              "      <td>secondary education</td>\n",
              "      <td>1</td>\n",
              "      <td>civil partnership</td>\n",
              "      <td>1</td>\n",
              "      <td>F</td>\n",
              "      <td>business</td>\n",
              "      <td>0</td>\n",
              "      <td>35966.698</td>\n",
              "      <td>housing transactions</td>\n",
              "      <td>0</td>\n",
              "    </tr>\n",
              "    <tr>\n",
              "      <th>21402</th>\n",
              "      <td>0</td>\n",
              "      <td>343937.404131</td>\n",
              "      <td>67.0</td>\n",
              "      <td>secondary education</td>\n",
              "      <td>1</td>\n",
              "      <td>married</td>\n",
              "      <td>0</td>\n",
              "      <td>F</td>\n",
              "      <td>retiree</td>\n",
              "      <td>0</td>\n",
              "      <td>24959.969</td>\n",
              "      <td>purchase of a car</td>\n",
              "      <td>0</td>\n",
              "    </tr>\n",
              "    <tr>\n",
              "      <th>21403</th>\n",
              "      <td>1</td>\n",
              "      <td>2113.346888</td>\n",
              "      <td>38.0</td>\n",
              "      <td>secondary education</td>\n",
              "      <td>1</td>\n",
              "      <td>civil partnership</td>\n",
              "      <td>1</td>\n",
              "      <td>M</td>\n",
              "      <td>employee</td>\n",
              "      <td>1</td>\n",
              "      <td>14347.610</td>\n",
              "      <td>property</td>\n",
              "      <td>0</td>\n",
              "    </tr>\n",
              "    <tr>\n",
              "      <th>21404</th>\n",
              "      <td>3</td>\n",
              "      <td>3112.481705</td>\n",
              "      <td>38.0</td>\n",
              "      <td>secondary education</td>\n",
              "      <td>1</td>\n",
              "      <td>married</td>\n",
              "      <td>0</td>\n",
              "      <td>M</td>\n",
              "      <td>employee</td>\n",
              "      <td>1</td>\n",
              "      <td>39054.888</td>\n",
              "      <td>buying my own car</td>\n",
              "      <td>1</td>\n",
              "    </tr>\n",
              "    <tr>\n",
              "      <th>21405</th>\n",
              "      <td>2</td>\n",
              "      <td>1984.507589</td>\n",
              "      <td>40.0</td>\n",
              "      <td>secondary education</td>\n",
              "      <td>1</td>\n",
              "      <td>married</td>\n",
              "      <td>0</td>\n",
              "      <td>F</td>\n",
              "      <td>employee</td>\n",
              "      <td>0</td>\n",
              "      <td>13127.587</td>\n",
              "      <td>to buy a car</td>\n",
              "      <td>0</td>\n",
              "    </tr>\n",
              "  </tbody>\n",
              "</table>\n",
              "<p>21406 rows × 13 columns</p>\n",
              "</div>\n",
              "      <button class=\"colab-df-convert\" onclick=\"convertToInteractive('df-ac0c6a34-e311-4d3b-9991-34c0dc63ab58')\"\n",
              "              title=\"Convert this dataframe to an interactive table.\"\n",
              "              style=\"display:none;\">\n",
              "        \n",
              "  <svg xmlns=\"http://www.w3.org/2000/svg\" height=\"24px\"viewBox=\"0 0 24 24\"\n",
              "       width=\"24px\">\n",
              "    <path d=\"M0 0h24v24H0V0z\" fill=\"none\"/>\n",
              "    <path d=\"M18.56 5.44l.94 2.06.94-2.06 2.06-.94-2.06-.94-.94-2.06-.94 2.06-2.06.94zm-11 1L8.5 8.5l.94-2.06 2.06-.94-2.06-.94L8.5 2.5l-.94 2.06-2.06.94zm10 10l.94 2.06.94-2.06 2.06-.94-2.06-.94-.94-2.06-.94 2.06-2.06.94z\"/><path d=\"M17.41 7.96l-1.37-1.37c-.4-.4-.92-.59-1.43-.59-.52 0-1.04.2-1.43.59L10.3 9.45l-7.72 7.72c-.78.78-.78 2.05 0 2.83L4 21.41c.39.39.9.59 1.41.59.51 0 1.02-.2 1.41-.59l7.78-7.78 2.81-2.81c.8-.78.8-2.07 0-2.86zM5.41 20L4 18.59l7.72-7.72 1.47 1.35L5.41 20z\"/>\n",
              "  </svg>\n",
              "      </button>\n",
              "      \n",
              "  <style>\n",
              "    .colab-df-container {\n",
              "      display:flex;\n",
              "      flex-wrap:wrap;\n",
              "      gap: 12px;\n",
              "    }\n",
              "\n",
              "    .colab-df-convert {\n",
              "      background-color: #E8F0FE;\n",
              "      border: none;\n",
              "      border-radius: 50%;\n",
              "      cursor: pointer;\n",
              "      display: none;\n",
              "      fill: #1967D2;\n",
              "      height: 32px;\n",
              "      padding: 0 0 0 0;\n",
              "      width: 32px;\n",
              "    }\n",
              "\n",
              "    .colab-df-convert:hover {\n",
              "      background-color: #E2EBFA;\n",
              "      box-shadow: 0px 1px 2px rgba(60, 64, 67, 0.3), 0px 1px 3px 1px rgba(60, 64, 67, 0.15);\n",
              "      fill: #174EA6;\n",
              "    }\n",
              "\n",
              "    [theme=dark] .colab-df-convert {\n",
              "      background-color: #3B4455;\n",
              "      fill: #D2E3FC;\n",
              "    }\n",
              "\n",
              "    [theme=dark] .colab-df-convert:hover {\n",
              "      background-color: #434B5C;\n",
              "      box-shadow: 0px 1px 3px 1px rgba(0, 0, 0, 0.15);\n",
              "      filter: drop-shadow(0px 1px 2px rgba(0, 0, 0, 0.3));\n",
              "      fill: #FFFFFF;\n",
              "    }\n",
              "  </style>\n",
              "\n",
              "      <script>\n",
              "        const buttonEl =\n",
              "          document.querySelector('#df-ac0c6a34-e311-4d3b-9991-34c0dc63ab58 button.colab-df-convert');\n",
              "        buttonEl.style.display =\n",
              "          google.colab.kernel.accessAllowed ? 'block' : 'none';\n",
              "\n",
              "        async function convertToInteractive(key) {\n",
              "          const element = document.querySelector('#df-ac0c6a34-e311-4d3b-9991-34c0dc63ab58');\n",
              "          const dataTable =\n",
              "            await google.colab.kernel.invokeFunction('convertToInteractive',\n",
              "                                                     [key], {});\n",
              "          if (!dataTable) return;\n",
              "\n",
              "          const docLinkHtml = 'Like what you see? Visit the ' +\n",
              "            '<a target=\"_blank\" href=https://colab.research.google.com/notebooks/data_table.ipynb>data table notebook</a>'\n",
              "            + ' to learn more about interactive tables.';\n",
              "          element.innerHTML = '';\n",
              "          dataTable['output_type'] = 'display_data';\n",
              "          await google.colab.output.renderOutput(dataTable, element);\n",
              "          const docLink = document.createElement('div');\n",
              "          docLink.innerHTML = docLinkHtml;\n",
              "          element.appendChild(docLink);\n",
              "        }\n",
              "      </script>\n",
              "    </div>\n",
              "  </div>\n",
              "  "
            ]
          },
          "metadata": {},
          "execution_count": 77
        }
      ],
      "source": [
        "# Criando uma coluna no dataframe para armazenar os pontos\n",
        "credit_scoring['points'] = credit_scoring.apply(\n",
        "    calculate_points, axis=1\n",
        ")\n",
        "\n",
        "credit_scoring\n"
      ]
    },
    {
      "cell_type": "markdown",
      "metadata": {
        "id": "2JfCqQ3tefxg"
      },
      "source": [
        "### Coletando dados para a hipótese 2 <a id='dados_estado_civil'></a>"
      ]
    },
    {
      "cell_type": "code",
      "execution_count": 78,
      "metadata": {
        "scrolled": true,
        "colab": {
          "base_uri": "https://localhost:8080/"
        },
        "id": "L8z04SlDefxg",
        "outputId": "b2254b78-ca71-4754-c8bb-d7b8b90572c4"
      },
      "outputs": [
        {
          "output_type": "execute_result",
          "data": {
            "text/plain": [
              "array(['married', 'civil partnership', 'widow / widower', 'divorced',\n",
              "       'unmarried'], dtype=object)"
            ]
          },
          "metadata": {},
          "execution_count": 78
        }
      ],
      "source": [
        "# Exibindo os valores unicos da coluna \"family_status\"\n",
        "\n",
        "credit_scoring['family_status'].unique()"
      ]
    },
    {
      "cell_type": "code",
      "execution_count": 79,
      "metadata": {
        "colab": {
          "base_uri": "https://localhost:8080/"
        },
        "id": "APu5cY8Zefxg",
        "outputId": "8b66f1c3-120a-41cf-e7eb-d8c838f21d4a"
      },
      "outputs": [
        {
          "output_type": "execute_result",
          "data": {
            "text/plain": [
              "married              12310\n",
              "civil partnership     4145\n",
              "unmarried             2805\n",
              "divorced              1191\n",
              "widow / widower        955\n",
              "Name: family_status, dtype: int64"
            ]
          },
          "metadata": {},
          "execution_count": 79
        }
      ],
      "source": [
        "# Exibindo a quantidade de dados que temos por valores\n",
        "\n",
        "credit_scoring['family_status'].value_counts(dropna=False)"
      ]
    },
    {
      "cell_type": "code",
      "execution_count": 80,
      "metadata": {
        "colab": {
          "base_uri": "https://localhost:8080/"
        },
        "id": "Jw77KsWeefxg",
        "outputId": "8503e79e-0bd7-4244-8d25-f97d8619696f"
      },
      "outputs": [
        {
          "output_type": "execute_result",
          "data": {
            "text/plain": [
              "family_status\n",
              "civil partnership    388\n",
              "divorced              85\n",
              "married              930\n",
              "unmarried            274\n",
              "widow / widower       63\n",
              "Name: debt, dtype: int64"
            ]
          },
          "metadata": {},
          "execution_count": 80
        }
      ],
      "source": [
        "# Comparando estado civil do cliente com a quantidade que não pagaram o empréstimo\n",
        "\n",
        "credit_scoring.groupby('family_status')['debt'].sum()"
      ]
    },
    {
      "cell_type": "code",
      "execution_count": 81,
      "metadata": {
        "colab": {
          "base_uri": "https://localhost:8080/"
        },
        "id": "RQ_taxIxefxh",
        "outputId": "a146ca61-555b-4de1-f95c-abe1533afc15"
      },
      "outputs": [
        {
          "output_type": "execute_result",
          "data": {
            "text/plain": [
              "widow / widower      6.596859\n",
              "divorced             7.136860\n",
              "married              7.554833\n",
              "civil partnership    9.360676\n",
              "unmarried            9.768271\n",
              "dtype: float64"
            ]
          },
          "metadata": {},
          "execution_count": 81
        }
      ],
      "source": [
        "# Calculando taxa de relação ao estado civil e ao crédito\n",
        "avg_family_status_debt = (credit_scoring.groupby('family_status')['debt'].sum() / credit_scoring['family_status'].value_counts(dropna=False)) *100\n",
        "avg_family_status_debt.sort_values()"
      ]
    },
    {
      "cell_type": "code",
      "execution_count": 82,
      "metadata": {
        "colab": {
          "base_uri": "https://localhost:8080/"
        },
        "id": "KL65Cnukefxh",
        "outputId": "172ab975-9d5f-4d92-eb65-52026c93f2d4"
      },
      "outputs": [
        {
          "output_type": "execute_result",
          "data": {
            "text/plain": [
              "family_status_id\n",
              "0              [married]\n",
              "1    [civil partnership]\n",
              "2      [widow / widower]\n",
              "3             [divorced]\n",
              "4            [unmarried]\n",
              "Name: family_status, dtype: object"
            ]
          },
          "metadata": {},
          "execution_count": 82
        }
      ],
      "source": [
        "# Verificando o valor de cada id\n",
        "\n",
        "credit_scoring.groupby('family_status_id')['family_status'].unique()"
      ]
    },
    {
      "cell_type": "markdown",
      "metadata": {
        "id": "gk_G3C47efxh"
      },
      "source": [
        "Agora que já possuimos as porcentagens em mãos, podemos implentar mais a nossa função \"calculate_points\":"
      ]
    },
    {
      "cell_type": "code",
      "execution_count": 83,
      "metadata": {
        "id": "2vUdc1HIefxh"
      },
      "outputs": [],
      "source": [
        "def calculate_points(row):\n",
        "    children = row['children']\n",
        "    family_status_id = row['family_status_id']\n",
        "    \n",
        "    \n",
        "    points = 0\n",
        "    \n",
        "    # Levando em consideração a taxa de inadimplência de clientes que possuem filhos\n",
        "    if children == 0 or children == 3:\n",
        "        points += 1\n",
        "    if children == 1 or children == 2 or children == 4:\n",
        "        points += 2\n",
        "    \n",
        "    # Levando em consideração a taxa de inadimplência em relação ao estado civil do cliente\n",
        "    if family_status_id == 3 or family_status_id == 0:\n",
        "        points += 1\n",
        "    if family_status_id == 1:\n",
        "        points += 2\n",
        "    if family_status_id == 4:    \n",
        "        points += 3\n",
        "        \n",
        "    return points  "
      ]
    },
    {
      "cell_type": "code",
      "execution_count": 84,
      "metadata": {
        "colab": {
          "base_uri": "https://localhost:8080/",
          "height": 661
        },
        "id": "L_3Y48qLefxi",
        "outputId": "a74ba219-88f0-4dd2-9311-a2e0e6368827"
      },
      "outputs": [
        {
          "output_type": "execute_result",
          "data": {
            "text/plain": [
              "       children  days_employed  customer_age            education  \\\n",
              "0             1    8437.673028          42.0    bachelor's degree   \n",
              "1             1    4024.803754          36.0  secondary education   \n",
              "2             0    5623.422610          33.0  secondary education   \n",
              "3             3    4124.747207          32.0  secondary education   \n",
              "4             0  340266.072047          53.0  secondary education   \n",
              "...         ...            ...           ...                  ...   \n",
              "21401         1    4529.316663          43.0  secondary education   \n",
              "21402         0  343937.404131          67.0  secondary education   \n",
              "21403         1    2113.346888          38.0  secondary education   \n",
              "21404         3    3112.481705          38.0  secondary education   \n",
              "21405         2    1984.507589          40.0  secondary education   \n",
              "\n",
              "       education_id      family_status  family_status_id gender income_type  \\\n",
              "0                 0            married                 0      F    employee   \n",
              "1                 1            married                 0      F    employee   \n",
              "2                 1            married                 0      M    employee   \n",
              "3                 1            married                 0      M    employee   \n",
              "4                 1  civil partnership                 1      F     retiree   \n",
              "...             ...                ...               ...    ...         ...   \n",
              "21401             1  civil partnership                 1      F    business   \n",
              "21402             1            married                 0      F     retiree   \n",
              "21403             1  civil partnership                 1      M    employee   \n",
              "21404             1            married                 0      M    employee   \n",
              "21405             1            married                 0      F    employee   \n",
              "\n",
              "       debt  total_income                  purpose  points  \n",
              "0         0     40620.102    purchase of the house       3  \n",
              "1         0     17932.802             car purchase       3  \n",
              "2         0     23341.752    purchase of the house       2  \n",
              "3         0     42820.568  supplementary education       2  \n",
              "4         0     25378.572        to have a wedding       3  \n",
              "...     ...           ...                      ...     ...  \n",
              "21401     0     35966.698     housing transactions       4  \n",
              "21402     0     24959.969        purchase of a car       2  \n",
              "21403     1     14347.610                 property       4  \n",
              "21404     1     39054.888        buying my own car       2  \n",
              "21405     0     13127.587             to buy a car       3  \n",
              "\n",
              "[21406 rows x 13 columns]"
            ],
            "text/html": [
              "\n",
              "  <div id=\"df-b876d035-6aae-4276-82de-9bf3b1681bfb\">\n",
              "    <div class=\"colab-df-container\">\n",
              "      <div>\n",
              "<style scoped>\n",
              "    .dataframe tbody tr th:only-of-type {\n",
              "        vertical-align: middle;\n",
              "    }\n",
              "\n",
              "    .dataframe tbody tr th {\n",
              "        vertical-align: top;\n",
              "    }\n",
              "\n",
              "    .dataframe thead th {\n",
              "        text-align: right;\n",
              "    }\n",
              "</style>\n",
              "<table border=\"1\" class=\"dataframe\">\n",
              "  <thead>\n",
              "    <tr style=\"text-align: right;\">\n",
              "      <th></th>\n",
              "      <th>children</th>\n",
              "      <th>days_employed</th>\n",
              "      <th>customer_age</th>\n",
              "      <th>education</th>\n",
              "      <th>education_id</th>\n",
              "      <th>family_status</th>\n",
              "      <th>family_status_id</th>\n",
              "      <th>gender</th>\n",
              "      <th>income_type</th>\n",
              "      <th>debt</th>\n",
              "      <th>total_income</th>\n",
              "      <th>purpose</th>\n",
              "      <th>points</th>\n",
              "    </tr>\n",
              "  </thead>\n",
              "  <tbody>\n",
              "    <tr>\n",
              "      <th>0</th>\n",
              "      <td>1</td>\n",
              "      <td>8437.673028</td>\n",
              "      <td>42.0</td>\n",
              "      <td>bachelor's degree</td>\n",
              "      <td>0</td>\n",
              "      <td>married</td>\n",
              "      <td>0</td>\n",
              "      <td>F</td>\n",
              "      <td>employee</td>\n",
              "      <td>0</td>\n",
              "      <td>40620.102</td>\n",
              "      <td>purchase of the house</td>\n",
              "      <td>3</td>\n",
              "    </tr>\n",
              "    <tr>\n",
              "      <th>1</th>\n",
              "      <td>1</td>\n",
              "      <td>4024.803754</td>\n",
              "      <td>36.0</td>\n",
              "      <td>secondary education</td>\n",
              "      <td>1</td>\n",
              "      <td>married</td>\n",
              "      <td>0</td>\n",
              "      <td>F</td>\n",
              "      <td>employee</td>\n",
              "      <td>0</td>\n",
              "      <td>17932.802</td>\n",
              "      <td>car purchase</td>\n",
              "      <td>3</td>\n",
              "    </tr>\n",
              "    <tr>\n",
              "      <th>2</th>\n",
              "      <td>0</td>\n",
              "      <td>5623.422610</td>\n",
              "      <td>33.0</td>\n",
              "      <td>secondary education</td>\n",
              "      <td>1</td>\n",
              "      <td>married</td>\n",
              "      <td>0</td>\n",
              "      <td>M</td>\n",
              "      <td>employee</td>\n",
              "      <td>0</td>\n",
              "      <td>23341.752</td>\n",
              "      <td>purchase of the house</td>\n",
              "      <td>2</td>\n",
              "    </tr>\n",
              "    <tr>\n",
              "      <th>3</th>\n",
              "      <td>3</td>\n",
              "      <td>4124.747207</td>\n",
              "      <td>32.0</td>\n",
              "      <td>secondary education</td>\n",
              "      <td>1</td>\n",
              "      <td>married</td>\n",
              "      <td>0</td>\n",
              "      <td>M</td>\n",
              "      <td>employee</td>\n",
              "      <td>0</td>\n",
              "      <td>42820.568</td>\n",
              "      <td>supplementary education</td>\n",
              "      <td>2</td>\n",
              "    </tr>\n",
              "    <tr>\n",
              "      <th>4</th>\n",
              "      <td>0</td>\n",
              "      <td>340266.072047</td>\n",
              "      <td>53.0</td>\n",
              "      <td>secondary education</td>\n",
              "      <td>1</td>\n",
              "      <td>civil partnership</td>\n",
              "      <td>1</td>\n",
              "      <td>F</td>\n",
              "      <td>retiree</td>\n",
              "      <td>0</td>\n",
              "      <td>25378.572</td>\n",
              "      <td>to have a wedding</td>\n",
              "      <td>3</td>\n",
              "    </tr>\n",
              "    <tr>\n",
              "      <th>...</th>\n",
              "      <td>...</td>\n",
              "      <td>...</td>\n",
              "      <td>...</td>\n",
              "      <td>...</td>\n",
              "      <td>...</td>\n",
              "      <td>...</td>\n",
              "      <td>...</td>\n",
              "      <td>...</td>\n",
              "      <td>...</td>\n",
              "      <td>...</td>\n",
              "      <td>...</td>\n",
              "      <td>...</td>\n",
              "      <td>...</td>\n",
              "    </tr>\n",
              "    <tr>\n",
              "      <th>21401</th>\n",
              "      <td>1</td>\n",
              "      <td>4529.316663</td>\n",
              "      <td>43.0</td>\n",
              "      <td>secondary education</td>\n",
              "      <td>1</td>\n",
              "      <td>civil partnership</td>\n",
              "      <td>1</td>\n",
              "      <td>F</td>\n",
              "      <td>business</td>\n",
              "      <td>0</td>\n",
              "      <td>35966.698</td>\n",
              "      <td>housing transactions</td>\n",
              "      <td>4</td>\n",
              "    </tr>\n",
              "    <tr>\n",
              "      <th>21402</th>\n",
              "      <td>0</td>\n",
              "      <td>343937.404131</td>\n",
              "      <td>67.0</td>\n",
              "      <td>secondary education</td>\n",
              "      <td>1</td>\n",
              "      <td>married</td>\n",
              "      <td>0</td>\n",
              "      <td>F</td>\n",
              "      <td>retiree</td>\n",
              "      <td>0</td>\n",
              "      <td>24959.969</td>\n",
              "      <td>purchase of a car</td>\n",
              "      <td>2</td>\n",
              "    </tr>\n",
              "    <tr>\n",
              "      <th>21403</th>\n",
              "      <td>1</td>\n",
              "      <td>2113.346888</td>\n",
              "      <td>38.0</td>\n",
              "      <td>secondary education</td>\n",
              "      <td>1</td>\n",
              "      <td>civil partnership</td>\n",
              "      <td>1</td>\n",
              "      <td>M</td>\n",
              "      <td>employee</td>\n",
              "      <td>1</td>\n",
              "      <td>14347.610</td>\n",
              "      <td>property</td>\n",
              "      <td>4</td>\n",
              "    </tr>\n",
              "    <tr>\n",
              "      <th>21404</th>\n",
              "      <td>3</td>\n",
              "      <td>3112.481705</td>\n",
              "      <td>38.0</td>\n",
              "      <td>secondary education</td>\n",
              "      <td>1</td>\n",
              "      <td>married</td>\n",
              "      <td>0</td>\n",
              "      <td>M</td>\n",
              "      <td>employee</td>\n",
              "      <td>1</td>\n",
              "      <td>39054.888</td>\n",
              "      <td>buying my own car</td>\n",
              "      <td>2</td>\n",
              "    </tr>\n",
              "    <tr>\n",
              "      <th>21405</th>\n",
              "      <td>2</td>\n",
              "      <td>1984.507589</td>\n",
              "      <td>40.0</td>\n",
              "      <td>secondary education</td>\n",
              "      <td>1</td>\n",
              "      <td>married</td>\n",
              "      <td>0</td>\n",
              "      <td>F</td>\n",
              "      <td>employee</td>\n",
              "      <td>0</td>\n",
              "      <td>13127.587</td>\n",
              "      <td>to buy a car</td>\n",
              "      <td>3</td>\n",
              "    </tr>\n",
              "  </tbody>\n",
              "</table>\n",
              "<p>21406 rows × 13 columns</p>\n",
              "</div>\n",
              "      <button class=\"colab-df-convert\" onclick=\"convertToInteractive('df-b876d035-6aae-4276-82de-9bf3b1681bfb')\"\n",
              "              title=\"Convert this dataframe to an interactive table.\"\n",
              "              style=\"display:none;\">\n",
              "        \n",
              "  <svg xmlns=\"http://www.w3.org/2000/svg\" height=\"24px\"viewBox=\"0 0 24 24\"\n",
              "       width=\"24px\">\n",
              "    <path d=\"M0 0h24v24H0V0z\" fill=\"none\"/>\n",
              "    <path d=\"M18.56 5.44l.94 2.06.94-2.06 2.06-.94-2.06-.94-.94-2.06-.94 2.06-2.06.94zm-11 1L8.5 8.5l.94-2.06 2.06-.94-2.06-.94L8.5 2.5l-.94 2.06-2.06.94zm10 10l.94 2.06.94-2.06 2.06-.94-2.06-.94-.94-2.06-.94 2.06-2.06.94z\"/><path d=\"M17.41 7.96l-1.37-1.37c-.4-.4-.92-.59-1.43-.59-.52 0-1.04.2-1.43.59L10.3 9.45l-7.72 7.72c-.78.78-.78 2.05 0 2.83L4 21.41c.39.39.9.59 1.41.59.51 0 1.02-.2 1.41-.59l7.78-7.78 2.81-2.81c.8-.78.8-2.07 0-2.86zM5.41 20L4 18.59l7.72-7.72 1.47 1.35L5.41 20z\"/>\n",
              "  </svg>\n",
              "      </button>\n",
              "      \n",
              "  <style>\n",
              "    .colab-df-container {\n",
              "      display:flex;\n",
              "      flex-wrap:wrap;\n",
              "      gap: 12px;\n",
              "    }\n",
              "\n",
              "    .colab-df-convert {\n",
              "      background-color: #E8F0FE;\n",
              "      border: none;\n",
              "      border-radius: 50%;\n",
              "      cursor: pointer;\n",
              "      display: none;\n",
              "      fill: #1967D2;\n",
              "      height: 32px;\n",
              "      padding: 0 0 0 0;\n",
              "      width: 32px;\n",
              "    }\n",
              "\n",
              "    .colab-df-convert:hover {\n",
              "      background-color: #E2EBFA;\n",
              "      box-shadow: 0px 1px 2px rgba(60, 64, 67, 0.3), 0px 1px 3px 1px rgba(60, 64, 67, 0.15);\n",
              "      fill: #174EA6;\n",
              "    }\n",
              "\n",
              "    [theme=dark] .colab-df-convert {\n",
              "      background-color: #3B4455;\n",
              "      fill: #D2E3FC;\n",
              "    }\n",
              "\n",
              "    [theme=dark] .colab-df-convert:hover {\n",
              "      background-color: #434B5C;\n",
              "      box-shadow: 0px 1px 3px 1px rgba(0, 0, 0, 0.15);\n",
              "      filter: drop-shadow(0px 1px 2px rgba(0, 0, 0, 0.3));\n",
              "      fill: #FFFFFF;\n",
              "    }\n",
              "  </style>\n",
              "\n",
              "      <script>\n",
              "        const buttonEl =\n",
              "          document.querySelector('#df-b876d035-6aae-4276-82de-9bf3b1681bfb button.colab-df-convert');\n",
              "        buttonEl.style.display =\n",
              "          google.colab.kernel.accessAllowed ? 'block' : 'none';\n",
              "\n",
              "        async function convertToInteractive(key) {\n",
              "          const element = document.querySelector('#df-b876d035-6aae-4276-82de-9bf3b1681bfb');\n",
              "          const dataTable =\n",
              "            await google.colab.kernel.invokeFunction('convertToInteractive',\n",
              "                                                     [key], {});\n",
              "          if (!dataTable) return;\n",
              "\n",
              "          const docLinkHtml = 'Like what you see? Visit the ' +\n",
              "            '<a target=\"_blank\" href=https://colab.research.google.com/notebooks/data_table.ipynb>data table notebook</a>'\n",
              "            + ' to learn more about interactive tables.';\n",
              "          element.innerHTML = '';\n",
              "          dataTable['output_type'] = 'display_data';\n",
              "          await google.colab.output.renderOutput(dataTable, element);\n",
              "          const docLink = document.createElement('div');\n",
              "          docLink.innerHTML = docLinkHtml;\n",
              "          element.appendChild(docLink);\n",
              "        }\n",
              "      </script>\n",
              "    </div>\n",
              "  </div>\n",
              "  "
            ]
          },
          "metadata": {},
          "execution_count": 84
        }
      ],
      "source": [
        "# Validando os novos valores\n",
        "credit_scoring['points'] = credit_scoring.apply(\n",
        "    calculate_points, axis=1\n",
        ")\n",
        "\n",
        "credit_scoring"
      ]
    },
    {
      "cell_type": "markdown",
      "metadata": {
        "id": "r9cTgxPuefxi"
      },
      "source": [
        "### Coletando Dados para a Hipótese 3 <a id='dados_renda'></a>"
      ]
    },
    {
      "cell_type": "code",
      "execution_count": 85,
      "metadata": {
        "colab": {
          "base_uri": "https://localhost:8080/"
        },
        "id": "5J6ESWiCefxi",
        "outputId": "a3251234-1396-4c2d-9e83-6a1a2d6ebdfb"
      },
      "outputs": [
        {
          "output_type": "execute_result",
          "data": {
            "text/plain": [
              "count     21406.000000\n",
              "mean      26792.210382\n",
              "std       15656.336846\n",
              "min        3306.762000\n",
              "25%       17208.100500\n",
              "50%       24969.962000\n",
              "75%       31334.833750\n",
              "max      362496.645000\n",
              "Name: total_income, dtype: float64"
            ]
          },
          "metadata": {},
          "execution_count": 85
        }
      ],
      "source": [
        "# Tendo uma noção geral dos dados\n",
        "credit_scoring['total_income'].describe()"
      ]
    },
    {
      "cell_type": "code",
      "execution_count": 86,
      "metadata": {
        "id": "W1cXUsSEefxj"
      },
      "outputs": [],
      "source": [
        "# Utilizando a função calculate_income_status para filtrar os valores das rendas\n",
        "\n",
        "def calculate_income_status(row):\n",
        "    total_income = row['total_income']\n",
        "    \n",
        "    if total_income <= 5000:\n",
        "        return \"low income\"\n",
        "    if total_income <= 15000:\n",
        "        return \"median income\"\n",
        "    if total_income <= 30000:\n",
        "        return \"reasonable income\"                      \n",
        "    if total_income <= 60000:\n",
        "        return \"good income\"\n",
        "    return \"great income\" \n",
        "    "
      ]
    },
    {
      "cell_type": "markdown",
      "metadata": {
        "id": "3Uk0fj1Pefxj"
      },
      "source": [
        "OBS: Não foi informado em qual moeda o salário mensal foi nos dado, então não é possível validar se esses valores são altos ou não."
      ]
    },
    {
      "cell_type": "code",
      "execution_count": 87,
      "metadata": {
        "colab": {
          "base_uri": "https://localhost:8080/",
          "height": 661
        },
        "id": "1Eihup1Qefxk",
        "outputId": "255afceb-2565-425b-e9c9-4506e5402169"
      },
      "outputs": [
        {
          "output_type": "execute_result",
          "data": {
            "text/plain": [
              "       children  days_employed  customer_age            education  \\\n",
              "0             1    8437.673028          42.0    bachelor's degree   \n",
              "1             1    4024.803754          36.0  secondary education   \n",
              "2             0    5623.422610          33.0  secondary education   \n",
              "3             3    4124.747207          32.0  secondary education   \n",
              "4             0  340266.072047          53.0  secondary education   \n",
              "...         ...            ...           ...                  ...   \n",
              "21401         1    4529.316663          43.0  secondary education   \n",
              "21402         0  343937.404131          67.0  secondary education   \n",
              "21403         1    2113.346888          38.0  secondary education   \n",
              "21404         3    3112.481705          38.0  secondary education   \n",
              "21405         2    1984.507589          40.0  secondary education   \n",
              "\n",
              "       education_id      family_status  family_status_id gender income_type  \\\n",
              "0                 0            married                 0      F    employee   \n",
              "1                 1            married                 0      F    employee   \n",
              "2                 1            married                 0      M    employee   \n",
              "3                 1            married                 0      M    employee   \n",
              "4                 1  civil partnership                 1      F     retiree   \n",
              "...             ...                ...               ...    ...         ...   \n",
              "21401             1  civil partnership                 1      F    business   \n",
              "21402             1            married                 0      F     retiree   \n",
              "21403             1  civil partnership                 1      M    employee   \n",
              "21404             1            married                 0      M    employee   \n",
              "21405             1            married                 0      F    employee   \n",
              "\n",
              "       debt  total_income                  purpose  points      income_status  \n",
              "0         0     40620.102    purchase of the house       3        good income  \n",
              "1         0     17932.802             car purchase       3  reasonable income  \n",
              "2         0     23341.752    purchase of the house       2  reasonable income  \n",
              "3         0     42820.568  supplementary education       2        good income  \n",
              "4         0     25378.572        to have a wedding       3  reasonable income  \n",
              "...     ...           ...                      ...     ...                ...  \n",
              "21401     0     35966.698     housing transactions       4        good income  \n",
              "21402     0     24959.969        purchase of a car       2  reasonable income  \n",
              "21403     1     14347.610                 property       4      median income  \n",
              "21404     1     39054.888        buying my own car       2        good income  \n",
              "21405     0     13127.587             to buy a car       3      median income  \n",
              "\n",
              "[21406 rows x 14 columns]"
            ],
            "text/html": [
              "\n",
              "  <div id=\"df-e699b329-8733-4058-bf88-b22521e78923\">\n",
              "    <div class=\"colab-df-container\">\n",
              "      <div>\n",
              "<style scoped>\n",
              "    .dataframe tbody tr th:only-of-type {\n",
              "        vertical-align: middle;\n",
              "    }\n",
              "\n",
              "    .dataframe tbody tr th {\n",
              "        vertical-align: top;\n",
              "    }\n",
              "\n",
              "    .dataframe thead th {\n",
              "        text-align: right;\n",
              "    }\n",
              "</style>\n",
              "<table border=\"1\" class=\"dataframe\">\n",
              "  <thead>\n",
              "    <tr style=\"text-align: right;\">\n",
              "      <th></th>\n",
              "      <th>children</th>\n",
              "      <th>days_employed</th>\n",
              "      <th>customer_age</th>\n",
              "      <th>education</th>\n",
              "      <th>education_id</th>\n",
              "      <th>family_status</th>\n",
              "      <th>family_status_id</th>\n",
              "      <th>gender</th>\n",
              "      <th>income_type</th>\n",
              "      <th>debt</th>\n",
              "      <th>total_income</th>\n",
              "      <th>purpose</th>\n",
              "      <th>points</th>\n",
              "      <th>income_status</th>\n",
              "    </tr>\n",
              "  </thead>\n",
              "  <tbody>\n",
              "    <tr>\n",
              "      <th>0</th>\n",
              "      <td>1</td>\n",
              "      <td>8437.673028</td>\n",
              "      <td>42.0</td>\n",
              "      <td>bachelor's degree</td>\n",
              "      <td>0</td>\n",
              "      <td>married</td>\n",
              "      <td>0</td>\n",
              "      <td>F</td>\n",
              "      <td>employee</td>\n",
              "      <td>0</td>\n",
              "      <td>40620.102</td>\n",
              "      <td>purchase of the house</td>\n",
              "      <td>3</td>\n",
              "      <td>good income</td>\n",
              "    </tr>\n",
              "    <tr>\n",
              "      <th>1</th>\n",
              "      <td>1</td>\n",
              "      <td>4024.803754</td>\n",
              "      <td>36.0</td>\n",
              "      <td>secondary education</td>\n",
              "      <td>1</td>\n",
              "      <td>married</td>\n",
              "      <td>0</td>\n",
              "      <td>F</td>\n",
              "      <td>employee</td>\n",
              "      <td>0</td>\n",
              "      <td>17932.802</td>\n",
              "      <td>car purchase</td>\n",
              "      <td>3</td>\n",
              "      <td>reasonable income</td>\n",
              "    </tr>\n",
              "    <tr>\n",
              "      <th>2</th>\n",
              "      <td>0</td>\n",
              "      <td>5623.422610</td>\n",
              "      <td>33.0</td>\n",
              "      <td>secondary education</td>\n",
              "      <td>1</td>\n",
              "      <td>married</td>\n",
              "      <td>0</td>\n",
              "      <td>M</td>\n",
              "      <td>employee</td>\n",
              "      <td>0</td>\n",
              "      <td>23341.752</td>\n",
              "      <td>purchase of the house</td>\n",
              "      <td>2</td>\n",
              "      <td>reasonable income</td>\n",
              "    </tr>\n",
              "    <tr>\n",
              "      <th>3</th>\n",
              "      <td>3</td>\n",
              "      <td>4124.747207</td>\n",
              "      <td>32.0</td>\n",
              "      <td>secondary education</td>\n",
              "      <td>1</td>\n",
              "      <td>married</td>\n",
              "      <td>0</td>\n",
              "      <td>M</td>\n",
              "      <td>employee</td>\n",
              "      <td>0</td>\n",
              "      <td>42820.568</td>\n",
              "      <td>supplementary education</td>\n",
              "      <td>2</td>\n",
              "      <td>good income</td>\n",
              "    </tr>\n",
              "    <tr>\n",
              "      <th>4</th>\n",
              "      <td>0</td>\n",
              "      <td>340266.072047</td>\n",
              "      <td>53.0</td>\n",
              "      <td>secondary education</td>\n",
              "      <td>1</td>\n",
              "      <td>civil partnership</td>\n",
              "      <td>1</td>\n",
              "      <td>F</td>\n",
              "      <td>retiree</td>\n",
              "      <td>0</td>\n",
              "      <td>25378.572</td>\n",
              "      <td>to have a wedding</td>\n",
              "      <td>3</td>\n",
              "      <td>reasonable income</td>\n",
              "    </tr>\n",
              "    <tr>\n",
              "      <th>...</th>\n",
              "      <td>...</td>\n",
              "      <td>...</td>\n",
              "      <td>...</td>\n",
              "      <td>...</td>\n",
              "      <td>...</td>\n",
              "      <td>...</td>\n",
              "      <td>...</td>\n",
              "      <td>...</td>\n",
              "      <td>...</td>\n",
              "      <td>...</td>\n",
              "      <td>...</td>\n",
              "      <td>...</td>\n",
              "      <td>...</td>\n",
              "      <td>...</td>\n",
              "    </tr>\n",
              "    <tr>\n",
              "      <th>21401</th>\n",
              "      <td>1</td>\n",
              "      <td>4529.316663</td>\n",
              "      <td>43.0</td>\n",
              "      <td>secondary education</td>\n",
              "      <td>1</td>\n",
              "      <td>civil partnership</td>\n",
              "      <td>1</td>\n",
              "      <td>F</td>\n",
              "      <td>business</td>\n",
              "      <td>0</td>\n",
              "      <td>35966.698</td>\n",
              "      <td>housing transactions</td>\n",
              "      <td>4</td>\n",
              "      <td>good income</td>\n",
              "    </tr>\n",
              "    <tr>\n",
              "      <th>21402</th>\n",
              "      <td>0</td>\n",
              "      <td>343937.404131</td>\n",
              "      <td>67.0</td>\n",
              "      <td>secondary education</td>\n",
              "      <td>1</td>\n",
              "      <td>married</td>\n",
              "      <td>0</td>\n",
              "      <td>F</td>\n",
              "      <td>retiree</td>\n",
              "      <td>0</td>\n",
              "      <td>24959.969</td>\n",
              "      <td>purchase of a car</td>\n",
              "      <td>2</td>\n",
              "      <td>reasonable income</td>\n",
              "    </tr>\n",
              "    <tr>\n",
              "      <th>21403</th>\n",
              "      <td>1</td>\n",
              "      <td>2113.346888</td>\n",
              "      <td>38.0</td>\n",
              "      <td>secondary education</td>\n",
              "      <td>1</td>\n",
              "      <td>civil partnership</td>\n",
              "      <td>1</td>\n",
              "      <td>M</td>\n",
              "      <td>employee</td>\n",
              "      <td>1</td>\n",
              "      <td>14347.610</td>\n",
              "      <td>property</td>\n",
              "      <td>4</td>\n",
              "      <td>median income</td>\n",
              "    </tr>\n",
              "    <tr>\n",
              "      <th>21404</th>\n",
              "      <td>3</td>\n",
              "      <td>3112.481705</td>\n",
              "      <td>38.0</td>\n",
              "      <td>secondary education</td>\n",
              "      <td>1</td>\n",
              "      <td>married</td>\n",
              "      <td>0</td>\n",
              "      <td>M</td>\n",
              "      <td>employee</td>\n",
              "      <td>1</td>\n",
              "      <td>39054.888</td>\n",
              "      <td>buying my own car</td>\n",
              "      <td>2</td>\n",
              "      <td>good income</td>\n",
              "    </tr>\n",
              "    <tr>\n",
              "      <th>21405</th>\n",
              "      <td>2</td>\n",
              "      <td>1984.507589</td>\n",
              "      <td>40.0</td>\n",
              "      <td>secondary education</td>\n",
              "      <td>1</td>\n",
              "      <td>married</td>\n",
              "      <td>0</td>\n",
              "      <td>F</td>\n",
              "      <td>employee</td>\n",
              "      <td>0</td>\n",
              "      <td>13127.587</td>\n",
              "      <td>to buy a car</td>\n",
              "      <td>3</td>\n",
              "      <td>median income</td>\n",
              "    </tr>\n",
              "  </tbody>\n",
              "</table>\n",
              "<p>21406 rows × 14 columns</p>\n",
              "</div>\n",
              "      <button class=\"colab-df-convert\" onclick=\"convertToInteractive('df-e699b329-8733-4058-bf88-b22521e78923')\"\n",
              "              title=\"Convert this dataframe to an interactive table.\"\n",
              "              style=\"display:none;\">\n",
              "        \n",
              "  <svg xmlns=\"http://www.w3.org/2000/svg\" height=\"24px\"viewBox=\"0 0 24 24\"\n",
              "       width=\"24px\">\n",
              "    <path d=\"M0 0h24v24H0V0z\" fill=\"none\"/>\n",
              "    <path d=\"M18.56 5.44l.94 2.06.94-2.06 2.06-.94-2.06-.94-.94-2.06-.94 2.06-2.06.94zm-11 1L8.5 8.5l.94-2.06 2.06-.94-2.06-.94L8.5 2.5l-.94 2.06-2.06.94zm10 10l.94 2.06.94-2.06 2.06-.94-2.06-.94-.94-2.06-.94 2.06-2.06.94z\"/><path d=\"M17.41 7.96l-1.37-1.37c-.4-.4-.92-.59-1.43-.59-.52 0-1.04.2-1.43.59L10.3 9.45l-7.72 7.72c-.78.78-.78 2.05 0 2.83L4 21.41c.39.39.9.59 1.41.59.51 0 1.02-.2 1.41-.59l7.78-7.78 2.81-2.81c.8-.78.8-2.07 0-2.86zM5.41 20L4 18.59l7.72-7.72 1.47 1.35L5.41 20z\"/>\n",
              "  </svg>\n",
              "      </button>\n",
              "      \n",
              "  <style>\n",
              "    .colab-df-container {\n",
              "      display:flex;\n",
              "      flex-wrap:wrap;\n",
              "      gap: 12px;\n",
              "    }\n",
              "\n",
              "    .colab-df-convert {\n",
              "      background-color: #E8F0FE;\n",
              "      border: none;\n",
              "      border-radius: 50%;\n",
              "      cursor: pointer;\n",
              "      display: none;\n",
              "      fill: #1967D2;\n",
              "      height: 32px;\n",
              "      padding: 0 0 0 0;\n",
              "      width: 32px;\n",
              "    }\n",
              "\n",
              "    .colab-df-convert:hover {\n",
              "      background-color: #E2EBFA;\n",
              "      box-shadow: 0px 1px 2px rgba(60, 64, 67, 0.3), 0px 1px 3px 1px rgba(60, 64, 67, 0.15);\n",
              "      fill: #174EA6;\n",
              "    }\n",
              "\n",
              "    [theme=dark] .colab-df-convert {\n",
              "      background-color: #3B4455;\n",
              "      fill: #D2E3FC;\n",
              "    }\n",
              "\n",
              "    [theme=dark] .colab-df-convert:hover {\n",
              "      background-color: #434B5C;\n",
              "      box-shadow: 0px 1px 3px 1px rgba(0, 0, 0, 0.15);\n",
              "      filter: drop-shadow(0px 1px 2px rgba(0, 0, 0, 0.3));\n",
              "      fill: #FFFFFF;\n",
              "    }\n",
              "  </style>\n",
              "\n",
              "      <script>\n",
              "        const buttonEl =\n",
              "          document.querySelector('#df-e699b329-8733-4058-bf88-b22521e78923 button.colab-df-convert');\n",
              "        buttonEl.style.display =\n",
              "          google.colab.kernel.accessAllowed ? 'block' : 'none';\n",
              "\n",
              "        async function convertToInteractive(key) {\n",
              "          const element = document.querySelector('#df-e699b329-8733-4058-bf88-b22521e78923');\n",
              "          const dataTable =\n",
              "            await google.colab.kernel.invokeFunction('convertToInteractive',\n",
              "                                                     [key], {});\n",
              "          if (!dataTable) return;\n",
              "\n",
              "          const docLinkHtml = 'Like what you see? Visit the ' +\n",
              "            '<a target=\"_blank\" href=https://colab.research.google.com/notebooks/data_table.ipynb>data table notebook</a>'\n",
              "            + ' to learn more about interactive tables.';\n",
              "          element.innerHTML = '';\n",
              "          dataTable['output_type'] = 'display_data';\n",
              "          await google.colab.output.renderOutput(dataTable, element);\n",
              "          const docLink = document.createElement('div');\n",
              "          docLink.innerHTML = docLinkHtml;\n",
              "          element.appendChild(docLink);\n",
              "        }\n",
              "      </script>\n",
              "    </div>\n",
              "  </div>\n",
              "  "
            ]
          },
          "metadata": {},
          "execution_count": 87
        }
      ],
      "source": [
        "# Criando a coluna para os filtros realizados a cima\n",
        "credit_scoring['income_status'] = credit_scoring.apply(\n",
        "    calculate_income_status, axis=1\n",
        ")\n",
        "\n",
        "credit_scoring\n"
      ]
    },
    {
      "cell_type": "code",
      "execution_count": 88,
      "metadata": {
        "colab": {
          "base_uri": "https://localhost:8080/"
        },
        "id": "IY_lik5qefxk",
        "outputId": "e67245f3-b3f0-4325-ae83-21242a2161c6"
      },
      "outputs": [
        {
          "output_type": "execute_result",
          "data": {
            "text/plain": [
              "low income              26\n",
              "great income           672\n",
              "median income         3710\n",
              "good income           5238\n",
              "reasonable income    11760\n",
              "Name: income_status, dtype: int64"
            ]
          },
          "metadata": {},
          "execution_count": 88
        }
      ],
      "source": [
        "# Validando os valores\n",
        "credit_scoring['income_status'].value_counts(dropna=False).sort_values()"
      ]
    },
    {
      "cell_type": "code",
      "execution_count": 89,
      "metadata": {
        "colab": {
          "base_uri": "https://localhost:8080/"
        },
        "id": "mgA3Jginefxm",
        "outputId": "c01cdc28-ae23-40eb-b3ac-3befa7b169e6"
      },
      "outputs": [
        {
          "output_type": "execute_result",
          "data": {
            "text/plain": [
              "income_status\n",
              "low income              2\n",
              "great income           38\n",
              "median income         296\n",
              "good income           398\n",
              "reasonable income    1006\n",
              "Name: debt, dtype: int64"
            ]
          },
          "metadata": {},
          "execution_count": 89
        }
      ],
      "source": [
        "# Comparando os status de renda com os clientes que não pagam empréstimos\n",
        "credit_scoring.groupby('income_status')['debt'].sum().sort_values()"
      ]
    },
    {
      "cell_type": "code",
      "execution_count": 90,
      "metadata": {
        "colab": {
          "base_uri": "https://localhost:8080/"
        },
        "id": "wxQSABW8efxm",
        "outputId": "1c622cc3-d9c8-4ddc-d5ed-917a688119cd"
      },
      "outputs": [
        {
          "output_type": "execute_result",
          "data": {
            "text/plain": [
              "income_status\n",
              "great income         5.654762\n",
              "good income          7.598320\n",
              "low income           7.692308\n",
              "median income        7.978437\n",
              "reasonable income    8.554422\n",
              "dtype: float64"
            ]
          },
          "metadata": {},
          "execution_count": 90
        }
      ],
      "source": [
        "# Calculando taxa em relação a renda dos clientes e a de crédito\n",
        "avg_total_income_debt = (credit_scoring.groupby('income_status')['debt'].sum().sort_values() / credit_scoring['income_status'].value_counts(dropna=False).sort_values()) *100\n",
        "avg_total_income_debt.sort_values()"
      ]
    },
    {
      "cell_type": "code",
      "execution_count": 91,
      "metadata": {
        "id": "1EI6-bsnefxn"
      },
      "outputs": [],
      "source": [
        "# Acrescentando mais uma validação em nossa função \"calculate_points\"\n",
        "\n",
        "def calculate_points(row):\n",
        "    children = row['children']\n",
        "    family_status_id = row['family_status_id']\n",
        "    income_status = row['income_status']\n",
        "    \n",
        "    points = 0\n",
        "    \n",
        "    # Levando em consideração a taxa de inadimplência de clientes que possuem filhos\n",
        "    if children == 0 or children == 3:\n",
        "        points += 1\n",
        "    if children == 1 or children == 2:\n",
        "        points += 2\n",
        "    \n",
        "    # Levando em consideração a taxa de inadimplência em relação ao estado civil do cliente\n",
        "    if family_status_id == 3 or family_status_id == 0:\n",
        "        points += 1\n",
        "    if family_status_id == 1:\n",
        "        points += 2\n",
        "    if family_status_id == 4:    \n",
        "        points += 3\n",
        "    \n",
        "    # Levando em consideração a taxa de inadimplência em relação a renda mensal do cliente\n",
        "    if income_status == \"good income\" or income_status == \"low income\":\n",
        "        points += 1\n",
        "    if income_status == \"median income\":\n",
        "        points += 2\n",
        "    if income_status == \"reasonable income\":\n",
        "        points += 3\n",
        "        \n",
        "    return points  "
      ]
    },
    {
      "cell_type": "code",
      "execution_count": 92,
      "metadata": {
        "colab": {
          "base_uri": "https://localhost:8080/",
          "height": 357
        },
        "id": "8yYWJBNyefxn",
        "outputId": "2dbfdbf7-f29b-46c1-e0a9-205967e93b30"
      },
      "outputs": [
        {
          "output_type": "execute_result",
          "data": {
            "text/plain": [
              "   children  days_employed  customer_age            education  education_id  \\\n",
              "0         1    8437.673028          42.0    bachelor's degree             0   \n",
              "1         1    4024.803754          36.0  secondary education             1   \n",
              "2         0    5623.422610          33.0  secondary education             1   \n",
              "3         3    4124.747207          32.0  secondary education             1   \n",
              "4         0  340266.072047          53.0  secondary education             1   \n",
              "\n",
              "       family_status  family_status_id gender income_type  debt  total_income  \\\n",
              "0            married                 0      F    employee     0     40620.102   \n",
              "1            married                 0      F    employee     0     17932.802   \n",
              "2            married                 0      M    employee     0     23341.752   \n",
              "3            married                 0      M    employee     0     42820.568   \n",
              "4  civil partnership                 1      F     retiree     0     25378.572   \n",
              "\n",
              "                   purpose  points      income_status  \n",
              "0    purchase of the house       4        good income  \n",
              "1             car purchase       6  reasonable income  \n",
              "2    purchase of the house       5  reasonable income  \n",
              "3  supplementary education       3        good income  \n",
              "4        to have a wedding       6  reasonable income  "
            ],
            "text/html": [
              "\n",
              "  <div id=\"df-528888c4-084c-4926-a110-d5966172b2a2\">\n",
              "    <div class=\"colab-df-container\">\n",
              "      <div>\n",
              "<style scoped>\n",
              "    .dataframe tbody tr th:only-of-type {\n",
              "        vertical-align: middle;\n",
              "    }\n",
              "\n",
              "    .dataframe tbody tr th {\n",
              "        vertical-align: top;\n",
              "    }\n",
              "\n",
              "    .dataframe thead th {\n",
              "        text-align: right;\n",
              "    }\n",
              "</style>\n",
              "<table border=\"1\" class=\"dataframe\">\n",
              "  <thead>\n",
              "    <tr style=\"text-align: right;\">\n",
              "      <th></th>\n",
              "      <th>children</th>\n",
              "      <th>days_employed</th>\n",
              "      <th>customer_age</th>\n",
              "      <th>education</th>\n",
              "      <th>education_id</th>\n",
              "      <th>family_status</th>\n",
              "      <th>family_status_id</th>\n",
              "      <th>gender</th>\n",
              "      <th>income_type</th>\n",
              "      <th>debt</th>\n",
              "      <th>total_income</th>\n",
              "      <th>purpose</th>\n",
              "      <th>points</th>\n",
              "      <th>income_status</th>\n",
              "    </tr>\n",
              "  </thead>\n",
              "  <tbody>\n",
              "    <tr>\n",
              "      <th>0</th>\n",
              "      <td>1</td>\n",
              "      <td>8437.673028</td>\n",
              "      <td>42.0</td>\n",
              "      <td>bachelor's degree</td>\n",
              "      <td>0</td>\n",
              "      <td>married</td>\n",
              "      <td>0</td>\n",
              "      <td>F</td>\n",
              "      <td>employee</td>\n",
              "      <td>0</td>\n",
              "      <td>40620.102</td>\n",
              "      <td>purchase of the house</td>\n",
              "      <td>4</td>\n",
              "      <td>good income</td>\n",
              "    </tr>\n",
              "    <tr>\n",
              "      <th>1</th>\n",
              "      <td>1</td>\n",
              "      <td>4024.803754</td>\n",
              "      <td>36.0</td>\n",
              "      <td>secondary education</td>\n",
              "      <td>1</td>\n",
              "      <td>married</td>\n",
              "      <td>0</td>\n",
              "      <td>F</td>\n",
              "      <td>employee</td>\n",
              "      <td>0</td>\n",
              "      <td>17932.802</td>\n",
              "      <td>car purchase</td>\n",
              "      <td>6</td>\n",
              "      <td>reasonable income</td>\n",
              "    </tr>\n",
              "    <tr>\n",
              "      <th>2</th>\n",
              "      <td>0</td>\n",
              "      <td>5623.422610</td>\n",
              "      <td>33.0</td>\n",
              "      <td>secondary education</td>\n",
              "      <td>1</td>\n",
              "      <td>married</td>\n",
              "      <td>0</td>\n",
              "      <td>M</td>\n",
              "      <td>employee</td>\n",
              "      <td>0</td>\n",
              "      <td>23341.752</td>\n",
              "      <td>purchase of the house</td>\n",
              "      <td>5</td>\n",
              "      <td>reasonable income</td>\n",
              "    </tr>\n",
              "    <tr>\n",
              "      <th>3</th>\n",
              "      <td>3</td>\n",
              "      <td>4124.747207</td>\n",
              "      <td>32.0</td>\n",
              "      <td>secondary education</td>\n",
              "      <td>1</td>\n",
              "      <td>married</td>\n",
              "      <td>0</td>\n",
              "      <td>M</td>\n",
              "      <td>employee</td>\n",
              "      <td>0</td>\n",
              "      <td>42820.568</td>\n",
              "      <td>supplementary education</td>\n",
              "      <td>3</td>\n",
              "      <td>good income</td>\n",
              "    </tr>\n",
              "    <tr>\n",
              "      <th>4</th>\n",
              "      <td>0</td>\n",
              "      <td>340266.072047</td>\n",
              "      <td>53.0</td>\n",
              "      <td>secondary education</td>\n",
              "      <td>1</td>\n",
              "      <td>civil partnership</td>\n",
              "      <td>1</td>\n",
              "      <td>F</td>\n",
              "      <td>retiree</td>\n",
              "      <td>0</td>\n",
              "      <td>25378.572</td>\n",
              "      <td>to have a wedding</td>\n",
              "      <td>6</td>\n",
              "      <td>reasonable income</td>\n",
              "    </tr>\n",
              "  </tbody>\n",
              "</table>\n",
              "</div>\n",
              "      <button class=\"colab-df-convert\" onclick=\"convertToInteractive('df-528888c4-084c-4926-a110-d5966172b2a2')\"\n",
              "              title=\"Convert this dataframe to an interactive table.\"\n",
              "              style=\"display:none;\">\n",
              "        \n",
              "  <svg xmlns=\"http://www.w3.org/2000/svg\" height=\"24px\"viewBox=\"0 0 24 24\"\n",
              "       width=\"24px\">\n",
              "    <path d=\"M0 0h24v24H0V0z\" fill=\"none\"/>\n",
              "    <path d=\"M18.56 5.44l.94 2.06.94-2.06 2.06-.94-2.06-.94-.94-2.06-.94 2.06-2.06.94zm-11 1L8.5 8.5l.94-2.06 2.06-.94-2.06-.94L8.5 2.5l-.94 2.06-2.06.94zm10 10l.94 2.06.94-2.06 2.06-.94-2.06-.94-.94-2.06-.94 2.06-2.06.94z\"/><path d=\"M17.41 7.96l-1.37-1.37c-.4-.4-.92-.59-1.43-.59-.52 0-1.04.2-1.43.59L10.3 9.45l-7.72 7.72c-.78.78-.78 2.05 0 2.83L4 21.41c.39.39.9.59 1.41.59.51 0 1.02-.2 1.41-.59l7.78-7.78 2.81-2.81c.8-.78.8-2.07 0-2.86zM5.41 20L4 18.59l7.72-7.72 1.47 1.35L5.41 20z\"/>\n",
              "  </svg>\n",
              "      </button>\n",
              "      \n",
              "  <style>\n",
              "    .colab-df-container {\n",
              "      display:flex;\n",
              "      flex-wrap:wrap;\n",
              "      gap: 12px;\n",
              "    }\n",
              "\n",
              "    .colab-df-convert {\n",
              "      background-color: #E8F0FE;\n",
              "      border: none;\n",
              "      border-radius: 50%;\n",
              "      cursor: pointer;\n",
              "      display: none;\n",
              "      fill: #1967D2;\n",
              "      height: 32px;\n",
              "      padding: 0 0 0 0;\n",
              "      width: 32px;\n",
              "    }\n",
              "\n",
              "    .colab-df-convert:hover {\n",
              "      background-color: #E2EBFA;\n",
              "      box-shadow: 0px 1px 2px rgba(60, 64, 67, 0.3), 0px 1px 3px 1px rgba(60, 64, 67, 0.15);\n",
              "      fill: #174EA6;\n",
              "    }\n",
              "\n",
              "    [theme=dark] .colab-df-convert {\n",
              "      background-color: #3B4455;\n",
              "      fill: #D2E3FC;\n",
              "    }\n",
              "\n",
              "    [theme=dark] .colab-df-convert:hover {\n",
              "      background-color: #434B5C;\n",
              "      box-shadow: 0px 1px 3px 1px rgba(0, 0, 0, 0.15);\n",
              "      filter: drop-shadow(0px 1px 2px rgba(0, 0, 0, 0.3));\n",
              "      fill: #FFFFFF;\n",
              "    }\n",
              "  </style>\n",
              "\n",
              "      <script>\n",
              "        const buttonEl =\n",
              "          document.querySelector('#df-528888c4-084c-4926-a110-d5966172b2a2 button.colab-df-convert');\n",
              "        buttonEl.style.display =\n",
              "          google.colab.kernel.accessAllowed ? 'block' : 'none';\n",
              "\n",
              "        async function convertToInteractive(key) {\n",
              "          const element = document.querySelector('#df-528888c4-084c-4926-a110-d5966172b2a2');\n",
              "          const dataTable =\n",
              "            await google.colab.kernel.invokeFunction('convertToInteractive',\n",
              "                                                     [key], {});\n",
              "          if (!dataTable) return;\n",
              "\n",
              "          const docLinkHtml = 'Like what you see? Visit the ' +\n",
              "            '<a target=\"_blank\" href=https://colab.research.google.com/notebooks/data_table.ipynb>data table notebook</a>'\n",
              "            + ' to learn more about interactive tables.';\n",
              "          element.innerHTML = '';\n",
              "          dataTable['output_type'] = 'display_data';\n",
              "          await google.colab.output.renderOutput(dataTable, element);\n",
              "          const docLink = document.createElement('div');\n",
              "          docLink.innerHTML = docLinkHtml;\n",
              "          element.appendChild(docLink);\n",
              "        }\n",
              "      </script>\n",
              "    </div>\n",
              "  </div>\n",
              "  "
            ]
          },
          "metadata": {},
          "execution_count": 92
        }
      ],
      "source": [
        "# Aplicando coluna que aplica a quantidade de pontos:\n",
        "\n",
        "credit_scoring['points'] = credit_scoring.apply(calculate_points, axis=1)\n",
        "\n",
        "credit_scoring.head()"
      ]
    },
    {
      "cell_type": "markdown",
      "metadata": {
        "id": "aAFqQ46_efxn"
      },
      "source": [
        "### Coletando Dados para a Hipótese 4 <a id='dados_finalidades'></a>"
      ]
    },
    {
      "cell_type": "code",
      "execution_count": 93,
      "metadata": {
        "scrolled": true,
        "colab": {
          "base_uri": "https://localhost:8080/"
        },
        "id": "JMryhQmoefxn",
        "outputId": "2ae3e7e3-2a67-4d93-8eb0-6dfb5ed9c057"
      },
      "outputs": [
        {
          "output_type": "execute_result",
          "data": {
            "text/plain": [
              "to become educated                          408\n",
              "getting higher education                    426\n",
              "profile education                           434\n",
              "getting an education                        441\n",
              "education                                   444\n",
              "to get a supplementary education            445\n",
              "university education                        451\n",
              "purchase of a car                           455\n",
              "supplementary education                     458\n",
              "car purchase                                459\n",
              "to buy a car                                470\n",
              "to own a car                                476\n",
              "cars                                        477\n",
              "buying a second-hand car                    477\n",
              "second-hand car purchase                    485\n",
              "car                                         492\n",
              "going to university                         496\n",
              "buying my own car                           504\n",
              "buy residential real estate                 604\n",
              "housing renovation                          606\n",
              "buy real estate                             617\n",
              "purchase of my own house                    619\n",
              "building a property                         619\n",
              "building a real estate                      621\n",
              "transactions with my real estate            624\n",
              "property                                    632\n",
              "construction of own property                634\n",
              "purchase of the house for my family         638\n",
              "purchase of the house                       643\n",
              "housing                                     645\n",
              "transactions with commercial real estate    649\n",
              "buying property for renting out             650\n",
              "housing transactions                        651\n",
              "buy commercial real estate                  661\n",
              "real estate transactions                    673\n",
              "to have a wedding                           764\n",
              "having a wedding                            767\n",
              "wedding ceremony                            791\n",
              "Name: purpose, dtype: int64"
            ]
          },
          "metadata": {},
          "execution_count": 93
        }
      ],
      "source": [
        "# Verificando valores da tabela \"purpose\"\n",
        "credit_scoring['purpose'].value_counts(dropna=False).sort_values()"
      ]
    },
    {
      "cell_type": "code",
      "execution_count": 94,
      "metadata": {
        "id": "g_5CyyF4efxo"
      },
      "outputs": [],
      "source": [
        "# Categorizando a coluna purpose:\n",
        "\n",
        "def purpose_categorizing(row):\n",
        "    purpose = row['purpose']\n",
        "    \n",
        "    if purpose == \"to become educated\" or purpose == \"profile education\" or purpose == \"getting higher education\" or purpose == \"getting an education\" or purpose == \"to get a supplementary education\" or purpose == \"education\" or purpose == \"university education\" or purpose == \"supplementary education\" or purpose == \"going to university\":\n",
        "        return \"education\"\n",
        "    if purpose == \"purchase of a car\" or purpose == \"car purchase\" or purpose == \"cars\" or purpose == \"to own a car\" or purpose == \"second-hand car purchase\" or purpose == \"buying a second-hand car\" or purpose == \"buying my own car\" or purpose == \"to buy a car\" or purpose == \"car\":\n",
        "        return \"car\"\n",
        "    if purpose == \"housing renovation\" or purpose == \"buy residential real estate\" or purpose == \"buy real estate\" or purpose == \"transactions with my real estate\" or purpose == \"construction of own property\" or purpose == \"building a property\" or purpose == \"purchase of the house for my family\" or purpose == \"property\" or purpose == \"purchase of my own house\" or purpose == \"building a real estate\" or purpose == \"housing transactions\" or purpose == \"transactions with commercial real estate\" or purpose == \"housing\" or purpose == \"buying property for renting out\" or purpose == \"purchase of the house\" or purpose == \"buy commercial real estate\" or purpose == \"real estate transactions\":\n",
        "        return \"property\"\n",
        "    if purpose == \"having a wedding\" or purpose == \"to have a wedding\" or purpose == \"wedding ceremony\":\n",
        "        return \"wedding\"\n",
        "    else:\n",
        "        return \"unknown\""
      ]
    },
    {
      "cell_type": "code",
      "execution_count": 95,
      "metadata": {
        "colab": {
          "base_uri": "https://localhost:8080/",
          "height": 357
        },
        "id": "mF7spGmmefxo",
        "outputId": "532b3a66-23e5-4c18-feb2-90cca25bd3f3"
      },
      "outputs": [
        {
          "output_type": "execute_result",
          "data": {
            "text/plain": [
              "   children  days_employed  customer_age            education  education_id  \\\n",
              "0         1    8437.673028          42.0    bachelor's degree             0   \n",
              "1         1    4024.803754          36.0  secondary education             1   \n",
              "2         0    5623.422610          33.0  secondary education             1   \n",
              "3         3    4124.747207          32.0  secondary education             1   \n",
              "4         0  340266.072047          53.0  secondary education             1   \n",
              "\n",
              "       family_status  family_status_id gender income_type  debt  total_income  \\\n",
              "0            married                 0      F    employee     0     40620.102   \n",
              "1            married                 0      F    employee     0     17932.802   \n",
              "2            married                 0      M    employee     0     23341.752   \n",
              "3            married                 0      M    employee     0     42820.568   \n",
              "4  civil partnership                 1      F     retiree     0     25378.572   \n",
              "\n",
              "     purpose  points      income_status  \n",
              "0   property       4        good income  \n",
              "1        car       6  reasonable income  \n",
              "2   property       5  reasonable income  \n",
              "3  education       3        good income  \n",
              "4    wedding       6  reasonable income  "
            ],
            "text/html": [
              "\n",
              "  <div id=\"df-e381d676-6f31-423c-bb1f-48e74540e335\">\n",
              "    <div class=\"colab-df-container\">\n",
              "      <div>\n",
              "<style scoped>\n",
              "    .dataframe tbody tr th:only-of-type {\n",
              "        vertical-align: middle;\n",
              "    }\n",
              "\n",
              "    .dataframe tbody tr th {\n",
              "        vertical-align: top;\n",
              "    }\n",
              "\n",
              "    .dataframe thead th {\n",
              "        text-align: right;\n",
              "    }\n",
              "</style>\n",
              "<table border=\"1\" class=\"dataframe\">\n",
              "  <thead>\n",
              "    <tr style=\"text-align: right;\">\n",
              "      <th></th>\n",
              "      <th>children</th>\n",
              "      <th>days_employed</th>\n",
              "      <th>customer_age</th>\n",
              "      <th>education</th>\n",
              "      <th>education_id</th>\n",
              "      <th>family_status</th>\n",
              "      <th>family_status_id</th>\n",
              "      <th>gender</th>\n",
              "      <th>income_type</th>\n",
              "      <th>debt</th>\n",
              "      <th>total_income</th>\n",
              "      <th>purpose</th>\n",
              "      <th>points</th>\n",
              "      <th>income_status</th>\n",
              "    </tr>\n",
              "  </thead>\n",
              "  <tbody>\n",
              "    <tr>\n",
              "      <th>0</th>\n",
              "      <td>1</td>\n",
              "      <td>8437.673028</td>\n",
              "      <td>42.0</td>\n",
              "      <td>bachelor's degree</td>\n",
              "      <td>0</td>\n",
              "      <td>married</td>\n",
              "      <td>0</td>\n",
              "      <td>F</td>\n",
              "      <td>employee</td>\n",
              "      <td>0</td>\n",
              "      <td>40620.102</td>\n",
              "      <td>property</td>\n",
              "      <td>4</td>\n",
              "      <td>good income</td>\n",
              "    </tr>\n",
              "    <tr>\n",
              "      <th>1</th>\n",
              "      <td>1</td>\n",
              "      <td>4024.803754</td>\n",
              "      <td>36.0</td>\n",
              "      <td>secondary education</td>\n",
              "      <td>1</td>\n",
              "      <td>married</td>\n",
              "      <td>0</td>\n",
              "      <td>F</td>\n",
              "      <td>employee</td>\n",
              "      <td>0</td>\n",
              "      <td>17932.802</td>\n",
              "      <td>car</td>\n",
              "      <td>6</td>\n",
              "      <td>reasonable income</td>\n",
              "    </tr>\n",
              "    <tr>\n",
              "      <th>2</th>\n",
              "      <td>0</td>\n",
              "      <td>5623.422610</td>\n",
              "      <td>33.0</td>\n",
              "      <td>secondary education</td>\n",
              "      <td>1</td>\n",
              "      <td>married</td>\n",
              "      <td>0</td>\n",
              "      <td>M</td>\n",
              "      <td>employee</td>\n",
              "      <td>0</td>\n",
              "      <td>23341.752</td>\n",
              "      <td>property</td>\n",
              "      <td>5</td>\n",
              "      <td>reasonable income</td>\n",
              "    </tr>\n",
              "    <tr>\n",
              "      <th>3</th>\n",
              "      <td>3</td>\n",
              "      <td>4124.747207</td>\n",
              "      <td>32.0</td>\n",
              "      <td>secondary education</td>\n",
              "      <td>1</td>\n",
              "      <td>married</td>\n",
              "      <td>0</td>\n",
              "      <td>M</td>\n",
              "      <td>employee</td>\n",
              "      <td>0</td>\n",
              "      <td>42820.568</td>\n",
              "      <td>education</td>\n",
              "      <td>3</td>\n",
              "      <td>good income</td>\n",
              "    </tr>\n",
              "    <tr>\n",
              "      <th>4</th>\n",
              "      <td>0</td>\n",
              "      <td>340266.072047</td>\n",
              "      <td>53.0</td>\n",
              "      <td>secondary education</td>\n",
              "      <td>1</td>\n",
              "      <td>civil partnership</td>\n",
              "      <td>1</td>\n",
              "      <td>F</td>\n",
              "      <td>retiree</td>\n",
              "      <td>0</td>\n",
              "      <td>25378.572</td>\n",
              "      <td>wedding</td>\n",
              "      <td>6</td>\n",
              "      <td>reasonable income</td>\n",
              "    </tr>\n",
              "  </tbody>\n",
              "</table>\n",
              "</div>\n",
              "      <button class=\"colab-df-convert\" onclick=\"convertToInteractive('df-e381d676-6f31-423c-bb1f-48e74540e335')\"\n",
              "              title=\"Convert this dataframe to an interactive table.\"\n",
              "              style=\"display:none;\">\n",
              "        \n",
              "  <svg xmlns=\"http://www.w3.org/2000/svg\" height=\"24px\"viewBox=\"0 0 24 24\"\n",
              "       width=\"24px\">\n",
              "    <path d=\"M0 0h24v24H0V0z\" fill=\"none\"/>\n",
              "    <path d=\"M18.56 5.44l.94 2.06.94-2.06 2.06-.94-2.06-.94-.94-2.06-.94 2.06-2.06.94zm-11 1L8.5 8.5l.94-2.06 2.06-.94-2.06-.94L8.5 2.5l-.94 2.06-2.06.94zm10 10l.94 2.06.94-2.06 2.06-.94-2.06-.94-.94-2.06-.94 2.06-2.06.94z\"/><path d=\"M17.41 7.96l-1.37-1.37c-.4-.4-.92-.59-1.43-.59-.52 0-1.04.2-1.43.59L10.3 9.45l-7.72 7.72c-.78.78-.78 2.05 0 2.83L4 21.41c.39.39.9.59 1.41.59.51 0 1.02-.2 1.41-.59l7.78-7.78 2.81-2.81c.8-.78.8-2.07 0-2.86zM5.41 20L4 18.59l7.72-7.72 1.47 1.35L5.41 20z\"/>\n",
              "  </svg>\n",
              "      </button>\n",
              "      \n",
              "  <style>\n",
              "    .colab-df-container {\n",
              "      display:flex;\n",
              "      flex-wrap:wrap;\n",
              "      gap: 12px;\n",
              "    }\n",
              "\n",
              "    .colab-df-convert {\n",
              "      background-color: #E8F0FE;\n",
              "      border: none;\n",
              "      border-radius: 50%;\n",
              "      cursor: pointer;\n",
              "      display: none;\n",
              "      fill: #1967D2;\n",
              "      height: 32px;\n",
              "      padding: 0 0 0 0;\n",
              "      width: 32px;\n",
              "    }\n",
              "\n",
              "    .colab-df-convert:hover {\n",
              "      background-color: #E2EBFA;\n",
              "      box-shadow: 0px 1px 2px rgba(60, 64, 67, 0.3), 0px 1px 3px 1px rgba(60, 64, 67, 0.15);\n",
              "      fill: #174EA6;\n",
              "    }\n",
              "\n",
              "    [theme=dark] .colab-df-convert {\n",
              "      background-color: #3B4455;\n",
              "      fill: #D2E3FC;\n",
              "    }\n",
              "\n",
              "    [theme=dark] .colab-df-convert:hover {\n",
              "      background-color: #434B5C;\n",
              "      box-shadow: 0px 1px 3px 1px rgba(0, 0, 0, 0.15);\n",
              "      filter: drop-shadow(0px 1px 2px rgba(0, 0, 0, 0.3));\n",
              "      fill: #FFFFFF;\n",
              "    }\n",
              "  </style>\n",
              "\n",
              "      <script>\n",
              "        const buttonEl =\n",
              "          document.querySelector('#df-e381d676-6f31-423c-bb1f-48e74540e335 button.colab-df-convert');\n",
              "        buttonEl.style.display =\n",
              "          google.colab.kernel.accessAllowed ? 'block' : 'none';\n",
              "\n",
              "        async function convertToInteractive(key) {\n",
              "          const element = document.querySelector('#df-e381d676-6f31-423c-bb1f-48e74540e335');\n",
              "          const dataTable =\n",
              "            await google.colab.kernel.invokeFunction('convertToInteractive',\n",
              "                                                     [key], {});\n",
              "          if (!dataTable) return;\n",
              "\n",
              "          const docLinkHtml = 'Like what you see? Visit the ' +\n",
              "            '<a target=\"_blank\" href=https://colab.research.google.com/notebooks/data_table.ipynb>data table notebook</a>'\n",
              "            + ' to learn more about interactive tables.';\n",
              "          element.innerHTML = '';\n",
              "          dataTable['output_type'] = 'display_data';\n",
              "          await google.colab.output.renderOutput(dataTable, element);\n",
              "          const docLink = document.createElement('div');\n",
              "          docLink.innerHTML = docLinkHtml;\n",
              "          element.appendChild(docLink);\n",
              "        }\n",
              "      </script>\n",
              "    </div>\n",
              "  </div>\n",
              "  "
            ]
          },
          "metadata": {},
          "execution_count": 95
        }
      ],
      "source": [
        "# Aplicando função na coluna\n",
        "credit_scoring['purpose'] = credit_scoring.apply(purpose_categorizing, axis=1)\n",
        "\n",
        "credit_scoring.head()"
      ]
    },
    {
      "cell_type": "code",
      "execution_count": 96,
      "metadata": {
        "colab": {
          "base_uri": "https://localhost:8080/"
        },
        "id": "iXTsCXGAefxo",
        "outputId": "bae798af-df4c-426a-8048-ea35a02f924e"
      },
      "outputs": [
        {
          "output_type": "execute_result",
          "data": {
            "text/plain": [
              "wedding       2322\n",
              "education     4003\n",
              "car           4295\n",
              "property     10786\n",
              "Name: purpose, dtype: int64"
            ]
          },
          "metadata": {},
          "execution_count": 96
        }
      ],
      "source": [
        "# Validando os valores da \"purpose\"\n",
        "credit_scoring['purpose'].value_counts(dropna=False).sort_values()\n"
      ]
    },
    {
      "cell_type": "code",
      "execution_count": 97,
      "metadata": {
        "colab": {
          "base_uri": "https://localhost:8080/"
        },
        "id": "stfpp5usefxp",
        "outputId": "1f08a22b-84fe-4b84-c637-3ffcc8aed25f"
      },
      "outputs": [
        {
          "output_type": "execute_result",
          "data": {
            "text/plain": [
              "purpose\n",
              "wedding      186\n",
              "education    370\n",
              "car          402\n",
              "property     782\n",
              "Name: debt, dtype: int64"
            ]
          },
          "metadata": {},
          "execution_count": 97
        }
      ],
      "source": [
        "# Comparando os motivos de empréstimos com os clientes que não o pagam\n",
        "credit_scoring.groupby('purpose')['debt'].sum().sort_values()"
      ]
    },
    {
      "cell_type": "code",
      "execution_count": 98,
      "metadata": {
        "colab": {
          "base_uri": "https://localhost:8080/"
        },
        "id": "G4m8oh_9efxp",
        "outputId": "e753f601-f713-4f2d-dd0b-0bc8803803f3"
      },
      "outputs": [
        {
          "output_type": "execute_result",
          "data": {
            "text/plain": [
              "purpose\n",
              "property     7.250139\n",
              "wedding      8.010336\n",
              "education    9.243068\n",
              "car          9.359721\n",
              "dtype: float64"
            ]
          },
          "metadata": {},
          "execution_count": 98
        }
      ],
      "source": [
        "# Calculando taxa em relação a renda dos clientes e a de crédito\n",
        "avg_purpose_debt = (credit_scoring.groupby('purpose')['debt'].sum().sort_values() / credit_scoring['purpose'].value_counts(dropna=False).sort_values()) *100\n",
        "avg_purpose_debt.sort_values()"
      ]
    },
    {
      "cell_type": "code",
      "execution_count": 99,
      "metadata": {
        "id": "PXiswmtwefxp"
      },
      "outputs": [],
      "source": [
        "# Acrescentando mais uma validação em nossa função \"calculate_points\"\n",
        "\n",
        "def calculate_points(row):\n",
        "    children = row['children']\n",
        "    family_status_id = row['family_status_id']\n",
        "    income_status = row['income_status']\n",
        "    purpose = row['purpose']\n",
        "    \n",
        "    points = 0\n",
        "    \n",
        "    # Levando em consideração a taxa de inadimplência de clientes que possuem filhos\n",
        "    if children == 0 or children == 3:\n",
        "        points += 1\n",
        "    if children == 1 or children == 2:\n",
        "        points += 2\n",
        "    \n",
        "    # Levando em consideração a taxa de inadimplência em relação ao estado civil do cliente\n",
        "    if family_status_id == 3 or family_status_id == 0:\n",
        "        points += 1\n",
        "    if family_status_id == 1:\n",
        "        points += 2\n",
        "    if family_status_id == 4:    \n",
        "        points += 3\n",
        "    \n",
        "    # Levando em consideração a taxa de inadimplência em relação a renda mensal do cliente\n",
        "    if income_status == \"good income\" or income_status == \"low income\":\n",
        "        points += 1\n",
        "    if income_status == \"median income\":\n",
        "        points += 2\n",
        "    if income_status == \"reasonable income\":\n",
        "        points += 3\n",
        "    \n",
        "    # Levando em consideração a taxa de inadimplência em relação ao motivo de empréstimo do cliente\n",
        "    if purpose == \"property\" or purpose == \"wedding\":\n",
        "        points += 1\n",
        "    if purpose == \"education\" or purpose == \"car\":\n",
        "        points += 2\n",
        "        \n",
        "    return points  "
      ]
    },
    {
      "cell_type": "code",
      "execution_count": 100,
      "metadata": {
        "colab": {
          "base_uri": "https://localhost:8080/"
        },
        "id": "e32fRDDLefxp",
        "outputId": "763abb4e-a948-4d77-c392-8035f6773a22"
      },
      "outputs": [
        {
          "output_type": "stream",
          "name": "stdout",
          "text": [
            "6\n"
          ]
        }
      ],
      "source": [
        "# Testando função\n",
        "row_values = [0, 2, \"reasonable income\",\"car\"]\n",
        "row_columns = ['children','family_status_id', 'income_status','purpose']\n",
        "row = pd.Series(data=row_values, index=row_columns)\n",
        "print(calculate_points(row))"
      ]
    },
    {
      "cell_type": "code",
      "execution_count": 101,
      "metadata": {
        "colab": {
          "base_uri": "https://localhost:8080/",
          "height": 357
        },
        "id": "uAz2u5mKefxq",
        "outputId": "7208866c-d8c5-4c3b-a324-22a425b36b11"
      },
      "outputs": [
        {
          "output_type": "execute_result",
          "data": {
            "text/plain": [
              "   children  days_employed  customer_age            education  education_id  \\\n",
              "0         1    8437.673028          42.0    bachelor's degree             0   \n",
              "1         1    4024.803754          36.0  secondary education             1   \n",
              "2         0    5623.422610          33.0  secondary education             1   \n",
              "3         3    4124.747207          32.0  secondary education             1   \n",
              "4         0  340266.072047          53.0  secondary education             1   \n",
              "\n",
              "       family_status  family_status_id gender income_type  debt  total_income  \\\n",
              "0            married                 0      F    employee     0     40620.102   \n",
              "1            married                 0      F    employee     0     17932.802   \n",
              "2            married                 0      M    employee     0     23341.752   \n",
              "3            married                 0      M    employee     0     42820.568   \n",
              "4  civil partnership                 1      F     retiree     0     25378.572   \n",
              "\n",
              "     purpose  points      income_status  \n",
              "0   property       5        good income  \n",
              "1        car       8  reasonable income  \n",
              "2   property       6  reasonable income  \n",
              "3  education       5        good income  \n",
              "4    wedding       7  reasonable income  "
            ],
            "text/html": [
              "\n",
              "  <div id=\"df-6bee6746-548e-46a4-ae83-548ad8cc75b3\">\n",
              "    <div class=\"colab-df-container\">\n",
              "      <div>\n",
              "<style scoped>\n",
              "    .dataframe tbody tr th:only-of-type {\n",
              "        vertical-align: middle;\n",
              "    }\n",
              "\n",
              "    .dataframe tbody tr th {\n",
              "        vertical-align: top;\n",
              "    }\n",
              "\n",
              "    .dataframe thead th {\n",
              "        text-align: right;\n",
              "    }\n",
              "</style>\n",
              "<table border=\"1\" class=\"dataframe\">\n",
              "  <thead>\n",
              "    <tr style=\"text-align: right;\">\n",
              "      <th></th>\n",
              "      <th>children</th>\n",
              "      <th>days_employed</th>\n",
              "      <th>customer_age</th>\n",
              "      <th>education</th>\n",
              "      <th>education_id</th>\n",
              "      <th>family_status</th>\n",
              "      <th>family_status_id</th>\n",
              "      <th>gender</th>\n",
              "      <th>income_type</th>\n",
              "      <th>debt</th>\n",
              "      <th>total_income</th>\n",
              "      <th>purpose</th>\n",
              "      <th>points</th>\n",
              "      <th>income_status</th>\n",
              "    </tr>\n",
              "  </thead>\n",
              "  <tbody>\n",
              "    <tr>\n",
              "      <th>0</th>\n",
              "      <td>1</td>\n",
              "      <td>8437.673028</td>\n",
              "      <td>42.0</td>\n",
              "      <td>bachelor's degree</td>\n",
              "      <td>0</td>\n",
              "      <td>married</td>\n",
              "      <td>0</td>\n",
              "      <td>F</td>\n",
              "      <td>employee</td>\n",
              "      <td>0</td>\n",
              "      <td>40620.102</td>\n",
              "      <td>property</td>\n",
              "      <td>5</td>\n",
              "      <td>good income</td>\n",
              "    </tr>\n",
              "    <tr>\n",
              "      <th>1</th>\n",
              "      <td>1</td>\n",
              "      <td>4024.803754</td>\n",
              "      <td>36.0</td>\n",
              "      <td>secondary education</td>\n",
              "      <td>1</td>\n",
              "      <td>married</td>\n",
              "      <td>0</td>\n",
              "      <td>F</td>\n",
              "      <td>employee</td>\n",
              "      <td>0</td>\n",
              "      <td>17932.802</td>\n",
              "      <td>car</td>\n",
              "      <td>8</td>\n",
              "      <td>reasonable income</td>\n",
              "    </tr>\n",
              "    <tr>\n",
              "      <th>2</th>\n",
              "      <td>0</td>\n",
              "      <td>5623.422610</td>\n",
              "      <td>33.0</td>\n",
              "      <td>secondary education</td>\n",
              "      <td>1</td>\n",
              "      <td>married</td>\n",
              "      <td>0</td>\n",
              "      <td>M</td>\n",
              "      <td>employee</td>\n",
              "      <td>0</td>\n",
              "      <td>23341.752</td>\n",
              "      <td>property</td>\n",
              "      <td>6</td>\n",
              "      <td>reasonable income</td>\n",
              "    </tr>\n",
              "    <tr>\n",
              "      <th>3</th>\n",
              "      <td>3</td>\n",
              "      <td>4124.747207</td>\n",
              "      <td>32.0</td>\n",
              "      <td>secondary education</td>\n",
              "      <td>1</td>\n",
              "      <td>married</td>\n",
              "      <td>0</td>\n",
              "      <td>M</td>\n",
              "      <td>employee</td>\n",
              "      <td>0</td>\n",
              "      <td>42820.568</td>\n",
              "      <td>education</td>\n",
              "      <td>5</td>\n",
              "      <td>good income</td>\n",
              "    </tr>\n",
              "    <tr>\n",
              "      <th>4</th>\n",
              "      <td>0</td>\n",
              "      <td>340266.072047</td>\n",
              "      <td>53.0</td>\n",
              "      <td>secondary education</td>\n",
              "      <td>1</td>\n",
              "      <td>civil partnership</td>\n",
              "      <td>1</td>\n",
              "      <td>F</td>\n",
              "      <td>retiree</td>\n",
              "      <td>0</td>\n",
              "      <td>25378.572</td>\n",
              "      <td>wedding</td>\n",
              "      <td>7</td>\n",
              "      <td>reasonable income</td>\n",
              "    </tr>\n",
              "  </tbody>\n",
              "</table>\n",
              "</div>\n",
              "      <button class=\"colab-df-convert\" onclick=\"convertToInteractive('df-6bee6746-548e-46a4-ae83-548ad8cc75b3')\"\n",
              "              title=\"Convert this dataframe to an interactive table.\"\n",
              "              style=\"display:none;\">\n",
              "        \n",
              "  <svg xmlns=\"http://www.w3.org/2000/svg\" height=\"24px\"viewBox=\"0 0 24 24\"\n",
              "       width=\"24px\">\n",
              "    <path d=\"M0 0h24v24H0V0z\" fill=\"none\"/>\n",
              "    <path d=\"M18.56 5.44l.94 2.06.94-2.06 2.06-.94-2.06-.94-.94-2.06-.94 2.06-2.06.94zm-11 1L8.5 8.5l.94-2.06 2.06-.94-2.06-.94L8.5 2.5l-.94 2.06-2.06.94zm10 10l.94 2.06.94-2.06 2.06-.94-2.06-.94-.94-2.06-.94 2.06-2.06.94z\"/><path d=\"M17.41 7.96l-1.37-1.37c-.4-.4-.92-.59-1.43-.59-.52 0-1.04.2-1.43.59L10.3 9.45l-7.72 7.72c-.78.78-.78 2.05 0 2.83L4 21.41c.39.39.9.59 1.41.59.51 0 1.02-.2 1.41-.59l7.78-7.78 2.81-2.81c.8-.78.8-2.07 0-2.86zM5.41 20L4 18.59l7.72-7.72 1.47 1.35L5.41 20z\"/>\n",
              "  </svg>\n",
              "      </button>\n",
              "      \n",
              "  <style>\n",
              "    .colab-df-container {\n",
              "      display:flex;\n",
              "      flex-wrap:wrap;\n",
              "      gap: 12px;\n",
              "    }\n",
              "\n",
              "    .colab-df-convert {\n",
              "      background-color: #E8F0FE;\n",
              "      border: none;\n",
              "      border-radius: 50%;\n",
              "      cursor: pointer;\n",
              "      display: none;\n",
              "      fill: #1967D2;\n",
              "      height: 32px;\n",
              "      padding: 0 0 0 0;\n",
              "      width: 32px;\n",
              "    }\n",
              "\n",
              "    .colab-df-convert:hover {\n",
              "      background-color: #E2EBFA;\n",
              "      box-shadow: 0px 1px 2px rgba(60, 64, 67, 0.3), 0px 1px 3px 1px rgba(60, 64, 67, 0.15);\n",
              "      fill: #174EA6;\n",
              "    }\n",
              "\n",
              "    [theme=dark] .colab-df-convert {\n",
              "      background-color: #3B4455;\n",
              "      fill: #D2E3FC;\n",
              "    }\n",
              "\n",
              "    [theme=dark] .colab-df-convert:hover {\n",
              "      background-color: #434B5C;\n",
              "      box-shadow: 0px 1px 3px 1px rgba(0, 0, 0, 0.15);\n",
              "      filter: drop-shadow(0px 1px 2px rgba(0, 0, 0, 0.3));\n",
              "      fill: #FFFFFF;\n",
              "    }\n",
              "  </style>\n",
              "\n",
              "      <script>\n",
              "        const buttonEl =\n",
              "          document.querySelector('#df-6bee6746-548e-46a4-ae83-548ad8cc75b3 button.colab-df-convert');\n",
              "        buttonEl.style.display =\n",
              "          google.colab.kernel.accessAllowed ? 'block' : 'none';\n",
              "\n",
              "        async function convertToInteractive(key) {\n",
              "          const element = document.querySelector('#df-6bee6746-548e-46a4-ae83-548ad8cc75b3');\n",
              "          const dataTable =\n",
              "            await google.colab.kernel.invokeFunction('convertToInteractive',\n",
              "                                                     [key], {});\n",
              "          if (!dataTable) return;\n",
              "\n",
              "          const docLinkHtml = 'Like what you see? Visit the ' +\n",
              "            '<a target=\"_blank\" href=https://colab.research.google.com/notebooks/data_table.ipynb>data table notebook</a>'\n",
              "            + ' to learn more about interactive tables.';\n",
              "          element.innerHTML = '';\n",
              "          dataTable['output_type'] = 'display_data';\n",
              "          await google.colab.output.renderOutput(dataTable, element);\n",
              "          const docLink = document.createElement('div');\n",
              "          docLink.innerHTML = docLinkHtml;\n",
              "          element.appendChild(docLink);\n",
              "        }\n",
              "      </script>\n",
              "    </div>\n",
              "  </div>\n",
              "  "
            ]
          },
          "metadata": {},
          "execution_count": 101
        }
      ],
      "source": [
        "# Aplicando coluna que aplica a quantidade de pontos:\n",
        "\n",
        "credit_scoring['points'] = credit_scoring.apply(calculate_points, axis=1)\n",
        "\n",
        "credit_scoring.head()"
      ]
    },
    {
      "cell_type": "code",
      "execution_count": 102,
      "metadata": {
        "colab": {
          "base_uri": "https://localhost:8080/"
        },
        "id": "pWh8YOL8efxq",
        "outputId": "b682127d-b601-42e5-998e-36bb196922b1"
      },
      "outputs": [
        {
          "output_type": "execute_result",
          "data": {
            "text/plain": [
              "2        9\n",
              "10     137\n",
              "3      261\n",
              "9      938\n",
              "4     1669\n",
              "8     3074\n",
              "5     3633\n",
              "6     5675\n",
              "7     6010\n",
              "Name: points, dtype: int64"
            ]
          },
          "metadata": {},
          "execution_count": 102
        }
      ],
      "source": [
        "# Verificando os valores da coluna \"points\":\n",
        "\n",
        "credit_scoring['points'].value_counts(dropna=False).sort_values()"
      ]
    },
    {
      "cell_type": "markdown",
      "metadata": {
        "id": "CWLaMfa2efxr"
      },
      "source": [
        "**Observação:**\n",
        "\n",
        "Quando maior o número da coluna \"points\"(máximo 10 pontos), maior a chance do cliente não pagar o seu empréstimo."
      ]
    },
    {
      "cell_type": "markdown",
      "metadata": {
        "id": "MoXFYqvTefxr"
      },
      "source": [
        "[Voltar ao Índice](#back)"
      ]
    },
    {
      "cell_type": "markdown",
      "metadata": {
        "id": "OwLfFV3cefxr"
      },
      "source": [
        "---"
      ]
    },
    {
      "cell_type": "markdown",
      "metadata": {
        "id": "gny8Xq7Lefxr"
      },
      "source": [
        "## Validando Hipóteses <a id='hypotheses'></a>\n"
      ]
    },
    {
      "cell_type": "markdown",
      "metadata": {
        "id": "nN2HboAGefxs"
      },
      "source": [
        "### Existe Alguma Relação Entre ter Filhos e Pagar um Empréstimo em dia? <a id='filhos'></a>"
      ]
    },
    {
      "cell_type": "markdown",
      "metadata": {
        "id": "nDE3TQqKefxs"
      },
      "source": [
        "**Resposta**\n",
        "\n",
        "Podemos notar com os valores das porcentagens que quando o cliente possui um filho ou mais, a tendência é que a taxa aumente, ou seja, que há mais possibilidade dele não pagar seu empréstimo."
      ]
    },
    {
      "cell_type": "code",
      "execution_count": 103,
      "metadata": {
        "colab": {
          "base_uri": "https://localhost:8080/"
        },
        "id": "wmijyokAefxs",
        "outputId": "970702f4-bbf1-47ee-e0a5-2af980e1a927"
      },
      "outputs": [
        {
          "output_type": "execute_result",
          "data": {
            "text/plain": [
              "children\n",
              "5    0.000000\n",
              "0    7.544358\n",
              "3    8.181818\n",
              "1    9.234609\n",
              "2    9.492481\n",
              "4    9.756098\n",
              "dtype: float64"
            ]
          },
          "metadata": {},
          "execution_count": 103
        }
      ],
      "source": [
        "avg_children_debt.sort_values()"
      ]
    },
    {
      "cell_type": "markdown",
      "metadata": {
        "id": "HRGbsqqEefxt"
      },
      "source": [
        "OBS: A única execção da taxa é referente aos clientes que possuem 5 filhos, entretando temos muito pouca amostra desses clientes."
      ]
    },
    {
      "cell_type": "markdown",
      "metadata": {
        "id": "FH4syOT1efxt"
      },
      "source": [
        "### Existe Alguma Relação Entre o Estado Civil e o Pagamento de um Empréstimo no prazo Estipulado? <a id='estado_civil'></a>"
      ]
    },
    {
      "cell_type": "markdown",
      "metadata": {
        "id": "BBYwU4tiefxu"
      },
      "source": [
        "**Resposta**\n",
        "\n",
        "Existe sim, foi realizado análise pelos porcentuais é foi possível ver nitídamente a diferença entre as taxas, dependendo do estado civil do cliente."
      ]
    },
    {
      "cell_type": "code",
      "execution_count": 104,
      "metadata": {
        "colab": {
          "base_uri": "https://localhost:8080/"
        },
        "id": "HNpZ8Kb4efxu",
        "outputId": "9de2452b-bd3f-4cd9-d310-016751fcf9eb"
      },
      "outputs": [
        {
          "output_type": "execute_result",
          "data": {
            "text/plain": [
              "widow / widower      6.596859\n",
              "divorced             7.136860\n",
              "married              7.554833\n",
              "civil partnership    9.360676\n",
              "unmarried            9.768271\n",
              "dtype: float64"
            ]
          },
          "metadata": {},
          "execution_count": 104
        }
      ],
      "source": [
        "avg_family_status_debt.sort_values()"
      ]
    },
    {
      "cell_type": "markdown",
      "metadata": {
        "id": "FCmoQVapefxu"
      },
      "source": [
        "### Existe Uma Relação Entre o Nível de Renda e o Pagamento de um Empréstimo no Prazo? <a id='renda'></a>"
      ]
    },
    {
      "cell_type": "markdown",
      "metadata": {
        "id": "xkd0tQeGefxu"
      },
      "source": [
        "**Resposta**\n",
        "\n",
        "Após separar os valores das rendas em catagorias, foi possível realizar algumas análises que notar que quanto mais alto a renda, maior a probabilidade de não deixar de pagar o empréstimo"
      ]
    },
    {
      "cell_type": "code",
      "execution_count": 105,
      "metadata": {
        "colab": {
          "base_uri": "https://localhost:8080/"
        },
        "id": "EQhh8nQQefxv",
        "outputId": "b6d5892b-dab4-4fa8-b704-0552a8f0111e"
      },
      "outputs": [
        {
          "output_type": "execute_result",
          "data": {
            "text/plain": [
              "income_status\n",
              "great income         5.654762\n",
              "good income          7.598320\n",
              "low income           7.692308\n",
              "median income        7.978437\n",
              "reasonable income    8.554422\n",
              "dtype: float64"
            ]
          },
          "metadata": {},
          "execution_count": 105
        }
      ],
      "source": [
        "avg_total_income_debt.sort_values()"
      ]
    },
    {
      "cell_type": "markdown",
      "metadata": {
        "id": "zpHc_C5jefxv"
      },
      "source": [
        "### Como as diferentes finalidades do empréstimo afetam o pagamento pontual do empréstimo? <a id='finalidades'></a>"
      ]
    },
    {
      "cell_type": "markdown",
      "metadata": {
        "id": "UA-mbK-_efxw"
      },
      "source": [
        "**Resposta**\n",
        "\n",
        "Depois de categorizar todos os motivos de empréstimo dos clientes, foi realizado um calculo para trazer a porcentagem em relação a empréstimos não pagos e os seus motivos.\n",
        "\n",
        "Onde foi possível chegar a conclusão que comprar um carro ou investir em educação foi o que deixou os empréstimos mais atrasados."
      ]
    },
    {
      "cell_type": "code",
      "execution_count": 106,
      "metadata": {
        "colab": {
          "base_uri": "https://localhost:8080/"
        },
        "id": "KapsNGM2efxw",
        "outputId": "28066d13-9278-4fe7-c5db-8d8f8f88a3a8"
      },
      "outputs": [
        {
          "output_type": "execute_result",
          "data": {
            "text/plain": [
              "purpose\n",
              "wedding      8.010336\n",
              "education    9.243068\n",
              "car          9.359721\n",
              "property     7.250139\n",
              "dtype: float64"
            ]
          },
          "metadata": {},
          "execution_count": 106
        }
      ],
      "source": [
        "avg_purpose_debt"
      ]
    },
    {
      "cell_type": "markdown",
      "metadata": {
        "id": "EBKjNClQefxx"
      },
      "source": [
        "[Voltar ao Índice](#back)"
      ]
    },
    {
      "cell_type": "markdown",
      "metadata": {
        "id": "W0ehIiddefxx"
      },
      "source": [
        "---"
      ]
    },
    {
      "cell_type": "markdown",
      "metadata": {
        "id": "g-ewORftefxx"
      },
      "source": [
        "## Conclusão Final  <a id='end'></a>"
      ]
    },
    {
      "cell_type": "markdown",
      "metadata": {
        "id": "SQchEsk9efxy"
      },
      "source": [
        "Neste projeto foi colocado em prática todos as etapas de exploração de dados que foram aprendidas até a sprint 2 do curso \"Ciêntista de Dados\" da Practicum:\n",
        "\n",
        "- Leitura dos dados\n",
        "- Pré-processamento\n",
        "- Análise dos dados\n",
        "- Apresentado os resultados\n",
        "\n",
        "Utilizei a linguagem python e a biblioteca pandas para realizar a manipulação desses dados, me possibilitando tratar todos os problemas encontrados na nossa amostra.\n",
        "\n",
        "Depois dos dados tratados, foi realizado a categorização dos dados, onde foi criado uma nova coluna no dataframe, \"points\", onde é possível verificar a pontuação de um determinado cliente. Lembrando que quanto maior o número, maior é a tendência deste não pagar o empréstimo.\n",
        "\n",
        "E no final comprovamos com números que as nossas hipóteses estavam corretas!"
      ]
    },
    {
      "cell_type": "markdown",
      "metadata": {
        "id": "0h765liLefxy"
      },
      "source": [
        "[Voltar ao Índice](#back)"
      ]
    }
  ],
  "metadata": {
    "ExecuteTimeLog": [
      {
        "duration": 2741,
        "start_time": "2021-10-21T01:08:49.480Z"
      },
      {
        "duration": 52,
        "start_time": "2021-10-21T01:08:53.315Z"
      },
      {
        "duration": 49,
        "start_time": "2021-10-21T01:08:57.432Z"
      },
      {
        "duration": 70,
        "start_time": "2021-10-21T01:09:07.706Z"
      }
    ],
    "kernelspec": {
      "display_name": "Python 3 (ipykernel)",
      "language": "python",
      "name": "python3"
    },
    "language_info": {
      "codemirror_mode": {
        "name": "ipython",
        "version": 3
      },
      "file_extension": ".py",
      "mimetype": "text/x-python",
      "name": "python",
      "nbconvert_exporter": "python",
      "pygments_lexer": "ipython3",
      "version": "3.9.5"
    },
    "toc": {
      "base_numbering": 1,
      "nav_menu": {},
      "number_sections": true,
      "sideBar": true,
      "skip_h1_title": true,
      "title_cell": "Table of Contents",
      "title_sidebar": "Contents",
      "toc_cell": false,
      "toc_position": {},
      "toc_section_display": true,
      "toc_window_display": false
    },
    "colab": {
      "provenance": []
    }
  },
  "nbformat": 4,
  "nbformat_minor": 0
}