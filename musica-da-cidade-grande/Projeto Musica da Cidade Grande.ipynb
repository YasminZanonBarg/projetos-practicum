{
  "metadata": {
    "ExecuteTimeLog": [
      {
        "duration": 50,
        "start_time": "2022-08-21T15:26:50.368Z"
      },
      {
        "duration": 6,
        "start_time": "2022-08-21T15:27:03.375Z"
      },
      {
        "duration": 349,
        "start_time": "2022-08-21T15:27:17.381Z"
      },
      {
        "duration": 341,
        "start_time": "2022-08-21T15:29:14.256Z"
      },
      {
        "duration": 6,
        "start_time": "2022-08-21T15:30:48.754Z"
      },
      {
        "duration": 5,
        "start_time": "2022-08-21T15:30:58.534Z"
      },
      {
        "duration": 7,
        "start_time": "2022-08-21T15:31:03.628Z"
      },
      {
        "duration": 25,
        "start_time": "2022-08-21T15:32:48.523Z"
      },
      {
        "duration": 3,
        "start_time": "2022-08-21T15:52:20.827Z"
      },
      {
        "duration": 82,
        "start_time": "2022-08-21T15:54:59.424Z"
      },
      {
        "duration": 13,
        "start_time": "2022-08-21T15:56:21.092Z"
      },
      {
        "duration": 11,
        "start_time": "2022-08-21T15:56:45.341Z"
      },
      {
        "duration": 3,
        "start_time": "2022-08-21T15:56:48.895Z"
      },
      {
        "duration": 19,
        "start_time": "2022-08-21T15:58:51.481Z"
      },
      {
        "duration": 29,
        "start_time": "2022-08-21T16:09:42.184Z"
      },
      {
        "duration": 8,
        "start_time": "2022-08-21T16:10:26.351Z"
      },
      {
        "duration": 33,
        "start_time": "2022-08-21T16:11:37.117Z"
      },
      {
        "duration": 19,
        "start_time": "2022-08-21T16:12:19.617Z"
      },
      {
        "duration": 62,
        "start_time": "2022-08-21T16:12:56.905Z"
      },
      {
        "duration": 60,
        "start_time": "2022-08-21T16:13:18.086Z"
      },
      {
        "duration": 56,
        "start_time": "2022-08-21T16:13:23.663Z"
      },
      {
        "duration": 65,
        "start_time": "2022-08-21T16:18:30.911Z"
      },
      {
        "duration": 53,
        "start_time": "2022-08-21T16:18:57.306Z"
      },
      {
        "duration": 7,
        "start_time": "2022-08-21T16:21:19.382Z"
      },
      {
        "duration": 7,
        "start_time": "2022-08-21T17:33:33.989Z"
      },
      {
        "duration": 8,
        "start_time": "2022-08-21T18:05:43.346Z"
      },
      {
        "duration": 8,
        "start_time": "2022-08-21T18:06:35.621Z"
      },
      {
        "duration": 8,
        "start_time": "2022-08-21T18:10:07.415Z"
      },
      {
        "duration": 13,
        "start_time": "2022-08-21T18:20:07.661Z"
      },
      {
        "duration": 3,
        "start_time": "2022-08-21T18:20:45.020Z"
      },
      {
        "duration": 12,
        "start_time": "2022-08-21T18:20:57.416Z"
      },
      {
        "duration": 9,
        "start_time": "2022-08-21T18:21:06.024Z"
      },
      {
        "duration": 8,
        "start_time": "2022-08-21T18:21:25.136Z"
      },
      {
        "duration": 4,
        "start_time": "2022-08-21T18:21:45.714Z"
      },
      {
        "duration": 7,
        "start_time": "2022-08-21T18:22:47.217Z"
      },
      {
        "duration": 42,
        "start_time": "2022-08-22T22:40:02.748Z"
      },
      {
        "duration": 6,
        "start_time": "2022-08-22T22:40:18.770Z"
      },
      {
        "duration": 358,
        "start_time": "2022-08-22T22:40:32.031Z"
      },
      {
        "duration": 353,
        "start_time": "2022-08-22T22:40:35.627Z"
      },
      {
        "duration": 7,
        "start_time": "2022-08-22T22:40:39.536Z"
      },
      {
        "duration": 28,
        "start_time": "2022-08-22T22:40:42.807Z"
      },
      {
        "duration": 3,
        "start_time": "2022-08-22T22:40:48.747Z"
      },
      {
        "duration": 16,
        "start_time": "2022-08-22T22:40:51.561Z"
      },
      {
        "duration": 3,
        "start_time": "2022-08-22T22:40:54.148Z"
      },
      {
        "duration": 20,
        "start_time": "2022-08-22T22:40:57.414Z"
      },
      {
        "duration": 40,
        "start_time": "2022-08-22T22:41:00.851Z"
      },
      {
        "duration": 20,
        "start_time": "2022-08-22T22:41:04.951Z"
      },
      {
        "duration": 63,
        "start_time": "2022-08-22T22:41:07.989Z"
      },
      {
        "duration": 84,
        "start_time": "2022-08-22T22:41:10.277Z"
      },
      {
        "duration": 55,
        "start_time": "2022-08-22T22:41:12.882Z"
      },
      {
        "duration": 7,
        "start_time": "2022-08-22T22:41:15.475Z"
      },
      {
        "duration": 3,
        "start_time": "2022-08-22T22:41:21.140Z"
      },
      {
        "duration": 9,
        "start_time": "2022-08-22T22:41:24.283Z"
      },
      {
        "duration": 6,
        "start_time": "2022-08-22T22:41:26.866Z"
      },
      {
        "duration": 35,
        "start_time": "2022-08-22T22:41:32.986Z"
      },
      {
        "duration": 3837,
        "start_time": "2022-08-22T22:44:19.549Z"
      },
      {
        "duration": 45,
        "start_time": "2022-08-22T22:49:31.492Z"
      },
      {
        "duration": 29,
        "start_time": "2022-08-22T22:51:47.426Z"
      },
      {
        "duration": 28,
        "start_time": "2022-08-22T23:13:39.979Z"
      },
      {
        "duration": 25,
        "start_time": "2022-08-22T23:14:00.537Z"
      },
      {
        "duration": 122,
        "start_time": "2022-08-22T23:16:09.792Z"
      },
      {
        "duration": 26,
        "start_time": "2022-08-22T23:16:17.324Z"
      },
      {
        "duration": 26,
        "start_time": "2022-08-22T23:18:43.067Z"
      },
      {
        "duration": 37,
        "start_time": "2022-08-22T23:19:34.416Z"
      },
      {
        "duration": 67,
        "start_time": "2022-08-22T23:20:33.552Z"
      },
      {
        "duration": 64,
        "start_time": "2022-08-22T23:23:36.584Z"
      },
      {
        "duration": 19,
        "start_time": "2022-08-22T23:25:35.071Z"
      },
      {
        "duration": 65,
        "start_time": "2022-08-22T23:27:36.846Z"
      },
      {
        "duration": 72,
        "start_time": "2022-08-22T23:58:01.809Z"
      },
      {
        "duration": 65,
        "start_time": "2022-08-22T23:58:15.494Z"
      },
      {
        "duration": 40,
        "start_time": "2022-08-23T00:00:39.836Z"
      },
      {
        "duration": 64,
        "start_time": "2022-08-23T00:01:05.683Z"
      },
      {
        "duration": 1724,
        "start_time": "2022-08-23T00:01:44.300Z"
      },
      {
        "duration": 2532,
        "start_time": "2022-08-23T00:02:03.337Z"
      },
      {
        "duration": 68,
        "start_time": "2022-08-23T00:02:20.315Z"
      },
      {
        "duration": 63,
        "start_time": "2022-08-23T00:04:08.424Z"
      },
      {
        "duration": 1463,
        "start_time": "2022-08-23T00:04:43.918Z"
      },
      {
        "duration": 97,
        "start_time": "2022-08-23T00:05:14.158Z"
      },
      {
        "duration": 65,
        "start_time": "2022-08-23T00:05:28.588Z"
      },
      {
        "duration": 1534,
        "start_time": "2022-08-23T00:05:42.805Z"
      },
      {
        "duration": 59,
        "start_time": "2022-08-23T00:10:32.500Z"
      },
      {
        "duration": 61,
        "start_time": "2022-08-23T00:10:46.850Z"
      },
      {
        "duration": 35,
        "start_time": "2022-08-23T00:10:50.268Z"
      },
      {
        "duration": 58,
        "start_time": "2022-08-23T00:10:54.016Z"
      },
      {
        "duration": 38,
        "start_time": "2022-08-23T00:10:59.090Z"
      },
      {
        "duration": 8,
        "start_time": "2022-08-23T00:14:02.811Z"
      },
      {
        "duration": 363,
        "start_time": "2022-08-29T22:40:08.405Z"
      },
      {
        "duration": 331,
        "start_time": "2022-08-29T22:40:12.521Z"
      },
      {
        "duration": 8,
        "start_time": "2022-08-29T22:40:16.841Z"
      },
      {
        "duration": 37,
        "start_time": "2022-08-29T22:40:21.024Z"
      },
      {
        "duration": 4,
        "start_time": "2022-08-29T22:41:25.704Z"
      },
      {
        "duration": 16,
        "start_time": "2022-08-29T22:41:29.137Z"
      },
      {
        "duration": 4,
        "start_time": "2022-08-29T22:41:35.370Z"
      },
      {
        "duration": 21,
        "start_time": "2022-08-29T22:41:39.077Z"
      },
      {
        "duration": 34,
        "start_time": "2022-08-29T22:41:44.974Z"
      },
      {
        "duration": 22,
        "start_time": "2022-08-29T22:41:50.214Z"
      },
      {
        "duration": 54,
        "start_time": "2022-08-29T22:41:53.480Z"
      },
      {
        "duration": 67,
        "start_time": "2022-08-29T22:41:56.034Z"
      },
      {
        "duration": 50,
        "start_time": "2022-08-29T22:41:58.413Z"
      },
      {
        "duration": 3,
        "start_time": "2022-08-29T22:42:07.118Z"
      },
      {
        "duration": 12,
        "start_time": "2022-08-29T22:42:09.778Z"
      },
      {
        "duration": 7,
        "start_time": "2022-08-29T22:42:12.452Z"
      },
      {
        "duration": 27,
        "start_time": "2022-08-29T22:42:17.333Z"
      },
      {
        "duration": 28,
        "start_time": "2022-08-29T22:42:21.849Z"
      },
      {
        "duration": 17,
        "start_time": "2022-08-29T22:42:26.092Z"
      },
      {
        "duration": 16,
        "start_time": "2022-08-29T22:43:31.975Z"
      },
      {
        "duration": 13,
        "start_time": "2022-08-29T22:43:53.723Z"
      },
      {
        "duration": 14,
        "start_time": "2022-08-29T22:43:57.056Z"
      },
      {
        "duration": 12,
        "start_time": "2022-08-29T22:43:59.982Z"
      },
      {
        "duration": 15,
        "start_time": "2022-08-29T22:44:02.255Z"
      },
      {
        "duration": 14,
        "start_time": "2022-08-29T22:44:04.335Z"
      },
      {
        "duration": 55,
        "start_time": "2022-08-29T22:44:33.442Z"
      },
      {
        "duration": 7,
        "start_time": "2022-08-29T22:45:47.570Z"
      },
      {
        "duration": 80,
        "start_time": "2022-08-29T22:49:43.918Z"
      },
      {
        "duration": 10,
        "start_time": "2022-08-29T22:49:57.597Z"
      },
      {
        "duration": 9,
        "start_time": "2022-08-29T22:50:36.745Z"
      },
      {
        "duration": 8,
        "start_time": "2022-08-29T23:00:10.281Z"
      },
      {
        "duration": 7,
        "start_time": "2022-08-29T23:00:23.307Z"
      },
      {
        "duration": 8,
        "start_time": "2022-08-29T23:02:25.817Z"
      },
      {
        "duration": 14,
        "start_time": "2022-08-29T23:04:54.817Z"
      },
      {
        "duration": 137,
        "start_time": "2022-08-29T23:05:04.473Z"
      },
      {
        "duration": 9,
        "start_time": "2022-08-29T23:05:11.674Z"
      },
      {
        "duration": 4,
        "start_time": "2022-08-29T23:05:32.113Z"
      },
      {
        "duration": 4,
        "start_time": "2022-08-29T23:05:38.379Z"
      },
      {
        "duration": 16,
        "start_time": "2022-08-29T23:05:55.066Z"
      },
      {
        "duration": 13,
        "start_time": "2022-08-29T23:06:06.320Z"
      },
      {
        "duration": 19,
        "start_time": "2022-08-29T23:06:14.395Z"
      },
      {
        "duration": 12,
        "start_time": "2022-08-29T23:06:24.723Z"
      },
      {
        "duration": 4,
        "start_time": "2022-08-29T23:07:10.161Z"
      },
      {
        "duration": 16,
        "start_time": "2022-08-29T23:07:13.581Z"
      },
      {
        "duration": 5,
        "start_time": "2022-08-29T23:07:45.982Z"
      },
      {
        "duration": 23,
        "start_time": "2022-08-29T23:07:49.163Z"
      },
      {
        "duration": 15,
        "start_time": "2022-08-29T23:07:52.956Z"
      },
      {
        "duration": 24,
        "start_time": "2022-08-29T23:07:56.318Z"
      },
      {
        "duration": 14,
        "start_time": "2022-08-29T23:07:59.422Z"
      },
      {
        "duration": 21,
        "start_time": "2022-08-29T23:08:21.252Z"
      },
      {
        "duration": 5,
        "start_time": "2022-08-29T23:08:32.551Z"
      },
      {
        "duration": 7,
        "start_time": "2022-08-29T23:08:45.638Z"
      },
      {
        "duration": 13,
        "start_time": "2022-08-29T23:11:03.827Z"
      },
      {
        "duration": 5,
        "start_time": "2022-08-29T23:11:16.277Z"
      },
      {
        "duration": 18,
        "start_time": "2022-08-29T23:12:54.642Z"
      },
      {
        "duration": 22,
        "start_time": "2022-08-29T23:13:05.890Z"
      },
      {
        "duration": 7,
        "start_time": "2022-08-29T23:14:30.328Z"
      },
      {
        "duration": 7,
        "start_time": "2022-08-29T23:20:44.106Z"
      },
      {
        "duration": 18,
        "start_time": "2022-08-29T23:21:29.375Z"
      },
      {
        "duration": 24,
        "start_time": "2022-08-30T00:21:25.471Z"
      },
      {
        "duration": 35,
        "start_time": "2022-08-30T00:21:30.589Z"
      },
      {
        "duration": 23,
        "start_time": "2022-08-30T00:21:32.570Z"
      },
      {
        "duration": 20,
        "start_time": "2022-08-30T00:21:33.474Z"
      },
      {
        "duration": 23,
        "start_time": "2022-08-30T00:21:34.547Z"
      },
      {
        "duration": 27,
        "start_time": "2022-08-30T00:21:36.007Z"
      },
      {
        "duration": 22,
        "start_time": "2022-08-30T00:21:37.090Z"
      },
      {
        "duration": 8,
        "start_time": "2022-08-30T00:21:56.630Z"
      },
      {
        "duration": 23,
        "start_time": "2022-08-30T00:22:18.886Z"
      },
      {
        "duration": 21,
        "start_time": "2022-08-30T00:22:19.406Z"
      },
      {
        "duration": 21,
        "start_time": "2022-08-30T00:22:19.934Z"
      },
      {
        "duration": 21,
        "start_time": "2022-08-30T00:22:21.088Z"
      },
      {
        "duration": 30,
        "start_time": "2022-08-30T00:22:24.411Z"
      },
      {
        "duration": 24,
        "start_time": "2022-08-30T00:22:25.370Z"
      },
      {
        "duration": 7,
        "start_time": "2022-08-30T00:22:28.470Z"
      },
      {
        "duration": 26,
        "start_time": "2022-08-30T00:24:32.751Z"
      },
      {
        "duration": 27,
        "start_time": "2022-08-30T00:24:34.470Z"
      },
      {
        "duration": 21,
        "start_time": "2022-08-30T00:24:34.960Z"
      },
      {
        "duration": 24,
        "start_time": "2022-08-30T00:24:35.359Z"
      },
      {
        "duration": 24,
        "start_time": "2022-08-30T00:24:36.051Z"
      },
      {
        "duration": 22,
        "start_time": "2022-08-30T00:24:37.812Z"
      },
      {
        "duration": 14,
        "start_time": "2022-08-30T00:25:44.033Z"
      },
      {
        "duration": 23,
        "start_time": "2022-08-30T00:25:53.813Z"
      },
      {
        "duration": 22,
        "start_time": "2022-08-30T00:25:56.229Z"
      },
      {
        "duration": 21,
        "start_time": "2022-08-30T00:25:57.122Z"
      },
      {
        "duration": 19,
        "start_time": "2022-08-30T00:25:57.979Z"
      },
      {
        "duration": 23,
        "start_time": "2022-08-30T00:26:03.246Z"
      },
      {
        "duration": 21,
        "start_time": "2022-08-30T00:26:03.844Z"
      },
      {
        "duration": 24,
        "start_time": "2022-08-30T00:26:04.448Z"
      },
      {
        "duration": 20,
        "start_time": "2022-08-30T00:26:06.147Z"
      },
      {
        "duration": 23,
        "start_time": "2022-08-30T00:26:07.919Z"
      },
      {
        "duration": 21,
        "start_time": "2022-08-30T00:26:08.514Z"
      },
      {
        "duration": 12,
        "start_time": "2022-08-30T00:26:12.214Z"
      },
      {
        "duration": 13,
        "start_time": "2022-08-30T00:27:07.981Z"
      },
      {
        "duration": 7,
        "start_time": "2022-08-30T00:31:37.806Z"
      },
      {
        "duration": 8,
        "start_time": "2022-08-30T00:31:46.473Z"
      },
      {
        "duration": 8,
        "start_time": "2022-08-30T00:32:12.555Z"
      },
      {
        "duration": 426,
        "start_time": "2022-08-30T01:03:53.275Z"
      },
      {
        "duration": 305,
        "start_time": "2022-08-30T01:03:53.703Z"
      },
      {
        "duration": 7,
        "start_time": "2022-08-30T01:03:54.009Z"
      },
      {
        "duration": 28,
        "start_time": "2022-08-30T01:03:54.017Z"
      },
      {
        "duration": 2,
        "start_time": "2022-08-30T01:03:54.047Z"
      },
      {
        "duration": 14,
        "start_time": "2022-08-30T01:03:54.050Z"
      },
      {
        "duration": 5,
        "start_time": "2022-08-30T01:03:54.066Z"
      },
      {
        "duration": 19,
        "start_time": "2022-08-30T01:03:54.085Z"
      },
      {
        "duration": 44,
        "start_time": "2022-08-30T01:03:54.106Z"
      },
      {
        "duration": 33,
        "start_time": "2022-08-30T01:03:54.155Z"
      },
      {
        "duration": 59,
        "start_time": "2022-08-30T01:03:54.190Z"
      },
      {
        "duration": 78,
        "start_time": "2022-08-30T01:03:54.251Z"
      },
      {
        "duration": 58,
        "start_time": "2022-08-30T01:03:54.331Z"
      },
      {
        "duration": 7,
        "start_time": "2022-08-30T01:03:54.391Z"
      },
      {
        "duration": 15,
        "start_time": "2022-08-30T01:03:54.400Z"
      },
      {
        "duration": 15,
        "start_time": "2022-08-30T01:03:54.417Z"
      },
      {
        "duration": 10,
        "start_time": "2022-08-30T01:03:54.434Z"
      },
      {
        "duration": 43,
        "start_time": "2022-08-30T01:03:54.446Z"
      },
      {
        "duration": 35,
        "start_time": "2022-08-30T01:03:54.490Z"
      },
      {
        "duration": 20,
        "start_time": "2022-08-30T01:03:54.527Z"
      },
      {
        "duration": 49,
        "start_time": "2022-08-30T01:03:54.549Z"
      },
      {
        "duration": 22,
        "start_time": "2022-08-30T01:03:54.599Z"
      },
      {
        "duration": 20,
        "start_time": "2022-08-30T01:03:54.622Z"
      },
      {
        "duration": 18,
        "start_time": "2022-08-30T01:03:54.643Z"
      },
      {
        "duration": 40,
        "start_time": "2022-08-30T01:03:54.662Z"
      },
      {
        "duration": 19,
        "start_time": "2022-08-30T01:03:54.703Z"
      },
      {
        "duration": 7,
        "start_time": "2022-08-30T01:03:54.724Z"
      },
      {
        "duration": 14,
        "start_time": "2022-08-30T01:03:54.734Z"
      },
      {
        "duration": 9,
        "start_time": "2022-08-30T01:03:54.749Z"
      },
      {
        "duration": 27,
        "start_time": "2022-08-30T01:03:54.759Z"
      },
      {
        "duration": 27,
        "start_time": "2022-08-30T01:03:54.787Z"
      },
      {
        "duration": 15,
        "start_time": "2022-08-30T01:03:54.815Z"
      },
      {
        "duration": 19,
        "start_time": "2022-08-30T01:03:54.831Z"
      },
      {
        "duration": 33,
        "start_time": "2022-08-30T01:03:54.851Z"
      },
      {
        "duration": 27,
        "start_time": "2022-08-30T01:03:54.885Z"
      },
      {
        "duration": 5,
        "start_time": "2022-08-30T01:03:54.913Z"
      },
      {
        "duration": 16,
        "start_time": "2022-08-30T01:03:54.919Z"
      },
      {
        "duration": 4,
        "start_time": "2022-08-30T01:03:54.936Z"
      },
      {
        "duration": 81,
        "start_time": "2022-08-30T01:04:20.756Z"
      },
      {
        "duration": 25,
        "start_time": "2022-08-30T01:10:26.440Z"
      },
      {
        "duration": 3,
        "start_time": "2022-08-30T01:10:53.396Z"
      },
      {
        "duration": 269,
        "start_time": "2022-08-30T01:10:53.402Z"
      },
      {
        "duration": 5,
        "start_time": "2022-08-30T01:10:53.673Z"
      },
      {
        "duration": 23,
        "start_time": "2022-08-30T01:10:53.685Z"
      },
      {
        "duration": 2,
        "start_time": "2022-08-30T01:10:53.710Z"
      },
      {
        "duration": 9,
        "start_time": "2022-08-30T01:10:53.714Z"
      },
      {
        "duration": 3,
        "start_time": "2022-08-30T01:10:53.724Z"
      },
      {
        "duration": 21,
        "start_time": "2022-08-30T01:10:53.729Z"
      },
      {
        "duration": 65,
        "start_time": "2022-08-30T01:10:53.751Z"
      },
      {
        "duration": 18,
        "start_time": "2022-08-30T01:10:53.817Z"
      },
      {
        "duration": 66,
        "start_time": "2022-08-30T01:10:53.838Z"
      },
      {
        "duration": 53,
        "start_time": "2022-08-30T01:10:53.906Z"
      },
      {
        "duration": 61,
        "start_time": "2022-08-30T01:10:53.961Z"
      },
      {
        "duration": 7,
        "start_time": "2022-08-30T01:10:54.024Z"
      },
      {
        "duration": 4,
        "start_time": "2022-08-30T01:10:54.032Z"
      },
      {
        "duration": 12,
        "start_time": "2022-08-30T01:10:54.037Z"
      },
      {
        "duration": 7,
        "start_time": "2022-08-30T01:10:54.051Z"
      },
      {
        "duration": 56,
        "start_time": "2022-08-30T01:10:54.060Z"
      },
      {
        "duration": 29,
        "start_time": "2022-08-30T01:10:54.118Z"
      },
      {
        "duration": 36,
        "start_time": "2022-08-30T01:10:54.149Z"
      },
      {
        "duration": 23,
        "start_time": "2022-08-30T01:10:54.187Z"
      },
      {
        "duration": 18,
        "start_time": "2022-08-30T01:10:54.211Z"
      },
      {
        "duration": 18,
        "start_time": "2022-08-30T01:10:54.231Z"
      },
      {
        "duration": 35,
        "start_time": "2022-08-30T01:10:54.250Z"
      },
      {
        "duration": 23,
        "start_time": "2022-08-30T01:10:54.286Z"
      },
      {
        "duration": 19,
        "start_time": "2022-08-30T01:10:54.310Z"
      },
      {
        "duration": 7,
        "start_time": "2022-08-30T01:10:54.331Z"
      },
      {
        "duration": 17,
        "start_time": "2022-08-30T01:10:54.340Z"
      },
      {
        "duration": 35,
        "start_time": "2022-08-30T01:10:54.360Z"
      },
      {
        "duration": 14,
        "start_time": "2022-08-30T01:10:54.397Z"
      },
      {
        "duration": 49,
        "start_time": "2022-08-30T01:10:54.413Z"
      },
      {
        "duration": 28,
        "start_time": "2022-08-30T01:10:54.464Z"
      },
      {
        "duration": 28,
        "start_time": "2022-08-30T01:10:54.494Z"
      },
      {
        "duration": 16,
        "start_time": "2022-08-30T01:10:54.524Z"
      },
      {
        "duration": 21,
        "start_time": "2022-08-30T01:10:54.542Z"
      },
      {
        "duration": 20,
        "start_time": "2022-08-30T01:10:54.564Z"
      },
      {
        "duration": 35,
        "start_time": "2022-08-30T01:10:54.586Z"
      },
      {
        "duration": 4,
        "start_time": "2022-08-30T01:10:54.623Z"
      },
      {
        "duration": 94,
        "start_time": "2022-08-30T01:20:04.994Z"
      },
      {
        "duration": 4,
        "start_time": "2022-08-30T01:20:09.359Z"
      },
      {
        "duration": 68,
        "start_time": "2022-08-30T01:20:11.449Z"
      },
      {
        "duration": 4,
        "start_time": "2022-08-30T01:20:31.202Z"
      },
      {
        "duration": 17,
        "start_time": "2022-08-30T01:20:33.158Z"
      },
      {
        "duration": 13,
        "start_time": "2022-08-30T01:20:54.091Z"
      },
      {
        "duration": 54,
        "start_time": "2022-08-31T22:13:42.764Z"
      },
      {
        "duration": 5,
        "start_time": "2022-08-31T22:13:51.173Z"
      },
      {
        "duration": 412,
        "start_time": "2022-08-31T22:14:00.711Z"
      },
      {
        "duration": 326,
        "start_time": "2022-08-31T22:14:04.046Z"
      },
      {
        "duration": 14,
        "start_time": "2022-08-31T22:14:07.894Z"
      },
      {
        "duration": 31,
        "start_time": "2022-08-31T22:14:10.973Z"
      },
      {
        "duration": 3,
        "start_time": "2022-08-31T22:14:25.831Z"
      },
      {
        "duration": 4,
        "start_time": "2022-08-31T22:14:30.723Z"
      },
      {
        "duration": 12,
        "start_time": "2022-08-31T22:14:40.049Z"
      },
      {
        "duration": 3,
        "start_time": "2022-08-31T22:14:47.023Z"
      },
      {
        "duration": 3,
        "start_time": "2022-08-31T22:14:53.913Z"
      },
      {
        "duration": 34,
        "start_time": "2022-08-31T22:20:37.495Z"
      },
      {
        "duration": 27,
        "start_time": "2022-08-31T22:21:05.267Z"
      },
      {
        "duration": 707,
        "start_time": "2022-08-31T22:22:14.276Z"
      },
      {
        "duration": 28,
        "start_time": "2022-08-31T22:22:25.298Z"
      },
      {
        "duration": 26,
        "start_time": "2022-08-31T22:23:34.335Z"
      },
      {
        "duration": 25,
        "start_time": "2022-08-31T22:25:38.553Z"
      },
      {
        "duration": 7,
        "start_time": "2022-08-31T22:26:33.479Z"
      },
      {
        "duration": 36,
        "start_time": "2022-08-31T22:26:43.936Z"
      },
      {
        "duration": 34,
        "start_time": "2022-08-31T22:28:00.526Z"
      },
      {
        "duration": 17,
        "start_time": "2022-08-31T22:28:10.989Z"
      },
      {
        "duration": 9,
        "start_time": "2022-08-31T22:30:30.489Z"
      },
      {
        "duration": 9,
        "start_time": "2022-08-31T22:30:46.575Z"
      },
      {
        "duration": 9,
        "start_time": "2022-08-31T22:31:15.775Z"
      },
      {
        "duration": 8,
        "start_time": "2022-08-31T22:32:55.850Z"
      },
      {
        "duration": 8,
        "start_time": "2022-08-31T22:33:07.594Z"
      },
      {
        "duration": 8,
        "start_time": "2022-08-31T22:36:04.752Z"
      },
      {
        "duration": 5,
        "start_time": "2022-08-31T22:36:17.280Z"
      },
      {
        "duration": 8,
        "start_time": "2022-08-31T22:36:23.265Z"
      },
      {
        "duration": 6,
        "start_time": "2022-08-31T22:36:34.133Z"
      },
      {
        "duration": 8,
        "start_time": "2022-08-31T22:36:42.896Z"
      },
      {
        "duration": 269,
        "start_time": "2022-08-31T22:36:45.614Z"
      },
      {
        "duration": 6,
        "start_time": "2022-08-31T22:36:51.212Z"
      },
      {
        "duration": 32,
        "start_time": "2022-08-31T22:36:53.695Z"
      },
      {
        "duration": 3,
        "start_time": "2022-08-31T22:36:59.729Z"
      },
      {
        "duration": 7,
        "start_time": "2022-08-31T22:37:04.539Z"
      },
      {
        "duration": 7,
        "start_time": "2022-08-31T22:37:07.619Z"
      },
      {
        "duration": 3,
        "start_time": "2022-08-31T22:37:13.232Z"
      },
      {
        "duration": 17,
        "start_time": "2022-08-31T22:37:17.410Z"
      },
      {
        "duration": 26,
        "start_time": "2022-08-31T22:37:22.868Z"
      },
      {
        "duration": 42,
        "start_time": "2022-08-31T22:37:52.481Z"
      },
      {
        "duration": 49,
        "start_time": "2022-08-31T22:38:15.648Z"
      },
      {
        "duration": 19,
        "start_time": "2022-08-31T22:38:22.827Z"
      },
      {
        "duration": 61,
        "start_time": "2022-08-31T22:38:34.517Z"
      },
      {
        "duration": 58,
        "start_time": "2022-08-31T22:38:47.090Z"
      },
      {
        "duration": 6,
        "start_time": "2022-08-31T22:38:51.730Z"
      },
      {
        "duration": 45,
        "start_time": "2022-08-31T22:39:15.365Z"
      },
      {
        "duration": 3,
        "start_time": "2022-08-31T22:39:38.894Z"
      },
      {
        "duration": 10,
        "start_time": "2022-08-31T22:39:45.869Z"
      },
      {
        "duration": 7,
        "start_time": "2022-08-31T22:39:52.611Z"
      },
      {
        "duration": 40,
        "start_time": "2022-08-31T22:40:10.540Z"
      },
      {
        "duration": 26,
        "start_time": "2022-08-31T22:40:23.166Z"
      },
      {
        "duration": 15,
        "start_time": "2022-08-31T22:41:42.093Z"
      },
      {
        "duration": 11,
        "start_time": "2022-08-31T22:42:28.057Z"
      },
      {
        "duration": 15,
        "start_time": "2022-08-31T22:43:06.669Z"
      },
      {
        "duration": 22,
        "start_time": "2022-08-31T22:43:11.411Z"
      },
      {
        "duration": 21,
        "start_time": "2022-08-31T22:43:13.324Z"
      },
      {
        "duration": 16,
        "start_time": "2022-08-31T22:43:45.651Z"
      },
      {
        "duration": 22,
        "start_time": "2022-08-31T22:43:51.165Z"
      },
      {
        "duration": 13,
        "start_time": "2022-08-31T22:45:00.931Z"
      },
      {
        "duration": 12,
        "start_time": "2022-08-31T22:45:02.718Z"
      },
      {
        "duration": 13,
        "start_time": "2022-08-31T22:45:03.322Z"
      },
      {
        "duration": 11,
        "start_time": "2022-08-31T22:45:04.051Z"
      },
      {
        "duration": 13,
        "start_time": "2022-08-31T22:45:04.711Z"
      },
      {
        "duration": 13,
        "start_time": "2022-08-31T22:45:24.168Z"
      },
      {
        "duration": 7,
        "start_time": "2022-08-31T22:46:02.241Z"
      },
      {
        "duration": 12,
        "start_time": "2022-08-31T22:46:14.139Z"
      },
      {
        "duration": 8,
        "start_time": "2022-08-31T22:46:17.555Z"
      },
      {
        "duration": 8,
        "start_time": "2022-08-31T22:47:12.342Z"
      },
      {
        "duration": 8,
        "start_time": "2022-08-31T22:47:15.066Z"
      },
      {
        "duration": 4,
        "start_time": "2022-08-31T22:49:12.486Z"
      },
      {
        "duration": 6,
        "start_time": "2022-08-31T22:49:18.398Z"
      },
      {
        "duration": 18,
        "start_time": "2022-08-31T22:49:27.998Z"
      },
      {
        "duration": 8,
        "start_time": "2022-08-31T22:50:07.511Z"
      },
      {
        "duration": 8,
        "start_time": "2022-08-31T22:50:14.204Z"
      },
      {
        "duration": 3,
        "start_time": "2022-08-31T22:50:20.251Z"
      },
      {
        "duration": 5,
        "start_time": "2022-08-31T22:51:02.329Z"
      },
      {
        "duration": 14,
        "start_time": "2022-08-31T22:51:06.746Z"
      },
      {
        "duration": 11,
        "start_time": "2022-08-31T22:51:10.365Z"
      },
      {
        "duration": 14,
        "start_time": "2022-08-31T22:51:13.991Z"
      },
      {
        "duration": 11,
        "start_time": "2022-08-31T22:51:16.072Z"
      },
      {
        "duration": 9,
        "start_time": "2022-08-31T22:52:11.490Z"
      },
      {
        "duration": 3,
        "start_time": "2022-08-31T22:52:26.620Z"
      },
      {
        "duration": 5,
        "start_time": "2022-08-31T22:52:37.717Z"
      },
      {
        "duration": 4,
        "start_time": "2022-08-31T22:52:40.448Z"
      }
    ],
    "colab": {
      "collapsed_sections": [
        "E0vqbgi9ay0H",
        "VUC88oWjTJw2",
        "atZAxtq4_Zcu"
      ],
      "name": "EmptyFinalProject.ipynb\"",
      "provenance": []
    },
    "kernelspec": {
      "name": "python",
      "display_name": "Python (Pyodide)",
      "language": "python"
    },
    "language_info": {
      "codemirror_mode": {
        "name": "python",
        "version": 3
      },
      "file_extension": ".py",
      "mimetype": "text/x-python",
      "name": "python",
      "nbconvert_exporter": "python",
      "pygments_lexer": "ipython3",
      "version": "3.8"
    },
    "toc": {
      "base_numbering": 1,
      "nav_menu": {},
      "number_sections": true,
      "sideBar": true,
      "skip_h1_title": true,
      "title_cell": "Table of Contents",
      "title_sidebar": "Contents",
      "toc_cell": false,
      "toc_position": {},
      "toc_section_display": true,
      "toc_window_display": false
    }
  },
  "nbformat_minor": 4,
  "nbformat": 4,
  "cells": [
    {
      "cell_type": "markdown",
      "source": "# Yandex.Music",
      "metadata": {
        "id": "E0vqbgi9ay0H"
      }
    },
    {
      "cell_type": "markdown",
      "source": "# Contents <a id='back'></a>\n\n* [Introdução](#intro)\n* [Etapa 1. Visão geral dos dados](#data_review)\n    * [Conclusões](#data_review_conclusions)\n* [Etapa 2. Pré-processamento de dados](#data_preprocessing)\n    * [2.1 Estilo do cabeçalho](#header_style)\n    * [2.2 Valores ausentes](#missing_values)\n    * [2.3 Duplicatas](#duplicates)\n    * [2.4 Conclusões](#data_preprocessing_conclusions)\n* [Etapa 3. Testando as hipóteses](#hypotheses)\n    * [3.1 Hipótese 1: comparando o comportamento dos usuários em duas cidades](#activity)\n    * [3.2 Hipótese 2: música no começo e no fim da semana](#week)\n    * [3.3 Hipótese 3: preferências em Springfield e Shelbyville](#genre)\n* [Conclusões](#end)",
      "metadata": {
        "id": "fhq_eyov_Zcs"
      }
    },
    {
      "cell_type": "markdown",
      "source": "## Introdução <a id='intro'></a>\nSempre que fazemos uma pesquisa, precisamos formular uma hipótese que depois poderemos testar. Às vezes nós aceitamos essas hipóteses; outras vezes, nós as rejeitamos. Para fazer as escolhas certas, um negócio deve ser capaz de entender se está fazendo as suposições certas ou não.\n\nNeste projeto, você vai comparar as preferências musicais dos habitantes de Springfild e Shelbyville. Você estudará dados reais do Yandex.Music para testar a hipótese abaixo e comparar o comportamento do usuário para essas duas cidades.\n\n### Objetivo: \nTeste três hipóteses:\n1. A atividade dos usuários é diferente dependendo do dia da semana e da cidade. \n2. Durante as manhãs de segunda-feira, os moradores de Springfield e Shelbyville escutam diferentes gêneros. Isso também é verdadeiro para noites de sexta-feira. \n3. Os ouvintes de Springfield e Shelbyville têm diferentes preferências. Em Springfield, as pessoas preferem pop, enquanto Shelbyville tem mais fãs de rap.\n\n### Etapas \nOs dados sobre o comportamento do usuário é armazenado no arquivo `/datasets/music_project_en.csv`. Não há informação sobre a qualidade dos dados, então, você precisará examiná-los antes de testar a hipótese. \n\nPrimeiro, você avaliará a qualidade dos dados e ver se seus problemas são significativos. Depois, durante o pré-processamento de dados, você tentará dar conta dos problemas mais críticos problemas.\n \nO seu projeto consistirá em três etapas:\n 1. Visão geral dos dados\n 2. Pré-processamento de dados\n 3. Testando as hipóteses\n \n[Voltar ao Índice](#back)",
      "metadata": {
        "id": "VUC88oWjTJw2"
      }
    },
    {
      "cell_type": "markdown",
      "source": "## Etapa 1. Visão geral dos dados <a id='data_review'></a>\n\nAbra os dados em Yandex.Music e explore-os.",
      "metadata": {
        "id": "Ml1hmfXC_Zcs"
      }
    },
    {
      "cell_type": "markdown",
      "source": "Você precisará de `pandas`, então, importe-a.",
      "metadata": {
        "id": "57eAOGIz_Zcs"
      }
    },
    {
      "cell_type": "code",
      "source": "# importando pandas\nimport pandas as pd\n",
      "metadata": {
        "id": "AXN7PHPN_Zcs"
      },
      "execution_count": 31,
      "outputs": []
    },
    {
      "cell_type": "markdown",
      "source": "Leia o arquivo `music_project_en.csv` da pasta `/datasets/` e salve-o na variável `df`:",
      "metadata": {
        "id": "SG23P8tt_Zcs"
      }
    },
    {
      "cell_type": "code",
      "source": "# lendo o arquivo e armazenando em df\ndf = pd.read_csv('/datasets/music_project_en.csv')\ndf.describe()",
      "metadata": {
        "id": "fFVu7vqh_Zct"
      },
      "execution_count": 32,
      "outputs": [
        {
          "execution_count": 32,
          "output_type": "execute_result",
          "data": {
            "text/html": [
              "<div>\n",
              "<style scoped>\n",
              "    .dataframe tbody tr th:only-of-type {\n",
              "        vertical-align: middle;\n",
              "    }\n",
              "\n",
              "    .dataframe tbody tr th {\n",
              "        vertical-align: top;\n",
              "    }\n",
              "\n",
              "    .dataframe thead th {\n",
              "        text-align: right;\n",
              "    }\n",
              "</style>\n",
              "<table border=\"1\" class=\"dataframe\">\n",
              "  <thead>\n",
              "    <tr style=\"text-align: right;\">\n",
              "      <th></th>\n",
              "      <th>userID</th>\n",
              "      <th>Track</th>\n",
              "      <th>artist</th>\n",
              "      <th>genre</th>\n",
              "      <th>City</th>\n",
              "      <th>time</th>\n",
              "      <th>Day</th>\n",
              "    </tr>\n",
              "  </thead>\n",
              "  <tbody>\n",
              "    <tr>\n",
              "      <th>count</th>\n",
              "      <td>65079</td>\n",
              "      <td>63736</td>\n",
              "      <td>57512</td>\n",
              "      <td>63881</td>\n",
              "      <td>65079</td>\n",
              "      <td>65079</td>\n",
              "      <td>65079</td>\n",
              "    </tr>\n",
              "    <tr>\n",
              "      <th>unique</th>\n",
              "      <td>41748</td>\n",
              "      <td>39666</td>\n",
              "      <td>37806</td>\n",
              "      <td>268</td>\n",
              "      <td>2</td>\n",
              "      <td>20392</td>\n",
              "      <td>3</td>\n",
              "    </tr>\n",
              "    <tr>\n",
              "      <th>top</th>\n",
              "      <td>A8AE9169</td>\n",
              "      <td>Brand</td>\n",
              "      <td>Kartvelli</td>\n",
              "      <td>pop</td>\n",
              "      <td>Springfield</td>\n",
              "      <td>21:51:22</td>\n",
              "      <td>Friday</td>\n",
              "    </tr>\n",
              "    <tr>\n",
              "      <th>freq</th>\n",
              "      <td>76</td>\n",
              "      <td>136</td>\n",
              "      <td>136</td>\n",
              "      <td>8850</td>\n",
              "      <td>45360</td>\n",
              "      <td>14</td>\n",
              "      <td>23149</td>\n",
              "    </tr>\n",
              "  </tbody>\n",
              "</table>\n",
              "</div>"
            ],
            "text/plain": [
              "          userID  Track     artist  genre       City        time     Day\n",
              "count      65079  63736      57512  63881        65079     65079   65079\n",
              "unique     41748  39666      37806    268            2     20392       3\n",
              "top     A8AE9169  Brand  Kartvelli    pop  Springfield  21:51:22  Friday\n",
              "freq          76    136        136   8850        45360        14   23149"
            ]
          },
          "metadata": {}
        }
      ]
    },
    {
      "cell_type": "markdown",
      "source": "Exiba as primeiras 10 linhas da tabela:",
      "metadata": {
        "id": "rDoOMd3uTqnZ"
      }
    },
    {
      "cell_type": "code",
      "source": "# obtenha as 10 primeiras 10 linhas da tabela df\nprint(df.head(10))",
      "metadata": {
        "id": "oWTVX3gW_Zct",
        "scrolled": true
      },
      "execution_count": 33,
      "outputs": [
        {
          "name": "stdout",
          "output_type": "stream",
          "text": "     userID                        Track            artist   genre  \\\n\n0  FFB692EC            Kamigata To Boots  The Mass Missile    rock   \n\n1  55204538  Delayed Because of Accident  Andreas Rönnberg    rock   \n\n2    20EC38            Funiculì funiculà       Mario Lanza     pop   \n\n3  A3DD03C9        Dragons in the Sunset        Fire + Ice    folk   \n\n4  E2DC1FAE                  Soul People        Space Echo   dance   \n\n5  842029A1                       Chains          Obladaet  rusrap   \n\n6  4CB90AA5                         True      Roman Messer   dance   \n\n7  F03E1C1F             Feeling This Way   Polina Griffith   dance   \n\n8  8FA1D3BE                     L’estate       Julia Dalia  ruspop   \n\n9  E772D5C0                    Pessimist               NaN   dance   \n\n\n\n        City        time        Day  \n\n0  Shelbyville  20:28:33  Wednesday  \n\n1  Springfield  14:07:09     Friday  \n\n2  Shelbyville  20:58:07  Wednesday  \n\n3  Shelbyville  08:37:09     Monday  \n\n4  Springfield  08:34:34     Monday  \n\n5  Shelbyville  13:09:41     Friday  \n\n6  Springfield  13:00:07  Wednesday  \n\n7  Springfield  20:47:49  Wednesday  \n\n8  Springfield  09:17:40     Friday  \n\n9  Shelbyville  21:20:49  Wednesday  \n"
        }
      ]
    },
    {
      "cell_type": "markdown",
      "source": "Obtendo as informações gerais sobre a tabela com um comando:",
      "metadata": {
        "id": "EO73Kwic_Zct"
      }
    },
    {
      "cell_type": "code",
      "source": "# obtendo informações gerais sobre os dados em df\ndf.info()",
      "metadata": {
        "id": "DSf2kIb-_Zct"
      },
      "execution_count": 34,
      "outputs": [
        {
          "name": "stdout",
          "output_type": "stream",
          "text": "<class 'pandas.core.frame.DataFrame'>\n\nRangeIndex: 65079 entries, 0 to 65078\n\nData columns (total 7 columns):\n\n #   Column    Non-Null Count  Dtype \n\n---  ------    --------------  ----- \n\n 0     userID  65079 non-null  object\n\n 1   Track     63736 non-null  object\n\n 2   artist    57512 non-null  object\n\n 3   genre     63881 non-null  object\n\n 4     City    65079 non-null  object\n\n 5   time      65079 non-null  object\n\n 6   Day       65079 non-null  object\n\ndtypes: object(7)\n\nmemory usage: 3.5+ MB\n"
        }
      ]
    },
    {
      "cell_type": "markdown",
      "source": "A tabela contém sete colunas. Elas armazenam o mesmo tipo de dado: `object`.\n\nDe acordo com a documentação:\n- `'userID'` — identificação do usuário\n- `'Track'` — título da música\n- `'artist'` — nome do artista\n- `'genre'` — o gênero\n- `'City'` — cidade do usuário\n- `'time'` — tempo exato que a música foi tocada\n- `'Day'` — dia da semana\n\nNós podemos ver três problemas com o estilo nos nomes das colunas:\n1. Alguns nomes estão com letra maiúscula, alguns com letra minúscula.\n2. Há espaços em alguns nomes.\n**3. A coluna \"userID\", além de ser minúscula, por ter duas palavras deve ser separada com snake_case, ficando da seguinte maneira: user_id**\n\n\nA quantidade de valores das colunas é diferente. Isso significa que os dados contém valores ausentes.\n",
      "metadata": {
        "id": "TaQ2Iwbr_Zct"
      }
    },
    {
      "cell_type": "markdown",
      "source": "### Conclusões <a id='data_review_conclusions'></a> \n\nCada linha na tabela armazena dados sobre uma música que foi tocada. Algumas colunas descrevem a música por si só: seu título, artista e gênero. O restante contém informações sobre o usuário: a cidade de onde eles vêm, a quantidade de vezes que a música foi tocada. \n\nEstá claro que os dados são suficientes para testar as hipóteses. Entretanto, há valores ausentes.\n\nPara seguir adiante, precisamos pré-processar os dados.",
      "metadata": {
        "id": "MCB6-dXG_Zct"
      }
    },
    {
      "cell_type": "markdown",
      "source": "[Voltar ao Índice](#back)",
      "metadata": {
        "id": "3eL__vcwViOi"
      }
    },
    {
      "cell_type": "markdown",
      "source": "## Etapa 2. Pré-processar dados <a id='data_preprocessing'></a>\nCorrija a formatação no cabeçalho da coluna e trabalhe com os valores ausentes. Depois, verifique se há duplicatas nos dados.",
      "metadata": {
        "id": "SjYF6Ub9_Zct"
      }
    },
    {
      "cell_type": "markdown",
      "source": "### Estilo do cabeçalho <a id='header_style'></a>\nExiba o cabeçalho da coluna:",
      "metadata": {
        "id": "dIaKXr29_Zct"
      }
    },
    {
      "cell_type": "code",
      "source": "# a lista dos nomes das colunas na tabela df\ndf.columns",
      "metadata": {
        "id": "oKOTdF_Q_Zct"
      },
      "execution_count": 35,
      "outputs": [
        {
          "execution_count": 35,
          "output_type": "execute_result",
          "data": {
            "text/plain": [
              "Index(['  userID', 'Track', 'artist', 'genre', '  City  ', 'time', 'Day'], dtype='object')"
            ]
          },
          "metadata": {}
        }
      ]
    },
    {
      "cell_type": "markdown",
      "source": "Mude os nomes das colunas de acordo com as regras da boa prática de estilo:\n* Se o nome tiver várias palavras, use snake_case\n* Todos os caracteres precisam estar com letras minúsculas\n* Delete espaços",
      "metadata": {
        "id": "zj5534cv_Zct"
      }
    },
    {
      "cell_type": "code",
      "source": "# renomeando colunas\ndf = df.rename(columns={\n    '  userID' : 'user_id',\n    'Track' :'track',\n    '  City  ' : 'city',\n    'Day' : 'day'\n})",
      "metadata": {
        "id": "ISlFqs5y_Zct"
      },
      "execution_count": 37,
      "outputs": []
    },
    {
      "cell_type": "markdown",
      "source": "Verifique o resultado. Exiba os nomes das colunas mais uma vez:",
      "metadata": {
        "id": "1dqbh00J_Zct"
      }
    },
    {
      "cell_type": "code",
      "source": "# checando o resultado: a lista dos nomes das colunas\ndf.columns",
      "metadata": {
        "id": "d4NOAmTW_Zct"
      },
      "execution_count": 38,
      "outputs": [
        {
          "execution_count": 38,
          "output_type": "execute_result",
          "data": {
            "text/plain": [
              "Index(['user_id', 'track', 'artist', 'genre', 'city', 'time', 'day'], dtype='object')"
            ]
          },
          "metadata": {}
        }
      ]
    },
    {
      "cell_type": "markdown",
      "source": "[Voltar ao Índice](#back)",
      "metadata": {
        "id": "xYJk6ksJVpOl"
      }
    },
    {
      "cell_type": "markdown",
      "source": "### Valores ausentes <a id='missing_values'></a>\nPrimeiro, encontre a quantidade de valores ausentes na tabela. Para fazer isso, use dois métodos pandas:",
      "metadata": {
        "id": "5ISfbcfY_Zct"
      }
    },
    {
      "cell_type": "code",
      "source": "# calculando valores ausentes\nprint(df.isna().sum())",
      "metadata": {
        "id": "RskX29qr_Zct"
      },
      "execution_count": 39,
      "outputs": [
        {
          "name": "stdout",
          "output_type": "stream",
          "text": "user_id       0\n\ntrack      1343\n\nartist     7567\n\ngenre      1198\n\ncity          0\n\ntime          0\n\nday           0\n\ndtype: int64\n"
        }
      ]
    },
    {
      "cell_type": "markdown",
      "source": "Nem todos os valores ausentes afetam a pesquisa. Por exemplo, os valores ausentes na música e artista não é decisivo. Você pode simplesmente substituí-los por marcadores claros.\n\nMas valores ausentes em `'genre'` pode afetar a comparação de preferências musicais de Springfield e Shelbyville. Na vida real, seria útil descobrir as razões pelas quais os dados estão ausentes e tentar compensá-los. Mas nós não temos essa possibilidade neste projeto. Então, você terá que:\n* Preencher os valores ausentes com marcadores\n* Avaliar o quanto os valores ausentes podem afetar os seus cálculos",
      "metadata": {
        "id": "qubhgnlO_Zct"
      }
    },
    {
      "cell_type": "markdown",
      "source": "Substituir os valores ausentes em `'track'`, `'artist'`, e `'genre'` com a string `'unknown'`. Para fazer isso, crie a lista `columns_to_replace`, percorra-a com o laço `for`, e substitua os valores ausentes em cada uma das colunas:",
      "metadata": {
        "id": "fSv2laPA_Zct"
      }
    },
    {
      "cell_type": "code",
      "source": "# percorrendo os nomes das colunas e substituindo valores ausentes com 'unknown'\n\ncolumns_to_replace = ['track','artist','genre']\n\nfor columns in columns_to_replace:\n    df[columns] = df[columns].fillna('unknown')\n\n\ndf.info()",
      "metadata": {
        "id": "KplB5qWs_Zct"
      },
      "execution_count": 41,
      "outputs": [
        {
          "name": "stdout",
          "output_type": "stream",
          "text": "<class 'pandas.core.frame.DataFrame'>\n\nRangeIndex: 65079 entries, 0 to 65078\n\nData columns (total 7 columns):\n\n #   Column   Non-Null Count  Dtype \n\n---  ------   --------------  ----- \n\n 0   user_id  65079 non-null  object\n\n 1   track    65079 non-null  object\n\n 2   artist   65079 non-null  object\n\n 3   genre    65079 non-null  object\n\n 4   city     65079 non-null  object\n\n 5   time     65079 non-null  object\n\n 6   day      65079 non-null  object\n\ndtypes: object(7)\n\nmemory usage: 3.5+ MB\n"
        }
      ]
    },
    {
      "cell_type": "markdown",
      "source": "Certifique-se de que a tabela não contenha mais valores ausentes. Conte os valores ausentes novamente.",
      "metadata": {
        "id": "Ilsm-MZo_Zct"
      }
    },
    {
      "cell_type": "code",
      "source": "# contando os valores ausentes\nprint(df.isna().sum())",
      "metadata": {
        "id": "Tq4nYRX4_Zct"
      },
      "execution_count": 43,
      "outputs": [
        {
          "name": "stdout",
          "output_type": "stream",
          "text": "user_id    0\n\ntrack      0\n\nartist     0\n\ngenre      0\n\ncity       0\n\ntime       0\n\nday        0\n\ndtype: int64\n"
        }
      ]
    },
    {
      "cell_type": "markdown",
      "source": "[Voltar ao Índice](#back)",
      "metadata": {
        "id": "74ZIBmq9VrsK"
      }
    },
    {
      "cell_type": "markdown",
      "source": "### Duplicatas <a id='duplicates'></a>\nEncontre o número de duplicatas óbvias na tabela usando um comando:",
      "metadata": {
        "id": "BWKRtBJ3_Zct"
      }
    },
    {
      "cell_type": "code",
      "source": "# contando duplicatas claras\nprint(df.duplicated().sum())",
      "metadata": {
        "id": "36eES_S0_Zct"
      },
      "execution_count": 42,
      "outputs": [
        {
          "name": "stdout",
          "output_type": "stream",
          "text": "3826\n"
        }
      ]
    },
    {
      "cell_type": "markdown",
      "source": "Chame o método `pandas` para se livrar das duplicatas óbvias:",
      "metadata": {
        "id": "Ot25h6XR_Zct"
      }
    },
    {
      "cell_type": "code",
      "source": "# removendo duplicatas óbvias\ndf = df.drop_duplicates().reset_index(drop=True) \n\n# Estou usando \".reset_index(drop=True)\" para atualizar os índeces e deletar os antigos, que não vamos mais usar",
      "metadata": {
        "id": "exFHq6tt_Zct"
      },
      "execution_count": 44,
      "outputs": []
    },
    {
      "cell_type": "markdown",
      "source": "Conte as duplicatas óbvias mais uma vez certifique-se que você removeu todas elas:",
      "metadata": {
        "id": "Im2YwBEG_Zct"
      }
    },
    {
      "cell_type": "code",
      "source": "# verificando duplicatas\nprint(df.duplicated().sum())",
      "metadata": {
        "id": "-8PuNWQ0_Zct"
      },
      "execution_count": 45,
      "outputs": [
        {
          "name": "stdout",
          "output_type": "stream",
          "text": "0\n"
        }
      ]
    },
    {
      "cell_type": "markdown",
      "source": "Agora, livre-se das duplicatas implícitas na coluna genre. Por exemplo, o nome de um gênero pode ser escrito de maneiras diferentes. Alguns erros afetarão também o resultado.",
      "metadata": {
        "id": "QlFBsxAr_Zct"
      }
    },
    {
      "cell_type": "markdown",
      "source": "Exiba a lista de nomes de gêneros únicos, organizados em ordem alfabética. Para fazer isso:\n* Recupere o DataFrame da coluna pretendida \n* Aplique um método de escolha para isso\n* Para a coluna selecionada, chame o método que irá retornar todos os valores únicos das colunas",
      "metadata": {
        "id": "eSjWwsOh_Zct"
      }
    },
    {
      "cell_type": "code",
      "source": "# visualizando nomes de gêneros únicos\ndf['genre'].sort_values().unique()",
      "metadata": {
        "id": "JIUcqzZN_Zct"
      },
      "execution_count": 47,
      "outputs": [
        {
          "execution_count": 47,
          "output_type": "execute_result",
          "data": {
            "text/plain": [
              "array(['acid', 'acoustic', 'action', 'adult', 'africa', 'afrikaans',\n",
              "       'alternative', 'ambient', 'americana', 'animated', 'anime',\n",
              "       'arabesk', 'arabic', 'arena', 'argentinetango', 'art', 'audiobook',\n",
              "       'avantgarde', 'axé', 'baile', 'balkan', 'beats', 'bigroom',\n",
              "       'black', 'bluegrass', 'blues', 'bollywood', 'bossa', 'brazilian',\n",
              "       'breakbeat', 'breaks', 'broadway', 'cantautori', 'cantopop',\n",
              "       'canzone', 'caribbean', 'caucasian', 'celtic', 'chamber',\n",
              "       'children', 'chill', 'chinese', 'choral', 'christian', 'christmas',\n",
              "       'classical', 'classicmetal', 'club', 'colombian', 'comedy',\n",
              "       'conjazz', 'contemporary', 'country', 'cuban', 'dance',\n",
              "       'dancehall', 'dancepop', 'dark', 'death', 'deep', 'deutschrock',\n",
              "       'deutschspr', 'dirty', 'disco', 'dnb', 'documentary', 'downbeat',\n",
              "       'downtempo', 'drum', 'dub', 'dubstep', 'eastern', 'easy',\n",
              "       'electronic', 'electropop', 'emo', 'entehno', 'epicmetal',\n",
              "       'estrada', 'ethnic', 'eurofolk', 'european', 'experimental',\n",
              "       'extrememetal', 'fado', 'film', 'fitness', 'flamenco', 'folk',\n",
              "       'folklore', 'folkmetal', 'folkrock', 'folktronica', 'forró',\n",
              "       'frankreich', 'französisch', 'french', 'funk', 'future', 'gangsta',\n",
              "       'garage', 'german', 'ghazal', 'gitarre', 'glitch', 'gospel',\n",
              "       'gothic', 'grime', 'grunge', 'gypsy', 'handsup', \"hard'n'heavy\",\n",
              "       'hardcore', 'hardstyle', 'hardtechno', 'hip', 'hip-hop', 'hiphop',\n",
              "       'historisch', 'holiday', 'hop', 'horror', 'house', 'idm',\n",
              "       'independent', 'indian', 'indie', 'indipop', 'industrial',\n",
              "       'inspirational', 'instrumental', 'international', 'irish', 'jam',\n",
              "       'japanese', 'jazz', 'jewish', 'jpop', 'jungle', 'k-pop',\n",
              "       'karadeniz', 'karaoke', 'kayokyoku', 'korean', 'laiko', 'latin',\n",
              "       'latino', 'leftfield', 'local', 'lounge', 'loungeelectronic',\n",
              "       'lovers', 'malaysian', 'mandopop', 'marschmusik', 'meditative',\n",
              "       'mediterranean', 'melodic', 'metal', 'metalcore', 'mexican',\n",
              "       'middle', 'minimal', 'miscellaneous', 'modern', 'mood', 'mpb',\n",
              "       'muslim', 'native', 'neoklassik', 'neue', 'new', 'newage',\n",
              "       'newwave', 'nu', 'nujazz', 'numetal', 'oceania', 'old', 'opera',\n",
              "       'orchestral', 'other', 'piano', 'pop', 'popelectronic',\n",
              "       'popeurodance', 'post', 'posthardcore', 'postrock', 'power',\n",
              "       'progmetal', 'progressive', 'psychedelic', 'punjabi', 'punk',\n",
              "       'quebecois', 'ragga', 'ram', 'rancheras', 'rap', 'rave', 'reggae',\n",
              "       'reggaeton', 'regional', 'relax', 'religious', 'retro', 'rhythm',\n",
              "       'rnb', 'rnr', 'rock', 'rockabilly', 'romance', 'roots', 'ruspop',\n",
              "       'rusrap', 'rusrock', 'salsa', 'samba', 'schlager', 'self',\n",
              "       'sertanejo', 'shoegazing', 'showtunes', 'singer', 'ska', 'slow',\n",
              "       'smooth', 'soul', 'soulful', 'sound', 'soundtrack', 'southern',\n",
              "       'specialty', 'speech', 'spiritual', 'sport', 'stonerrock', 'surf',\n",
              "       'swing', 'synthpop', 'sängerportrait', 'tango', 'tanzorchester',\n",
              "       'taraftar', 'tech', 'techno', 'thrash', 'top', 'traditional',\n",
              "       'tradjazz', 'trance', 'tribal', 'trip', 'triphop', 'tropical',\n",
              "       'türk', 'türkçe', 'unknown', 'urban', 'uzbek', 'variété', 'vi',\n",
              "       'videogame', 'vocal', 'western', 'world', 'worldbeat', 'ïîï'],\n",
              "      dtype=object)"
            ]
          },
          "metadata": {}
        }
      ]
    },
    {
      "cell_type": "markdown",
      "source": "Olhe a lista e encontre duplicatas implícitas do gênero `hiphop`. Esses podem ser nomes escritos incorretamente, ou nomes alternativos para o mesmo gênero.\n\nVocê verá as seguintes duplicatas implícitas:\n* `hip`\n* `hop`\n* `hip-hop`\n\nPara se livrar deles, declare a função `replace_wrong_genres()` com dois parâmetros: \n* `wrong_genres=` — a lista de duplicatas\n* `correct_genre=` — a string com o valor correto\n\nA função deve corrigir os nomes na coluna `'genre'` da tabela `df` isto é, substituindo cada valor da lista `wrong_genres` por valores de `correct_genre`.",
      "metadata": {
        "id": "qej-Qmuo_Zct"
      }
    },
    {
      "cell_type": "code",
      "source": "# função para substituir duplicatas implícitas\n\ndef replace_wrong_genres(wrong_values, correct_value):\n    for wrong_value in wrong_values:\n        df['genre'] = df['genre'].replace(wrong_value, correct_value)\n        ",
      "metadata": {
        "id": "ErNDkmns_Zct"
      },
      "execution_count": 48,
      "outputs": []
    },
    {
      "cell_type": "markdown",
      "source": "Chame `replace_wrong_genres()` e passe a ela argumentos para que possa eliminar as duplicatas implícitas (`hip`, `hop`, e `hip-hop`) e substituí-los por `hiphop`:",
      "metadata": {
        "id": "aDoBJxbA_Zct"
      }
    },
    {
      "cell_type": "code",
      "source": "# removendo duplicatas implícitas\n\nduplicates = ['hip', 'hop', 'hip-hop']\ncorrect = 'hiphop'\n        \nreplace_wrong_genres(duplicates, correct)",
      "metadata": {
        "id": "YN5i2hpmSo09"
      },
      "execution_count": 49,
      "outputs": []
    },
    {
      "cell_type": "markdown",
      "source": "Certifique-se que os nomes duplicados foram removidos. Exiba a lista de valores únicos da coluna `'genre'`:",
      "metadata": {
        "id": "zQKF16_RG15m"
      }
    },
    {
      "cell_type": "code",
      "source": "# verificando valores duplicados\ndf['genre'].sort_values().unique()\n",
      "metadata": {
        "id": "wvixALnFG15m"
      },
      "execution_count": 51,
      "outputs": [
        {
          "execution_count": 51,
          "output_type": "execute_result",
          "data": {
            "text/plain": [
              "array(['acid', 'acoustic', 'action', 'adult', 'africa', 'afrikaans',\n",
              "       'alternative', 'ambient', 'americana', 'animated', 'anime',\n",
              "       'arabesk', 'arabic', 'arena', 'argentinetango', 'art', 'audiobook',\n",
              "       'avantgarde', 'axé', 'baile', 'balkan', 'beats', 'bigroom',\n",
              "       'black', 'bluegrass', 'blues', 'bollywood', 'bossa', 'brazilian',\n",
              "       'breakbeat', 'breaks', 'broadway', 'cantautori', 'cantopop',\n",
              "       'canzone', 'caribbean', 'caucasian', 'celtic', 'chamber',\n",
              "       'children', 'chill', 'chinese', 'choral', 'christian', 'christmas',\n",
              "       'classical', 'classicmetal', 'club', 'colombian', 'comedy',\n",
              "       'conjazz', 'contemporary', 'country', 'cuban', 'dance',\n",
              "       'dancehall', 'dancepop', 'dark', 'death', 'deep', 'deutschrock',\n",
              "       'deutschspr', 'dirty', 'disco', 'dnb', 'documentary', 'downbeat',\n",
              "       'downtempo', 'drum', 'dub', 'dubstep', 'eastern', 'easy',\n",
              "       'electronic', 'electropop', 'emo', 'entehno', 'epicmetal',\n",
              "       'estrada', 'ethnic', 'eurofolk', 'european', 'experimental',\n",
              "       'extrememetal', 'fado', 'film', 'fitness', 'flamenco', 'folk',\n",
              "       'folklore', 'folkmetal', 'folkrock', 'folktronica', 'forró',\n",
              "       'frankreich', 'französisch', 'french', 'funk', 'future', 'gangsta',\n",
              "       'garage', 'german', 'ghazal', 'gitarre', 'glitch', 'gospel',\n",
              "       'gothic', 'grime', 'grunge', 'gypsy', 'handsup', \"hard'n'heavy\",\n",
              "       'hardcore', 'hardstyle', 'hardtechno', 'hiphop', 'historisch',\n",
              "       'holiday', 'horror', 'house', 'idm', 'independent', 'indian',\n",
              "       'indie', 'indipop', 'industrial', 'inspirational', 'instrumental',\n",
              "       'international', 'irish', 'jam', 'japanese', 'jazz', 'jewish',\n",
              "       'jpop', 'jungle', 'k-pop', 'karadeniz', 'karaoke', 'kayokyoku',\n",
              "       'korean', 'laiko', 'latin', 'latino', 'leftfield', 'local',\n",
              "       'lounge', 'loungeelectronic', 'lovers', 'malaysian', 'mandopop',\n",
              "       'marschmusik', 'meditative', 'mediterranean', 'melodic', 'metal',\n",
              "       'metalcore', 'mexican', 'middle', 'minimal', 'miscellaneous',\n",
              "       'modern', 'mood', 'mpb', 'muslim', 'native', 'neoklassik', 'neue',\n",
              "       'new', 'newage', 'newwave', 'nu', 'nujazz', 'numetal', 'oceania',\n",
              "       'old', 'opera', 'orchestral', 'other', 'piano', 'pop',\n",
              "       'popelectronic', 'popeurodance', 'post', 'posthardcore',\n",
              "       'postrock', 'power', 'progmetal', 'progressive', 'psychedelic',\n",
              "       'punjabi', 'punk', 'quebecois', 'ragga', 'ram', 'rancheras', 'rap',\n",
              "       'rave', 'reggae', 'reggaeton', 'regional', 'relax', 'religious',\n",
              "       'retro', 'rhythm', 'rnb', 'rnr', 'rock', 'rockabilly', 'romance',\n",
              "       'roots', 'ruspop', 'rusrap', 'rusrock', 'salsa', 'samba',\n",
              "       'schlager', 'self', 'sertanejo', 'shoegazing', 'showtunes',\n",
              "       'singer', 'ska', 'slow', 'smooth', 'soul', 'soulful', 'sound',\n",
              "       'soundtrack', 'southern', 'specialty', 'speech', 'spiritual',\n",
              "       'sport', 'stonerrock', 'surf', 'swing', 'synthpop',\n",
              "       'sängerportrait', 'tango', 'tanzorchester', 'taraftar', 'tech',\n",
              "       'techno', 'thrash', 'top', 'traditional', 'tradjazz', 'trance',\n",
              "       'tribal', 'trip', 'triphop', 'tropical', 'türk', 'türkçe',\n",
              "       'unknown', 'urban', 'uzbek', 'variété', 'vi', 'videogame', 'vocal',\n",
              "       'western', 'world', 'worldbeat', 'ïîï'], dtype=object)"
            ]
          },
          "metadata": {}
        }
      ]
    },
    {
      "cell_type": "markdown",
      "source": "[Voltar ao Índice](#back)",
      "metadata": {
        "id": "ALgNbvF3VtPA"
      }
    },
    {
      "cell_type": "markdown",
      "source": "### Conclusões <a id='data_preprocessing_conclusions'></a>\nNós detectamos três problemas com os dados:\n\n- Estilo de cabeçalho incorreto\n- Valores ausentes\n- Duplicatas óbvias e implícitas\n\nO cabeçalho foi limpo para fazer o processamento da tabela mais simples.\n\nTodos os valores ausentes foram substituídos por `'unknown'`. Mas nós ainda temos que ver os se valores ausentes em `'genre'` afetará os nossos cálculos.\n\nA ausência de duplicatas deixará os resultados mais precisos e mais fáceis de entender.\n\nAgora você pode seguir para testar hipóteses.",
      "metadata": {
        "id": "jz6a9-7HQUDd"
      }
    },
    {
      "cell_type": "markdown",
      "source": "[Voltar ao Índice](#back)",
      "metadata": {
        "id": "eK1es74rVujj"
      }
    },
    {
      "cell_type": "markdown",
      "source": "## Etapa 3. Testando hipóteses <a id='hypotheses'></a>",
      "metadata": {
        "id": "WttZHXH0SqKk"
      }
    },
    {
      "cell_type": "markdown",
      "source": "### Hipótese 1: comparando o comportamento dos usuários em duas cidades <a id='activity'></a>",
      "metadata": {
        "id": "Im936VVi_Zcu"
      }
    },
    {
      "cell_type": "markdown",
      "source": "De acordo com a primeira hipótese, usuários de Springfield and Shelbyville escutam música de forma diferente. Teste essa hipótese usando os dados de três dias da semana: segunda-feira, quarta-feira, e sexta-feira.\n\n* Divida os usuários de cada cidade em grupos.\n* Compare quantas músicas cada grupo escutou na segunda-feira, quarta-feira e sexta-feira.\n",
      "metadata": {
        "id": "nwt_MuaL_Zcu"
      }
    },
    {
      "cell_type": "markdown",
      "source": "Por uma questão de prática, faça cada um desses cálculos separadamente. \n\nAvalie a atividade do usuário em cada cidade. Agrupe os dados por cidade e encontre o número de músicas tocadas em cada grupo.\n\n",
      "metadata": {
        "id": "8Dw_YMmT_Zcu"
      }
    },
    {
      "cell_type": "code",
      "source": "# Contando as músicas tocadas em cada cidade\n\ndf.groupby('city')['track'].count()",
      "metadata": {
        "id": "0_Qs96oh_Zcu"
      },
      "execution_count": 53,
      "outputs": [
        {
          "execution_count": 53,
          "output_type": "execute_result",
          "data": {
            "text/plain": [
              "city\n",
              "Shelbyville    18512\n",
              "Springfield    42741\n",
              "Name: track, dtype: int64"
            ]
          },
          "metadata": {}
        }
      ]
    },
    {
      "cell_type": "markdown",
      "source": "Springfield tem mais músicas tocadas do que Shelbyville. Mas isso não quer dizer que os cidadãos de Springfield escutam música com mais frequência. Essa cidade é somente maior, e tem mais usuários.\n\nAgora agrupe os dados por dia da semana e encontre a quantidade de músicas tocadas na segunda, quarta e sexta-feira.\n",
      "metadata": {
        "id": "dzli3w8o_Zcu"
      }
    },
    {
      "cell_type": "code",
      "source": "# Calculando as músicas escutadas em cada um desses três dias\ndf.groupby('day')['track'].count()",
      "metadata": {
        "id": "uZMKjiJz_Zcu"
      },
      "execution_count": 54,
      "outputs": [
        {
          "execution_count": 54,
          "output_type": "execute_result",
          "data": {
            "text/plain": [
              "day\n",
              "Friday       21840\n",
              "Monday       21354\n",
              "Wednesday    18059\n",
              "Name: track, dtype: int64"
            ]
          },
          "metadata": {}
        }
      ]
    },
    {
      "cell_type": "markdown",
      "source": "Quarta-feira é o dia mais calmo em geral. Mas se considerarmos as duas cidades separadamente, devemos chegar a uma conclusão diferente.",
      "metadata": {
        "id": "cC2tNrlL_Zcu"
      }
    },
    {
      "cell_type": "markdown",
      "source": "Você viu como agrupar por cidade ou dia da semana funciona. Agora escreva a função que agrupar os dados pelos dois critérios.\n\nCrie a função `number_tracks()` para calcular o número de músicas tocadas em um determinado dia da semana e em cada cidade. Será necessários dois parâmetros:\n* dia da semana\n* nome da cidade\n\nNa função, use a variável para armazenar as linhas da tabela original, onde:\n  * `'day'` o valor da coluna `day` é igual ao parâmetro dia\n  * `'city'` o valor da coluna `city` é igual ao parâmetro cidade\n\nAplique filtros consecutivos com indexação lógica.\n\nDepois, calcule os valores da coluna `'user_id'` na tabela resultante. Armazene o resultado na nova variável. Retorne essa variável da função.",
      "metadata": {
        "id": "POzs8bGa_Zcu"
      }
    },
    {
      "cell_type": "code",
      "source": "# <criando a função number_tracks()>\n\ndef number_tracks(day, city):\n    track_list = df.loc[df['day'] == day] \n    track_list = track_list.loc[track_list['city']== city]\n    track_list_count = track_list['user_id'].count()\n    return track_list_count\n    \n\nnumber_tracks('Monday', 'Springfield')\n    \n\n# vamos declarar a função com dois parâmetros: day=, city=.\n# Deixe a variável track_list armazenar as linha df onde\n# o valor na coluna 'day' é igual ao parâmetro day= e ao mesmo tempo, \n# o valor na coluna 'city' é igual ao parâmetro city= (aplique filtragem consecutiva \n# com indexação lógica).\n# Deixe a variável track_list_count armazenar o número de valores da coluna 'user_id' em track_list\n# (encontre com o método count()).\n# Deixe a função retornar um número: o valor de track_list_count.\n\n# A função conta músicas tocadas por uma certa cidade e dia.\n# primeiro retorne as linhas com o dia pretendido da tabela,\n# depois filtre as linhas com a cidade pretendida a parir do resultado,\n# depois encontre o número de valores de 'user_id' na tabela filtrada,\n# então retorne aquele número.\n# Para o que ele retorna, envolva a função call em print().",
      "metadata": {
        "id": "Nz3GdQB1_Zcu"
      },
      "execution_count": 58,
      "outputs": [
        {
          "execution_count": 58,
          "output_type": "execute_result",
          "data": {
            "text/plain": [
              "15740"
            ]
          },
          "metadata": {}
        }
      ]
    },
    {
      "cell_type": "markdown",
      "source": "Chame a `number_tracks()` seis vezes, mudando os valores dos parâmetros, para que você recupere os dados de ambas as cidades para os três dias.",
      "metadata": {
        "id": "ytf7xFrFJQ2r"
      }
    },
    {
      "cell_type": "code",
      "source": "# a quantidade de músicas tocadas em Springfield na segunda-feira\nspr_mon = number_tracks('Monday', 'Springfield')",
      "metadata": {
        "id": "rJcRATNQ_Zcu"
      },
      "execution_count": 65,
      "outputs": [
        {
          "name": "stdout",
          "output_type": "stream",
          "text": "15740\n"
        }
      ]
    },
    {
      "cell_type": "code",
      "source": "# a quantidade de músicas tocadas em Shelbyville na segunda-feira\nshe_mon = number_tracks('Monday', 'Shelbyville')",
      "metadata": {
        "id": "hq_ncZ5T_Zcu"
      },
      "execution_count": 61,
      "outputs": []
    },
    {
      "cell_type": "code",
      "source": "# a quantidade de músicas tocadas em Springfield na quarta-feira\nspr_wed = number_tracks('Wednesday', 'Springfield')",
      "metadata": {
        "id": "_NTy2VPU_Zcu"
      },
      "execution_count": 62,
      "outputs": []
    },
    {
      "cell_type": "code",
      "source": "# a quantidade de músicas tocadas em Shelbyville na quarta-feira\nshe_wed = number_tracks('Wednesday', 'Shelbyville')",
      "metadata": {
        "id": "j2y3TAwo_Zcu"
      },
      "execution_count": 63,
      "outputs": []
    },
    {
      "cell_type": "code",
      "source": "# a quantidade de músicas tocadas em Springfield na sexta-feira\nspr_fri = number_tracks('Friday', 'Springfield')",
      "metadata": {
        "id": "vYDw5u_K_Zcu"
      },
      "execution_count": 64,
      "outputs": []
    },
    {
      "cell_type": "code",
      "source": "# a quantidade de músicas tocadas em Shelbyville na sexta-feira\nshe_fri = number_tracks('Friday', 'Shelbyville')",
      "metadata": {
        "id": "8_yzFtW3_Zcu"
      },
      "execution_count": 67,
      "outputs": []
    },
    {
      "cell_type": "markdown",
      "source": "Use `pd.DataFrame` para criar uma tabela, onde\n* Os nomes das colunas são: `['city', 'monday', 'wednesday', 'friday']`\n* Os dados são o resultado que você recebe de `number_tracks()`",
      "metadata": {
        "id": "7QXffbO-_Zcu"
      }
    },
    {
      "cell_type": "code",
      "source": "# tabela com resultados\ncolumns = ['city', 'monday', 'wednesday', 'friday']\ndata = [['Springfield',spr_mon,spr_wed,spr_fri],['Shelbyville',she_mon,she_wed,she_fri]]\n\npd.DataFrame(data = data, columns = columns)",
      "metadata": {
        "id": "APAcLpOr_Zcu"
      },
      "execution_count": 68,
      "outputs": [
        {
          "execution_count": 68,
          "output_type": "execute_result",
          "data": {
            "text/html": [
              "<div>\n",
              "<style scoped>\n",
              "    .dataframe tbody tr th:only-of-type {\n",
              "        vertical-align: middle;\n",
              "    }\n",
              "\n",
              "    .dataframe tbody tr th {\n",
              "        vertical-align: top;\n",
              "    }\n",
              "\n",
              "    .dataframe thead th {\n",
              "        text-align: right;\n",
              "    }\n",
              "</style>\n",
              "<table border=\"1\" class=\"dataframe\">\n",
              "  <thead>\n",
              "    <tr style=\"text-align: right;\">\n",
              "      <th></th>\n",
              "      <th>city</th>\n",
              "      <th>monday</th>\n",
              "      <th>wednesday</th>\n",
              "      <th>friday</th>\n",
              "    </tr>\n",
              "  </thead>\n",
              "  <tbody>\n",
              "    <tr>\n",
              "      <th>0</th>\n",
              "      <td>Springfield</td>\n",
              "      <td>15740</td>\n",
              "      <td>11056</td>\n",
              "      <td>15945</td>\n",
              "    </tr>\n",
              "    <tr>\n",
              "      <th>1</th>\n",
              "      <td>Shelbyville</td>\n",
              "      <td>5614</td>\n",
              "      <td>7003</td>\n",
              "      <td>5895</td>\n",
              "    </tr>\n",
              "  </tbody>\n",
              "</table>\n",
              "</div>"
            ],
            "text/plain": [
              "          city  monday  wednesday  friday\n",
              "0  Springfield   15740      11056   15945\n",
              "1  Shelbyville    5614       7003    5895"
            ]
          },
          "metadata": {}
        }
      ]
    },
    {
      "cell_type": "markdown",
      "source": "**Conclusões**\n\nOs dados revelam diferenças no comportamento dos usuários:\n\n- Em Springfield, a quantidade de músicas tocadas tem seu auge nas segundas e sextas-feiras, enquanto na quarta-feira há uma diminuição na atividade.\n- Em Shelbyville, ao contrário, usuários escutam mais música na quarta-feira. A atividade na segunda e sexta-feira é pequena.\n\nEntão a primeira hipótese parece ser correta.",
      "metadata": {
        "id": "-EgPIHYu_Zcu"
      }
    },
    {
      "cell_type": "markdown",
      "source": "[Voltar ao Índice](#back)",
      "metadata": {
        "id": "p7nFQajCVw5B"
      }
    },
    {
      "cell_type": "markdown",
      "source": "### Hipótese 2: música no começo e no fim da semana <a id='week'></a>",
      "metadata": {
        "id": "atZAxtq4_Zcu"
      }
    },
    {
      "cell_type": "markdown",
      "source": "De acordo com a segunda hipótese, na segunda-feira de manhã e sexta-feira à noite, habitantes de Springfield escutam gêneros que diferem de alguns usuários de Shelbyville gostam.",
      "metadata": {
        "id": "eXrQqXFH_Zcu"
      }
    },
    {
      "cell_type": "markdown",
      "source": "Obtenha uma tabela (certifique-se de que o nome da sua tabela combinada corresponda ao DataFrame dado em dois blocos de código abaixo):\n* Para Springfield — `spr_general`\n* Para Shelbyville — `shel_general`",
      "metadata": {
        "id": "S8UcW6Hw_Zcu"
      }
    },
    {
      "cell_type": "code",
      "source": "# obtendo a tabela spr_generala partir das linhas df, \n# onde o valor na coluna 'city' é 'Springfield'\nspr_general = df.loc[df['city'] == 'Springfield']",
      "metadata": {
        "id": "qeaFfM_P_Zcu"
      },
      "execution_count": 74,
      "outputs": []
    },
    {
      "cell_type": "code",
      "source": "# obtendo os shel_general a partir das linhas df,\n# onde os valores na coluna 'city' é 'Shelbyville'\nshel_general = df.loc[df['city'] == 'Shelbyville']",
      "metadata": {
        "id": "ORaVRKto_Zcu"
      },
      "execution_count": 75,
      "outputs": []
    },
    {
      "cell_type": "markdown",
      "source": "Escreva a função `genre_weekday()` com quatro parâmetros:\n* Uma tabela para dados (`df`)\n* O dia da semana (`day`)\n* O primeiro carimbo de hora, no formato 'HH:MM' (`time1`)\n* O último carimbo de hora, no formato 'HH,MM' (`time2`)\n\nA função deve retornar informações sobre os 15 gêneros mais populares em um determinado dia, dentro do período entre os dois carimbos de hora.",
      "metadata": {
        "id": "MEJV-CX2_Zcu"
      }
    },
    {
      "cell_type": "code",
      "source": "# Declarando a função genre_weekday() com os parâmetros day=, time1=, e time2=. It should\n# retornar a informação sobre os gêneros mais populares em um determinado dia em um período específico:\n\n# 1) Deixe a variável genre_df armazenar as linhas que satisfazem várias condições:\n#    - o valor na coluna 'day' é igual ao valor do argumento day=\n#    - o valor na coluna 'time' é maior do que o valor do argumento time1=\n#    - o valor na coluna 'time' é menor do que o valor do argumento time2=\n#    Use filtros consecutivos com indexação lógica.\n\n# 2) Agrupe genre_df pela coluna 'genre', pegue uma das suas colunas, \n#    e use o método count() para encontrar a quantidade de entradas para entradas de cada um dos \n#    representantes de gênero; armazene o objeto Series resultante na\n#    variável genre_df_count\n\n# 3) Organize genre_df_count em ordem decrescente de frequência e armazene o resultado\n#    para a variável genre_df_sorted\n\n# 4) Retorne um objeto Series com os primeiros 15 valores genre_df_sorted - os 15 maiores\n#    generos populares (em um determinado dia, dentro de um certo intervalo de tempo)\n\n# Escreva a sua função aqui\ndef genre_weekday(df, day, time1, time2):\n    # filtragem consecutiva\n    # genre_df armazenará apenas as linhas df onde o dia é igual a day=\n    genre_df = df[df['day'] == day]\n\n    # genre_df armazenará apenas aslinhas df que o tempo é menor do que time2=\n    genre_df = genre_df[genre_df['time'] < time2]\n\n    # genre_df armazenará apenas as linhas onde onde o tempo é maior do que time1=\n    genre_df = genre_df[genre_df['time'] > time1]\n\n    # agrope o DataFrame filtrado pela coluna com nomes dos gêneros, pegue a coluna gênero, e encontre o número de linhas para cada gênero com o método count()\n    #genre_df_grouped = \n    genre_df_count = genre_df.groupby('genre')['user_id'].count()\n\n    # nós vamos armazenar o resultado em ordem decrescente (para que os gêneros mais populares venham primeiro no objeto Series)\n    genre_df_sorted = genre_df_count.sort_values(ascending=False)\n    \n    # nós vamos retornar o objeto Serie armazenando os 15 gêneros mais populares em um determinado dia, dentro de um determinado intervalo de tempo\n    return genre_df_sorted[:15]",
      "metadata": {
        "id": "laJT9BYl_Zcu"
      },
      "execution_count": 77,
      "outputs": []
    },
    {
      "cell_type": "markdown",
      "source": "Compare os resultados da função `genre_weekday()` para Springfield e Shelbyville na segunda-feira de manhã (de 7hs à 11hs) e na sexta-feira de tarde (das 17hs às 23hs):",
      "metadata": {
        "id": "la2s2_PF_Zcu"
      }
    },
    {
      "cell_type": "code",
      "source": "# chamando a função para segunda-feira de manha em Springfield (use spr_general em vez de df table)\ngenre_weekday(spr_general, 'Monday', '07:00', '11:00')",
      "metadata": {
        "id": "yz7itPUQ_Zcu"
      },
      "execution_count": 78,
      "outputs": [
        {
          "execution_count": 78,
          "output_type": "execute_result",
          "data": {
            "text/plain": [
              "genre\n",
              "pop            781\n",
              "dance          549\n",
              "electronic     480\n",
              "rock           474\n",
              "hiphop         286\n",
              "ruspop         186\n",
              "world          181\n",
              "rusrap         175\n",
              "alternative    164\n",
              "unknown        161\n",
              "classical      157\n",
              "metal          120\n",
              "jazz           100\n",
              "folk            97\n",
              "soundtrack      95\n",
              "Name: user_id, dtype: int64"
            ]
          },
          "metadata": {}
        }
      ]
    },
    {
      "cell_type": "code",
      "source": "# chamando a função para segunda-feira de manhã em Shelbyville (use shel_general em vez de df table)\ngenre_weekday(shel_general, 'Monday', '07:00', '11:00')",
      "metadata": {
        "id": "kwUcHPdy_Zcu"
      },
      "execution_count": 79,
      "outputs": [
        {
          "execution_count": 79,
          "output_type": "execute_result",
          "data": {
            "text/plain": [
              "genre\n",
              "pop            218\n",
              "dance          182\n",
              "rock           162\n",
              "electronic     147\n",
              "hiphop          80\n",
              "ruspop          64\n",
              "alternative     58\n",
              "rusrap          55\n",
              "jazz            44\n",
              "classical       40\n",
              "world           36\n",
              "rap             32\n",
              "soundtrack      31\n",
              "rnb             27\n",
              "metal           27\n",
              "Name: user_id, dtype: int64"
            ]
          },
          "metadata": {}
        }
      ]
    },
    {
      "cell_type": "code",
      "source": "# chamando a função para sexta-feira à tarde em Springfield\ngenre_weekday(spr_general, 'Friday', '17:00', '21:00')",
      "metadata": {
        "id": "EzXVRE1o_Zcu"
      },
      "execution_count": 80,
      "outputs": [
        {
          "execution_count": 80,
          "output_type": "execute_result",
          "data": {
            "text/plain": [
              "genre\n",
              "pop            365\n",
              "rock           287\n",
              "dance          259\n",
              "electronic     227\n",
              "hiphop         145\n",
              "world          112\n",
              "ruspop          90\n",
              "alternative     82\n",
              "rusrap          79\n",
              "classical       75\n",
              "unknown         68\n",
              "soundtrack      50\n",
              "jazz            48\n",
              "rnb             47\n",
              "folk            44\n",
              "Name: user_id, dtype: int64"
            ]
          },
          "metadata": {}
        }
      ]
    },
    {
      "cell_type": "code",
      "source": "# chamando a função para sexta-feira à tarde em Shelbyville\ngenre_weekday(shel_general, 'Friday', '17:00', '21:00')",
      "metadata": {
        "id": "JZaEKu5v_Zcu"
      },
      "execution_count": 81,
      "outputs": [
        {
          "execution_count": 81,
          "output_type": "execute_result",
          "data": {
            "text/plain": [
              "genre\n",
              "rock           126\n",
              "pop            120\n",
              "dance          111\n",
              "electronic      94\n",
              "hiphop          50\n",
              "jazz            39\n",
              "unknown         33\n",
              "classical       32\n",
              "alternative     32\n",
              "world           29\n",
              "ruspop          24\n",
              "latin           22\n",
              "rusrap          21\n",
              "folk            21\n",
              "metal           20\n",
              "Name: user_id, dtype: int64"
            ]
          },
          "metadata": {}
        }
      ]
    },
    {
      "cell_type": "markdown",
      "source": "<div class=\"alert alert-block alert-success\">\n<b> Comentário do revisor: </b> <a class=\"tocSkip\"></a>\nBom trabalho! A função foi chamada corretamente as 4 vezes e foi possivel conseguir todas as informações necessárias! Depois dos ajustes solicitados, as informações vão ficar mais claras. A conclusão foi clara e objetiva.\n    \n</div>",
      "metadata": {}
    },
    {
      "cell_type": "markdown",
      "source": "**Conclusão**\n\nTendo comparado os 15 gêneros mais ouvidos na segunda-feira de manhã, nós podemos tirar as seguintes conclusões:\n\n1. Usuários de Springfield e Shelbyville escutam músicas semelhantes. Os cinco gêneros mais ouvidos são os mesmos, apenas rock e música eletrônica trocaram de lugar.\n\n2. Em Springfield, a quantidade de valores ausentes acabaram por serem tantos que o valor `'unknown'` veio em 10º. Isso significa que valores ausentes tiveram uma considerável porção dos dados, que pode ser a base para questionamentos a confiabilidade das conclusões.\n\nPara sexta-feira à tarde, a situação é parecida. Gêneros individuais variam um pouco, mas no todo, os 15 gêneros mais ouvidos são parecidos para as duas cidades.\n\nAssim, a segunda hipótese foi parcialmente provada:\n* Usuários escutam gêneros musicais parecidos no começo e no fim da semana.\n* Não há grande diferença entre Springfield e Shelbyville. Nas duas cidades, pop é o gênero mais popular.\n\nNo entanto, o número de valores ausentes faz esse resultado ser questionável. Em Springfield, há tantos que eles afetaram o top 15. Se não nos faltassem esses valores, as coisas poderiam ser diferentes.",
      "metadata": {
        "id": "wrCe4MNX_Zcu"
      }
    },
    {
      "cell_type": "markdown",
      "source": "[Voltar ao Índice](#back)",
      "metadata": {
        "id": "jLmXgdanVyhP"
      }
    },
    {
      "cell_type": "markdown",
      "source": "### Hipótese 3: preferências em Springfield e Shelbyville <a id='genre'></a>\n\nHipótese: Shelbyville ama rap. Cidadãos de Springfield curtem mais pop.",
      "metadata": {
        "id": "JolODAqr_Zcu"
      }
    },
    {
      "cell_type": "markdown",
      "source": "Agrupe a tabela `spr_general` por gênero e encontre o número de músicas tocadas para cada gênero com o método `count()`. Depois organize o resultado em ordem decrescente e armazene-o em `spr_genres`.",
      "metadata": {
        "id": "DlegSvaT_Zcu"
      }
    },
    {
      "cell_type": "code",
      "source": "# em uma linha: agrupe a tabela spr_general pela coluna 'genre', \n# conte os valores de 'genre' com count() no agrupamento, \n# organize o o objeto Series resultante em ordem decrescente, e armazene-o em spr_genres\nspr_genres = spr_general.groupby('genre')['user_id'].count()\n\nspr_genres = spr_genres.sort_values(ascending=False)",
      "metadata": {
        "id": "r19lIPke_Zcu"
      },
      "execution_count": 82,
      "outputs": []
    },
    {
      "cell_type": "markdown",
      "source": "<div class=\"alert alert-block alert-danger\">\n<b> Comentário do revisor: </b> <a class=\"tocSkip\"></a>\n\n<s>Destaco a mesma modiicação no groupby, para exibirmos apenas uma coluna. O mesmo para `shel_genres`\n</div>",
      "metadata": {}
    },
    {
      "cell_type": "markdown",
      "source": "<div class=\"alert alert-block alert-success\">\n<b> Comentário do revisor v.2: </b> <a class=\"tocSkip\"></a>\n\nOtimo!\n</div>",
      "metadata": {}
    },
    {
      "cell_type": "markdown",
      "source": "Exiba as primeiras 10 linhas de `spr_genres`:",
      "metadata": {
        "id": "6kMuomxTiIr8"
      }
    },
    {
      "cell_type": "code",
      "source": "# exibindo as primeiras 10 linhas de spr_genres\nprint(spr_genres.head(10))",
      "metadata": {
        "id": "WhCSooF8_Zcv"
      },
      "execution_count": 83,
      "outputs": [
        {
          "name": "stdout",
          "output_type": "stream",
          "text": "genre\n\npop            5892\n\ndance          4435\n\nrock           3965\n\nelectronic     3786\n\nhiphop         2096\n\nclassical      1616\n\nworld          1432\n\nalternative    1379\n\nruspop         1372\n\nrusrap         1161\n\nName: user_id, dtype: int64\n"
        }
      ]
    },
    {
      "cell_type": "markdown",
      "source": "Agora faça o mesmo com os dados de Shelbyville.\n\nAgrupe a tabela `shel_general` por gênero e encontre o número de músicas tocadas de cada gênero. Depois organize o resultado em ordem decrescente e armazene-o na tabela `shel_genres`:\n",
      "metadata": {
        "id": "cnPG2vnN_Zcv"
      }
    },
    {
      "cell_type": "code",
      "source": "# na linha um: agrupe a tabela shel_general pela coluna 'genre', \n# conte os valores 'genre' no agrupamento com count(), \n# organize a o objeto Series resultante em ordem decrescente e armazene-o em shel_genres\nshel_genres = shel_general.groupby('genre')['user_id'].count()\n\nshel_genres = shel_genres.sort_values(ascending=False)",
      "metadata": {
        "id": "gluLIpE7_Zcv"
      },
      "execution_count": 84,
      "outputs": []
    },
    {
      "cell_type": "markdown",
      "source": "Exiba as 10 primeiras linhas de `shel_genres`:",
      "metadata": {
        "id": "5Doha_ODgyQ8"
      }
    },
    {
      "cell_type": "code",
      "source": "# exibindo as 10 primeiras linhas de shel_genres\nprint(shel_genres.head(10))",
      "metadata": {
        "id": "uaGJHjVU_Zcv"
      },
      "execution_count": 85,
      "outputs": [
        {
          "name": "stdout",
          "output_type": "stream",
          "text": "genre\n\npop            2431\n\ndance          1932\n\nrock           1879\n\nelectronic     1736\n\nhiphop          960\n\nalternative     649\n\nclassical       646\n\nrusrap          564\n\nruspop          538\n\nworld           515\n\nName: user_id, dtype: int64\n"
        }
      ]
    },
    {
      "cell_type": "markdown",
      "source": "**Conclusão**",
      "metadata": {
        "id": "RY51YJYu_Zcv"
      }
    },
    {
      "cell_type": "markdown",
      "source": "A hipótese foi parcialmente provada:\n* Música pop é o gênero mais em Springfield, como esperado.\n* Entretanto, música pop acabou por ser igualmente popular em Springfield e Shelbyville, e rap não estava no top 5 em nenhuma cidade.\n",
      "metadata": {
        "id": "nVhnJEm__Zcv"
      }
    },
    {
      "cell_type": "markdown",
      "source": "[Voltar ao Índice](#back)",
      "metadata": {
        "id": "Byr0RfpPVz14"
      }
    },
    {
      "cell_type": "markdown",
      "source": "# Conclusões <a id='end'></a>",
      "metadata": {
        "id": "ykKQ0N65_Zcv"
      }
    },
    {
      "cell_type": "markdown",
      "source": "Nós testamos as três hipóteses seguintes:\n\n1. A atividade do usuário varia dependendo do dia da semana e da cidade. \n2. Nas segundas-feiras de manhã, os habitantes de Springfield e Shelbyville escutam diferentes gêneros. Isso também é verdadeiro para noites de sexta-feira. \n3. Ouvintes de Springfield e Shelbyville têm preferências diferentes. Tanto em Springfield como Shellbyville, eles preferem pop.\n\nDepois de analisar os dados, nós concluímos:\n\n1. A atividade do usuário em Springfield e Shelbyville depende do dia da semana, embora as cidades variam de formas diferentes. \n\nA primeira hipótese é totalmente aceita.\n\n2. As preferências musicais não variam significativamente ao decorrer da semana tanto em Springfield como em Shelbyville. Nós podemos ver pequenas diferenças na ordem nas segundas-feiras, mas:\n* Em Springfield e Shelbyville, as pessoas escutam mais música pop.\n\nEntão nós podemos aceitar essa hipótese. Nós devemos também ter em mente que o resultado pode ter sido diferente se não fosse pelos valores ausentes.\n\n3. Acontece que preferências musicais dos usuários de Springfield e Shelbyville são bastante parecidas.\n\nA terceira hipótese foi rejeitada. Se há alguma diferença nas preferências, ela não pode ser vista nesses dados.\n\n### Observação \nEm projetos reais, pesquisas envolvendo teste estatístico de hipóteses, que é mais preciso e mais quantitativo. Também perceba que você não pode sempre tirar conclusões sobre uma cidade inteira com base em dados de apenas uma fonte.\n\nVocê vai estudar teste de hipóteses no sprint sobre análise estatística de dados.",
      "metadata": {
        "id": "tjUwbHb3_Zcv"
      }
    },
    {
      "cell_type": "markdown",
      "source": "<div class=\"alert alert-block alert-success\">\n<b> Comentário do revisor: </b> <a class=\"tocSkip\"></a>\nMuito bem, as hipoteses foram testadas de forma correta, os resultados obtidos foram bem analisados e discutidos. Gostei dos insights e da forma como as conclusoes foi escritas. Parabens!\n</div>",
      "metadata": {}
    },
    {
      "cell_type": "markdown",
      "source": "[Voltar ao Índice](#back)",
      "metadata": {
        "id": "Ju4AHDSgV1FE"
      }
    }
  ]
}